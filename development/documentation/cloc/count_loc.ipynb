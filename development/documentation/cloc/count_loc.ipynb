{
 "cells": [
  {
   "cell_type": "code",
   "execution_count": 1,
   "metadata": {},
   "outputs": [],
   "source": [
    "# To run this notebook you have to install cloc by typing\n",
    "# sudo apt install cloc\n",
    "# on linux systems. For windows systems see here: \n",
    "# https://github.com/AlDanial/cloc#apt-get\n",
    "import yaml\n",
    "import pandas as pd\n",
    "\n",
    "import matplotlib\n",
    "import numpy as np\n",
    "import matplotlib.pyplot as plt\n",
    "%matplotlib inline\n",
    "import seaborn as sns\n",
    "import matplotlib.patches as mpatches\n",
    "sns.set_style('whitegrid')\n",
    "\n",
    "from pathlib import Path\n",
    "from matplotlib.ticker import FuncFormatter"
   ]
  },
  {
   "cell_type": "code",
   "execution_count": 2,
   "metadata": {},
   "outputs": [
    {
     "data": {
      "text/plain": [
       "'/mnt/c/Users/tobia/git/respy/development/documentation/cloc'"
      ]
     },
     "execution_count": 2,
     "metadata": {},
     "output_type": "execute_result"
    }
   ],
   "source": [
    "pwd()"
   ]
  },
  {
   "cell_type": "code",
   "execution_count": 3,
   "metadata": {},
   "outputs": [
    {
     "name": "stdout",
     "output_type": "stream",
     "text": []
    },
    {
     "name": "stdout",
     "output_type": "stream",
     "text": []
    },
    {
     "name": "stdout",
     "output_type": "stream",
     "text": []
    },
    {
     "name": "stdout",
     "output_type": "stream",
     "text": [
      "     324 text files.\n",
      "     291 unique files.                              \n",
      "      99 files ignored.\n",
      "Wrote cloc_code.yaml\n",
      "      51 text files.\n",
      "      46 unique files.                              \n",
      "      23 files ignored.\n",
      "Wrote cloc_tests.yaml\n"
     ]
    }
   ],
   "source": [
    "# Call cloc and write result to yaml files\n",
    "!cloc --yaml --out=cloc_code.yaml --read-lang-def=cloc_lang_def.txt --exclude-dir=testing,modules,tests ../../../\n",
    "!cloc --yaml --out=cloc_tests.yaml ../../../respy/tests ../../../development/testing ../../../development/modules"
   ]
  },
  {
   "cell_type": "code",
   "execution_count": 4,
   "metadata": {},
   "outputs": [
    {
     "name": "stderr",
     "output_type": "stream",
     "text": [
      "/home/tobias/miniconda/envs/respy/lib/python3.7/site-packages/ipykernel_launcher.py:3: YAMLLoadWarning: calling yaml.load() without Loader=... is deprecated, as the default Loader is unsafe. Please read https://msg.pyyaml.org/load for full details.\n",
      "  This is separate from the ipykernel package so we can avoid doing imports until\n",
      "/home/tobias/miniconda/envs/respy/lib/python3.7/site-packages/ipykernel_launcher.py:6: YAMLLoadWarning: calling yaml.load() without Loader=... is deprecated, as the default Loader is unsafe. Please read https://msg.pyyaml.org/load for full details.\n",
      "  \n"
     ]
    }
   ],
   "source": [
    "# load results\n",
    "with open('cloc_code.yaml', 'r') as y:\n",
    "    code = yaml.load(y)\n",
    "    \n",
    "with open('cloc_tests.yaml', 'r') as y:\n",
    "    tests = yaml.load(y)\n",
    "\n",
    "# store the relevant results in a DataFrame\n",
    "code = pd.DataFrame.from_dict(code).T\n",
    "code = code[['code', 'comment', 'blank']]\n",
    "code = code.loc[['Python', 'Fortran 90', 'Fortran 77', \"RestructuredText\"]]\n",
    "\n",
    "tests = pd.DataFrame.from_dict(tests).T\n",
    "tests = tests[['code', 'comment', 'blank']]\n",
    "tests = tests.loc[['Python', 'Fortran 90']]\n",
    "tests.rename(index={'Python': 'Python Test Code', 'Fortran 90': 'Fortran 90 Test Code'}, inplace=True)\n",
    "\n",
    "# stack the datasets\n",
    "plot_data = pd.concat([code, tests], axis=0)\n",
    "plot_data = plot_data.loc[['Python', 'Python Test Code', 'Fortran 90', 'Fortran 90 Test Code', 'Fortran 77', \"RestructuredText\"]]\n",
    "\n",
    "# take the cumsum to make a stacked bar graph\n",
    "plot_data = plot_data.cumsum(axis=1)\n",
    "plot_data.reset_index(inplace=True)"
   ]
  },
  {
   "cell_type": "code",
   "execution_count": 5,
   "metadata": {},
   "outputs": [
    {
     "data": {
      "image/png": "[encoded data removed]",
      "text/plain": [
       "<Figure size 648x468 with 1 Axes>"
      ]
     },
     "metadata": {
      "needs_background": "light"
     },
     "output_type": "display_data"
    }
   ],
   "source": [
    "# Initialize the matplotlib figure\n",
    "f, ax = plt.subplots(figsize=(9, 6.5))\n",
    "\n",
    "# get the names of some colors\n",
    "pal = sns.color_palette('Blues')\n",
    "b1, b2, b3, b4, b5, b6 = pal.as_hex()\n",
    "\n",
    "# Plot the bars, order is important!\n",
    "sns.barplot(x='comment', y='index', data=plot_data, color=b3)\n",
    "sns.barplot(x='code', y='index', data=plot_data, color=b5)\n",
    "\n",
    "# Style the labels\n",
    "ax.set_xlabel('Lines of Code', fontsize=15, weight=500)\n",
    "ax.xaxis.set_major_formatter(FuncFormatter(lambda x, p: format(int(x), \",\")))\n",
    "ax.set_ylabel('')\n",
    "ax.tick_params(labelsize=15)\n",
    "\n",
    "# make a legend\n",
    "code_patch = mpatches.Patch(color=b5, label='Code')\n",
    "comment_patch = mpatches.Patch(color=b3 , label='Comments')\n",
    "plt.legend(handles=[code_patch, comment_patch], fontsize=15)\n",
    "\n",
    "plt.tight_layout()\n",
    "plt.savefig(\"lines_of_code_by_language.png\")"
   ]
  },
  {
   "cell_type": "code",
   "execution_count": 6,
   "metadata": {},
   "outputs": [],
   "source": [
    "Path(\"cloc_code.yaml\").unlink()\n",
    "Path(\"cloc_tests.yaml\").unlink()"
   ]
  }
 ],
 "metadata": {
  "kernelspec": {
   "display_name": "Python 3",
   "language": "python",
   "name": "python3"
  },
  "language_info": {
   "codemirror_mode": {
    "name": "ipython",
    "version": 3
   },
   "file_extension": ".py",
   "mimetype": "text/x-python",
   "name": "python",
   "nbconvert_exporter": "python",
   "pygments_lexer": "ipython3",
   "version": "3.7.3"
  }
 },
 "nbformat": 4,
 "nbformat_minor": 2
}
