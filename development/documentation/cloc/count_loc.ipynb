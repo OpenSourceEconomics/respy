{
 "cells": [
  {
   "cell_type": "code",
   "execution_count": 1,
   "metadata": {},
   "outputs": [],
   "source": [
    "# To run this notebook you have to install cloc by typing\n",
    "# sudo apt install cloc\n",
    "# on linux systems. For windows systems see here: \n",
    "# https://github.com/AlDanial/cloc#apt-get\n",
    "import yaml\n",
    "import pandas as pd\n",
    "\n",
    "import matplotlib\n",
    "import numpy as np\n",
    "import matplotlib.pyplot as plt\n",
    "%matplotlib inline\n",
    "import matplotlib.patches as mpatches\n",
    "\n",
    "from pathlib import Path\n",
    "from matplotlib.ticker import FuncFormatter\n",
    "\n",
    "import warnings\n",
    "\n",
    "warnings.filterwarnings(\"ignore\", \"This figure includes Axes that are not compatible\")"
   ]
  },
  {
   "cell_type": "code",
   "execution_count": 2,
   "metadata": {},
   "outputs": [],
   "source": [
    "plt.style.use(\"../../../docs/_static/respy.mplstyle\")"
   ]
  },
  {
   "cell_type": "code",
   "execution_count": 3,
   "metadata": {},
   "outputs": [
    {
     "name": "stdout",
     "output_type": "stream",
     "text": []
    },
    {
     "name": "stdout",
     "output_type": "stream",
     "text": [
      "     145 text files.\n",
      "     120 unique files.                              \n",
      "      57 files ignored.\n",
      "Wrote cloc_code.yaml\n",
      "      36 text files.\n",
      "      31 unique files.                              \n",
      "      17 files ignored.\n",
      "Wrote cloc_tests.yaml\n"
     ]
    }
   ],
   "source": [
    "# Call cloc and write result to yaml files\n",
    "!cloc --yaml --out=cloc_code.yaml --read-lang-def=cloc_lang_def.txt --exclude-dir=tests,development ../../../\n",
    "!cloc --yaml --out=cloc_tests.yaml ../../../respy/tests ../../../development/testing ../../../development/modules"
   ]
  },
  {
   "cell_type": "code",
   "execution_count": 4,
   "metadata": {},
   "outputs": [],
   "source": [
    "# load results\n",
    "with open('cloc_code.yaml', 'r') as y:\n",
    "    code = yaml.safe_load(y)\n",
    "    \n",
    "with open('cloc_tests.yaml', 'r') as y:\n",
    "    tests = yaml.safe_load(y)\n",
    "\n",
    "# store the relevant results in a DataFrame\n",
    "code = pd.DataFrame.from_dict(code).T\n",
    "code = code[['code', 'comment', 'blank']]\n",
    "code = code.loc[['Python', \"RestructuredText\"]]\n",
    "\n",
    "tests = pd.DataFrame.from_dict(tests).T\n",
    "tests = tests[['code', 'comment', 'blank']]\n",
    "tests = tests.loc[['Python']]\n",
    "tests.rename(index={'Python': 'Python Test Code'}, inplace=True)\n",
    "\n",
    "# stack the datasets\n",
    "plot_data = pd.concat([code, tests], axis=0)\n",
    "plot_data = plot_data.loc[['Python', 'Python Test Code', \"RestructuredText\"]]\n",
    "\n",
    "# take the cumsum to make a stacked bar graph\n",
    "plot_data = plot_data.cumsum(axis=1)\n",
    "\n",
    "# Last fixes\n",
    "data = plot_data.drop(columns=\"blank\").rename(index={\"RestructuredText\": \"Documentation\"}, columns={\"code\": \"Code\", \"comment\": \"Comment\"})"
   ]
  },
  {
   "cell_type": "code",
   "execution_count": 9,
   "metadata": {},
   "outputs": [
    {
     "data": {
      "image/png": "[encoded data removed]",
      "text/plain": [
       "<Figure size 921.6x576 with 1 Axes>"
      ]
     },
     "metadata": {
      "needs_background": "light"
     },
     "output_type": "display_data"
    }
   ],
   "source": [
    "# Initialize the matplotlib figure\n",
    "f, ax = plt.subplots()\n",
    "\n",
    "# get the names of some colors\n",
    "light_blue = plt.cm.get_cmap(\"Blues\")(0.35)\n",
    "\n",
    "# Plot the bars, order is important!\n",
    "data.plot.barh(stacked=True, ax=ax, color=[\"C0\", light_blue])\n",
    "\n",
    "# Style the labels\n",
    "ax.set_xlabel('Lines of Code')\n",
    "ax.xaxis.set_major_formatter(FuncFormatter(lambda x, p: format(int(x), \",\")))\n",
    "\n",
    "plt.savefig(\"lines_of_code.png\")"
   ]
  },
  {
   "cell_type": "code",
   "execution_count": 6,
   "metadata": {},
   "outputs": [],
   "source": [
    "Path(\"cloc_code.yaml\").unlink()\n",
    "Path(\"cloc_tests.yaml\").unlink()"
   ]
  }
 ],
 "metadata": {
  "kernelspec": {
   "display_name": "Python 3",
   "language": "python",
   "name": "python3"
  },
  "language_info": {
   "codemirror_mode": {
    "name": "ipython",
    "version": 3
   },
   "file_extension": ".py",
   "mimetype": "text/x-python",
   "name": "python",
   "nbconvert_exporter": "python",
   "pygments_lexer": "ipython3",
   "version": "3.7.3"
  }
 },
 "nbformat": 4,
 "nbformat_minor": 2
}
