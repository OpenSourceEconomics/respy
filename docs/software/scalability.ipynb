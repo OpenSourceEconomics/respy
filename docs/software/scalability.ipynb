{
 "cells": [
  {
   "cell_type": "markdown",
   "metadata": {},
   "source": [
    "# Scalability\n",
    "\n",
    "The solution and estimation of finite-horizon discrete choice dynamic programming model appears straightforward. However, it entails a considerable computational burden due to the well known curse of dimensionality (Bellman and Dreyfus, 1962). The figure below illustrates how the total number of states increases exponentially with each period. The size of the state space is shown for Keane and Wolpin (1994) (all models have the same state space) and the base and extended model of Keane and Wolpin (1997). The latter two models are different because the state space of the base parameterization does not include information on the previous activity which significantly reduces the complexity of the model. Note that the y-axis us log-scaled to compensate for the loss in readibility due to exponential growth."
   ]
  },
  {
   "cell_type": "code",
   "execution_count": 7,
   "metadata": {
    "nbsphinx": "hidden"
   },
   "outputs": [
    {
     "name": "stdout",
     "output_type": "stream",
     "text": [
      "The nb_black extension is already loaded. To reload it, use:\n",
      "  %reload_ext nb_black\n"
     ]
    },
    {
     "data": {
      "application/javascript": [
       "\n",
       "            setTimeout(function() {\n",
       "                var nbb_cell_id = 7;\n",
       "                var nbb_unformatted_code = \"%load_ext nb_black\\n%matplotlib agg\\nimport matplotlib.pyplot as plt\\nimport pandas as pd\\nimport respy as rp\";\n",
       "                var nbb_formatted_code = \"%load_ext nb_black\\n%matplotlib agg\\nimport matplotlib.pyplot as plt\\nimport pandas as pd\\nimport respy as rp\";\n",
       "                var nbb_cells = Jupyter.notebook.get_cells();\n",
       "                for (var i = 0; i < nbb_cells.length; ++i) {\n",
       "                    if (nbb_cells[i].input_prompt_number == nbb_cell_id) {\n",
       "                        if (nbb_cells[i].get_text() == nbb_unformatted_code) {\n",
       "                             nbb_cells[i].set_text(nbb_formatted_code);\n",
       "                        }\n",
       "                        break;\n",
       "                    }\n",
       "                }\n",
       "            }, 500);\n",
       "            "
      ],
      "text/plain": [
       "<IPython.core.display.Javascript object>"
      ]
     },
     "metadata": {},
     "output_type": "display_data"
    }
   ],
   "source": [
    "%load_ext nb_black\n",
    "%matplotlib agg\n",
    "import matplotlib.pyplot as plt\n",
    "import pandas as pd\n",
    "import respy as rp"
   ]
  },
  {
   "cell_type": "code",
   "execution_count": 8,
   "metadata": {
    "nbsphinx": "hidden"
   },
   "outputs": [
    {
     "data": {
      "application/javascript": [
       "\n",
       "            setTimeout(function() {\n",
       "                var nbb_cell_id = 8;\n",
       "                var nbb_unformatted_code = \"plt.style.use(\\\"../_static/respy.mplstyle\\\")\";\n",
       "                var nbb_formatted_code = \"plt.style.use(\\\"../_static/respy.mplstyle\\\")\";\n",
       "                var nbb_cells = Jupyter.notebook.get_cells();\n",
       "                for (var i = 0; i < nbb_cells.length; ++i) {\n",
       "                    if (nbb_cells[i].input_prompt_number == nbb_cell_id) {\n",
       "                        if (nbb_cells[i].get_text() == nbb_unformatted_code) {\n",
       "                             nbb_cells[i].set_text(nbb_formatted_code);\n",
       "                        }\n",
       "                        break;\n",
       "                    }\n",
       "                }\n",
       "            }, 500);\n",
       "            "
      ],
      "text/plain": [
       "<IPython.core.display.Javascript object>"
      ]
     },
     "metadata": {},
     "output_type": "display_data"
    }
   ],
   "source": [
    "plt.style.use(\"../_static/respy.mplstyle\")"
   ]
  },
  {
   "cell_type": "code",
   "execution_count": 9,
   "metadata": {
    "nbsphinx": "hidden"
   },
   "outputs": [
    {
     "data": {
      "application/javascript": [
       "\n",
       "            setTimeout(function() {\n",
       "                var nbb_cell_id = 9;\n",
       "                var nbb_unformatted_code = \"def _get_states_per_period(model):\\n    params, options, _ = rp.get_example_model(model)\\n\\n    # This is not the official API, but we do only need the state space.\\n    state_space = rp.state_space.StateSpace(params, options)\\n\\n    states_per_period = [\\n        len(range(slice_.start, slice_.stop))\\n        for slice_ in state_space.slices_by_periods\\n    ]\\n\\n    return states_per_period\";\n",
       "                var nbb_formatted_code = \"def _get_states_per_period(model):\\n    params, options, _ = rp.get_example_model(model)\\n\\n    # This is not the official API, but we do only need the state space.\\n    state_space = rp.state_space.StateSpace(params, options)\\n\\n    states_per_period = [\\n        len(range(slice_.start, slice_.stop))\\n        for slice_ in state_space.slices_by_periods\\n    ]\\n\\n    return states_per_period\";\n",
       "                var nbb_cells = Jupyter.notebook.get_cells();\n",
       "                for (var i = 0; i < nbb_cells.length; ++i) {\n",
       "                    if (nbb_cells[i].input_prompt_number == nbb_cell_id) {\n",
       "                        if (nbb_cells[i].get_text() == nbb_unformatted_code) {\n",
       "                             nbb_cells[i].set_text(nbb_formatted_code);\n",
       "                        }\n",
       "                        break;\n",
       "                    }\n",
       "                }\n",
       "            }, 500);\n",
       "            "
      ],
      "text/plain": [
       "<IPython.core.display.Javascript object>"
      ]
     },
     "metadata": {},
     "output_type": "display_data"
    }
   ],
   "source": [
    "def _get_states_per_period(model):\n",
    "    params, options, _ = rp.get_example_model(model)\n",
    "\n",
    "    # This is not the official API, but we do only need the state space.\n",
    "    state_space = rp.state_space.StateSpace(params, options)\n",
    "\n",
    "    states_per_period = [\n",
    "        len(range(slice_.start, slice_.stop))\n",
    "        for slice_ in state_space.slices_by_periods\n",
    "    ]\n",
    "\n",
    "    return states_per_period"
   ]
  },
  {
   "cell_type": "code",
   "execution_count": 17,
   "metadata": {
    "nbsphinx": "hidden"
   },
   "outputs": [
    {
     "data": {
      "application/javascript": [
       "\n",
       "            setTimeout(function() {\n",
       "                var nbb_cell_id = 17;\n",
       "                var nbb_unformatted_code = \"# models = [\\\"kw_94_one\\\", \\\"kw_97_basic\\\", \\\"kw_97_extended\\\"]\\n\\n# container = {}\\n\\n# for model in models:\\n#    container[model] = _get_states_per_period(model)\";\n",
       "                var nbb_formatted_code = \"# models = [\\\"kw_94_one\\\", \\\"kw_97_basic\\\", \\\"kw_97_extended\\\"]\\n\\n# container = {}\\n\\n# for model in models:\\n#    container[model] = _get_states_per_period(model)\";\n",
       "                var nbb_cells = Jupyter.notebook.get_cells();\n",
       "                for (var i = 0; i < nbb_cells.length; ++i) {\n",
       "                    if (nbb_cells[i].input_prompt_number == nbb_cell_id) {\n",
       "                        if (nbb_cells[i].get_text() == nbb_unformatted_code) {\n",
       "                             nbb_cells[i].set_text(nbb_formatted_code);\n",
       "                        }\n",
       "                        break;\n",
       "                    }\n",
       "                }\n",
       "            }, 500);\n",
       "            "
      ],
      "text/plain": [
       "<IPython.core.display.Javascript object>"
      ]
     },
     "metadata": {},
     "output_type": "display_data"
    }
   ],
   "source": [
    "# models = [\"kw_94_one\", \"kw_97_basic\", \"kw_97_extended\"]\n",
    "\n",
    "# container = {}\n",
    "\n",
    "# for model in models:\n",
    "#    container[model] = _get_states_per_period(model)"
   ]
  },
  {
   "cell_type": "code",
   "execution_count": 12,
   "metadata": {
    "nbsphinx": "hidden"
   },
   "outputs": [
    {
     "data": {
      "application/javascript": [
       "\n",
       "            setTimeout(function() {\n",
       "                var nbb_cell_id = 12;\n",
       "                var nbb_unformatted_code = \"labels = [\\n    \\\"Keane and Wolpin (1994)\\\",\\n    \\\"Keane and Wolpin (1997) - Base\\\",\\n    \\\"Keane and Wolpin (1997) - Extended\\\",\\n]\\n\\nfig, ax = plt.subplots()\\n\\nfor label, states_per_period in zip(labels, container.values()):\\n    n_states = sum(states_per_period)\\n    ax.semilogy(\\n        range(0, len(states_per_period)), states_per_period, label=label\\n    )\\n\\nax.set_ylim(1e0, 1e7)\\n\\nax.grid(which=\\\"both\\\", axis=\\\"y\\\")\\n\\nax.set_xlabel(\\\"Period\\\")\\nax.set_ylabel(\\\"Number of states\\\")\\n\\nax.legend();\";\n",
       "                var nbb_formatted_code = \"labels = [\\n    \\\"Keane and Wolpin (1994)\\\",\\n    \\\"Keane and Wolpin (1997) - Base\\\",\\n    \\\"Keane and Wolpin (1997) - Extended\\\",\\n]\\n\\nfig, ax = plt.subplots()\\n\\nfor label, states_per_period in zip(labels, container.values()):\\n    n_states = sum(states_per_period)\\n    ax.semilogy(range(0, len(states_per_period)), states_per_period, label=label)\\n\\nax.set_ylim(1e0, 1e7)\\n\\nax.grid(which=\\\"both\\\", axis=\\\"y\\\")\\n\\nax.set_xlabel(\\\"Period\\\")\\nax.set_ylabel(\\\"Number of states\\\")\\n\\nax.legend()\";\n",
       "                var nbb_cells = Jupyter.notebook.get_cells();\n",
       "                for (var i = 0; i < nbb_cells.length; ++i) {\n",
       "                    if (nbb_cells[i].input_prompt_number == nbb_cell_id) {\n",
       "                        if (nbb_cells[i].get_text() == nbb_unformatted_code) {\n",
       "                             nbb_cells[i].set_text(nbb_formatted_code);\n",
       "                        }\n",
       "                        break;\n",
       "                    }\n",
       "                }\n",
       "            }, 500);\n",
       "            "
      ],
      "text/plain": [
       "<IPython.core.display.Javascript object>"
      ]
     },
     "metadata": {},
     "output_type": "display_data"
    }
   ],
   "source": [
    "labels = [\n",
    "    \"Keane and Wolpin (1994)\",\n",
    "    \"Keane and Wolpin (1997) - Base\",\n",
    "    \"Keane and Wolpin (1997) - Extended\",\n",
    "]\n",
    "\n",
    "fig, ax = plt.subplots()\n",
    "\n",
    "for label, states_per_period in zip(labels, container.values()):\n",
    "    n_states = sum(states_per_period)\n",
    "    ax.semilogy(range(0, len(states_per_period)), states_per_period, label=label)\n",
    "\n",
    "ax.set_ylim(1e0, 1e7)\n",
    "\n",
    "ax.grid(which=\"both\", axis=\"y\")\n",
    "\n",
    "ax.set_xlabel(\"Period\")\n",
    "ax.set_ylabel(\"Number of states\")\n",
    "\n",
    "ax.legend()"
   ]
  },
  {
   "cell_type": "code",
   "execution_count": null,
   "metadata": {},
   "outputs": [],
   "source": [
    "fig"
   ]
  },
  {
   "cell_type": "markdown",
   "metadata": {},
   "source": [
    "In total there are 317,367 states in Keane and Wolpin (1994), 12,991,208 states in Keane and Wolpin (1997) - Base and 59,306,140 states in Keane and Wolpin (1997) - Extended.\n",
    "\n",
    "During an estimation, thousands of different candidate parameterizations of the model are appraised with respect to the sample likelihood. For each evaluation of the likelihood the $n$-dimensional integral of $E\\max$ (where $n$ is the number of choices) needs to be approximated at all states. Below, we show the total computation time required for 1,000 evaluations of the criterion function as we increase the number of threads from two to twelve."
   ]
  },
  {
   "cell_type": "code",
   "execution_count": 13,
   "metadata": {
    "nbsphinx": "hidden"
   },
   "outputs": [
    {
     "data": {
      "application/javascript": [
       "\n",
       "            setTimeout(function() {\n",
       "                var nbb_cell_id = 13;\n",
       "                var nbb_unformatted_code = \"data = \\\"\\\"\\\"\\n{\\\"model\\\": \\\"kw_94_one\\\", \\\"maxfun\\\": 50, \\\"n_threads\\\": 2, \\\"start\\\": \\\"2019-08-26 17:38:29.779205\\\", \\\"end\\\": \\\"2019-08-26 17:39:50.248813\\\", \\\"duration\\\": \\\"0:01:20.469608\\\"}\\n{\\\"model\\\": \\\"kw_94_one\\\", \\\"maxfun\\\": 50, \\\"n_threads\\\": 4, \\\"start\\\": \\\"2019-08-26 17:40:12.377112\\\", \\\"end\\\": \\\"2019-08-26 17:41:07.376235\\\", \\\"duration\\\": \\\"0:00:54.999123\\\"}\\n{\\\"model\\\": \\\"kw_94_one\\\", \\\"maxfun\\\": 50, \\\"n_threads\\\": 6, \\\"start\\\": \\\"2019-08-26 17:41:29.312806\\\", \\\"end\\\": \\\"2019-08-26 17:42:20.699365\\\", \\\"duration\\\": \\\"0:00:51.386559\\\"}\\n{\\\"model\\\": \\\"kw_94_one\\\", \\\"maxfun\\\": 50, \\\"n_threads\\\": 8, \\\"start\\\": \\\"2019-08-26 17:42:42.730035\\\", \\\"end\\\": \\\"2019-08-26 17:43:29.568749\\\", \\\"duration\\\": \\\"0:00:46.838714\\\"}\\n{\\\"model\\\": \\\"kw_94_one\\\", \\\"maxfun\\\": 50, \\\"n_threads\\\": 10, \\\"start\\\": \\\"2019-08-26 17:43:52.496852\\\", \\\"end\\\": \\\"2019-08-26 17:44:39.377107\\\", \\\"duration\\\": \\\"0:00:46.880255\\\"}\\n{\\\"model\\\": \\\"kw_94_one\\\", \\\"maxfun\\\": 50, \\\"n_threads\\\": 12, \\\"start\\\": \\\"2019-08-26 17:45:01.743654\\\", \\\"end\\\": \\\"2019-08-26 17:45:44.754300\\\", \\\"duration\\\": \\\"0:00:43.010646\\\"}\\n{\\\"model\\\": \\\"kw_97_base\\\", \\\"maxfun\\\": 3, \\\"n_threads\\\": 2, \\\"start\\\": \\\"2019-08-26 17:53:53.999918\\\", \\\"end\\\": \\\"2019-08-26 17:56:09.303005\\\", \\\"duration\\\": \\\"0:02:15.303087\\\"}\\n{\\\"model\\\": \\\"kw_97_base\\\", \\\"maxfun\\\": 3, \\\"n_threads\\\": 4, \\\"start\\\": \\\"2019-08-26 17:59:03.115069\\\", \\\"end\\\": \\\"2019-08-26 18:00:26.045647\\\", \\\"duration\\\": \\\"0:01:22.930578\\\"}\\n{\\\"model\\\": \\\"kw_97_base\\\", \\\"maxfun\\\": 3, \\\"n_threads\\\": 6, \\\"start\\\": \\\"2019-08-26 18:03:18.388000\\\", \\\"end\\\": \\\"2019-08-26 18:04:26.720110\\\", \\\"duration\\\": \\\"0:01:08.332110\\\"}\\n{\\\"model\\\": \\\"kw_97_base\\\", \\\"maxfun\\\": 3, \\\"n_threads\\\": 8, \\\"start\\\": \\\"2019-08-26 18:07:14.577545\\\", \\\"end\\\": \\\"2019-08-26 18:08:12.402948\\\", \\\"duration\\\": \\\"0:00:57.825403\\\"}\\n{\\\"model\\\": \\\"kw_97_base\\\", \\\"maxfun\\\": 3, \\\"n_threads\\\": 10, \\\"start\\\": \\\"2019-08-26 18:10:57.492809\\\", \\\"end\\\": \\\"2019-08-26 18:11:49.910569\\\", \\\"duration\\\": \\\"0:00:52.417760\\\"}\\n{\\\"model\\\": \\\"kw_97_base\\\", \\\"maxfun\\\": 3, \\\"n_threads\\\": 12, \\\"start\\\": \\\"2019-08-26 18:14:32.824227\\\", \\\"end\\\": \\\"2019-08-26 18:15:22.644604\\\", \\\"duration\\\": \\\"0:00:49.820377\\\"}\\n{\\\"model\\\": \\\"kw_97_extended\\\", \\\"maxfun\\\": 3, \\\"n_threads\\\": 2, \\\"start\\\": \\\"2019-08-26 18:38:02.674008\\\", \\\"end\\\": \\\"2019-08-26 18:48:22.217274\\\", \\\"duration\\\": \\\"0:10:19.543266\\\"}\\n{\\\"model\\\": \\\"kw_97_extended\\\", \\\"maxfun\\\": 3, \\\"n_threads\\\": 4, \\\"start\\\": \\\"2019-08-26 19:05:13.122038\\\", \\\"end\\\": \\\"2019-08-26 19:11:25.247955\\\", \\\"duration\\\": \\\"0:06:12.125917\\\"}\\n{\\\"model\\\": \\\"kw_97_extended\\\", \\\"maxfun\\\": 3, \\\"n_threads\\\": 6, \\\"start\\\": \\\"2019-08-26 19:27:25.682803\\\", \\\"end\\\": \\\"2019-08-26 19:32:28.615169\\\", \\\"duration\\\": \\\"0:05:02.932366\\\"}\\n{\\\"model\\\": \\\"kw_97_extended\\\", \\\"maxfun\\\": 3, \\\"n_threads\\\": 8, \\\"start\\\": \\\"2019-08-26 19:48:37.839972\\\", \\\"end\\\": \\\"2019-08-26 19:53:05.588380\\\", \\\"duration\\\": \\\"0:04:27.748408\\\"}\\n{\\\"model\\\": \\\"kw_97_extended\\\", \\\"maxfun\\\": 3, \\\"n_threads\\\": 10, \\\"start\\\": \\\"2019-08-26 20:08:56.899445\\\", \\\"end\\\": \\\"2019-08-26 20:12:43.769137\\\", \\\"duration\\\": \\\"0:03:46.869692\\\"}\\n{\\\"model\\\": \\\"kw_97_extended\\\", \\\"maxfun\\\": 3, \\\"n_threads\\\": 12, \\\"start\\\": \\\"2019-08-26 20:27:47.747498\\\", \\\"end\\\": \\\"2019-08-26 20:31:26.824969\\\", \\\"duration\\\": \\\"0:03:39.077471\\\"}\\n\\\"\\\"\\\"\";\n",
       "                var nbb_formatted_code = \"data = \\\"\\\"\\\"\\n{\\\"model\\\": \\\"kw_94_one\\\", \\\"maxfun\\\": 50, \\\"n_threads\\\": 2, \\\"start\\\": \\\"2019-08-26 17:38:29.779205\\\", \\\"end\\\": \\\"2019-08-26 17:39:50.248813\\\", \\\"duration\\\": \\\"0:01:20.469608\\\"}\\n{\\\"model\\\": \\\"kw_94_one\\\", \\\"maxfun\\\": 50, \\\"n_threads\\\": 4, \\\"start\\\": \\\"2019-08-26 17:40:12.377112\\\", \\\"end\\\": \\\"2019-08-26 17:41:07.376235\\\", \\\"duration\\\": \\\"0:00:54.999123\\\"}\\n{\\\"model\\\": \\\"kw_94_one\\\", \\\"maxfun\\\": 50, \\\"n_threads\\\": 6, \\\"start\\\": \\\"2019-08-26 17:41:29.312806\\\", \\\"end\\\": \\\"2019-08-26 17:42:20.699365\\\", \\\"duration\\\": \\\"0:00:51.386559\\\"}\\n{\\\"model\\\": \\\"kw_94_one\\\", \\\"maxfun\\\": 50, \\\"n_threads\\\": 8, \\\"start\\\": \\\"2019-08-26 17:42:42.730035\\\", \\\"end\\\": \\\"2019-08-26 17:43:29.568749\\\", \\\"duration\\\": \\\"0:00:46.838714\\\"}\\n{\\\"model\\\": \\\"kw_94_one\\\", \\\"maxfun\\\": 50, \\\"n_threads\\\": 10, \\\"start\\\": \\\"2019-08-26 17:43:52.496852\\\", \\\"end\\\": \\\"2019-08-26 17:44:39.377107\\\", \\\"duration\\\": \\\"0:00:46.880255\\\"}\\n{\\\"model\\\": \\\"kw_94_one\\\", \\\"maxfun\\\": 50, \\\"n_threads\\\": 12, \\\"start\\\": \\\"2019-08-26 17:45:01.743654\\\", \\\"end\\\": \\\"2019-08-26 17:45:44.754300\\\", \\\"duration\\\": \\\"0:00:43.010646\\\"}\\n{\\\"model\\\": \\\"kw_97_base\\\", \\\"maxfun\\\": 3, \\\"n_threads\\\": 2, \\\"start\\\": \\\"2019-08-26 17:53:53.999918\\\", \\\"end\\\": \\\"2019-08-26 17:56:09.303005\\\", \\\"duration\\\": \\\"0:02:15.303087\\\"}\\n{\\\"model\\\": \\\"kw_97_base\\\", \\\"maxfun\\\": 3, \\\"n_threads\\\": 4, \\\"start\\\": \\\"2019-08-26 17:59:03.115069\\\", \\\"end\\\": \\\"2019-08-26 18:00:26.045647\\\", \\\"duration\\\": \\\"0:01:22.930578\\\"}\\n{\\\"model\\\": \\\"kw_97_base\\\", \\\"maxfun\\\": 3, \\\"n_threads\\\": 6, \\\"start\\\": \\\"2019-08-26 18:03:18.388000\\\", \\\"end\\\": \\\"2019-08-26 18:04:26.720110\\\", \\\"duration\\\": \\\"0:01:08.332110\\\"}\\n{\\\"model\\\": \\\"kw_97_base\\\", \\\"maxfun\\\": 3, \\\"n_threads\\\": 8, \\\"start\\\": \\\"2019-08-26 18:07:14.577545\\\", \\\"end\\\": \\\"2019-08-26 18:08:12.402948\\\", \\\"duration\\\": \\\"0:00:57.825403\\\"}\\n{\\\"model\\\": \\\"kw_97_base\\\", \\\"maxfun\\\": 3, \\\"n_threads\\\": 10, \\\"start\\\": \\\"2019-08-26 18:10:57.492809\\\", \\\"end\\\": \\\"2019-08-26 18:11:49.910569\\\", \\\"duration\\\": \\\"0:00:52.417760\\\"}\\n{\\\"model\\\": \\\"kw_97_base\\\", \\\"maxfun\\\": 3, \\\"n_threads\\\": 12, \\\"start\\\": \\\"2019-08-26 18:14:32.824227\\\", \\\"end\\\": \\\"2019-08-26 18:15:22.644604\\\", \\\"duration\\\": \\\"0:00:49.820377\\\"}\\n{\\\"model\\\": \\\"kw_97_extended\\\", \\\"maxfun\\\": 3, \\\"n_threads\\\": 2, \\\"start\\\": \\\"2019-08-26 18:38:02.674008\\\", \\\"end\\\": \\\"2019-08-26 18:48:22.217274\\\", \\\"duration\\\": \\\"0:10:19.543266\\\"}\\n{\\\"model\\\": \\\"kw_97_extended\\\", \\\"maxfun\\\": 3, \\\"n_threads\\\": 4, \\\"start\\\": \\\"2019-08-26 19:05:13.122038\\\", \\\"end\\\": \\\"2019-08-26 19:11:25.247955\\\", \\\"duration\\\": \\\"0:06:12.125917\\\"}\\n{\\\"model\\\": \\\"kw_97_extended\\\", \\\"maxfun\\\": 3, \\\"n_threads\\\": 6, \\\"start\\\": \\\"2019-08-26 19:27:25.682803\\\", \\\"end\\\": \\\"2019-08-26 19:32:28.615169\\\", \\\"duration\\\": \\\"0:05:02.932366\\\"}\\n{\\\"model\\\": \\\"kw_97_extended\\\", \\\"maxfun\\\": 3, \\\"n_threads\\\": 8, \\\"start\\\": \\\"2019-08-26 19:48:37.839972\\\", \\\"end\\\": \\\"2019-08-26 19:53:05.588380\\\", \\\"duration\\\": \\\"0:04:27.748408\\\"}\\n{\\\"model\\\": \\\"kw_97_extended\\\", \\\"maxfun\\\": 3, \\\"n_threads\\\": 10, \\\"start\\\": \\\"2019-08-26 20:08:56.899445\\\", \\\"end\\\": \\\"2019-08-26 20:12:43.769137\\\", \\\"duration\\\": \\\"0:03:46.869692\\\"}\\n{\\\"model\\\": \\\"kw_97_extended\\\", \\\"maxfun\\\": 3, \\\"n_threads\\\": 12, \\\"start\\\": \\\"2019-08-26 20:27:47.747498\\\", \\\"end\\\": \\\"2019-08-26 20:31:26.824969\\\", \\\"duration\\\": \\\"0:03:39.077471\\\"}\\n\\\"\\\"\\\"\";\n",
       "                var nbb_cells = Jupyter.notebook.get_cells();\n",
       "                for (var i = 0; i < nbb_cells.length; ++i) {\n",
       "                    if (nbb_cells[i].input_prompt_number == nbb_cell_id) {\n",
       "                        if (nbb_cells[i].get_text() == nbb_unformatted_code) {\n",
       "                             nbb_cells[i].set_text(nbb_formatted_code);\n",
       "                        }\n",
       "                        break;\n",
       "                    }\n",
       "                }\n",
       "            }, 500);\n",
       "            "
      ],
      "text/plain": [
       "<IPython.core.display.Javascript object>"
      ]
     },
     "metadata": {},
     "output_type": "display_data"
    }
   ],
   "source": [
    "data = \"\"\"\n",
    "{\"model\": \"kw_94_one\", \"maxfun\": 50, \"n_threads\": 2, \"start\": \"2019-08-26 17:38:29.779205\", \"end\": \"2019-08-26 17:39:50.248813\", \"duration\": \"0:01:20.469608\"}\n",
    "{\"model\": \"kw_94_one\", \"maxfun\": 50, \"n_threads\": 4, \"start\": \"2019-08-26 17:40:12.377112\", \"end\": \"2019-08-26 17:41:07.376235\", \"duration\": \"0:00:54.999123\"}\n",
    "{\"model\": \"kw_94_one\", \"maxfun\": 50, \"n_threads\": 6, \"start\": \"2019-08-26 17:41:29.312806\", \"end\": \"2019-08-26 17:42:20.699365\", \"duration\": \"0:00:51.386559\"}\n",
    "{\"model\": \"kw_94_one\", \"maxfun\": 50, \"n_threads\": 8, \"start\": \"2019-08-26 17:42:42.730035\", \"end\": \"2019-08-26 17:43:29.568749\", \"duration\": \"0:00:46.838714\"}\n",
    "{\"model\": \"kw_94_one\", \"maxfun\": 50, \"n_threads\": 10, \"start\": \"2019-08-26 17:43:52.496852\", \"end\": \"2019-08-26 17:44:39.377107\", \"duration\": \"0:00:46.880255\"}\n",
    "{\"model\": \"kw_94_one\", \"maxfun\": 50, \"n_threads\": 12, \"start\": \"2019-08-26 17:45:01.743654\", \"end\": \"2019-08-26 17:45:44.754300\", \"duration\": \"0:00:43.010646\"}\n",
    "{\"model\": \"kw_97_base\", \"maxfun\": 3, \"n_threads\": 2, \"start\": \"2019-08-26 17:53:53.999918\", \"end\": \"2019-08-26 17:56:09.303005\", \"duration\": \"0:02:15.303087\"}\n",
    "{\"model\": \"kw_97_base\", \"maxfun\": 3, \"n_threads\": 4, \"start\": \"2019-08-26 17:59:03.115069\", \"end\": \"2019-08-26 18:00:26.045647\", \"duration\": \"0:01:22.930578\"}\n",
    "{\"model\": \"kw_97_base\", \"maxfun\": 3, \"n_threads\": 6, \"start\": \"2019-08-26 18:03:18.388000\", \"end\": \"2019-08-26 18:04:26.720110\", \"duration\": \"0:01:08.332110\"}\n",
    "{\"model\": \"kw_97_base\", \"maxfun\": 3, \"n_threads\": 8, \"start\": \"2019-08-26 18:07:14.577545\", \"end\": \"2019-08-26 18:08:12.402948\", \"duration\": \"0:00:57.825403\"}\n",
    "{\"model\": \"kw_97_base\", \"maxfun\": 3, \"n_threads\": 10, \"start\": \"2019-08-26 18:10:57.492809\", \"end\": \"2019-08-26 18:11:49.910569\", \"duration\": \"0:00:52.417760\"}\n",
    "{\"model\": \"kw_97_base\", \"maxfun\": 3, \"n_threads\": 12, \"start\": \"2019-08-26 18:14:32.824227\", \"end\": \"2019-08-26 18:15:22.644604\", \"duration\": \"0:00:49.820377\"}\n",
    "{\"model\": \"kw_97_extended\", \"maxfun\": 3, \"n_threads\": 2, \"start\": \"2019-08-26 18:38:02.674008\", \"end\": \"2019-08-26 18:48:22.217274\", \"duration\": \"0:10:19.543266\"}\n",
    "{\"model\": \"kw_97_extended\", \"maxfun\": 3, \"n_threads\": 4, \"start\": \"2019-08-26 19:05:13.122038\", \"end\": \"2019-08-26 19:11:25.247955\", \"duration\": \"0:06:12.125917\"}\n",
    "{\"model\": \"kw_97_extended\", \"maxfun\": 3, \"n_threads\": 6, \"start\": \"2019-08-26 19:27:25.682803\", \"end\": \"2019-08-26 19:32:28.615169\", \"duration\": \"0:05:02.932366\"}\n",
    "{\"model\": \"kw_97_extended\", \"maxfun\": 3, \"n_threads\": 8, \"start\": \"2019-08-26 19:48:37.839972\", \"end\": \"2019-08-26 19:53:05.588380\", \"duration\": \"0:04:27.748408\"}\n",
    "{\"model\": \"kw_97_extended\", \"maxfun\": 3, \"n_threads\": 10, \"start\": \"2019-08-26 20:08:56.899445\", \"end\": \"2019-08-26 20:12:43.769137\", \"duration\": \"0:03:46.869692\"}\n",
    "{\"model\": \"kw_97_extended\", \"maxfun\": 3, \"n_threads\": 12, \"start\": \"2019-08-26 20:27:47.747498\", \"end\": \"2019-08-26 20:31:26.824969\", \"duration\": \"0:03:39.077471\"}\n",
    "\"\"\""
   ]
  },
  {
   "cell_type": "code",
   "execution_count": 14,
   "metadata": {
    "nbsphinx": "hidden"
   },
   "outputs": [
    {
     "data": {
      "application/javascript": [
       "\n",
       "            setTimeout(function() {\n",
       "                var nbb_cell_id = 14;\n",
       "                var nbb_unformatted_code = \"df = pd.read_json(data, lines=True, convert_dates=[\\\"start\\\", \\\"end\\\"])\\n\\n# Get duration for 1000 evaluations.\\ndf[\\\"duration\\\"] = df.end - df.start\\ndf[\\\"duration_1000_eval\\\"] = 1000 / df[\\\"maxfun\\\"] * df[\\\"duration\\\"]\";\n",
       "                var nbb_formatted_code = \"df = pd.read_json(data, lines=True, convert_dates=[\\\"start\\\", \\\"end\\\"])\\n\\n# Get duration for 1000 evaluations.\\ndf[\\\"duration\\\"] = df.end - df.start\\ndf[\\\"duration_1000_eval\\\"] = 1000 / df[\\\"maxfun\\\"] * df[\\\"duration\\\"]\";\n",
       "                var nbb_cells = Jupyter.notebook.get_cells();\n",
       "                for (var i = 0; i < nbb_cells.length; ++i) {\n",
       "                    if (nbb_cells[i].input_prompt_number == nbb_cell_id) {\n",
       "                        if (nbb_cells[i].get_text() == nbb_unformatted_code) {\n",
       "                             nbb_cells[i].set_text(nbb_formatted_code);\n",
       "                        }\n",
       "                        break;\n",
       "                    }\n",
       "                }\n",
       "            }, 500);\n",
       "            "
      ],
      "text/plain": [
       "<IPython.core.display.Javascript object>"
      ]
     },
     "metadata": {},
     "output_type": "display_data"
    }
   ],
   "source": [
    "df = pd.read_json(data, lines=True, convert_dates=[\"start\", \"end\"])\n",
    "\n",
    "# Get duration for 1000 evaluations.\n",
    "df[\"duration\"] = df.end - df.start\n",
    "df[\"duration_1000_eval\"] = 1000 / df[\"maxfun\"] * df[\"duration\"]"
   ]
  },
  {
   "cell_type": "code",
   "execution_count": 15,
   "metadata": {
    "nbsphinx": "hidden"
   },
   "outputs": [
    {
     "data": {
      "application/javascript": [
       "\n",
       "            setTimeout(function() {\n",
       "                var nbb_cell_id = 15;\n",
       "                var nbb_unformatted_code = \"fig, ax = plt.subplots()\\n\\nfor label, group in df.groupby(\\\"model\\\"):\\n    ax.semilogy(\\n        group.n_threads,\\n        group.duration_1000_eval.dt.total_seconds() / 60,\\n        label=label,\\n    )\\n\\nax.set_ylim(1e1, 1e4)\\n\\nax.grid(which=\\\"both\\\", axis=\\\"y\\\")\\n\\nax.set_xlabel(\\\"Number of threads\\\")\\nax.set_ylabel(\\\"Runtime (in Minutes)\\\")\\n\\nax.legend(\\n    [\\n        \\\"Keane and Wolpin (1994)\\\",\\n        \\\"Keane and Wolpin (1997) - Base\\\",\\n        \\\"Keane and Wolpin (1997) - Extended\\\",\\n    ]\\n);\";\n",
       "                var nbb_formatted_code = \"fig, ax = plt.subplots()\\n\\nfor label, group in df.groupby(\\\"model\\\"):\\n    ax.semilogy(\\n        group.n_threads, group.duration_1000_eval.dt.total_seconds() / 60, label=label,\\n    )\\n\\nax.set_ylim(1e1, 1e4)\\n\\nax.grid(which=\\\"both\\\", axis=\\\"y\\\")\\n\\nax.set_xlabel(\\\"Number of threads\\\")\\nax.set_ylabel(\\\"Runtime (in Minutes)\\\")\\n\\nax.legend(\\n    [\\n        \\\"Keane and Wolpin (1994)\\\",\\n        \\\"Keane and Wolpin (1997) - Base\\\",\\n        \\\"Keane and Wolpin (1997) - Extended\\\",\\n    ]\\n)\";\n",
       "                var nbb_cells = Jupyter.notebook.get_cells();\n",
       "                for (var i = 0; i < nbb_cells.length; ++i) {\n",
       "                    if (nbb_cells[i].input_prompt_number == nbb_cell_id) {\n",
       "                        if (nbb_cells[i].get_text() == nbb_unformatted_code) {\n",
       "                             nbb_cells[i].set_text(nbb_formatted_code);\n",
       "                        }\n",
       "                        break;\n",
       "                    }\n",
       "                }\n",
       "            }, 500);\n",
       "            "
      ],
      "text/plain": [
       "<IPython.core.display.Javascript object>"
      ]
     },
     "metadata": {},
     "output_type": "display_data"
    }
   ],
   "source": [
    "fig, ax = plt.subplots()\n",
    "\n",
    "for label, group in df.groupby(\"model\"):\n",
    "    ax.semilogy(\n",
    "        group.n_threads, group.duration_1000_eval.dt.total_seconds() / 60, label=label,\n",
    "    )\n",
    "\n",
    "ax.set_ylim(1e1, 1e4)\n",
    "\n",
    "ax.grid(which=\"both\", axis=\"y\")\n",
    "\n",
    "ax.set_xlabel(\"Number of threads\")\n",
    "ax.set_ylabel(\"Runtime (in Minutes)\")\n",
    "\n",
    "ax.legend(\n",
    "    [\n",
    "        \"Keane and Wolpin (1994)\",\n",
    "        \"Keane and Wolpin (1997) - Base\",\n",
    "        \"Keane and Wolpin (1997) - Extended\",\n",
    "    ]\n",
    ")"
   ]
  },
  {
   "cell_type": "code",
   "execution_count": 16,
   "metadata": {},
   "outputs": [
    {
     "data": {
      "image/png": "[encoded data removed]",
      "text/plain": [
       "<Figure size 640x480 with 1 Axes>"
      ]
     },
     "execution_count": 16,
     "metadata": {},
     "output_type": "execute_result"
    },
    {
     "data": {
      "application/javascript": [
       "\n",
       "            setTimeout(function() {\n",
       "                var nbb_cell_id = 16;\n",
       "                var nbb_unformatted_code = \"fig\";\n",
       "                var nbb_formatted_code = \"fig\";\n",
       "                var nbb_cells = Jupyter.notebook.get_cells();\n",
       "                for (var i = 0; i < nbb_cells.length; ++i) {\n",
       "                    if (nbb_cells[i].input_prompt_number == nbb_cell_id) {\n",
       "                        if (nbb_cells[i].get_text() == nbb_unformatted_code) {\n",
       "                             nbb_cells[i].set_text(nbb_formatted_code);\n",
       "                        }\n",
       "                        break;\n",
       "                    }\n",
       "                }\n",
       "            }, 500);\n",
       "            "
      ],
      "text/plain": [
       "<IPython.core.display.Javascript object>"
      ]
     },
     "metadata": {},
     "output_type": "display_data"
    }
   ],
   "source": [
    "fig"
   ]
  },
  {
   "cell_type": "markdown",
   "metadata": {},
   "source": [
    "Adding even more threads, however, does not lead to any further improvements.\n",
    "\n",
    "For more details, see the script [online](https://github.com/OpenSourceEconomics/respy/blob/master/development/documentation/scalability/scalability_setup.py) or the complete Jupyter notebook in the repository under ``docs/software/scalability.ipynb``."
   ]
  }
 ],
 "metadata": {
  "kernelspec": {
   "display_name": "Python 3",
   "language": "python",
   "name": "python3"
  },
  "language_info": {
   "codemirror_mode": {
    "name": "ipython",
    "version": 3
   },
   "file_extension": ".py",
   "mimetype": "text/x-python",
   "name": "python",
   "nbconvert_exporter": "python",
   "pygments_lexer": "ipython3",
   "version": "3.7.6"
  }
 },
 "nbformat": 4,
 "nbformat_minor": 4
}
