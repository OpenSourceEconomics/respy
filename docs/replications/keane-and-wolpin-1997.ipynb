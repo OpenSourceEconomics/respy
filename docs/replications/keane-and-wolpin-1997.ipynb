{
 "cells": [
  {
   "cell_type": "markdown",
   "metadata": {},
   "source": [
    "# Keane and Wolpin (1997)\n",
    "\n",
    "*Note that most of the code cells are hidden from this notebook for a better reading flow. Check out the notebook in the documentation folder in the Github repository for more details.*\n",
    "\n",
    "In the following, we will replicate the base and extended model from Keane and Wolpin (1997) and present occupational choice of agents from the age of sixteen to 65."
   ]
  },
  {
   "cell_type": "code",
   "execution_count": 1,
   "metadata": {
    "nbsphinx": "hidden"
   },
   "outputs": [
    {
     "data": {
      "application/javascript": [
       "\n",
       "            setTimeout(function() {\n",
       "                var nbb_cell_id = 1;\n",
       "                var nbb_unformatted_code = \"%matplotlib agg\\n%load_ext nb_black\\n\\nimport respy as rp\\nimport pandas as pd\\nimport matplotlib.pyplot as plt\";\n",
       "                var nbb_formatted_code = \"%matplotlib agg\\n%load_ext nb_black\\n\\nimport respy as rp\\nimport pandas as pd\\nimport matplotlib.pyplot as plt\";\n",
       "                var nbb_cells = Jupyter.notebook.get_cells();\n",
       "                for (var i = 0; i < nbb_cells.length; ++i) {\n",
       "                    if (nbb_cells[i].input_prompt_number == nbb_cell_id) {\n",
       "                        if (nbb_cells[i].get_text() == nbb_unformatted_code) {\n",
       "                             nbb_cells[i].set_text(nbb_formatted_code);\n",
       "                        }\n",
       "                        break;\n",
       "                    }\n",
       "                }\n",
       "            }, 500);\n",
       "            "
      ],
      "text/plain": [
       "<IPython.core.display.Javascript object>"
      ]
     },
     "metadata": {},
     "output_type": "display_data"
    }
   ],
   "source": [
    "%matplotlib agg\n",
    "%load_ext nb_black\n",
    "\n",
    "import respy as rp\n",
    "import pandas as pd\n",
    "import matplotlib.pyplot as plt"
   ]
  },
  {
   "cell_type": "code",
   "execution_count": 2,
   "metadata": {
    "nbsphinx": "hidden"
   },
   "outputs": [
    {
     "data": {
      "application/javascript": [
       "\n",
       "            setTimeout(function() {\n",
       "                var nbb_cell_id = 2;\n",
       "                var nbb_unformatted_code = \"plt.style.use(\\\"../_static/respy.mplstyle\\\")\";\n",
       "                var nbb_formatted_code = \"plt.style.use(\\\"../_static/respy.mplstyle\\\")\";\n",
       "                var nbb_cells = Jupyter.notebook.get_cells();\n",
       "                for (var i = 0; i < nbb_cells.length; ++i) {\n",
       "                    if (nbb_cells[i].input_prompt_number == nbb_cell_id) {\n",
       "                        if (nbb_cells[i].get_text() == nbb_unformatted_code) {\n",
       "                             nbb_cells[i].set_text(nbb_formatted_code);\n",
       "                        }\n",
       "                        break;\n",
       "                    }\n",
       "                }\n",
       "            }, 500);\n",
       "            "
      ],
      "text/plain": [
       "<IPython.core.display.Javascript object>"
      ]
     },
     "metadata": {},
     "output_type": "display_data"
    }
   ],
   "source": [
    "plt.style.use(\"../_static/respy.mplstyle\")"
   ]
  },
  {
   "cell_type": "code",
   "execution_count": 3,
   "metadata": {
    "nbsphinx": "hidden"
   },
   "outputs": [
    {
     "data": {
      "application/javascript": [
       "\n",
       "            setTimeout(function() {\n",
       "                var nbb_cell_id = 3;\n",
       "                var nbb_unformatted_code = \"params, options = rp.get_example_model(\\\"kw_97_basic\\\", with_data=False)\\n\\nsimulate = rp.get_simulate_func(params, options)\\ndf = simulate(params)\";\n",
       "                var nbb_formatted_code = \"params, options = rp.get_example_model(\\\"kw_97_basic\\\", with_data=False)\\n\\nsimulate = rp.get_simulate_func(params, options)\\ndf = simulate(params)\";\n",
       "                var nbb_cells = Jupyter.notebook.get_cells();\n",
       "                for (var i = 0; i < nbb_cells.length; ++i) {\n",
       "                    if (nbb_cells[i].input_prompt_number == nbb_cell_id) {\n",
       "                        if (nbb_cells[i].get_text() == nbb_unformatted_code) {\n",
       "                             nbb_cells[i].set_text(nbb_formatted_code);\n",
       "                        }\n",
       "                        break;\n",
       "                    }\n",
       "                }\n",
       "            }, 500);\n",
       "            "
      ],
      "text/plain": [
       "<IPython.core.display.Javascript object>"
      ]
     },
     "metadata": {},
     "output_type": "display_data"
    }
   ],
   "source": [
    "params, options = rp.get_example_model(\"kw_97_basic\", with_data=False)\n",
    "\n",
    "simulate = rp.get_simulate_func(params, options)\n",
    "df = simulate(params)"
   ]
  },
  {
   "cell_type": "code",
   "execution_count": 4,
   "metadata": {
    "nbsphinx": "hidden"
   },
   "outputs": [
    {
     "data": {
      "application/javascript": [
       "\n",
       "            setTimeout(function() {\n",
       "                var nbb_cell_id = 4;\n",
       "                var nbb_unformatted_code = \"fig, ax = plt.subplots()\\n\\nshares = df.groupby(\\\"Period\\\").Choice.value_counts(normalize=True).unstack()[\\n    [\\\"home\\\", \\\"school\\\", \\\"white_collar\\\", \\\"blue_collar\\\", \\\"military\\\"]\\n]\\n\\nshares.plot.bar(stacked=True, ax=ax, width=0.8)\\n\\nax.legend(\\n    labels=[\\\"Home\\\", \\\"School\\\", \\\"White-Collar\\\", \\\"Blue-Collar\\\", \\\"Military\\\"],\\n    loc=\\\"upper center\\\",\\n    bbox_to_anchor=(0.5, -0.15),\\n    ncol=3\\n)\\n\\nax.set_ylim(0, 1)\\n\\nax.set_xticks(range(0, options[\\\"n_periods\\\"], 5))\\nax.set_xticklabels(range(0, options[\\\"n_periods\\\"], 5), rotation=\\\"horizontal\\\")\\n\\nax.set_ylabel(\\\"Share of population\\\");\";\n",
       "                var nbb_formatted_code = \"fig, ax = plt.subplots()\\n\\nshares = (\\n    df.groupby(\\\"Period\\\")\\n    .Choice.value_counts(normalize=True)\\n    .unstack()[[\\\"home\\\", \\\"school\\\", \\\"white_collar\\\", \\\"blue_collar\\\", \\\"military\\\"]]\\n)\\n\\nshares.plot.bar(stacked=True, ax=ax, width=0.8)\\n\\nax.legend(\\n    labels=[\\\"Home\\\", \\\"School\\\", \\\"White-Collar\\\", \\\"Blue-Collar\\\", \\\"Military\\\"],\\n    loc=\\\"upper center\\\",\\n    bbox_to_anchor=(0.5, -0.15),\\n    ncol=3,\\n)\\n\\nax.set_ylim(0, 1)\\n\\nax.set_xticks(range(0, options[\\\"n_periods\\\"], 5))\\nax.set_xticklabels(range(0, options[\\\"n_periods\\\"], 5), rotation=\\\"horizontal\\\")\\n\\nax.set_ylabel(\\\"Share of population\\\")\";\n",
       "                var nbb_cells = Jupyter.notebook.get_cells();\n",
       "                for (var i = 0; i < nbb_cells.length; ++i) {\n",
       "                    if (nbb_cells[i].input_prompt_number == nbb_cell_id) {\n",
       "                        if (nbb_cells[i].get_text() == nbb_unformatted_code) {\n",
       "                             nbb_cells[i].set_text(nbb_formatted_code);\n",
       "                        }\n",
       "                        break;\n",
       "                    }\n",
       "                }\n",
       "            }, 500);\n",
       "            "
      ],
      "text/plain": [
       "<IPython.core.display.Javascript object>"
      ]
     },
     "metadata": {},
     "output_type": "display_data"
    }
   ],
   "source": [
    "fig, ax = plt.subplots()\n",
    "\n",
    "shares = (\n",
    "    df.groupby(\"Period\")\n",
    "    .Choice.value_counts(normalize=True)\n",
    "    .unstack()[[\"home\", \"school\", \"white_collar\", \"blue_collar\", \"military\"]]\n",
    ")\n",
    "\n",
    "shares.plot.bar(stacked=True, ax=ax, width=0.8)\n",
    "\n",
    "ax.legend(\n",
    "    labels=[\"Home\", \"School\", \"White-Collar\", \"Blue-Collar\", \"Military\"],\n",
    "    loc=\"upper center\",\n",
    "    bbox_to_anchor=(0.5, -0.15),\n",
    "    ncol=3,\n",
    ")\n",
    "\n",
    "ax.set_ylim(0, 1)\n",
    "\n",
    "ax.set_xticks(range(0, options[\"n_periods\"], 5))\n",
    "ax.set_xticklabels(range(0, options[\"n_periods\"], 5), rotation=\"horizontal\")\n",
    "\n",
    "ax.set_ylabel(\"Share of population\")"
   ]
  },
  {
   "cell_type": "code",
   "execution_count": 5,
   "metadata": {},
   "outputs": [
    {
     "data": {
      "image/png": "[encoded data removed]",
      "text/plain": [
       "<Figure size 640x480 with 1 Axes>"
      ]
     },
     "execution_count": 5,
     "metadata": {},
     "output_type": "execute_result"
    },
    {
     "data": {
      "application/javascript": [
       "\n",
       "            setTimeout(function() {\n",
       "                var nbb_cell_id = 5;\n",
       "                var nbb_unformatted_code = \"fig\";\n",
       "                var nbb_formatted_code = \"fig\";\n",
       "                var nbb_cells = Jupyter.notebook.get_cells();\n",
       "                for (var i = 0; i < nbb_cells.length; ++i) {\n",
       "                    if (nbb_cells[i].input_prompt_number == nbb_cell_id) {\n",
       "                        if (nbb_cells[i].get_text() == nbb_unformatted_code) {\n",
       "                             nbb_cells[i].set_text(nbb_formatted_code);\n",
       "                        }\n",
       "                        break;\n",
       "                    }\n",
       "                }\n",
       "            }, 500);\n",
       "            "
      ],
      "text/plain": [
       "<IPython.core.display.Javascript object>"
      ]
     },
     "metadata": {},
     "output_type": "display_data"
    }
   ],
   "source": [
    "fig"
   ]
  },
  {
   "cell_type": "code",
   "execution_count": 7,
   "metadata": {
    "nbsphinx": "hidden"
   },
   "outputs": [
    {
     "data": {
      "application/javascript": [
       "\n",
       "            setTimeout(function() {\n",
       "                var nbb_cell_id = 7;\n",
       "                var nbb_unformatted_code = \"params, options = rp.get_example_model(\\\"kw_97_basic\\\", with_data=False)\\n\\nsimulate = rp.get_simulate_func(params, options)\\ndf = simulate(params)\";\n",
       "                var nbb_formatted_code = \"params, options = rp.get_example_model(\\\"kw_97_basic\\\", with_data=False)\\n\\nsimulate = rp.get_simulate_func(params, options)\\ndf = simulate(params)\";\n",
       "                var nbb_cells = Jupyter.notebook.get_cells();\n",
       "                for (var i = 0; i < nbb_cells.length; ++i) {\n",
       "                    if (nbb_cells[i].input_prompt_number == nbb_cell_id) {\n",
       "                        if (nbb_cells[i].get_text() == nbb_unformatted_code) {\n",
       "                             nbb_cells[i].set_text(nbb_formatted_code);\n",
       "                        }\n",
       "                        break;\n",
       "                    }\n",
       "                }\n",
       "            }, 500);\n",
       "            "
      ],
      "text/plain": [
       "<IPython.core.display.Javascript object>"
      ]
     },
     "metadata": {},
     "output_type": "display_data"
    }
   ],
   "source": [
    "params, options = rp.get_example_model(\"kw_97_extended\", with_data=False)\n",
    "\n",
    "simulate = rp.get_simulate_func(params, options)\n",
    "df = simulate(params)"
   ]
  },
  {
   "cell_type": "code",
   "execution_count": 8,
   "metadata": {
    "nbsphinx": "hidden"
   },
   "outputs": [
    {
     "data": {
      "application/javascript": [
       "\n",
       "            setTimeout(function() {\n",
       "                var nbb_cell_id = 8;\n",
       "                var nbb_unformatted_code = \"fig, ax = plt.subplots()\\n\\nshares = df.groupby(\\\"Period\\\").Choice.value_counts(normalize=True).unstack()[\\n    [\\\"home\\\", \\\"school\\\", \\\"white_collar\\\", \\\"blue_collar\\\", \\\"military\\\"]\\n]\\n\\nshares.plot.bar(stacked=True, ax=ax, width=0.8)\\n\\nax.legend(\\n    labels=[\\\"Home\\\", \\\"School\\\", \\\"White-Collar\\\", \\\"Blue-Collar\\\", \\\"Military\\\"],\\n    loc=\\\"upper center\\\",\\n    bbox_to_anchor=(0.5, -0.15),\\n    ncol=3\\n)\\n\\nax.set_ylim(0, 1)\\n\\nax.set_xticks(range(0, options[\\\"n_periods\\\"], 5))\\nax.set_xticklabels(range(0, options[\\\"n_periods\\\"], 5), rotation=\\\"horizontal\\\")\\n\\nax.set_ylabel(\\\"Share of population\\\");\";\n",
       "                var nbb_formatted_code = \"fig, ax = plt.subplots()\\n\\nshares = (\\n    df.groupby(\\\"Period\\\")\\n    .Choice.value_counts(normalize=True)\\n    .unstack()[[\\\"home\\\", \\\"school\\\", \\\"white_collar\\\", \\\"blue_collar\\\", \\\"military\\\"]]\\n)\\n\\nshares.plot.bar(stacked=True, ax=ax, width=0.8)\\n\\nax.legend(\\n    labels=[\\\"Home\\\", \\\"School\\\", \\\"White-Collar\\\", \\\"Blue-Collar\\\", \\\"Military\\\"],\\n    loc=\\\"upper center\\\",\\n    bbox_to_anchor=(0.5, -0.15),\\n    ncol=3,\\n)\\n\\nax.set_ylim(0, 1)\\n\\nax.set_xticks(range(0, options[\\\"n_periods\\\"], 5))\\nax.set_xticklabels(range(0, options[\\\"n_periods\\\"], 5), rotation=\\\"horizontal\\\")\\n\\nax.set_ylabel(\\\"Share of population\\\")\";\n",
       "                var nbb_cells = Jupyter.notebook.get_cells();\n",
       "                for (var i = 0; i < nbb_cells.length; ++i) {\n",
       "                    if (nbb_cells[i].input_prompt_number == nbb_cell_id) {\n",
       "                        if (nbb_cells[i].get_text() == nbb_unformatted_code) {\n",
       "                             nbb_cells[i].set_text(nbb_formatted_code);\n",
       "                        }\n",
       "                        break;\n",
       "                    }\n",
       "                }\n",
       "            }, 500);\n",
       "            "
      ],
      "text/plain": [
       "<IPython.core.display.Javascript object>"
      ]
     },
     "metadata": {},
     "output_type": "display_data"
    }
   ],
   "source": [
    "fig, ax = plt.subplots()\n",
    "\n",
    "shares = (\n",
    "    df.groupby(\"Period\")\n",
    "    .Choice.value_counts(normalize=True)\n",
    "    .unstack()[[\"home\", \"school\", \"white_collar\", \"blue_collar\", \"military\"]]\n",
    ")\n",
    "\n",
    "shares.plot.bar(stacked=True, ax=ax, width=0.8)\n",
    "\n",
    "ax.legend(\n",
    "    labels=[\"Home\", \"School\", \"White-Collar\", \"Blue-Collar\", \"Military\"],\n",
    "    loc=\"upper center\",\n",
    "    bbox_to_anchor=(0.5, -0.15),\n",
    "    ncol=3,\n",
    ")\n",
    "\n",
    "ax.set_ylim(0, 1)\n",
    "\n",
    "ax.set_xticks(range(0, options[\"n_periods\"], 5))\n",
    "ax.set_xticklabels(range(0, options[\"n_periods\"], 5), rotation=\"horizontal\")\n",
    "\n",
    "ax.set_ylabel(\"Share of population\")"
   ]
  },
  {
   "cell_type": "code",
   "execution_count": 9,
   "metadata": {},
   "outputs": [
    {
     "data": {
      "image/png": "[encoded data removed]",
      "text/plain": [
       "<Figure size 640x480 with 1 Axes>"
      ]
     },
     "execution_count": 9,
     "metadata": {},
     "output_type": "execute_result"
    },
    {
     "data": {
      "application/javascript": [
       "\n",
       "            setTimeout(function() {\n",
       "                var nbb_cell_id = 9;\n",
       "                var nbb_unformatted_code = \"fig\";\n",
       "                var nbb_formatted_code = \"fig\";\n",
       "                var nbb_cells = Jupyter.notebook.get_cells();\n",
       "                for (var i = 0; i < nbb_cells.length; ++i) {\n",
       "                    if (nbb_cells[i].input_prompt_number == nbb_cell_id) {\n",
       "                        if (nbb_cells[i].get_text() == nbb_unformatted_code) {\n",
       "                             nbb_cells[i].set_text(nbb_formatted_code);\n",
       "                        }\n",
       "                        break;\n",
       "                    }\n",
       "                }\n",
       "            }, 500);\n",
       "            "
      ],
      "text/plain": [
       "<IPython.core.display.Javascript object>"
      ]
     },
     "metadata": {},
     "output_type": "display_data"
    }
   ],
   "source": [
    "fig"
   ]
  },
  {
   "cell_type": "markdown",
   "metadata": {},
   "source": [
    "## References\n",
    "\n",
    "> Keane, M. P. and Wolpin, K. I. (1997). [The Career Decisions of Young Men](https://doi.org/10.1086/262080). *Journal of Political Economy*, 105(3): 473-522."
   ]
  }
 ],
 "metadata": {
  "kernelspec": {
   "display_name": "Python 3",
   "language": "python",
   "name": "python3"
  },
  "language_info": {
   "codemirror_mode": {
    "name": "ipython",
    "version": 3
   },
   "file_extension": ".py",
   "mimetype": "text/x-python",
   "name": "python",
   "nbconvert_exporter": "python",
   "pygments_lexer": "ipython3",
   "version": "3.7.6"
  }
 },
 "nbformat": 4,
 "nbformat_minor": 4
}
