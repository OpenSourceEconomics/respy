{
 "cells": [
  {
   "cell_type": "markdown",
   "metadata": {},
   "source": [
    "# Tutorial\n",
    "\n",
    "We now illustrate the basic capabilities of the ``respy`` package in a simple tutorial. The tutorial covers the following topics:\n",
    "\n",
    "1. [How to specify a model - parameters and options.](#How-to-specify-a-model---parameters-and-options.)\n",
    "2. [How to solve a model.](#How-to-solve-a-model.)\n",
    "3. [How to simulate a data set.](#How-to-simulate-a-data-set.)\n",
    "4. [How to estimate model parameters.](#How-to-estimate-model-parameters.)\n",
    "\n",
    "After the [installation](installation.rst), the convention is to import ``respy`` as follows to get access to all exposed functions."
   ]
  },
  {
   "cell_type": "code",
   "execution_count": 1,
   "metadata": {},
   "outputs": [],
   "source": [
    "import respy as rp"
   ]
  },
  {
   "cell_type": "markdown",
   "metadata": {},
   "source": [
    "## How to specify a model - parameters and options.\n",
    "\n",
    "In order to define a model, ``respy`` relies on two objects - parameters and options. The difference between the two is that parameters are affected by the optimization whereas options stay the same. Here, only some parameters and options are explained. For a complete overview on parameters and options, visit the section [model specification](../software/model-specification.rst).\n",
    "\n",
    "As an example, we turn to the first model of Keane and Wolpin (1994). The following function returns the parameters and options and the original dataset used by the authors. Passing ``with_data=False`` prevents the function to return a data set."
   ]
  },
  {
   "cell_type": "code",
   "execution_count": 2,
   "metadata": {},
   "outputs": [],
   "source": [
    "params, options = rp.get_example_model(\"kw_94_one\", with_data=False)"
   ]
  },
  {
   "cell_type": "markdown",
   "metadata": {},
   "source": [
    "As said before, options are everything not affected by the optimization. The value under ``\"n_periods\"`` defines the number of periods in the model meaning the available time frame in which individual can make their decisions.\n",
    "\n",
    "The rest of the options includes seeds, numbers of draws to simulate the flow utilities in each period and other model parameters. Furthermore, there is a lot of logic hidden from the user to offer a comprehensible starting point. For a deeper understanding of the mechanics, the user is refered to the section [model specfication](../software/model-specification.rst)."
   ]
  },
  {
   "cell_type": "code",
   "execution_count": 3,
   "metadata": {},
   "outputs": [
    {
     "data": {
      "text/plain": [
       "{'estimation_draws': 200,\n",
       " 'estimation_seed': 500,\n",
       " 'estimation_tau': 500,\n",
       " 'interpolation_points': -1,\n",
       " 'n_periods': 40,\n",
       " 'simulation_agents': 1000,\n",
       " 'simulation_seed': 132,\n",
       " 'solution_draws': 500,\n",
       " 'solution_seed': 1,\n",
       " 'core_state_space_filters': [\"period > 0 and exp_{i} == period and lagged_choice_1 != '{i}'\",\n",
       "  \"period > 0 and exp_a + exp_b + exp_edu == period and lagged_choice_1 == '{j}'\",\n",
       "  \"period > 0 and lagged_choice_1 == 'edu' and exp_edu == 0\",\n",
       "  \"lagged_choice_1 == '{k}' and exp_{k} == 0\",\n",
       "  \"period == 0 and lagged_choice_1 == '{k}'\"],\n",
       " 'covariates': {'constant': '1',\n",
       "  'exp_a_square': 'exp_a ** 2',\n",
       "  'exp_b_square': 'exp_b ** 2',\n",
       "  'at_least_twelve_exp_edu': 'exp_edu >= 12',\n",
       "  'not_edu_last_period': \"lagged_choice_1 != 'edu'\",\n",
       "  'edu_ten': 'exp_edu == 10'}}"
      ]
     },
     "execution_count": 3,
     "metadata": {},
     "output_type": "execute_result"
    }
   ],
   "source": [
    "options"
   ]
  },
  {
   "cell_type": "markdown",
   "metadata": {},
   "source": [
    "The parameter specification includes all parameters of the model which are affected by the optimization routine and some more."
   ]
  },
  {
   "cell_type": "code",
   "execution_count": 4,
   "metadata": {},
   "outputs": [
    {
     "data": {
      "text/html": [
       "<div>\n",
       "<style scoped>\n",
       "    .dataframe tbody tr th:only-of-type {\n",
       "        vertical-align: middle;\n",
       "    }\n",
       "\n",
       "    .dataframe tbody tr th {\n",
       "        vertical-align: top;\n",
       "    }\n",
       "\n",
       "    .dataframe thead th {\n",
       "        text-align: right;\n",
       "    }\n",
       "</style>\n",
       "<table border=\"1\" class=\"dataframe\">\n",
       "  <thead>\n",
       "    <tr style=\"text-align: right;\">\n",
       "      <th></th>\n",
       "      <th></th>\n",
       "      <th>value</th>\n",
       "      <th>comment</th>\n",
       "    </tr>\n",
       "    <tr>\n",
       "      <th>category</th>\n",
       "      <th>name</th>\n",
       "      <th></th>\n",
       "      <th></th>\n",
       "    </tr>\n",
       "  </thead>\n",
       "  <tbody>\n",
       "    <tr>\n",
       "      <th>delta</th>\n",
       "      <th>delta</th>\n",
       "      <td>0.9500</td>\n",
       "      <td>discount factor</td>\n",
       "    </tr>\n",
       "    <tr>\n",
       "      <th rowspan=\"6\" valign=\"top\">wage_a</th>\n",
       "      <th>constant</th>\n",
       "      <td>9.2100</td>\n",
       "      <td>log of rental price</td>\n",
       "    </tr>\n",
       "    <tr>\n",
       "      <th>exp_edu</th>\n",
       "      <td>0.0380</td>\n",
       "      <td>return to an additional year of schooling</td>\n",
       "    </tr>\n",
       "    <tr>\n",
       "      <th>exp_a</th>\n",
       "      <td>0.0330</td>\n",
       "      <td>return to same sector experience</td>\n",
       "    </tr>\n",
       "    <tr>\n",
       "      <th>exp_a_square</th>\n",
       "      <td>-0.0005</td>\n",
       "      <td>return to same sector, quadratic experience</td>\n",
       "    </tr>\n",
       "    <tr>\n",
       "      <th>exp_b</th>\n",
       "      <td>0.0000</td>\n",
       "      <td>return to other sector experience</td>\n",
       "    </tr>\n",
       "    <tr>\n",
       "      <th>exp_b_square</th>\n",
       "      <td>0.0000</td>\n",
       "      <td>return to other sector, quadratic experience</td>\n",
       "    </tr>\n",
       "    <tr>\n",
       "      <th rowspan=\"6\" valign=\"top\">wage_b</th>\n",
       "      <th>constant</th>\n",
       "      <td>8.4800</td>\n",
       "      <td>log of rental price</td>\n",
       "    </tr>\n",
       "    <tr>\n",
       "      <th>exp_edu</th>\n",
       "      <td>0.0700</td>\n",
       "      <td>return to an additional year of schooling</td>\n",
       "    </tr>\n",
       "    <tr>\n",
       "      <th>exp_b</th>\n",
       "      <td>0.0670</td>\n",
       "      <td>return to same sector experience</td>\n",
       "    </tr>\n",
       "    <tr>\n",
       "      <th>exp_b_square</th>\n",
       "      <td>-0.0010</td>\n",
       "      <td>return to same sector, quadratic experience</td>\n",
       "    </tr>\n",
       "    <tr>\n",
       "      <th>exp_a</th>\n",
       "      <td>0.0220</td>\n",
       "      <td>return to other sector experience</td>\n",
       "    </tr>\n",
       "    <tr>\n",
       "      <th>exp_a_square</th>\n",
       "      <td>-0.0005</td>\n",
       "      <td>return to other sector, quadratic experience</td>\n",
       "    </tr>\n",
       "    <tr>\n",
       "      <th rowspan=\"3\" valign=\"top\">nonpec_edu</th>\n",
       "      <th>constant</th>\n",
       "      <td>0.0000</td>\n",
       "      <td>constant reward for choosing education</td>\n",
       "    </tr>\n",
       "    <tr>\n",
       "      <th>at_least_twelve_exp_edu</th>\n",
       "      <td>0.0000</td>\n",
       "      <td>reward for going to college (tuition, etc.)</td>\n",
       "    </tr>\n",
       "    <tr>\n",
       "      <th>not_edu_last_period</th>\n",
       "      <td>-4000.0000</td>\n",
       "      <td>reward for going back to school</td>\n",
       "    </tr>\n",
       "    <tr>\n",
       "      <th>nonpec_home</th>\n",
       "      <th>constant</th>\n",
       "      <td>17750.0000</td>\n",
       "      <td>constant reward of non-market alternative</td>\n",
       "    </tr>\n",
       "    <tr>\n",
       "      <th rowspan=\"10\" valign=\"top\">shocks_sdcorr</th>\n",
       "      <th>sd_a</th>\n",
       "      <td>0.2000</td>\n",
       "      <td>Element 1,1 of standard-deviation/correlation ...</td>\n",
       "    </tr>\n",
       "    <tr>\n",
       "      <th>sd_b</th>\n",
       "      <td>0.2500</td>\n",
       "      <td>Element 2,2 of standard-deviation/correlation ...</td>\n",
       "    </tr>\n",
       "    <tr>\n",
       "      <th>sd_edu</th>\n",
       "      <td>1500.0000</td>\n",
       "      <td>Element 3,3 of standard-deviation/correlation ...</td>\n",
       "    </tr>\n",
       "    <tr>\n",
       "      <th>sd_home</th>\n",
       "      <td>1500.0000</td>\n",
       "      <td>Element 4,4 of standard-deviation/correlation ...</td>\n",
       "    </tr>\n",
       "    <tr>\n",
       "      <th>corr_b_a</th>\n",
       "      <td>0.0000</td>\n",
       "      <td>Element 2,1 of standard-deviation/correlation ...</td>\n",
       "    </tr>\n",
       "    <tr>\n",
       "      <th>corr_edu_a</th>\n",
       "      <td>0.0000</td>\n",
       "      <td>Element 3,1 of standard-deviation/correlation ...</td>\n",
       "    </tr>\n",
       "    <tr>\n",
       "      <th>corr_edu_b</th>\n",
       "      <td>0.0000</td>\n",
       "      <td>Element 3,2 of standard-deviation/correlation ...</td>\n",
       "    </tr>\n",
       "    <tr>\n",
       "      <th>corr_home_a</th>\n",
       "      <td>0.0000</td>\n",
       "      <td>Element 4,1 of standard-deviation/correlation ...</td>\n",
       "    </tr>\n",
       "    <tr>\n",
       "      <th>corr_home_b</th>\n",
       "      <td>0.0000</td>\n",
       "      <td>Element 4,2 of standard-deviation/correlation ...</td>\n",
       "    </tr>\n",
       "    <tr>\n",
       "      <th>corr_home_edu</th>\n",
       "      <td>0.0000</td>\n",
       "      <td>Element 4,3 of standard-deviation/correlation ...</td>\n",
       "    </tr>\n",
       "    <tr>\n",
       "      <th>lagged_choice_1_edu</th>\n",
       "      <th>edu_ten</th>\n",
       "      <td>1.0000</td>\n",
       "      <td>Probability that the first lagged choice is ed...</td>\n",
       "    </tr>\n",
       "    <tr>\n",
       "      <th>initial_exp_edu</th>\n",
       "      <th>10</th>\n",
       "      <td>1.0000</td>\n",
       "      <td>Probability that the initial level of educatio...</td>\n",
       "    </tr>\n",
       "    <tr>\n",
       "      <th>maximum_exp</th>\n",
       "      <th>edu</th>\n",
       "      <td>20.0000</td>\n",
       "      <td>Maximum level of experience for education (opt...</td>\n",
       "    </tr>\n",
       "  </tbody>\n",
       "</table>\n",
       "</div>"
      ],
      "text/plain": [
       "                                                  value  \\\n",
       "category            name                                  \n",
       "delta               delta                        0.9500   \n",
       "wage_a              constant                     9.2100   \n",
       "                    exp_edu                      0.0380   \n",
       "                    exp_a                        0.0330   \n",
       "                    exp_a_square                -0.0005   \n",
       "                    exp_b                        0.0000   \n",
       "                    exp_b_square                 0.0000   \n",
       "wage_b              constant                     8.4800   \n",
       "                    exp_edu                      0.0700   \n",
       "                    exp_b                        0.0670   \n",
       "                    exp_b_square                -0.0010   \n",
       "                    exp_a                        0.0220   \n",
       "                    exp_a_square                -0.0005   \n",
       "nonpec_edu          constant                     0.0000   \n",
       "                    at_least_twelve_exp_edu      0.0000   \n",
       "                    not_edu_last_period      -4000.0000   \n",
       "nonpec_home         constant                 17750.0000   \n",
       "shocks_sdcorr       sd_a                         0.2000   \n",
       "                    sd_b                         0.2500   \n",
       "                    sd_edu                    1500.0000   \n",
       "                    sd_home                   1500.0000   \n",
       "                    corr_b_a                     0.0000   \n",
       "                    corr_edu_a                   0.0000   \n",
       "                    corr_edu_b                   0.0000   \n",
       "                    corr_home_a                  0.0000   \n",
       "                    corr_home_b                  0.0000   \n",
       "                    corr_home_edu                0.0000   \n",
       "lagged_choice_1_edu edu_ten                      1.0000   \n",
       "initial_exp_edu     10                           1.0000   \n",
       "maximum_exp         edu                         20.0000   \n",
       "\n",
       "                                                                                       comment  \n",
       "category            name                                                                        \n",
       "delta               delta                                                      discount factor  \n",
       "wage_a              constant                                               log of rental price  \n",
       "                    exp_edu                          return to an additional year of schooling  \n",
       "                    exp_a                                     return to same sector experience  \n",
       "                    exp_a_square                   return to same sector, quadratic experience  \n",
       "                    exp_b                                    return to other sector experience  \n",
       "                    exp_b_square                  return to other sector, quadratic experience  \n",
       "wage_b              constant                                               log of rental price  \n",
       "                    exp_edu                          return to an additional year of schooling  \n",
       "                    exp_b                                     return to same sector experience  \n",
       "                    exp_b_square                   return to same sector, quadratic experience  \n",
       "                    exp_a                                    return to other sector experience  \n",
       "                    exp_a_square                  return to other sector, quadratic experience  \n",
       "nonpec_edu          constant                            constant reward for choosing education  \n",
       "                    at_least_twelve_exp_edu        reward for going to college (tuition, etc.)  \n",
       "                    not_edu_last_period                        reward for going back to school  \n",
       "nonpec_home         constant                         constant reward of non-market alternative  \n",
       "shocks_sdcorr       sd_a                     Element 1,1 of standard-deviation/correlation ...  \n",
       "                    sd_b                     Element 2,2 of standard-deviation/correlation ...  \n",
       "                    sd_edu                   Element 3,3 of standard-deviation/correlation ...  \n",
       "                    sd_home                  Element 4,4 of standard-deviation/correlation ...  \n",
       "                    corr_b_a                 Element 2,1 of standard-deviation/correlation ...  \n",
       "                    corr_edu_a               Element 3,1 of standard-deviation/correlation ...  \n",
       "                    corr_edu_b               Element 3,2 of standard-deviation/correlation ...  \n",
       "                    corr_home_a              Element 4,1 of standard-deviation/correlation ...  \n",
       "                    corr_home_b              Element 4,2 of standard-deviation/correlation ...  \n",
       "                    corr_home_edu            Element 4,3 of standard-deviation/correlation ...  \n",
       "lagged_choice_1_edu edu_ten                  Probability that the first lagged choice is ed...  \n",
       "initial_exp_edu     10                       Probability that the initial level of educatio...  \n",
       "maximum_exp         edu                      Maximum level of experience for education (opt...  "
      ]
     },
     "execution_count": 4,
     "metadata": {},
     "output_type": "execute_result"
    }
   ],
   "source": [
    "params"
   ]
  },
  {
   "cell_type": "markdown",
   "metadata": {},
   "source": [
    "## How to solve a model.\n",
    "\n",
    "The solution of the model is the value of each state within the model assuming optimal decision in this and future periods. In ``respy``, the solution is represented with the :class:`~respy.state_space.StateSpace`, a class including the model solution. The solution combines the following steps:\n",
    "\n",
    "- Building the state space.\n",
    "- Solving the model by finding optimal decision in each state via backward induction.\n",
    "\n",
    "The ``state_space`` is normally hidden from the user and only an internal construct. For a better understanding of how modeling works and for debugging, the state space is exposed to the user by :func:`~respy.solve.solve`."
   ]
  },
  {
   "cell_type": "code",
   "execution_count": 5,
   "metadata": {},
   "outputs": [],
   "source": [
    "state_space = rp.solve(params, options)"
   ]
  },
  {
   "cell_type": "markdown",
   "metadata": {},
   "source": [
    "## How to simulate a data set.\n",
    "\n",
    "The first step for simulating data is to build the simulation function. Then, pass the parameter vector to the function and retrieve a simulated data set."
   ]
  },
  {
   "cell_type": "code",
   "execution_count": 6,
   "metadata": {},
   "outputs": [],
   "source": [
    "simulate = rp.get_simulate_func(params, options)"
   ]
  },
  {
   "cell_type": "code",
   "execution_count": 7,
   "metadata": {},
   "outputs": [],
   "source": [
    "df = simulate(params)"
   ]
  },
  {
   "cell_type": "markdown",
   "metadata": {},
   "source": [
    "The step of building a simulate function may seem odd at first, but it has two advantages. First, this function can be easily used for estimation with simulated method of moments. An optimizer passes a new parameter vector to the function and receives data for matching moments. Second, while building the function, auxiliary components are created and attached to ``simulate()`` via :func:`functools.partial`. Thus, repetitive calls will be much faster. But, to simulate a different model where not only parameter values have changed, you need to build a new ``simulate()`` function.\n",
    "\n",
    "## How to estimate model parameters.\n",
    "\n",
    "To estimate model parameters via maximum likelihood, ``respy`` relies on [``estimagic``](https://github.com/OpenSourceEconomics/estimagic), an open-source tool to estimate structural models and more. First, we load the model again, because now we need the data. Actually, the data is the same as the previously simulated data."
   ]
  },
  {
   "cell_type": "code",
   "execution_count": 8,
   "metadata": {},
   "outputs": [],
   "source": [
    "params, options, df = rp.get_example_model(\"kw_94_one\")"
   ]
  },
  {
   "cell_type": "markdown",
   "metadata": {},
   "source": [
    "Second, we need the criterion function of the model which returns the likelihood value of the data given the model."
   ]
  },
  {
   "cell_type": "code",
   "execution_count": 9,
   "metadata": {},
   "outputs": [],
   "source": [
    "crit_func = rp.get_crit_func(params, options, df)"
   ]
  },
  {
   "cell_type": "markdown",
   "metadata": {},
   "source": [
    "The criterion function takes the parameters as an input and returns the likelihood value. Depending on your computer the evaluation of the likelihood takes 1-3 seconds. In the optimization process, this routine is repeated over and over again for some thousand different parameter vectors."
   ]
  },
  {
   "cell_type": "code",
   "execution_count": 10,
   "metadata": {},
   "outputs": [
    {
     "name": "stdout",
     "output_type": "stream",
     "text": [
      "Wall time: 1.89 s\n"
     ]
    },
    {
     "data": {
      "text/plain": [
       "-381.5728797655344"
      ]
     },
     "execution_count": 10,
     "metadata": {},
     "output_type": "execute_result"
    }
   ],
   "source": [
    "%time crit_val = crit_func(params)\n",
    "crit_val"
   ]
  },
  {
   "cell_type": "markdown",
   "metadata": {},
   "source": [
    "To estimate the model parameters, import the :func:`~estimagic.optimization.optimize.minimize` from ``estimagic``."
   ]
  },
  {
   "cell_type": "code",
   "execution_count": 11,
   "metadata": {},
   "outputs": [],
   "source": [
    "import numpy as np\n",
    "from estimagic.optimization.optimize import maximize"
   ]
  },
  {
   "cell_type": "markdown",
   "metadata": {},
   "source": [
    "For ``estimagic``, we need to pass constraints on the parameters in a list containing dictionaries. Each dictionary is a constraint. A constraint includes two components: First, we need to tell ``estimagic`` which parameters we want to constrain. This is achieved by specifying an index location which will be passed to `df.loc` or `df.query`. Then, define the type of the constraint. First, we impose the constraint that the shock parameters have to be valid variances and correlations. The last three contraints ensures that all individuals start with ten years of schooling, being in school the last period and that they can only ten additional years in school."
   ]
  },
  {
   "cell_type": "code",
   "execution_count": 12,
   "metadata": {},
   "outputs": [
    {
     "data": {
      "text/plain": [
       "[{'loc': 'shocks_sdcorr', 'type': 'sdcorr'},\n",
       " {'loc': 'lagged_choice_1_edu', 'type': 'fixed'},\n",
       " {'loc': 'initial_exp_edu', 'type': 'fixed'},\n",
       " {'loc': 'maximum_exp', 'type': 'fixed'}]"
      ]
     },
     "execution_count": 12,
     "metadata": {},
     "output_type": "execute_result"
    }
   ],
   "source": [
    "constr = rp.get_parameter_constraints(\"kw_94_one\")\n",
    "constr"
   ]
  },
  {
   "cell_type": "markdown",
   "metadata": {},
   "source": [
    "Optionally, we can add a column ``\"group\"`` which is identical to the category column. The estimagic dashboard will then contain one parameter convergence plot per group instead of plotting all parameters in the same figure. Since respy has quite many parameters, this will make the plots much more readable."
   ]
  },
  {
   "cell_type": "code",
   "execution_count": 13,
   "metadata": {},
   "outputs": [],
   "source": [
    "params[\"group\"] = params.index.get_level_values('category')"
   ]
  },
  {
   "cell_type": "code",
   "execution_count": 14,
   "metadata": {},
   "outputs": [
    {
     "name": "stderr",
     "output_type": "stream",
     "text": [
      "C:\\Users\\tobia\\git\\respy\\respy\\state_space.py:555: RuntimeWarning: overflow encountered in exp\n",
      "  wages = np.clip(np.exp(log_wages), 0.0, HUGE_FLOAT)\n",
      "C:\\Users\\tobia\\git\\respy\\respy\\likelihood.py:296: RuntimeWarning: divide by zero encountered in simulate_log_probability_of_individuals_observed_choice\n",
      "  options[\"estimation_tau\"],\n"
     ]
    }
   ],
   "source": [
    "results, params = maximize(\n",
    "    crit_func,\n",
    "    params,\n",
    "    \"scipy_L-BFGS-B\",\n",
    "    db_options={\"rollover\": 200},\n",
    "    algo_options={\"maxfun\": 1},\n",
    "    constraints=constr,\n",
    "    dashboard=True\n",
    ")"
   ]
  },
  {
   "cell_type": "markdown",
   "metadata": {},
   "source": [
    "You do not have to worry about warnings. During the estimation, the optimizer might try parameters which are to extreme and lead to infinite values or NaNs.\n",
    "\n",
    "The estimation runs for approximately 90 evaluations and then stops because of ``\"maxfun\"``.\n",
    "\n",
    "Look at the results by choosing the parameter vector or detailed information in the ``results`` dictionary."
   ]
  },
  {
   "cell_type": "markdown",
   "metadata": {},
   "source": [
    "## References\n",
    "\n",
    "> Keane, M. P. and  Wolpin, K. I. (1994). [The Solution and Estimation of Discrete Choice Dynamic Programming Models by Simulation and Interpolation: Monte Carlo Evidence](https://doi.org/10.2307/2109768). *The Review of Economics and Statistics*, 76(4): 648-672."
   ]
  }
 ],
 "metadata": {
  "kernelspec": {
   "display_name": "Python 3",
   "language": "python",
   "name": "python3"
  },
  "language_info": {
   "codemirror_mode": {
    "name": "ipython",
    "version": 3
   },
   "file_extension": ".py",
   "mimetype": "text/x-python",
   "name": "python",
   "nbconvert_exporter": "python",
   "pygments_lexer": "ipython3",
   "version": "3.7.3"
  }
 },
 "nbformat": 4,
 "nbformat_minor": 4
}
