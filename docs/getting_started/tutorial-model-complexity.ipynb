{
 "cells": [
  {
   "cell_type": "markdown",
   "metadata": {},
   "source": [
    "# Tutorial - Model Complexity and Size of the State Space\n",
    "\n",
    "The main reason why structural models become computationally infeasible is because the number of states in the model exceeds the limits of what can be handled by your computer. One bottleneck is the available working memory which might also be depleted because the model contains a lot of covariates. The other bottleneck is computing power. Although, the decision rules of the model can be computed, it might take too much time to be applied in a research project.\n",
    "\n",
    "In this tutorial, we explore several models and study the impact of modelling features on the complexity of the model. We also introduce a key distiction between dimensions of the state space, the core and dense state space, which can be exploited to solve larger models.\n",
    "\n",
    "## State Space\n",
    "\n",
    "The state space is at the heart of a structural model. Its dimensions cover all elementary information necessary to compute covariates, utilities and other components.\n",
    "\n",
    "## Experiences\n",
    "\n",
    "At the heart of occupational choice models "
   ]
  },
  {
   "cell_type": "code",
   "execution_count": 2,
   "metadata": {},
   "outputs": [],
   "source": [
    "import respy as rp"
   ]
  },
  {
   "cell_type": "markdown",
   "metadata": {},
   "source": [
    "## Lagged Choices"
   ]
  },
  {
   "cell_type": "markdown",
   "metadata": {},
   "source": [
    "## Observables and Types"
   ]
  },
  {
   "cell_type": "code",
   "execution_count": null,
   "metadata": {},
   "outputs": [],
   "source": []
  }
 ],
 "metadata": {
  "kernelspec": {
   "display_name": "Python 3",
   "language": "python",
   "name": "python3"
  },
  "language_info": {
   "codemirror_mode": {
    "name": "ipython",
    "version": 3
   },
   "file_extension": ".py",
   "mimetype": "text/x-python",
   "name": "python",
   "nbconvert_exporter": "python",
   "pygments_lexer": "ipython3",
   "version": "3.7.3"
  }
 },
 "nbformat": 4,
 "nbformat_minor": 4
}
