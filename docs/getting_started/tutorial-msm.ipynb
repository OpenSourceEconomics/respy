{
 "cells": [
  {
   "cell_type": "markdown",
   "metadata": {},
   "source": [
    "**Mehod of Simulated Moments**\n",
    "\n",
    "This tutorial walks you through the setup of method of simulated moment estimation in respy. \n",
    "Respy requires you to provide two addditional object next to the model specification. \n",
    "One is a pandas Series containing all empirical moments and one is a function that calculates simulated moments\n",
    "from the simulated Data. \n",
    "Additionally one can supply an own weighting matrix, the default choice is the identity. \n",
    "One can also request respy to return the result in vector form which might be requred by some derivative free optimization algorithms. "
   ]
  },
  {
   "cell_type": "code",
   "execution_count": 4,
   "metadata": {},
   "outputs": [
    {
     "ename": "ModuleNotFoundError",
     "evalue": "No module named 'respy'",
     "output_type": "error",
     "traceback": [
      "\u001b[0;31m---------------------------------------------------------------------------\u001b[0m",
      "\u001b[0;31mModuleNotFoundError\u001b[0m                       Traceback (most recent call last)",
      "\u001b[0;32m<ipython-input-4-56ba56629975>\u001b[0m in \u001b[0;36m<module>\u001b[0;34m\u001b[0m\n\u001b[1;32m      1\u001b[0m \u001b[0;31m#Import relevant packages\u001b[0m\u001b[0;34m\u001b[0m\u001b[0;34m\u001b[0m\u001b[0;34m\u001b[0m\u001b[0m\n\u001b[0;32m----> 2\u001b[0;31m \u001b[0;32mimport\u001b[0m \u001b[0mrespy\u001b[0m \u001b[0;32mas\u001b[0m \u001b[0mrp\u001b[0m\u001b[0;34m\u001b[0m\u001b[0;34m\u001b[0m\u001b[0m\n\u001b[0m\u001b[1;32m      3\u001b[0m \u001b[0;32mimport\u001b[0m \u001b[0mnumpy\u001b[0m \u001b[0;32mas\u001b[0m \u001b[0mnp\u001b[0m\u001b[0;34m\u001b[0m\u001b[0;34m\u001b[0m\u001b[0m\n\u001b[1;32m      4\u001b[0m \u001b[0;34m\u001b[0m\u001b[0m\n\u001b[1;32m      5\u001b[0m \u001b[0;32mfrom\u001b[0m \u001b[0mrespy\u001b[0m\u001b[0;34m.\u001b[0m\u001b[0mpre_processing\u001b[0m\u001b[0;34m.\u001b[0m\u001b[0mmodel_processing\u001b[0m \u001b[0;32mimport\u001b[0m \u001b[0mprocess_params_and_options\u001b[0m\u001b[0;34m\u001b[0m\u001b[0;34m\u001b[0m\u001b[0m\n",
      "\u001b[0;31mModuleNotFoundError\u001b[0m: No module named 'respy'"
     ]
    }
   ],
   "source": [
    "#Import relevant packages \n",
    "import respy as rp\n",
    "import numpy as np\n",
    "\n",
    "from respy.pre_processing.model_processing import process_params_and_options\n",
    "from respy.tests.random_model import get_mock_moment_func\n",
    "from respy.method_of_simulated_moments import get_msm_func"
   ]
  },
  {
   "cell_type": "markdown",
   "metadata": {},
   "source": [
    "**Moment Function**\n",
    "\n",
    "In the first step we create a moment function. \n",
    "For  the example we only target choice probabilities and\n",
    "no other moments.\n",
    "Therefore we build a function that extracts the proportion of people taking each decision \n",
    "in each period from a simulated dataset. \n",
    "The results are put into an indexed pandas Series. "
   ]
  },
  {
   "cell_type": "code",
   "execution_count": 5,
   "metadata": {},
   "outputs": [],
   "source": [
    "def get_moment_func(df, optim_paras):\n",
    "    \"\"\"\n",
    "    Args: \n",
    "        df: pd.DataFrame containing simulated outcomes.\n",
    "        optim_paras: dict containing relevant information \n",
    "                     about the model specifcation. \n",
    "    Returns: \n",
    "        out: function mapping simulated data into moments\n",
    "    \"\"\"\n",
    "    periods, choices, container_idx = _create_index_mock(df, optim_paras)\n",
    "    out = partial(_get_moments,\n",
    "                  container_idx=container_idx,\n",
    "                  periods=periods,\n",
    "                  choices=choices)\n",
    "    return out\n",
    "\n",
    "def _get_moments(df, container_idx, periods, choices):\n",
    "    \"\"\"\n",
    "    Args: \n",
    "        df: pd.DataFrame containing simulated outcomes.\n",
    "        container_idx: List of indices for the resulting pd.Series\n",
    "        periods: List of periods\n",
    "        choices: List of admissible choices\n",
    "    Returns: \n",
    "        moments: pd.Series containing all moments\n",
    "    \"\"\"\n",
    "    #Create container for moments with given index\n",
    "    moments = pd.Series(index=container_idx)\n",
    "    \n",
    "    #Set up the input dataframe in a convneinet way\n",
    "    df_indexed = df.set_index([\"Identifier\", \"Period\"], drop=True)\n",
    "    \n",
    "    #We want moments every period thus we group by period \n",
    "    df_grouped_period = df_indexed.groupby([\"Period\"])\n",
    "    \n",
    "    #We want the proportion of people taking each decision in each period\n",
    "    #Thus we also group by choice and apply a summary statistic\n",
    "    info_period = df_grouped_period[\"Choice\"].value_counts(normalize=True).to_dict()\n",
    "    \n",
    "    #We replace missing probabilities with zeros\n",
    "    info_period = defaultdict(lambda: 0.00, info_period)\n",
    "\n",
    "    #We put the results in the container we created before \n",
    "    for period in periods:\n",
    "        for choice in choices:\n",
    "            name = (period, choice)\n",
    "            moments.loc[name] = info_period[name]\n",
    "    return moments\n",
    "\n",
    "def _create_index_mock(df, optim_paras):\n",
    "    \"\"\"\n",
    "    Args: \n",
    "        df: pd.DataFrame containing simulated outcomes.\n",
    "        optim_paras: dict containing relevant information \n",
    "                     about the model specifcation. \n",
    "    Returns: \n",
    "        periods: List of periods\n",
    "        choices: List of admissible choices\n",
    "        container_idx:List of indeices for the resulting pd.Series containing the moments\n",
    "    \"\"\"\n",
    "    periods = sorted(df[\"Period\"].unique())\n",
    "    choices = sorted(list(optim_paras[\"choices\"].keys()))\n",
    "    \n",
    "    #In this example we only target choice probabilities thus the index \n",
    "    #consists of all combinations of periods and choices \n",
    "    container_idx = list(itertools.product(periods, choices))\n",
    "    return periods, choices, container_idx"
   ]
  },
  {
   "cell_type": "markdown",
   "metadata": {},
   "source": [
    "**Create Criterion**\n",
    "\n",
    "Now we have all the ingredients to create a first simple criterion function:"
   ]
  },
  {
   "cell_type": "code",
   "execution_count": 6,
   "metadata": {},
   "outputs": [
    {
     "ename": "NameError",
     "evalue": "name 'rp' is not defined",
     "output_type": "error",
     "traceback": [
      "\u001b[0;31m---------------------------------------------------------------------------\u001b[0m",
      "\u001b[0;31mNameError\u001b[0m                                 Traceback (most recent call last)",
      "\u001b[0;32m<ipython-input-6-89a54ca95ec6>\u001b[0m in \u001b[0;36m<module>\u001b[0;34m\u001b[0m\n\u001b[1;32m      1\u001b[0m \u001b[0;31m#Get example model specification\u001b[0m\u001b[0;34m\u001b[0m\u001b[0;34m\u001b[0m\u001b[0;34m\u001b[0m\u001b[0m\n\u001b[0;32m----> 2\u001b[0;31m \u001b[0mparams\u001b[0m\u001b[0;34m,\u001b[0m \u001b[0moptions\u001b[0m\u001b[0;34m,\u001b[0m\u001b[0m_\u001b[0m \u001b[0;34m=\u001b[0m \u001b[0mrp\u001b[0m\u001b[0;34m.\u001b[0m\u001b[0mget_example_model\u001b[0m\u001b[0;34m(\u001b[0m\u001b[0;34m\"kw_94_one\"\u001b[0m\u001b[0;34m)\u001b[0m\u001b[0;34m\u001b[0m\u001b[0;34m\u001b[0m\u001b[0m\n\u001b[0m\u001b[1;32m      3\u001b[0m \u001b[0;34m\u001b[0m\u001b[0m\n\u001b[1;32m      4\u001b[0m \u001b[0;31m#Build simulation function\u001b[0m\u001b[0;34m\u001b[0m\u001b[0;34m\u001b[0m\u001b[0;34m\u001b[0m\u001b[0m\n\u001b[1;32m      5\u001b[0m \u001b[0msimulate\u001b[0m \u001b[0;34m=\u001b[0m \u001b[0mrp\u001b[0m\u001b[0;34m.\u001b[0m\u001b[0mget_simulate_func\u001b[0m\u001b[0;34m(\u001b[0m\u001b[0mparams\u001b[0m\u001b[0;34m,\u001b[0m \u001b[0moptions\u001b[0m\u001b[0;34m)\u001b[0m\u001b[0;34m\u001b[0m\u001b[0;34m\u001b[0m\u001b[0m\n",
      "\u001b[0;31mNameError\u001b[0m: name 'rp' is not defined"
     ]
    }
   ],
   "source": [
    "#Get example model specification    \n",
    "params, options,_ = rp.get_example_model(\"kw_94_one\")\n",
    "\n",
    "#Build simulation function \n",
    "simulate = rp.get_simulate_func(params, options)\n",
    "\n",
    "#Simulate a model \n",
    "df = simulate(params)\n",
    "\n",
    "#Get auxiliary object for the creation of the moments \n",
    "optim_paras, _ = process_params_and_options(params, options)\n",
    "\n",
    "    "
   ]
  },
  {
   "cell_type": "code",
   "execution_count": 7,
   "metadata": {},
   "outputs": [
    {
     "ename": "NameError",
     "evalue": "name 'get_mock_moment_func' is not defined",
     "output_type": "error",
     "traceback": [
      "\u001b[0;31m---------------------------------------------------------------------------\u001b[0m",
      "\u001b[0;31mNameError\u001b[0m                                 Traceback (most recent call last)",
      "\u001b[0;32m<ipython-input-7-0139e76480c0>\u001b[0m in \u001b[0;36m<module>\u001b[0;34m\u001b[0m\n\u001b[1;32m      1\u001b[0m \u001b[0;31m#Build the function that maps a simulated model into moments\u001b[0m\u001b[0;34m\u001b[0m\u001b[0;34m\u001b[0m\u001b[0;34m\u001b[0m\u001b[0m\n\u001b[0;32m----> 2\u001b[0;31m \u001b[0mget_moments\u001b[0m \u001b[0;34m=\u001b[0m \u001b[0mget_mock_moment_func\u001b[0m\u001b[0;34m(\u001b[0m\u001b[0mdf\u001b[0m\u001b[0;34m,\u001b[0m \u001b[0moptim_paras\u001b[0m\u001b[0;34m)\u001b[0m\u001b[0;34m\u001b[0m\u001b[0;34m\u001b[0m\u001b[0m\n\u001b[0m\u001b[1;32m      3\u001b[0m \u001b[0;34m\u001b[0m\u001b[0m\n\u001b[1;32m      4\u001b[0m \u001b[0;31m#Map a simulated dataset into corresponding moments\u001b[0m\u001b[0;34m\u001b[0m\u001b[0;34m\u001b[0m\u001b[0;34m\u001b[0m\u001b[0m\n\u001b[1;32m      5\u001b[0m \u001b[0mmoments_base\u001b[0m \u001b[0;34m=\u001b[0m \u001b[0mget_moments\u001b[0m\u001b[0;34m(\u001b[0m\u001b[0mdf\u001b[0m\u001b[0;34m)\u001b[0m\u001b[0;34m\u001b[0m\u001b[0;34m\u001b[0m\u001b[0m\n",
      "\u001b[0;31mNameError\u001b[0m: name 'get_mock_moment_func' is not defined"
     ]
    }
   ],
   "source": [
    "#Build the function that maps a simulated model into moments \n",
    "get_moments = get_mock_moment_func(df, optim_paras)\n",
    "\n",
    "#Map a simulated dataset into corresponding moments \n",
    "moments_base = get_moments(df)\n",
    "\n",
    "#Build the MSM criterion function. This function maps a model specification into\n",
    "#the weighted sum of squared deviations of the simulated data from the empirical moemnts. \n",
    "msm = get_msm_func(params, options, moments_base, get_moments)\n",
    "\n",
    "#Evaluate the function at the \"true\" paramter \n",
    "rslt = msm(params)\n",
    "\n",
    "#We ecpect the result to be 0 \n",
    "assert rslt == 0"
   ]
  },
  {
   "cell_type": "markdown",
   "metadata": {},
   "source": [
    "**Weighting Matrix**\n",
    "\n",
    "The example we just used does not specify a weighting matrix. \n",
    "In such a case the identity is used as default. In the situation at hand this \n",
    "is most likely not a huge problem since all moments are of the same order of magnitude. \n",
    "If we however target a range of different moments it could very well be that moments have different orders of magnitude \n",
    "which make the identity basically useless as weighting matrix. \n",
    "Respy expects a pandas Dataframe with both columns and index equivalent to the index of the moments object.\n",
    "The following function illustrates how to construct such a matrix. \n",
    "It constructs the inverse Variance matrix that is most commonly used for our example. \n"
   ]
  },
  {
   "cell_type": "code",
   "execution_count": 8,
   "metadata": {},
   "outputs": [],
   "source": [
    "def get_weighting_matrix_func(df, num_boots, num_agents_smm, optim_paras):\n",
    "    get_moments =  get_moment_func(df, optim_paras)\n",
    "    out = partial(_get_weighing_matrix,\n",
    "        num_boots=num_boots,\n",
    "        num_agents_smm=num_agents_smm,\n",
    "        get_moments=get_moments\n",
    "    )\n",
    "    return out\n",
    "\n",
    "\n",
    "def _get_weighing_matrix(df, num_boots, num_agents_smm, get_moments, is_store=False):\n",
    "    \"\"\"This function constructs the weighing matrix.\"\"\"\n",
    "    # Ensure reproducibility\n",
    "    np.random.seed(123)\n",
    "\n",
    "    # Distribute clear baseline information.\n",
    "    container_idx = get_moments(df).index\n",
    "    df = df.set_index(\"Identifier\")\n",
    "    index_base = df.index.get_level_values('Identifier').unique()\n",
    "\n",
    "    # Initialize counters to keep track of attempts.\n",
    "    moments_sample = []\n",
    "\n",
    "    for _ in range(num_boots):\n",
    "        sample_ids = np.random.choice(index_base, num_agents_smm, replace=False)\n",
    "        moments_boot = get_moments(df.loc[sample_ids].reset_index())\n",
    "        moments_sample.append(moments_boot)\n",
    "\n",
    "\n",
    "    # Construct the weighing matrix based on the sampled moments.\n",
    "    stats = pd.concat(moments_sample, axis = 1)\n",
    "\n",
    "    moments_var = stats.to_numpy().T.var(axis=0)\n",
    "\n",
    "    is_zero = moments_var <= 1e-10\n",
    "\n",
    "    #Set the variance to the one of a univ random variable. The no variance condition should only\n",
    "    #appear for such moments\n",
    "    moments_var[is_zero] = 0.1\n",
    "\n",
    "    if np.all(is_zero):\n",
    "        raise NotImplementedError('... all variances are zero')\n",
    "    if np.any(is_zero):\n",
    "        print('... some variances are zero')\n",
    "\n",
    "    weighting_matrix = np.diag(moments_var ** (-1))\n",
    "    #Build a container for weighting matrix\n",
    "    weighting_matrix = pd.DataFrame(weighting_matrix, columns=container_idx, index=container_idx)\n",
    "\n",
    "    return weighting_matrix\n"
   ]
  },
  {
   "cell_type": "code",
   "execution_count": 9,
   "metadata": {},
   "outputs": [
    {
     "ename": "NameError",
     "evalue": "name 'df' is not defined",
     "output_type": "error",
     "traceback": [
      "\u001b[0;31m---------------------------------------------------------------------------\u001b[0m",
      "\u001b[0;31mNameError\u001b[0m                                 Traceback (most recent call last)",
      "\u001b[0;32m<ipython-input-9-4dace15aaead>\u001b[0m in \u001b[0;36m<module>\u001b[0;34m\u001b[0m\n\u001b[1;32m      4\u001b[0m \u001b[0;34m\u001b[0m\u001b[0m\n\u001b[1;32m      5\u001b[0m \u001b[0;31m#Build the function\u001b[0m\u001b[0;34m\u001b[0m\u001b[0;34m\u001b[0m\u001b[0;34m\u001b[0m\u001b[0m\n\u001b[0;32m----> 6\u001b[0;31m \u001b[0mget_weighting_matrix\u001b[0m \u001b[0;34m=\u001b[0m \u001b[0mget_weighting_matrix_func\u001b[0m\u001b[0;34m(\u001b[0m\u001b[0mdf\u001b[0m\u001b[0;34m,\u001b[0m \u001b[0mnum_boots\u001b[0m\u001b[0;34m,\u001b[0m \u001b[0mnum_agents_smm\u001b[0m\u001b[0;34m,\u001b[0m \u001b[0moptim_paras\u001b[0m\u001b[0;34m)\u001b[0m\u001b[0;34m\u001b[0m\u001b[0;34m\u001b[0m\u001b[0m\n\u001b[0m\u001b[1;32m      7\u001b[0m \u001b[0;34m\u001b[0m\u001b[0m\n\u001b[1;32m      8\u001b[0m \u001b[0;31m#Create the weighting matrix\u001b[0m\u001b[0;34m\u001b[0m\u001b[0;34m\u001b[0m\u001b[0;34m\u001b[0m\u001b[0m\n",
      "\u001b[0;31mNameError\u001b[0m: name 'df' is not defined"
     ]
    }
   ],
   "source": [
    "#Specify required params\n",
    "num_boots = 10 \n",
    "num_agents_smm = 1000\n",
    "\n",
    "#Build the function\n",
    "get_weighting_matrix = get_weighting_matrix_func(df, num_boots, num_agents_smm, optim_paras)\n",
    "\n",
    "#Create the weighting matrix \n",
    "weighting_matrix = get_weighting_matrix(df)\n",
    "\n",
    "#DIsplay \n",
    "print(weighting_matrix)"
   ]
  },
  {
   "cell_type": "code",
   "execution_count": null,
   "metadata": {},
   "outputs": [],
   "source": []
  }
 ],
 "metadata": {
  "kernelspec": {
   "display_name": "Python 3",
   "language": "python",
   "name": "python3"
  },
  "language_info": {
   "codemirror_mode": {
    "name": "ipython",
    "version": 3
   },
   "file_extension": ".py",
   "mimetype": "text/x-python",
   "name": "python",
   "nbconvert_exporter": "python",
   "pygments_lexer": "ipython3",
   "version": "3.7.3"
  }
 },
 "nbformat": 4,
 "nbformat_minor": 4
}
