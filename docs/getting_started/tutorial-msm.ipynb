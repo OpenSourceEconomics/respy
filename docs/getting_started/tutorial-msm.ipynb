{
 "cells": [
  {
   "cell_type": "markdown",
   "metadata": {},
   "source": [
    "# Method of Simulated Moments (MSM)"
   ]
  },
  {
   "cell_type": "code",
   "execution_count": 1,
   "metadata": {
    "ExecuteTime": {
     "end_time": "2020-01-13T07:22:11.977417Z",
     "start_time": "2020-01-13T07:22:08.271032Z"
    },
    "pycharm": {
     "is_executing": false
    }
   },
   "outputs": [],
   "source": [
    "import pandas as pd \n",
    "import respy as rp\n",
    "\n",
    "from method_of_simulated_moments import get_msm_func\n",
    "from method_of_simulated_moments import get_diag_weighting_matrix\n",
    "from method_of_simulated_moments import get_flat_moments"
   ]
  },
  {
   "cell_type": "markdown",
   "metadata": {},
   "source": [
    "This notebook contains a step by step tutorial to simulated method of moments estimation using respy."
   ]
  },
  {
   "cell_type": "markdown",
   "metadata": {},
   "source": [
    "Respy can construct a msm function using `get_msm_func`. The function requires the following arguments:\n",
    "\n",
    "* params (pandas.DataFrame)\n",
    "* options (dict)\n",
    "* calc_moments (callable, list, dict)\n",
    "* replace_nans (callable, list, dict)\n",
    "* empirical_moments (pandas.DataFrame, pandas.Series, list, dict)\n",
    "* weighting_matrix (numpy.ndarray)\n",
    "* return_scalar (bool)\n",
    "\n",
    "`get_msm_func` returns a function where all arguments except *params* are held fixed. The returned function can then easily be passed on to an optimizer for estimation."
   ]
  },
  {
   "cell_type": "markdown",
   "metadata": {},
   "source": [
    "## Introductory Example\n",
    "\n",
    "The following section discusses all the arguments in detail using an example model."
   ]
  },
  {
   "cell_type": "markdown",
   "metadata": {},
   "source": [
    "### Arguments"
   ]
  },
  {
   "cell_type": "markdown",
   "metadata": {
    "ExecuteTime": {
     "end_time": "2019-12-30T12:13:40.138047Z",
     "start_time": "2019-12-30T12:13:40.132338Z"
    }
   },
   "source": [
    "#### The *params* and *options* Arguments\n",
    "\n",
    "The first step to msm estimation is the simulation of data using a specified model. Respy simulates data using a vector of parameters *params*, which will be the variable of interest for estimation, and a set of *options* that help define the underlying model.\n",
    "\n",
    "Respy provides a number of example models. For this tutorial we will be using the parameterization from Keane and Wolpin (1994)."
   ]
  },
  {
   "cell_type": "code",
   "execution_count": null,
   "metadata": {
    "ExecuteTime": {
     "start_time": "2020-01-13T07:22:08.275Z"
    },
    "pycharm": {
     "is_executing": false
    }
   },
   "outputs": [],
   "source": [
    "params, options, df_emp = rp.get_example_model(\"kw_94_one\")"
   ]
  },
  {
   "cell_type": "code",
   "execution_count": null,
   "metadata": {
    "ExecuteTime": {
     "start_time": "2020-01-13T07:22:08.281Z"
    },
    "pycharm": {
     "is_executing": false
    }
   },
   "outputs": [],
   "source": [
    "params"
   ]
  },
  {
   "cell_type": "code",
   "execution_count": null,
   "metadata": {
    "ExecuteTime": {
     "start_time": "2020-01-13T07:22:08.285Z"
    },
    "pycharm": {
     "is_executing": false
    }
   },
   "outputs": [],
   "source": [
    "options"
   ]
  },
  {
   "cell_type": "markdown",
   "metadata": {},
   "source": [
    "#### The *calc_moments* Argument\n",
    "\n",
    "The *calc_moments* argument is the function that will be used to calculate moments from the simulated data. It can also be specified as a list or dictionary of multiple functions if different sets of moments should be calculated from different functions.\n",
    "\n",
    "In this case, we will calculate two sets of moments: choice frequencies and parameters that characterize the wage distribution. The moments are saved to a pandas.DataFrame with time periods as the index and the moments as columns."
   ]
  },
  {
   "cell_type": "code",
   "execution_count": null,
   "metadata": {
    "ExecuteTime": {
     "start_time": "2020-01-13T07:22:08.289Z"
    },
    "pycharm": {
     "is_executing": false
    }
   },
   "outputs": [],
   "source": [
    "def calc_moments(df):\n",
    "    choices = df.groupby(\"Period\").Choice.value_counts(normalize=True).unstack()\n",
    "    wages = df.groupby(['Period'])['Wage'].describe()[['mean', 'std']]\n",
    "    \n",
    "    return pd.concat([choices, wages], axis=1)"
   ]
  },
  {
   "cell_type": "markdown",
   "metadata": {},
   "source": [
    "####  The *replace_nans* Argument\n",
    "\n",
    "Next we define *replace_nans* is a function or list of functions that define how to handle missings in the data. "
   ]
  },
  {
   "cell_type": "code",
   "execution_count": null,
   "metadata": {
    "ExecuteTime": {
     "start_time": "2020-01-13T07:22:08.294Z"
    },
    "pycharm": {
     "is_executing": false
    }
   },
   "outputs": [],
   "source": [
    "def fill_nans_zero(df):\n",
    "    return df.fillna(0)"
   ]
  },
  {
   "cell_type": "markdown",
   "metadata": {
    "ExecuteTime": {
     "end_time": "2019-12-30T12:41:52.010937Z",
     "start_time": "2019-12-30T12:41:52.007437Z"
    }
   },
   "source": [
    "#### The *empirical_moments* Argument\n",
    "\n",
    "The empirical moments are the moments that are calculated from the observed data which the simulated moments should be matched to. The *empirical_moments* argument requires a pandas.DataFrame or pandas.Series as inputs. Alternatively, users can input lists or dictionaries containing DataFrames or Series as items. It is necessary that *calc_moments*, *replace_nans* and *empirical_moments* correspond to each other i.e. *calc_moments* should output moments that are of the same structure as *empirical_moments*.\n",
    "\n",
    "For this example we calculate the empirical moments the same way that we calculate the simulated moments, so we can be sure that this condition is fulfilled. "
   ]
  },
  {
   "cell_type": "code",
   "execution_count": null,
   "metadata": {
    "ExecuteTime": {
     "start_time": "2020-01-13T07:22:08.299Z"
    },
    "pycharm": {
     "is_executing": false
    }
   },
   "outputs": [],
   "source": [
    "empirical_moments = calc_moments(df_emp)\n",
    "empirical_moments = fill_nans_zero(empirical_moments)"
   ]
  },
  {
   "cell_type": "code",
   "execution_count": null,
   "metadata": {
    "ExecuteTime": {
     "start_time": "2020-01-13T07:22:08.304Z"
    },
    "pycharm": {
     "is_executing": false
    },
    "scrolled": true
   },
   "outputs": [],
   "source": [
    "empirical_moments.head()"
   ]
  },
  {
   "cell_type": "markdown",
   "metadata": {
    "ExecuteTime": {
     "end_time": "2019-12-30T12:13:28.165952Z",
     "start_time": "2019-12-30T12:13:28.163127Z"
    }
   },
   "source": [
    "#### The *weighting_matrix* Argument\n",
    "\n",
    "For the msm estimation, the user has to define a weighting matrix. `get_diag_weighting_matrix` allows users to  create a diagonal weighting matrix that will match the moment vectors used for estimation. The required inputs are *empirical_moments* that are also used in `get_msm_func` and a set of weights that are of the same form as *empirical_moments*. If no weights are specified, the function will return the identity matrix. "
   ]
  },
  {
   "cell_type": "code",
   "execution_count": null,
   "metadata": {
    "ExecuteTime": {
     "start_time": "2020-01-13T07:22:08.308Z"
    },
    "pycharm": {
     "is_executing": false
    }
   },
   "outputs": [],
   "source": [
    "weighting_matrix = get_diag_weighting_matrix(empirical_moments)"
   ]
  },
  {
   "cell_type": "code",
   "execution_count": null,
   "metadata": {
    "ExecuteTime": {
     "start_time": "2020-01-13T07:22:08.315Z"
    },
    "pycharm": {
     "is_executing": false
    }
   },
   "outputs": [],
   "source": [
    "pd.DataFrame(weighting_matrix)"
   ]
  },
  {
   "cell_type": "markdown",
   "metadata": {},
   "source": [
    "If the user prefers to compute a weighting matrix manually, the respy function `get_flat_moments` may be of use. This function returns the empirical moments as an indexed pandas.Series which is the form they will be passed on to the loss function as. "
   ]
  },
  {
   "cell_type": "code",
   "execution_count": null,
   "metadata": {
    "ExecuteTime": {
     "start_time": "2020-01-13T07:22:08.319Z"
    }
   },
   "outputs": [],
   "source": [
    "flat_empirical_moments = get_flat_moments(empirical_moments)\n",
    "flat_empirical_moments"
   ]
  },
  {
   "cell_type": "markdown",
   "metadata": {},
   "source": [
    "#### The *return_scalar* Argument\n",
    "\n",
    "The *return_scalar* argument allows us to return the moment errors in vector form. `get_msm_func` will return the moment error vector if *return_scalar* is set to **False** and will return the value of the weighted square product of the moment errors if *return_scalar* is set to **True**. "
   ]
  },
  {
   "cell_type": "markdown",
   "metadata": {},
   "source": [
    "### MSM Function\n",
    "We can now compute the msm function. The function is constructed using `get_msm_func`. Adding all arguments to `get_msm_func` will return a function that holds all elements but the *params* argument fixed and can thus easily be passed on to an optimizer. The function will return a value of 0 if we use the true parameter vector as input."
   ]
  },
  {
   "cell_type": "code",
   "execution_count": null,
   "metadata": {
    "ExecuteTime": {
     "start_time": "2020-01-13T07:22:08.324Z"
    },
    "pycharm": {
     "is_executing": false
    }
   },
   "outputs": [],
   "source": [
    "msm = get_msm_func(params=params, \n",
    "                   options=options, \n",
    "                   calc_moments=calc_moments, \n",
    "                   replace_nans = fill_nans_zero,\n",
    "                   empirical_moments=empirical_moments, \n",
    "                   weighting_matrix = weighting_matrix, \n",
    "                   return_scalar=True\n",
    "                   )\n",
    "\n",
    "msm(params)"
   ]
  },
  {
   "cell_type": "markdown",
   "metadata": {},
   "source": [
    "Using a different parameter vector will result in a value different from 0."
   ]
  },
  {
   "cell_type": "code",
   "execution_count": null,
   "metadata": {
    "ExecuteTime": {
     "start_time": "2020-01-13T07:22:08.328Z"
    },
    "pycharm": {
     "is_executing": false
    }
   },
   "outputs": [],
   "source": [
    "params_sim = params.copy()\n",
    "params_sim.loc['delta', 'value'] = 0.8"
   ]
  },
  {
   "cell_type": "code",
   "execution_count": null,
   "metadata": {
    "ExecuteTime": {
     "start_time": "2020-01-13T07:22:08.334Z"
    },
    "pycharm": {
     "is_executing": false
    }
   },
   "outputs": [],
   "source": [
    "msm(params_sim)"
   ]
  },
  {
   "cell_type": "markdown",
   "metadata": {},
   "source": [
    "If we set *return_scalar* to **False**, the function will return the vector of moment errors instead."
   ]
  },
  {
   "cell_type": "code",
   "execution_count": null,
   "metadata": {
    "ExecuteTime": {
     "start_time": "2020-01-13T07:22:08.339Z"
    },
    "pycharm": {
     "is_executing": false
    },
    "scrolled": true
   },
   "outputs": [],
   "source": [
    "msm_vector = get_msm_func(params=params_sim, \n",
    "                            options=options, \n",
    "                            calc_moments=calc_moments, \n",
    "                            replace_nans = fill_nans_zero,\n",
    "                            empirical_moments=empirical_moments, \n",
    "                            weighting_matrix = weighting_matrix, \n",
    "                            return_scalar=False\n",
    "                            )\n",
    "\n",
    "moment_errors = msm_vector(params_sim)\n",
    "moment_errors"
   ]
  },
  {
   "cell_type": "markdown",
   "metadata": {},
   "source": [
    "## Inputs as Lists or Dictionaries\n",
    "\n",
    "In the example above we used single elements for all inputs i.e. we used one function to calculate moments, one function to replace missing moments and saved all sets of moments in a single pandas.DataFrame. This works well for the example at hand because the inputs are relatively simple, but other applications might require more flexibility. `get_msm_func` thus alternatively accepts lists and dictionaries as inputs. This way, different sets of moments can be stored separately. Using lists or dictionaries also allows the use of different replacement functions for different moments. \n",
    "\n",
    "For the sake of this example, we add another set of moments to the estimation. In addition to the choice frequencies and wage distribution, we include the final education of agents. Here, the index is given by the educational experience agents have accumulated in period 39. The moments are given by the frequency of each level of experience in the dataset. Since this set of moments is not grouped by period, it cannot be saved to a DataFrame with the other moments. We hence give each set of moments its own function and save them to a list. The choice frequencies and wage distribution are saved to pandas.DataFrame with multiple columns, the final education is given by a pandas.Series.\n",
    "\n",
    "Instead of lists, the functions and moments may also be saved to a dictionary. **Dictionaries will be sorted according to keys** before being passed on the loss function. Using dictionaries therefore has the advantage that the user does not have to pay attention to storing items in the correct order as with lists, where inputs are matched according to position. For the same reason, however, it is not recommended to mix lists and dictionaries as inputs."
   ]
  },
  {
   "cell_type": "code",
   "execution_count": null,
   "metadata": {
    "ExecuteTime": {
     "start_time": "2020-01-13T07:22:08.343Z"
    },
    "pycharm": {
     "is_executing": false
    }
   },
   "outputs": [],
   "source": [
    "def calc_choice_freq(df):\n",
    "    return df.groupby(\"Period\").Choice.value_counts(normalize=True).unstack()\n",
    "\n",
    "def calc_wage_distr(df):\n",
    "    return df.groupby(['Period'])['Wage'].describe()[['mean', 'std']]\n",
    "\n",
    "def calc_final_edu(df):\n",
    "    return df[df.Period == max(df.Period)].Experience_Edu.value_counts(normalize=True,sort=False)\n",
    "\n",
    "calc_moments = [calc_choice_freq, calc_wage_distr, calc_final_edu]"
   ]
  },
  {
   "cell_type": "markdown",
   "metadata": {},
   "source": [
    "We can additionally specify different replacement functions for each set of moments and save them to a list just like *calc_moments*. However, here we will use the same replacement function for all moments and thus just need to specify one. Respy will automatically apply this function to all sets of moments.\n",
    "\n",
    "Note that this only works if only one replacement function is given. Otherwise *replace_nans* must be a list of the same length as *calc_moments* with each replacement function holding the same position as the moment function it corresponds to."
   ]
  },
  {
   "cell_type": "code",
   "execution_count": null,
   "metadata": {
    "ExecuteTime": {
     "start_time": "2020-01-13T07:22:08.347Z"
    },
    "pycharm": {
     "is_executing": false
    }
   },
   "outputs": [],
   "source": [
    "def fill_nans_zero(df):\n",
    "    return df.fillna(0)\n",
    "\n",
    "replace_nans = [fill_nans_zero]"
   ]
  },
  {
   "cell_type": "markdown",
   "metadata": {
    "ExecuteTime": {
     "end_time": "2020-01-12T09:47:28.537388Z",
     "start_time": "2020-01-12T09:47:28.529692Z"
    }
   },
   "source": [
    "We now calculate the empirical_moments. They are saved to a list as well. We can calculate the weighting_matrix as before."
   ]
  },
  {
   "cell_type": "code",
   "execution_count": null,
   "metadata": {
    "ExecuteTime": {
     "start_time": "2020-01-13T07:22:08.353Z"
    },
    "pycharm": {
     "is_executing": false
    }
   },
   "outputs": [],
   "source": [
    "params, options, df_emp = rp.get_example_model(\"kw_94_one\")\n",
    "empirical_moments = [calc_choice_freq(df_emp), calc_wage_distr(df_emp), calc_final_edu(df_emp)]\n",
    "\n",
    "empirical_moments = [fill_nans_zero(df) for df in empirical_moments]"
   ]
  },
  {
   "cell_type": "code",
   "execution_count": null,
   "metadata": {
    "ExecuteTime": {
     "start_time": "2020-01-13T07:22:08.357Z"
    },
    "pycharm": {
     "is_executing": false
    }
   },
   "outputs": [],
   "source": [
    "weighting_matrix = get_diag_weighting_matrix(empirical_moments)"
   ]
  },
  {
   "cell_type": "markdown",
   "metadata": {},
   "source": [
    "Finally, we can construct the msm function from the defined inputs."
   ]
  },
  {
   "cell_type": "code",
   "execution_count": null,
   "metadata": {
    "ExecuteTime": {
     "start_time": "2020-01-13T07:22:08.361Z"
    },
    "pycharm": {
     "is_executing": false
    }
   },
   "outputs": [],
   "source": [
    "msm = get_msm_func(params=params, \n",
    "                   options=options, \n",
    "                   calc_moments=calc_moments, \n",
    "                   replace_nans = replace_nans,\n",
    "                   empirical_moments=empirical_moments, \n",
    "                   weighting_matrix = weighting_matrix, \n",
    "                   return_scalar=True\n",
    "                   )\n",
    "\n",
    "msm(params)"
   ]
  },
  {
   "cell_type": "markdown",
   "metadata": {},
   "source": [
    "The result for the simulated moments slightly deviates from the introductory example because we added an additional set of moments."
   ]
  },
  {
   "cell_type": "code",
   "execution_count": null,
   "metadata": {
    "ExecuteTime": {
     "start_time": "2020-01-13T07:22:08.366Z"
    },
    "pycharm": {
     "is_executing": false
    }
   },
   "outputs": [],
   "source": [
    "msm(params_sim)"
   ]
  },
  {
   "cell_type": "code",
   "execution_count": null,
   "metadata": {
    "ExecuteTime": {
     "start_time": "2020-01-13T07:22:08.370Z"
    },
    "pycharm": {
     "is_executing": false
    }
   },
   "outputs": [],
   "source": [
    "msm_vector = get_msm_func(params=params, \n",
    "                        options=options, \n",
    "                        calc_moments=calc_moments, \n",
    "                        replace_nans = replace_nans,\n",
    "                        empirical_moments=empirical_moments, \n",
    "                        weighting_matrix = weighting_matrix, \n",
    "                        return_scalar=False\n",
    "                        )\n",
    "moment_errors = msm_vector(params_sim)\n",
    "moment_errors"
   ]
  },
  {
   "cell_type": "markdown",
   "metadata": {},
   "source": [
    "## References\n",
    "\n",
    "> Keane, M. P. and  Wolpin, K. I. (1994). [The Solution and Estimation of Discrete Choice Dynamic Programming Models by Simulation and Interpolation: Monte Carlo Evidence](https://doi.org/10.2307/2109768). *The Review of Economics and Statistics*, 76(4): 648-672.\n"
   ]
  }
 ],
 "metadata": {
  "kernelspec": {
   "display_name": "Python 3",
   "language": "python",
   "name": "python3"
  },
  "language_info": {
   "codemirror_mode": {
    "name": "ipython",
    "version": 3
   },
   "file_extension": ".py",
   "mimetype": "text/x-python",
   "name": "python",
   "nbconvert_exporter": "python",
   "pygments_lexer": "ipython3",
   "version": "3.7.4"
  },
  "pycharm": {
   "stem_cell": {
    "cell_type": "raw",
    "metadata": {
     "collapsed": false
    },
    "source": []
   }
  },
  "toc": {
   "base_numbering": 1,
   "nav_menu": {},
   "number_sections": true,
   "sideBar": true,
   "skip_h1_title": true,
   "title_cell": "Table of Contents",
   "title_sidebar": "Contents",
   "toc_cell": false,
   "toc_position": {
    "height": "calc(100% - 180px)",
    "left": "10px",
    "top": "150px",
    "width": "308.8px"
   },
   "toc_section_display": true,
   "toc_window_display": true
  },
  "varInspector": {
   "cols": {
    "lenName": 16,
    "lenType": 16,
    "lenVar": 40
   },
   "kernels_config": {
    "python": {
     "delete_cmd_postfix": "",
     "delete_cmd_prefix": "del ",
     "library": "var_list.py",
     "varRefreshCmd": "print(var_dic_list())"
    },
    "r": {
     "delete_cmd_postfix": ") ",
     "delete_cmd_prefix": "rm(",
     "library": "var_list.r",
     "varRefreshCmd": "cat(var_dic_list()) "
    }
   },
   "types_to_exclude": [
    "module",
    "function",
    "builtin_function_or_method",
    "instance",
    "_Feature"
   ],
   "window_display": false
  }
 },
 "nbformat": 4,
 "nbformat_minor": 2
}
