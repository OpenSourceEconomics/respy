{
 "cells": [
  {
   "cell_type": "markdown",
   "metadata": {},
   "source": [
    "**Mehod of Simulated Moments**\n",
    "\n",
    "This tutorial walks you through the setup of method of simulated moment estimation in respy. \n",
    "Respy requires you to provide two addditional object next to the model specification. \n",
    "One is a pandas Series containing all empirical moments and one is a function that calculates simulated moments\n",
    "from the simulated Data. \n",
    "Additionally one can supply an own weighting matrix, the default choice is the identity. \n",
    "One can also request respy to return the result in vector form which might be requred by some derivative free optimization algorithms. "
   ]
  },
  {
   "cell_type": "code",
   "execution_count": 2,
   "metadata": {},
   "outputs": [],
   "source": [
    "#Import relevant packages \n",
    "import respy as rp\n",
    "import numpy as np\n",
    "\n",
    "from respy.pre_processing.model_processing import process_params_and_options\n",
    "from respy.tests.random_model import get_mock_moment_func\n",
    "from respy.method_of_simulated_moments import get_msm_func"
   ]
  },
  {
   "cell_type": "markdown",
   "metadata": {},
   "source": [
    "**Moment Function**\n",
    "\n",
    "In the first step we create a moment function. \n",
    "For  the example we only target choice probabilities and\n",
    "no other moments.\n"
   ]
  },
  {
   "cell_type": "code",
   "execution_count": 3,
   "metadata": {},
   "outputs": [],
   "source": [
    "def get_moment_func(df, optim_paras):\n",
    "    periods, choices, container_idx = _create_index_mock(df, optim_paras)\n",
    "    out = partial(_get_moments,\n",
    "                  container_idx=container_idx,\n",
    "                  periods=periods,\n",
    "                  choices=choices)\n",
    "    return out\n",
    "\n",
    "def _get_moments(df, container_idx, periods, choices):\n",
    "    \"\"\"\n",
    "    Mock Moment function to test the smm interface.\n",
    "    \"\"\"\n",
    "    moments = pd.Series(index=container_idx)\n",
    "    df_indexed = df.set_index([\"Identifier\", \"Period\"], drop=True)\n",
    "    df_grouped_period = df_indexed.groupby([\"Period\"])\n",
    "\n",
    "    info_period = df_grouped_period[\"Choice\"].value_counts(normalize=True).to_dict()\n",
    "    info_period = defaultdict(lambda: 0.00, info_period)\n",
    "\n",
    "    for period in periods:\n",
    "        for choice in choices:\n",
    "            name = (period, choice)\n",
    "            moments.loc[name] = info_period[name]\n",
    "    return moments\n",
    "\n",
    "def _create_index_mock(df, optim_paras):\n",
    "    periods = sorted(df[\"Period\"].unique())\n",
    "    choices = sorted(list(optim_paras[\"choices\"].keys()))\n",
    "    container_idx = list(itertools.product(periods, choices))\n",
    "    return periods, choices, container_idx"
   ]
  },
  {
   "cell_type": "markdown",
   "metadata": {},
   "source": [
    "**Create Criterion**\n",
    "\n",
    "Now we have all the ingredients to create a first simple criterion function:"
   ]
  },
  {
   "cell_type": "code",
   "execution_count": 9,
   "metadata": {},
   "outputs": [],
   "source": [
    "    params, options,_ = rp.get_example_model(\"kw_94_one\")\n",
    "    simulate = rp.get_simulate_func(params, options)\n",
    "    df = simulate(params)\n",
    "    optim_paras, _ = process_params_and_options(params, options)\n",
    "    get_moments = get_mock_moment_func(df, optim_paras)\n",
    "    moments_base = get_moments(df)\n",
    "    #The following function is  the criterion. It will act as input to the optimization algorithm \n",
    "    msm = get_msm_func(params, options, moments_base, get_moments)\n",
    "    #It can be evaluated in the following way\n",
    "    rslt = msm(params)\n",
    "    assert rslt == 0\n",
    "    "
   ]
  },
  {
   "cell_type": "markdown",
   "metadata": {},
   "source": [
    "**Weighting Matrix**\n",
    "\n",
    "The example we just used does not specify a weighting matrix. \n",
    "In such a case the identity is used as default. In the situation at hand this \n",
    "is most likely not a huge problem since all moments are of the same order of magnitude. \n",
    "If we however target a range of different moments it could very well be that moments have different orders of magnitude \n",
    "which make the identity basically useless as weighting matrix. \n",
    "Respy expects a pandas Dataframe with both columns and index equivalent to the index of the moments object.\n",
    "The following function illustrates how to construct such a matrix. \n",
    "It constructs the inverse Variance matrix that is most commonly used for our example. \n"
   ]
  },
  {
   "cell_type": "code",
   "execution_count": 10,
   "metadata": {},
   "outputs": [],
   "source": [
    "def get_weighting_matrix_func(df, num_boots, num_agents_smm, optim_paras):\n",
    "    get_moments =  get_moment_func(df, optim_paras)\n",
    "    out = partial(_get_weighing_matrix,\n",
    "        num_boots=num_boots,\n",
    "        num_agents_smm=num_agents_smm,\n",
    "        get_moments=get_moments\n",
    "    )\n",
    "    return out\n",
    "\n",
    "\n",
    "def _get_weighing_matrix(df, num_boots, num_agents_smm, get_moments, is_store=False):\n",
    "    \"\"\"This function constructs the weighing matrix.\"\"\"\n",
    "    # Ensure reproducibility\n",
    "    np.random.seed(123)\n",
    "\n",
    "    # Distribute clear baseline information.\n",
    "    container_idx = get_moments(df).index\n",
    "    df = df.set_index(\"Identifier\")\n",
    "    index_base = df.index.get_level_values('Identifier').unique()\n",
    "\n",
    "    # Initialize counters to keep track of attempts.\n",
    "    moments_sample = []\n",
    "\n",
    "    for _ in range(num_boots):\n",
    "        sample_ids = np.random.choice(index_base, num_agents_smm, replace=False)\n",
    "        moments_boot = get_moments(df.loc[sample_ids].reset_index())\n",
    "        moments_sample.append(moments_boot)\n",
    "\n",
    "\n",
    "    # Construct the weighing matrix based on the sampled moments.\n",
    "    stats = pd.concat(moments_sample, axis = 1)\n",
    "\n",
    "    moments_var = stats.to_numpy().T.var(axis=0)\n",
    "\n",
    "    is_zero = moments_var <= 1e-10\n",
    "\n",
    "    #Set the variance to the one of a univ random variable. The no variance condition should only\n",
    "    #appear for such moments\n",
    "    moments_var[is_zero] = 0.1\n",
    "\n",
    "    if np.all(is_zero):\n",
    "        raise NotImplementedError('... all variances are zero')\n",
    "    if np.any(is_zero):\n",
    "        print('... some variances are zero')\n",
    "\n",
    "    weighting_matrix = np.diag(moments_var ** (-1))\n",
    "    #Build a container for weighting matrix\n",
    "    weighting_matrix = pd.DataFrame(weighting_matrix, columns=container_idx, index=container_idx)\n",
    "\n",
    "    return weighting_matrix\n"
   ]
  }
 ],
 "metadata": {
  "kernelspec": {
   "display_name": "Python 3",
   "language": "python",
   "name": "python3"
  },
  "language_info": {
   "codemirror_mode": {
    "name": "ipython",
    "version": 3
   },
   "file_extension": ".py",
   "mimetype": "text/x-python",
   "name": "python",
   "nbconvert_exporter": "python",
   "pygments_lexer": "ipython3",
   "version": "3.7.3"
  }
 },
 "nbformat": 4,
 "nbformat_minor": 4
}
