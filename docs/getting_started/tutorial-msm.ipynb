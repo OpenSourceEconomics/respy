{
 "cells": [
  {
   "cell_type": "markdown",
   "metadata": {},
   "source": [
    "# Method of Simulated Moments (MSM)"
   ]
  },
  {
   "cell_type": "code",
   "execution_count": 2,
   "metadata": {
    "ExecuteTime": {
     "end_time": "2020-01-05T15:43:55.074896Z",
     "start_time": "2020-01-05T15:43:45.736444Z"
    }
   },
   "outputs": [],
   "source": [
    "import copy\n",
    "import respy as rp\n",
    "import numpy as np\n",
    "import pandas as pd \n",
    "\n",
    "from method_of_simulated_moments import msm\n",
    "from method_of_simulated_moments import get_moment_vectors\n",
    "from method_of_simulated_moments import get_diag_weighting_matrix"
   ]
  },
  {
   "cell_type": "markdown",
   "metadata": {},
   "source": [
    "This notebook contains a step by step tutorial to simulated method of moments estimation using respy. The loss function `msm` requires the following inputs:\n",
    "\n",
    "    1. params\n",
    "    2. options\n",
    "    3. empirical_moments\n",
    "    4. calc_moments\n",
    "    5. replace_nans\n",
    "    6. weighting matrix\n",
    "    7. return_scalar\n",
    "\n",
    "**Computing a weighting matrix:**\n",
    "\n",
    "For the msm estimation, the user has to define a weighting matrix. `get_diag_weighting_matrix` allows the user to automatically create a diagonal weighting matrix that will match the moment vectors used for estimation. The function requires as inputs the *empirical_moments* that are also used in `msm` and a set of weights that are of the same form as *empirical_moments*. If no weights are specified, the function will return the identity matrix. "
   ]
  },
  {
   "cell_type": "markdown",
   "metadata": {},
   "source": [
    "## Introductory Example\n",
    "\n",
    "The msm function requires a number of inputs which will be discussed in the following."
   ]
  },
  {
   "cell_type": "markdown",
   "metadata": {},
   "source": [
    "### Arguments"
   ]
  },
  {
   "cell_type": "markdown",
   "metadata": {
    "ExecuteTime": {
     "end_time": "2019-12-30T12:13:40.138047Z",
     "start_time": "2019-12-30T12:13:40.132338Z"
    }
   },
   "source": [
    "#### The *params* and *options* Arguments\n",
    "\n",
    "The first step to msm estimation is the simulation of data using a specified model. Respy simulates data using a vector of parameters *params*, which will be the variable of interest for estimation, and a set of *options* that help define the underlying model.\n",
    "\n",
    "Respy provides a number of example models. For this tutorial we will be using the parameterization from Keane and Wolpin (1994)."
   ]
  },
  {
   "cell_type": "code",
   "execution_count": 4,
   "metadata": {
    "ExecuteTime": {
     "end_time": "2020-01-02T06:43:57.695165Z",
     "start_time": "2020-01-02T06:43:53.402780Z"
    }
   },
   "outputs": [],
   "source": [
    "params, options, df_emp = rp.get_example_model(\"kw_94_one\")"
   ]
  },
  {
   "cell_type": "code",
   "execution_count": 5,
   "metadata": {
    "ExecuteTime": {
     "end_time": "2020-01-02T06:43:57.996637Z",
     "start_time": "2020-01-02T06:43:57.970787Z"
    }
   },
   "outputs": [
    {
     "data": {
      "text/html": [
       "<div>\n",
       "<style scoped>\n",
       "    .dataframe tbody tr th:only-of-type {\n",
       "        vertical-align: middle;\n",
       "    }\n",
       "\n",
       "    .dataframe tbody tr th {\n",
       "        vertical-align: top;\n",
       "    }\n",
       "\n",
       "    .dataframe thead th {\n",
       "        text-align: right;\n",
       "    }\n",
       "</style>\n",
       "<table border=\"1\" class=\"dataframe\">\n",
       "  <thead>\n",
       "    <tr style=\"text-align: right;\">\n",
       "      <th></th>\n",
       "      <th></th>\n",
       "      <th>value</th>\n",
       "      <th>comment</th>\n",
       "    </tr>\n",
       "    <tr>\n",
       "      <th>category</th>\n",
       "      <th>name</th>\n",
       "      <th></th>\n",
       "      <th></th>\n",
       "    </tr>\n",
       "  </thead>\n",
       "  <tbody>\n",
       "    <tr>\n",
       "      <td>delta</td>\n",
       "      <td>delta</td>\n",
       "      <td>0.9500</td>\n",
       "      <td>discount factor</td>\n",
       "    </tr>\n",
       "    <tr>\n",
       "      <td rowspan=\"6\" valign=\"top\">wage_a</td>\n",
       "      <td>constant</td>\n",
       "      <td>9.2100</td>\n",
       "      <td>log of rental price</td>\n",
       "    </tr>\n",
       "    <tr>\n",
       "      <td>exp_edu</td>\n",
       "      <td>0.0380</td>\n",
       "      <td>return to an additional year of schooling</td>\n",
       "    </tr>\n",
       "    <tr>\n",
       "      <td>exp_a</td>\n",
       "      <td>0.0330</td>\n",
       "      <td>return to same sector experience</td>\n",
       "    </tr>\n",
       "    <tr>\n",
       "      <td>exp_a_square</td>\n",
       "      <td>-0.0005</td>\n",
       "      <td>return to same sector, quadratic experience</td>\n",
       "    </tr>\n",
       "    <tr>\n",
       "      <td>exp_b</td>\n",
       "      <td>0.0000</td>\n",
       "      <td>return to other sector experience</td>\n",
       "    </tr>\n",
       "    <tr>\n",
       "      <td>exp_b_square</td>\n",
       "      <td>0.0000</td>\n",
       "      <td>return to other sector, quadratic experience</td>\n",
       "    </tr>\n",
       "    <tr>\n",
       "      <td rowspan=\"6\" valign=\"top\">wage_b</td>\n",
       "      <td>constant</td>\n",
       "      <td>8.4800</td>\n",
       "      <td>log of rental price</td>\n",
       "    </tr>\n",
       "    <tr>\n",
       "      <td>exp_edu</td>\n",
       "      <td>0.0700</td>\n",
       "      <td>return to an additional year of schooling</td>\n",
       "    </tr>\n",
       "    <tr>\n",
       "      <td>exp_b</td>\n",
       "      <td>0.0670</td>\n",
       "      <td>return to same sector experience</td>\n",
       "    </tr>\n",
       "    <tr>\n",
       "      <td>exp_b_square</td>\n",
       "      <td>-0.0010</td>\n",
       "      <td>return to same sector, quadratic experience</td>\n",
       "    </tr>\n",
       "    <tr>\n",
       "      <td>exp_a</td>\n",
       "      <td>0.0220</td>\n",
       "      <td>return to other sector experience</td>\n",
       "    </tr>\n",
       "    <tr>\n",
       "      <td>exp_a_square</td>\n",
       "      <td>-0.0005</td>\n",
       "      <td>return to other sector, quadratic experience</td>\n",
       "    </tr>\n",
       "    <tr>\n",
       "      <td rowspan=\"3\" valign=\"top\">nonpec_edu</td>\n",
       "      <td>constant</td>\n",
       "      <td>0.0000</td>\n",
       "      <td>constant reward for choosing education</td>\n",
       "    </tr>\n",
       "    <tr>\n",
       "      <td>at_least_twelve_exp_edu</td>\n",
       "      <td>0.0000</td>\n",
       "      <td>reward for going to college (tuition, etc.)</td>\n",
       "    </tr>\n",
       "    <tr>\n",
       "      <td>not_edu_last_period</td>\n",
       "      <td>-4000.0000</td>\n",
       "      <td>reward for going back to school</td>\n",
       "    </tr>\n",
       "    <tr>\n",
       "      <td>nonpec_home</td>\n",
       "      <td>constant</td>\n",
       "      <td>17750.0000</td>\n",
       "      <td>constant reward of non-market alternative</td>\n",
       "    </tr>\n",
       "    <tr>\n",
       "      <td rowspan=\"10\" valign=\"top\">shocks_sdcorr</td>\n",
       "      <td>sd_a</td>\n",
       "      <td>0.2000</td>\n",
       "      <td>Element 1,1 of standard-deviation/correlation ...</td>\n",
       "    </tr>\n",
       "    <tr>\n",
       "      <td>sd_b</td>\n",
       "      <td>0.2500</td>\n",
       "      <td>Element 2,2 of standard-deviation/correlation ...</td>\n",
       "    </tr>\n",
       "    <tr>\n",
       "      <td>sd_edu</td>\n",
       "      <td>1500.0000</td>\n",
       "      <td>Element 3,3 of standard-deviation/correlation ...</td>\n",
       "    </tr>\n",
       "    <tr>\n",
       "      <td>sd_home</td>\n",
       "      <td>1500.0000</td>\n",
       "      <td>Element 4,4 of standard-deviation/correlation ...</td>\n",
       "    </tr>\n",
       "    <tr>\n",
       "      <td>corr_b_a</td>\n",
       "      <td>0.0000</td>\n",
       "      <td>Element 2,1 of standard-deviation/correlation ...</td>\n",
       "    </tr>\n",
       "    <tr>\n",
       "      <td>corr_edu_a</td>\n",
       "      <td>0.0000</td>\n",
       "      <td>Element 3,1 of standard-deviation/correlation ...</td>\n",
       "    </tr>\n",
       "    <tr>\n",
       "      <td>corr_edu_b</td>\n",
       "      <td>0.0000</td>\n",
       "      <td>Element 3,2 of standard-deviation/correlation ...</td>\n",
       "    </tr>\n",
       "    <tr>\n",
       "      <td>corr_home_a</td>\n",
       "      <td>0.0000</td>\n",
       "      <td>Element 4,1 of standard-deviation/correlation ...</td>\n",
       "    </tr>\n",
       "    <tr>\n",
       "      <td>corr_home_b</td>\n",
       "      <td>0.0000</td>\n",
       "      <td>Element 4,2 of standard-deviation/correlation ...</td>\n",
       "    </tr>\n",
       "    <tr>\n",
       "      <td>corr_home_edu</td>\n",
       "      <td>0.0000</td>\n",
       "      <td>Element 4,3 of standard-deviation/correlation ...</td>\n",
       "    </tr>\n",
       "    <tr>\n",
       "      <td>lagged_choice_1_edu</td>\n",
       "      <td>edu_ten</td>\n",
       "      <td>1.0000</td>\n",
       "      <td>Probability that the first lagged choice is ed...</td>\n",
       "    </tr>\n",
       "    <tr>\n",
       "      <td>initial_exp_edu</td>\n",
       "      <td>10</td>\n",
       "      <td>1.0000</td>\n",
       "      <td>Probability that the initial level of educatio...</td>\n",
       "    </tr>\n",
       "    <tr>\n",
       "      <td>maximum_exp</td>\n",
       "      <td>edu</td>\n",
       "      <td>20.0000</td>\n",
       "      <td>Maximum level of experience for education (opt...</td>\n",
       "    </tr>\n",
       "  </tbody>\n",
       "</table>\n",
       "</div>"
      ],
      "text/plain": [
       "                                                  value  \\\n",
       "category            name                                  \n",
       "delta               delta                        0.9500   \n",
       "wage_a              constant                     9.2100   \n",
       "                    exp_edu                      0.0380   \n",
       "                    exp_a                        0.0330   \n",
       "                    exp_a_square                -0.0005   \n",
       "                    exp_b                        0.0000   \n",
       "                    exp_b_square                 0.0000   \n",
       "wage_b              constant                     8.4800   \n",
       "                    exp_edu                      0.0700   \n",
       "                    exp_b                        0.0670   \n",
       "                    exp_b_square                -0.0010   \n",
       "                    exp_a                        0.0220   \n",
       "                    exp_a_square                -0.0005   \n",
       "nonpec_edu          constant                     0.0000   \n",
       "                    at_least_twelve_exp_edu      0.0000   \n",
       "                    not_edu_last_period      -4000.0000   \n",
       "nonpec_home         constant                 17750.0000   \n",
       "shocks_sdcorr       sd_a                         0.2000   \n",
       "                    sd_b                         0.2500   \n",
       "                    sd_edu                    1500.0000   \n",
       "                    sd_home                   1500.0000   \n",
       "                    corr_b_a                     0.0000   \n",
       "                    corr_edu_a                   0.0000   \n",
       "                    corr_edu_b                   0.0000   \n",
       "                    corr_home_a                  0.0000   \n",
       "                    corr_home_b                  0.0000   \n",
       "                    corr_home_edu                0.0000   \n",
       "lagged_choice_1_edu edu_ten                      1.0000   \n",
       "initial_exp_edu     10                           1.0000   \n",
       "maximum_exp         edu                         20.0000   \n",
       "\n",
       "                                                                                       comment  \n",
       "category            name                                                                        \n",
       "delta               delta                                                      discount factor  \n",
       "wage_a              constant                                               log of rental price  \n",
       "                    exp_edu                          return to an additional year of schooling  \n",
       "                    exp_a                                     return to same sector experience  \n",
       "                    exp_a_square                   return to same sector, quadratic experience  \n",
       "                    exp_b                                    return to other sector experience  \n",
       "                    exp_b_square                  return to other sector, quadratic experience  \n",
       "wage_b              constant                                               log of rental price  \n",
       "                    exp_edu                          return to an additional year of schooling  \n",
       "                    exp_b                                     return to same sector experience  \n",
       "                    exp_b_square                   return to same sector, quadratic experience  \n",
       "                    exp_a                                    return to other sector experience  \n",
       "                    exp_a_square                  return to other sector, quadratic experience  \n",
       "nonpec_edu          constant                            constant reward for choosing education  \n",
       "                    at_least_twelve_exp_edu        reward for going to college (tuition, etc.)  \n",
       "                    not_edu_last_period                        reward for going back to school  \n",
       "nonpec_home         constant                         constant reward of non-market alternative  \n",
       "shocks_sdcorr       sd_a                     Element 1,1 of standard-deviation/correlation ...  \n",
       "                    sd_b                     Element 2,2 of standard-deviation/correlation ...  \n",
       "                    sd_edu                   Element 3,3 of standard-deviation/correlation ...  \n",
       "                    sd_home                  Element 4,4 of standard-deviation/correlation ...  \n",
       "                    corr_b_a                 Element 2,1 of standard-deviation/correlation ...  \n",
       "                    corr_edu_a               Element 3,1 of standard-deviation/correlation ...  \n",
       "                    corr_edu_b               Element 3,2 of standard-deviation/correlation ...  \n",
       "                    corr_home_a              Element 4,1 of standard-deviation/correlation ...  \n",
       "                    corr_home_b              Element 4,2 of standard-deviation/correlation ...  \n",
       "                    corr_home_edu            Element 4,3 of standard-deviation/correlation ...  \n",
       "lagged_choice_1_edu edu_ten                  Probability that the first lagged choice is ed...  \n",
       "initial_exp_edu     10                       Probability that the initial level of educatio...  \n",
       "maximum_exp         edu                      Maximum level of experience for education (opt...  "
      ]
     },
     "execution_count": 5,
     "metadata": {},
     "output_type": "execute_result"
    }
   ],
   "source": [
    "params"
   ]
  },
  {
   "cell_type": "code",
   "execution_count": 6,
   "metadata": {
    "ExecuteTime": {
     "end_time": "2020-01-02T06:43:58.295402Z",
     "start_time": "2020-01-02T06:43:58.289826Z"
    }
   },
   "outputs": [
    {
     "data": {
      "text/plain": [
       "{'estimation_draws': 200,\n",
       " 'estimation_seed': 500,\n",
       " 'estimation_tau': 500,\n",
       " 'interpolation_points': -1,\n",
       " 'n_periods': 40,\n",
       " 'simulation_agents': 1000,\n",
       " 'simulation_seed': 132,\n",
       " 'solution_draws': 500,\n",
       " 'solution_seed': 1,\n",
       " 'monte_carlo_sequence': 'random',\n",
       " 'core_state_space_filters': [\"period > 0 and exp_{i} == period and lagged_choice_1 != '{i}'\",\n",
       "  \"period > 0 and exp_a + exp_b + exp_edu == period and lagged_choice_1 == '{j}'\",\n",
       "  \"period > 0 and lagged_choice_1 == 'edu' and exp_edu == 0\",\n",
       "  \"lagged_choice_1 == '{k}' and exp_{k} == 0\",\n",
       "  \"period == 0 and lagged_choice_1 == '{k}'\"],\n",
       " 'covariates': {'constant': '1',\n",
       "  'exp_a_square': 'exp_a ** 2',\n",
       "  'exp_b_square': 'exp_b ** 2',\n",
       "  'at_least_twelve_exp_edu': 'exp_edu >= 12',\n",
       "  'not_edu_last_period': \"lagged_choice_1 != 'edu'\",\n",
       "  'edu_ten': 'exp_edu == 10'}}"
      ]
     },
     "execution_count": 6,
     "metadata": {},
     "output_type": "execute_result"
    }
   ],
   "source": [
    "options"
   ]
  },
  {
   "cell_type": "markdown",
   "metadata": {},
   "source": [
    "#### The *calc_moments* Argument\n",
    "\n",
    "The *calc_moments* argument is the function that should be used within `msm` to calculate moments from the simulated data. It can also be specified as a list or dictionary of multiple functions if different sets of moments should be calculated from different functions."
   ]
  },
  {
   "cell_type": "markdown",
   "metadata": {},
   "source": [
    "In this case we will calculate two sets of moments: choice frequencies and parameters that characterize the wage distribution. The moments are saved to a a pandas. DataFrame with time periods as the index and the moments as columns."
   ]
  },
  {
   "cell_type": "code",
   "execution_count": 7,
   "metadata": {
    "ExecuteTime": {
     "end_time": "2020-01-02T06:43:58.544089Z",
     "start_time": "2020-01-02T06:43:58.537741Z"
    }
   },
   "outputs": [],
   "source": [
    "def calc_moments(df):\n",
    "    choices = df.groupby(\"Period\").Choice.value_counts(normalize=True).unstack()\n",
    "    wages = df.groupby(['Period'])['Wage'].describe()[['mean', 'std']]\n",
    "    \n",
    "    return pd.concat([choices, wages], axis=1)"
   ]
  },
  {
   "cell_type": "markdown",
   "metadata": {},
   "source": [
    "####  The *replace_nans* Argument\n",
    "\n",
    "Next we define *replace_nans* is a function or list of functions that define how to handle missings in the data. "
   ]
  },
  {
   "cell_type": "code",
   "execution_count": 8,
   "metadata": {
    "ExecuteTime": {
     "end_time": "2020-01-02T06:43:58.799320Z",
     "start_time": "2020-01-02T06:43:58.795977Z"
    }
   },
   "outputs": [],
   "source": [
    "def fill_nans_zero(df):\n",
    "    return df.fillna(0)"
   ]
  },
  {
   "cell_type": "markdown",
   "metadata": {
    "ExecuteTime": {
     "end_time": "2019-12-30T12:41:52.010937Z",
     "start_time": "2019-12-30T12:41:52.007437Z"
    }
   },
   "source": [
    "#### The *empirical_moments* Argument\n",
    "\n",
    "The empirical moments are the moments that are calculated from the observed data which the simulated moments should be matched to. The *empirical_moments* argument requires pandas.DataFrames or pandas.Series as inputs. Alternatively, users can input lists or dictionaries containing DataFrames or Series as items. It is necessary, that *calc_moments*, *replace_nans* and *empirical_moments* correspond to each other i.e. *calc_moments* should output moments that are of the same structure as *empirical_moments*.\n",
    "\n",
    "For this example we calculate the empirical moments the same way that we calculate the simulated moments, so we can be sure that this condition is fulfilled. "
   ]
  },
  {
   "cell_type": "code",
   "execution_count": 9,
   "metadata": {
    "ExecuteTime": {
     "end_time": "2020-01-02T06:43:59.239043Z",
     "start_time": "2020-01-02T06:43:59.069810Z"
    }
   },
   "outputs": [],
   "source": [
    "empirical_moments = calc_moments(df_emp)\n",
    "empirical_moments = fill_nans_zero(empirical_moments)"
   ]
  },
  {
   "cell_type": "code",
   "execution_count": 10,
   "metadata": {
    "ExecuteTime": {
     "end_time": "2020-01-02T06:43:59.593555Z",
     "start_time": "2020-01-02T06:43:59.576347Z"
    },
    "scrolled": true
   },
   "outputs": [
    {
     "data": {
      "text/html": [
       "<div>\n",
       "<style scoped>\n",
       "    .dataframe tbody tr th:only-of-type {\n",
       "        vertical-align: middle;\n",
       "    }\n",
       "\n",
       "    .dataframe tbody tr th {\n",
       "        vertical-align: top;\n",
       "    }\n",
       "\n",
       "    .dataframe thead th {\n",
       "        text-align: right;\n",
       "    }\n",
       "</style>\n",
       "<table border=\"1\" class=\"dataframe\">\n",
       "  <thead>\n",
       "    <tr style=\"text-align: right;\">\n",
       "      <th></th>\n",
       "      <th>a</th>\n",
       "      <th>b</th>\n",
       "      <th>edu</th>\n",
       "      <th>home</th>\n",
       "      <th>mean</th>\n",
       "      <th>std</th>\n",
       "    </tr>\n",
       "    <tr>\n",
       "      <th>Period</th>\n",
       "      <th></th>\n",
       "      <th></th>\n",
       "      <th></th>\n",
       "      <th></th>\n",
       "      <th></th>\n",
       "      <th></th>\n",
       "    </tr>\n",
       "  </thead>\n",
       "  <tbody>\n",
       "    <tr>\n",
       "      <td>35</td>\n",
       "      <td>0.279</td>\n",
       "      <td>0.703</td>\n",
       "      <td>0.0</td>\n",
       "      <td>0.018</td>\n",
       "      <td>37231.160871</td>\n",
       "      <td>13217.343152</td>\n",
       "    </tr>\n",
       "    <tr>\n",
       "      <td>36</td>\n",
       "      <td>0.278</td>\n",
       "      <td>0.702</td>\n",
       "      <td>0.0</td>\n",
       "      <td>0.020</td>\n",
       "      <td>37684.817644</td>\n",
       "      <td>12693.606573</td>\n",
       "    </tr>\n",
       "    <tr>\n",
       "      <td>37</td>\n",
       "      <td>0.278</td>\n",
       "      <td>0.704</td>\n",
       "      <td>0.0</td>\n",
       "      <td>0.018</td>\n",
       "      <td>37768.261756</td>\n",
       "      <td>13016.135077</td>\n",
       "    </tr>\n",
       "    <tr>\n",
       "      <td>38</td>\n",
       "      <td>0.278</td>\n",
       "      <td>0.710</td>\n",
       "      <td>0.0</td>\n",
       "      <td>0.012</td>\n",
       "      <td>38089.289084</td>\n",
       "      <td>13314.644165</td>\n",
       "    </tr>\n",
       "    <tr>\n",
       "      <td>39</td>\n",
       "      <td>0.274</td>\n",
       "      <td>0.708</td>\n",
       "      <td>0.0</td>\n",
       "      <td>0.018</td>\n",
       "      <td>38176.116018</td>\n",
       "      <td>13567.728207</td>\n",
       "    </tr>\n",
       "  </tbody>\n",
       "</table>\n",
       "</div>"
      ],
      "text/plain": [
       "            a      b  edu   home          mean           std\n",
       "Period                                                      \n",
       "35      0.279  0.703  0.0  0.018  37231.160871  13217.343152\n",
       "36      0.278  0.702  0.0  0.020  37684.817644  12693.606573\n",
       "37      0.278  0.704  0.0  0.018  37768.261756  13016.135077\n",
       "38      0.278  0.710  0.0  0.012  38089.289084  13314.644165\n",
       "39      0.274  0.708  0.0  0.018  38176.116018  13567.728207"
      ]
     },
     "execution_count": 10,
     "metadata": {},
     "output_type": "execute_result"
    }
   ],
   "source": [
    "empirical_moments.tail()"
   ]
  },
  {
   "cell_type": "markdown",
   "metadata": {
    "ExecuteTime": {
     "end_time": "2019-12-30T12:13:28.165952Z",
     "start_time": "2019-12-30T12:13:28.163127Z"
    }
   },
   "source": [
    "#### The *weighting_matrix* Argument"
   ]
  },
  {
   "cell_type": "code",
   "execution_count": 11,
   "metadata": {
    "ExecuteTime": {
     "end_time": "2020-01-02T06:43:59.946382Z",
     "start_time": "2020-01-02T06:43:59.931816Z"
    }
   },
   "outputs": [],
   "source": [
    "weighting_matrix = get_diag_weighting_matrix(empirical_moments)"
   ]
  },
  {
   "cell_type": "code",
   "execution_count": 12,
   "metadata": {
    "ExecuteTime": {
     "end_time": "2020-01-02T06:44:00.539378Z",
     "start_time": "2020-01-02T06:44:00.459303Z"
    }
   },
   "outputs": [
    {
     "data": {
      "text/html": [
       "<div>\n",
       "<style scoped>\n",
       "    .dataframe tbody tr th:only-of-type {\n",
       "        vertical-align: middle;\n",
       "    }\n",
       "\n",
       "    .dataframe tbody tr th {\n",
       "        vertical-align: top;\n",
       "    }\n",
       "\n",
       "    .dataframe thead th {\n",
       "        text-align: right;\n",
       "    }\n",
       "</style>\n",
       "<table border=\"1\" class=\"dataframe\">\n",
       "  <thead>\n",
       "    <tr style=\"text-align: right;\">\n",
       "      <th></th>\n",
       "      <th>0</th>\n",
       "      <th>1</th>\n",
       "      <th>2</th>\n",
       "      <th>3</th>\n",
       "      <th>4</th>\n",
       "      <th>5</th>\n",
       "      <th>6</th>\n",
       "      <th>7</th>\n",
       "      <th>8</th>\n",
       "      <th>9</th>\n",
       "      <th>...</th>\n",
       "      <th>230</th>\n",
       "      <th>231</th>\n",
       "      <th>232</th>\n",
       "      <th>233</th>\n",
       "      <th>234</th>\n",
       "      <th>235</th>\n",
       "      <th>236</th>\n",
       "      <th>237</th>\n",
       "      <th>238</th>\n",
       "      <th>239</th>\n",
       "    </tr>\n",
       "  </thead>\n",
       "  <tbody>\n",
       "    <tr>\n",
       "      <td>0</td>\n",
       "      <td>1.0</td>\n",
       "      <td>0.0</td>\n",
       "      <td>0.0</td>\n",
       "      <td>0.0</td>\n",
       "      <td>0.0</td>\n",
       "      <td>0.0</td>\n",
       "      <td>0.0</td>\n",
       "      <td>0.0</td>\n",
       "      <td>0.0</td>\n",
       "      <td>0.0</td>\n",
       "      <td>...</td>\n",
       "      <td>0.0</td>\n",
       "      <td>0.0</td>\n",
       "      <td>0.0</td>\n",
       "      <td>0.0</td>\n",
       "      <td>0.0</td>\n",
       "      <td>0.0</td>\n",
       "      <td>0.0</td>\n",
       "      <td>0.0</td>\n",
       "      <td>0.0</td>\n",
       "      <td>0.0</td>\n",
       "    </tr>\n",
       "    <tr>\n",
       "      <td>1</td>\n",
       "      <td>0.0</td>\n",
       "      <td>1.0</td>\n",
       "      <td>0.0</td>\n",
       "      <td>0.0</td>\n",
       "      <td>0.0</td>\n",
       "      <td>0.0</td>\n",
       "      <td>0.0</td>\n",
       "      <td>0.0</td>\n",
       "      <td>0.0</td>\n",
       "      <td>0.0</td>\n",
       "      <td>...</td>\n",
       "      <td>0.0</td>\n",
       "      <td>0.0</td>\n",
       "      <td>0.0</td>\n",
       "      <td>0.0</td>\n",
       "      <td>0.0</td>\n",
       "      <td>0.0</td>\n",
       "      <td>0.0</td>\n",
       "      <td>0.0</td>\n",
       "      <td>0.0</td>\n",
       "      <td>0.0</td>\n",
       "    </tr>\n",
       "    <tr>\n",
       "      <td>2</td>\n",
       "      <td>0.0</td>\n",
       "      <td>0.0</td>\n",
       "      <td>1.0</td>\n",
       "      <td>0.0</td>\n",
       "      <td>0.0</td>\n",
       "      <td>0.0</td>\n",
       "      <td>0.0</td>\n",
       "      <td>0.0</td>\n",
       "      <td>0.0</td>\n",
       "      <td>0.0</td>\n",
       "      <td>...</td>\n",
       "      <td>0.0</td>\n",
       "      <td>0.0</td>\n",
       "      <td>0.0</td>\n",
       "      <td>0.0</td>\n",
       "      <td>0.0</td>\n",
       "      <td>0.0</td>\n",
       "      <td>0.0</td>\n",
       "      <td>0.0</td>\n",
       "      <td>0.0</td>\n",
       "      <td>0.0</td>\n",
       "    </tr>\n",
       "    <tr>\n",
       "      <td>3</td>\n",
       "      <td>0.0</td>\n",
       "      <td>0.0</td>\n",
       "      <td>0.0</td>\n",
       "      <td>1.0</td>\n",
       "      <td>0.0</td>\n",
       "      <td>0.0</td>\n",
       "      <td>0.0</td>\n",
       "      <td>0.0</td>\n",
       "      <td>0.0</td>\n",
       "      <td>0.0</td>\n",
       "      <td>...</td>\n",
       "      <td>0.0</td>\n",
       "      <td>0.0</td>\n",
       "      <td>0.0</td>\n",
       "      <td>0.0</td>\n",
       "      <td>0.0</td>\n",
       "      <td>0.0</td>\n",
       "      <td>0.0</td>\n",
       "      <td>0.0</td>\n",
       "      <td>0.0</td>\n",
       "      <td>0.0</td>\n",
       "    </tr>\n",
       "    <tr>\n",
       "      <td>4</td>\n",
       "      <td>0.0</td>\n",
       "      <td>0.0</td>\n",
       "      <td>0.0</td>\n",
       "      <td>0.0</td>\n",
       "      <td>1.0</td>\n",
       "      <td>0.0</td>\n",
       "      <td>0.0</td>\n",
       "      <td>0.0</td>\n",
       "      <td>0.0</td>\n",
       "      <td>0.0</td>\n",
       "      <td>...</td>\n",
       "      <td>0.0</td>\n",
       "      <td>0.0</td>\n",
       "      <td>0.0</td>\n",
       "      <td>0.0</td>\n",
       "      <td>0.0</td>\n",
       "      <td>0.0</td>\n",
       "      <td>0.0</td>\n",
       "      <td>0.0</td>\n",
       "      <td>0.0</td>\n",
       "      <td>0.0</td>\n",
       "    </tr>\n",
       "    <tr>\n",
       "      <td>...</td>\n",
       "      <td>...</td>\n",
       "      <td>...</td>\n",
       "      <td>...</td>\n",
       "      <td>...</td>\n",
       "      <td>...</td>\n",
       "      <td>...</td>\n",
       "      <td>...</td>\n",
       "      <td>...</td>\n",
       "      <td>...</td>\n",
       "      <td>...</td>\n",
       "      <td>...</td>\n",
       "      <td>...</td>\n",
       "      <td>...</td>\n",
       "      <td>...</td>\n",
       "      <td>...</td>\n",
       "      <td>...</td>\n",
       "      <td>...</td>\n",
       "      <td>...</td>\n",
       "      <td>...</td>\n",
       "      <td>...</td>\n",
       "      <td>...</td>\n",
       "    </tr>\n",
       "    <tr>\n",
       "      <td>235</td>\n",
       "      <td>0.0</td>\n",
       "      <td>0.0</td>\n",
       "      <td>0.0</td>\n",
       "      <td>0.0</td>\n",
       "      <td>0.0</td>\n",
       "      <td>0.0</td>\n",
       "      <td>0.0</td>\n",
       "      <td>0.0</td>\n",
       "      <td>0.0</td>\n",
       "      <td>0.0</td>\n",
       "      <td>...</td>\n",
       "      <td>0.0</td>\n",
       "      <td>0.0</td>\n",
       "      <td>0.0</td>\n",
       "      <td>0.0</td>\n",
       "      <td>0.0</td>\n",
       "      <td>1.0</td>\n",
       "      <td>0.0</td>\n",
       "      <td>0.0</td>\n",
       "      <td>0.0</td>\n",
       "      <td>0.0</td>\n",
       "    </tr>\n",
       "    <tr>\n",
       "      <td>236</td>\n",
       "      <td>0.0</td>\n",
       "      <td>0.0</td>\n",
       "      <td>0.0</td>\n",
       "      <td>0.0</td>\n",
       "      <td>0.0</td>\n",
       "      <td>0.0</td>\n",
       "      <td>0.0</td>\n",
       "      <td>0.0</td>\n",
       "      <td>0.0</td>\n",
       "      <td>0.0</td>\n",
       "      <td>...</td>\n",
       "      <td>0.0</td>\n",
       "      <td>0.0</td>\n",
       "      <td>0.0</td>\n",
       "      <td>0.0</td>\n",
       "      <td>0.0</td>\n",
       "      <td>0.0</td>\n",
       "      <td>1.0</td>\n",
       "      <td>0.0</td>\n",
       "      <td>0.0</td>\n",
       "      <td>0.0</td>\n",
       "    </tr>\n",
       "    <tr>\n",
       "      <td>237</td>\n",
       "      <td>0.0</td>\n",
       "      <td>0.0</td>\n",
       "      <td>0.0</td>\n",
       "      <td>0.0</td>\n",
       "      <td>0.0</td>\n",
       "      <td>0.0</td>\n",
       "      <td>0.0</td>\n",
       "      <td>0.0</td>\n",
       "      <td>0.0</td>\n",
       "      <td>0.0</td>\n",
       "      <td>...</td>\n",
       "      <td>0.0</td>\n",
       "      <td>0.0</td>\n",
       "      <td>0.0</td>\n",
       "      <td>0.0</td>\n",
       "      <td>0.0</td>\n",
       "      <td>0.0</td>\n",
       "      <td>0.0</td>\n",
       "      <td>1.0</td>\n",
       "      <td>0.0</td>\n",
       "      <td>0.0</td>\n",
       "    </tr>\n",
       "    <tr>\n",
       "      <td>238</td>\n",
       "      <td>0.0</td>\n",
       "      <td>0.0</td>\n",
       "      <td>0.0</td>\n",
       "      <td>0.0</td>\n",
       "      <td>0.0</td>\n",
       "      <td>0.0</td>\n",
       "      <td>0.0</td>\n",
       "      <td>0.0</td>\n",
       "      <td>0.0</td>\n",
       "      <td>0.0</td>\n",
       "      <td>...</td>\n",
       "      <td>0.0</td>\n",
       "      <td>0.0</td>\n",
       "      <td>0.0</td>\n",
       "      <td>0.0</td>\n",
       "      <td>0.0</td>\n",
       "      <td>0.0</td>\n",
       "      <td>0.0</td>\n",
       "      <td>0.0</td>\n",
       "      <td>1.0</td>\n",
       "      <td>0.0</td>\n",
       "    </tr>\n",
       "    <tr>\n",
       "      <td>239</td>\n",
       "      <td>0.0</td>\n",
       "      <td>0.0</td>\n",
       "      <td>0.0</td>\n",
       "      <td>0.0</td>\n",
       "      <td>0.0</td>\n",
       "      <td>0.0</td>\n",
       "      <td>0.0</td>\n",
       "      <td>0.0</td>\n",
       "      <td>0.0</td>\n",
       "      <td>0.0</td>\n",
       "      <td>...</td>\n",
       "      <td>0.0</td>\n",
       "      <td>0.0</td>\n",
       "      <td>0.0</td>\n",
       "      <td>0.0</td>\n",
       "      <td>0.0</td>\n",
       "      <td>0.0</td>\n",
       "      <td>0.0</td>\n",
       "      <td>0.0</td>\n",
       "      <td>0.0</td>\n",
       "      <td>1.0</td>\n",
       "    </tr>\n",
       "  </tbody>\n",
       "</table>\n",
       "<p>240 rows × 240 columns</p>\n",
       "</div>"
      ],
      "text/plain": [
       "     0    1    2    3    4    5    6    7    8    9    ...  230  231  232  \\\n",
       "0    1.0  0.0  0.0  0.0  0.0  0.0  0.0  0.0  0.0  0.0  ...  0.0  0.0  0.0   \n",
       "1    0.0  1.0  0.0  0.0  0.0  0.0  0.0  0.0  0.0  0.0  ...  0.0  0.0  0.0   \n",
       "2    0.0  0.0  1.0  0.0  0.0  0.0  0.0  0.0  0.0  0.0  ...  0.0  0.0  0.0   \n",
       "3    0.0  0.0  0.0  1.0  0.0  0.0  0.0  0.0  0.0  0.0  ...  0.0  0.0  0.0   \n",
       "4    0.0  0.0  0.0  0.0  1.0  0.0  0.0  0.0  0.0  0.0  ...  0.0  0.0  0.0   \n",
       "..   ...  ...  ...  ...  ...  ...  ...  ...  ...  ...  ...  ...  ...  ...   \n",
       "235  0.0  0.0  0.0  0.0  0.0  0.0  0.0  0.0  0.0  0.0  ...  0.0  0.0  0.0   \n",
       "236  0.0  0.0  0.0  0.0  0.0  0.0  0.0  0.0  0.0  0.0  ...  0.0  0.0  0.0   \n",
       "237  0.0  0.0  0.0  0.0  0.0  0.0  0.0  0.0  0.0  0.0  ...  0.0  0.0  0.0   \n",
       "238  0.0  0.0  0.0  0.0  0.0  0.0  0.0  0.0  0.0  0.0  ...  0.0  0.0  0.0   \n",
       "239  0.0  0.0  0.0  0.0  0.0  0.0  0.0  0.0  0.0  0.0  ...  0.0  0.0  0.0   \n",
       "\n",
       "     233  234  235  236  237  238  239  \n",
       "0    0.0  0.0  0.0  0.0  0.0  0.0  0.0  \n",
       "1    0.0  0.0  0.0  0.0  0.0  0.0  0.0  \n",
       "2    0.0  0.0  0.0  0.0  0.0  0.0  0.0  \n",
       "3    0.0  0.0  0.0  0.0  0.0  0.0  0.0  \n",
       "4    0.0  0.0  0.0  0.0  0.0  0.0  0.0  \n",
       "..   ...  ...  ...  ...  ...  ...  ...  \n",
       "235  0.0  0.0  1.0  0.0  0.0  0.0  0.0  \n",
       "236  0.0  0.0  0.0  1.0  0.0  0.0  0.0  \n",
       "237  0.0  0.0  0.0  0.0  1.0  0.0  0.0  \n",
       "238  0.0  0.0  0.0  0.0  0.0  1.0  0.0  \n",
       "239  0.0  0.0  0.0  0.0  0.0  0.0  1.0  \n",
       "\n",
       "[240 rows x 240 columns]"
      ]
     },
     "execution_count": 12,
     "metadata": {},
     "output_type": "execute_result"
    }
   ],
   "source": [
    "pd.DataFrame(weighting_matrix)"
   ]
  },
  {
   "cell_type": "markdown",
   "metadata": {},
   "source": [
    "#### The *return_scalar* Argument\n",
    "\n",
    "The *return_scalar* argument allows us to return the moment errors in vector form. `msm` will return the moment error vector if *return_scalar* is set to **False** and will return the value of the weighted square product of the moment errors if *return_scalar* is set to **True**. "
   ]
  },
  {
   "cell_type": "markdown",
   "metadata": {},
   "source": [
    "### MSM Function\n",
    "We can now compute the msm function. The function will return a value of 0 if we use the true parameter vector as input."
   ]
  },
  {
   "cell_type": "code",
   "execution_count": 13,
   "metadata": {
    "ExecuteTime": {
     "end_time": "2020-01-02T06:44:04.785946Z",
     "start_time": "2020-01-02T06:44:00.998619Z"
    }
   },
   "outputs": [
    {
     "data": {
      "text/plain": [
       "0.0"
      ]
     },
     "execution_count": 13,
     "metadata": {},
     "output_type": "execute_result"
    }
   ],
   "source": [
    "msm(params=params, \n",
    "    options=options, \n",
    "    calc_moments=calc_moments, \n",
    "    replace_nans = fill_nans_zero,\n",
    "    empirical_moments=empirical_moments, \n",
    "    weighting_matrix = weighting_matrix, \n",
    "    return_scalar=True\n",
    "    )"
   ]
  },
  {
   "cell_type": "markdown",
   "metadata": {},
   "source": [
    "Using a different parameter vector will result in a value different from 0."
   ]
  },
  {
   "cell_type": "code",
   "execution_count": 14,
   "metadata": {
    "ExecuteTime": {
     "end_time": "2020-01-02T06:44:05.248492Z",
     "start_time": "2020-01-02T06:44:05.236842Z"
    }
   },
   "outputs": [],
   "source": [
    "params_sim = params.copy()\n",
    "params_sim.loc['delta', 'value'] = 0.8"
   ]
  },
  {
   "cell_type": "code",
   "execution_count": 15,
   "metadata": {
    "ExecuteTime": {
     "end_time": "2020-01-02T06:44:09.287213Z",
     "start_time": "2020-01-02T06:44:05.612723Z"
    }
   },
   "outputs": [
    {
     "data": {
      "text/plain": [
       "3261729527.4287252"
      ]
     },
     "execution_count": 15,
     "metadata": {},
     "output_type": "execute_result"
    }
   ],
   "source": [
    "msm(params=params_sim, \n",
    "    options=options, \n",
    "    calc_moments=calc_moments, \n",
    "    replace_nans = fill_nans_zero,\n",
    "    empirical_moments=empirical_moments, \n",
    "    weighting_matrix = weighting_matrix, \n",
    "    return_scalar=True\n",
    "    )"
   ]
  },
  {
   "cell_type": "code",
   "execution_count": 16,
   "metadata": {
    "ExecuteTime": {
     "end_time": "2020-01-02T06:44:13.352196Z",
     "start_time": "2020-01-02T06:44:09.649527Z"
    },
    "scrolled": true
   },
   "outputs": [
    {
     "data": {
      "text/html": [
       "<div>\n",
       "<style scoped>\n",
       "    .dataframe tbody tr th:only-of-type {\n",
       "        vertical-align: middle;\n",
       "    }\n",
       "\n",
       "    .dataframe tbody tr th {\n",
       "        vertical-align: top;\n",
       "    }\n",
       "\n",
       "    .dataframe thead th {\n",
       "        text-align: right;\n",
       "    }\n",
       "</style>\n",
       "<table border=\"1\" class=\"dataframe\">\n",
       "  <thead>\n",
       "    <tr style=\"text-align: right;\">\n",
       "      <th></th>\n",
       "      <th>0</th>\n",
       "    </tr>\n",
       "  </thead>\n",
       "  <tbody>\n",
       "    <tr>\n",
       "      <td>a_0</td>\n",
       "      <td>0.174</td>\n",
       "    </tr>\n",
       "    <tr>\n",
       "      <td>a_1</td>\n",
       "      <td>0.200</td>\n",
       "    </tr>\n",
       "    <tr>\n",
       "      <td>a_2</td>\n",
       "      <td>0.207</td>\n",
       "    </tr>\n",
       "    <tr>\n",
       "      <td>a_3</td>\n",
       "      <td>0.144</td>\n",
       "    </tr>\n",
       "    <tr>\n",
       "      <td>a_4</td>\n",
       "      <td>0.137</td>\n",
       "    </tr>\n",
       "  </tbody>\n",
       "</table>\n",
       "</div>"
      ],
      "text/plain": [
       "         0\n",
       "a_0  0.174\n",
       "a_1  0.200\n",
       "a_2  0.207\n",
       "a_3  0.144\n",
       "a_4  0.137"
      ]
     },
     "execution_count": 16,
     "metadata": {},
     "output_type": "execute_result"
    }
   ],
   "source": [
    "moment_errors = msm(params=params_sim, \n",
    "                    options=options, \n",
    "                    calc_moments=calc_moments, \n",
    "                    replace_nans = fill_nans_zero,\n",
    "                    empirical_moments=empirical_moments, \n",
    "                    weighting_matrix = weighting_matrix, \n",
    "                    return_scalar=False\n",
    "                    )\n",
    "\n",
    "moment_errors.head()"
   ]
  },
  {
   "cell_type": "markdown",
   "metadata": {},
   "source": [
    "## Inputs as Lists or Dictionaries\n",
    "\n",
    "In the example above we used single elements for all inputs i.e. we used one function to calculate moments, one function to replace missing moments and saved all sets of moments in a single DataFrame. This works well for the example at hand because the inputs are relatively simple, but other applications might require more flexibility. \n",
    "\n",
    "For instance, in the example above we use two sets of moments, the choice frequencies in each period and the mean and variance of the wages in each period. Notice how this choice of moments returns one value for each moment in each period which allows us to save all moments in the same DataFrame. However, some applications might use moments that return only one value for multiple periods or deviate from this structure in another way. In this case the moments can't be saved to a single DataFrame. The `msm` functions thus alternatively accepts lists and dictionaries as inputs. This way, different sets of moments can be stored separately. \n",
    "\n",
    "Using lists or dictionaries also allows for the use of different replacement rules for different moments. "
   ]
  },
  {
   "cell_type": "markdown",
   "metadata": {},
   "source": [
    "### Lists"
   ]
  },
  {
   "cell_type": "code",
   "execution_count": 47,
   "metadata": {
    "ExecuteTime": {
     "end_time": "2020-01-02T20:40:54.742316Z",
     "start_time": "2020-01-02T20:40:54.734700Z"
    }
   },
   "outputs": [],
   "source": [
    "def calc_choice_freq(df):\n",
    "    return df.groupby(\"Period\").Choice.value_counts(normalize=True).unstack()\n",
    "\n",
    "def calc_wage_distr(df):\n",
    "    return df.groupby(['Period'])['Wage'].describe()[['mean', 'std']]\n",
    "\n",
    "calc_moments = [calc_choice_freq, calc_wage_distr]"
   ]
  },
  {
   "cell_type": "code",
   "execution_count": 48,
   "metadata": {
    "ExecuteTime": {
     "end_time": "2020-01-02T20:40:55.524388Z",
     "start_time": "2020-01-02T20:40:55.520262Z"
    }
   },
   "outputs": [],
   "source": [
    "def fill_nans_zero(df):\n",
    "    return df.fillna(0)\n",
    "\n",
    "# Combine to list (for now we use the same replacement type for all sets of moments)\n",
    "replace_nans = [fill_nans_zero, fill_nans_zero]"
   ]
  },
  {
   "cell_type": "code",
   "execution_count": 49,
   "metadata": {
    "ExecuteTime": {
     "end_time": "2020-01-02T20:40:59.640038Z",
     "start_time": "2020-01-02T20:40:56.240497Z"
    }
   },
   "outputs": [],
   "source": [
    "params, options, df_emp = rp.get_example_model(\"kw_94_one\")\n",
    "empirical_moments = [calc_choice_freq(df_emp), calc_wage_distr(df_emp)]\n",
    "\n",
    "empirical_moments[0] = fill_nans_zero(empirical_moments[0])\n",
    "empirical_moments[1] = fill_nans_zero(empirical_moments[1])"
   ]
  },
  {
   "cell_type": "code",
   "execution_count": 50,
   "metadata": {
    "ExecuteTime": {
     "end_time": "2020-01-02T20:41:00.035066Z",
     "start_time": "2020-01-02T20:41:00.014551Z"
    }
   },
   "outputs": [],
   "source": [
    "weighting_matrix = get_diag_weighting_matrix(empirical_moments)"
   ]
  },
  {
   "cell_type": "code",
   "execution_count": 51,
   "metadata": {
    "ExecuteTime": {
     "end_time": "2020-01-02T20:41:04.110072Z",
     "start_time": "2020-01-02T20:41:00.403076Z"
    }
   },
   "outputs": [
    {
     "data": {
      "text/plain": [
       "0.0"
      ]
     },
     "execution_count": 51,
     "metadata": {},
     "output_type": "execute_result"
    }
   ],
   "source": [
    "msm(params=params, \n",
    "    options=options, \n",
    "    calc_moments=calc_moments, \n",
    "    replace_nans = replace_nans,\n",
    "    empirical_moments=empirical_moments, \n",
    "    weighting_matrix = weighting_matrix, \n",
    "    return_scalar=True\n",
    "    )"
   ]
  },
  {
   "cell_type": "code",
   "execution_count": 52,
   "metadata": {
    "ExecuteTime": {
     "end_time": "2020-01-02T20:41:04.471273Z",
     "start_time": "2020-01-02T20:41:04.465966Z"
    }
   },
   "outputs": [],
   "source": [
    "params_sim = params.copy()\n",
    "params_sim.loc['delta', 'value'] = 0.8"
   ]
  },
  {
   "cell_type": "code",
   "execution_count": 53,
   "metadata": {
    "ExecuteTime": {
     "end_time": "2020-01-02T20:41:08.822987Z",
     "start_time": "2020-01-02T20:41:05.011006Z"
    }
   },
   "outputs": [
    {
     "data": {
      "text/html": [
       "<div>\n",
       "<style scoped>\n",
       "    .dataframe tbody tr th:only-of-type {\n",
       "        vertical-align: middle;\n",
       "    }\n",
       "\n",
       "    .dataframe tbody tr th {\n",
       "        vertical-align: top;\n",
       "    }\n",
       "\n",
       "    .dataframe thead th {\n",
       "        text-align: right;\n",
       "    }\n",
       "</style>\n",
       "<table border=\"1\" class=\"dataframe\">\n",
       "  <thead>\n",
       "    <tr style=\"text-align: right;\">\n",
       "      <th></th>\n",
       "      <th>0</th>\n",
       "    </tr>\n",
       "  </thead>\n",
       "  <tbody>\n",
       "    <tr>\n",
       "      <td>a_0</td>\n",
       "      <td>0.174</td>\n",
       "    </tr>\n",
       "    <tr>\n",
       "      <td>a_1</td>\n",
       "      <td>0.200</td>\n",
       "    </tr>\n",
       "    <tr>\n",
       "      <td>a_2</td>\n",
       "      <td>0.207</td>\n",
       "    </tr>\n",
       "    <tr>\n",
       "      <td>a_3</td>\n",
       "      <td>0.144</td>\n",
       "    </tr>\n",
       "    <tr>\n",
       "      <td>a_4</td>\n",
       "      <td>0.137</td>\n",
       "    </tr>\n",
       "  </tbody>\n",
       "</table>\n",
       "</div>"
      ],
      "text/plain": [
       "         0\n",
       "a_0  0.174\n",
       "a_1  0.200\n",
       "a_2  0.207\n",
       "a_3  0.144\n",
       "a_4  0.137"
      ]
     },
     "execution_count": 53,
     "metadata": {},
     "output_type": "execute_result"
    }
   ],
   "source": [
    "msm(params=params_sim, \n",
    "    options=options, \n",
    "    calc_moments=calc_moments, \n",
    "    replace_nans = replace_nans,\n",
    "    empirical_moments=empirical_moments, \n",
    "    weighting_matrix = weighting_matrix, \n",
    "    return_scalar=False\n",
    "    ).head()"
   ]
  },
  {
   "cell_type": "code",
   "execution_count": 54,
   "metadata": {
    "ExecuteTime": {
     "end_time": "2020-01-02T20:41:13.133890Z",
     "start_time": "2020-01-02T20:41:09.287055Z"
    }
   },
   "outputs": [
    {
     "data": {
      "text/plain": [
       "3261729527.4287252"
      ]
     },
     "execution_count": 54,
     "metadata": {},
     "output_type": "execute_result"
    }
   ],
   "source": [
    "msm(params=params_sim, \n",
    "    options=options, \n",
    "    calc_moments=calc_moments, \n",
    "    replace_nans = replace_nans,\n",
    "    empirical_moments=empirical_moments, \n",
    "    weighting_matrix = weighting_matrix, \n",
    "    return_scalar=True\n",
    "    )"
   ]
  },
  {
   "cell_type": "markdown",
   "metadata": {},
   "source": [
    "### Dictionaries"
   ]
  },
  {
   "cell_type": "code",
   "execution_count": 35,
   "metadata": {
    "ExecuteTime": {
     "end_time": "2020-01-02T20:32:21.469624Z",
     "start_time": "2020-01-02T20:32:21.466461Z"
    }
   },
   "outputs": [],
   "source": [
    "calc_moments = {'Choice Frequencies': calc_choice_freq, \n",
    "                'Wage Distribution': calc_wage_distr\n",
    "                }"
   ]
  },
  {
   "cell_type": "code",
   "execution_count": 36,
   "metadata": {
    "ExecuteTime": {
     "end_time": "2020-01-02T20:32:22.151589Z",
     "start_time": "2020-01-02T20:32:22.147279Z"
    }
   },
   "outputs": [],
   "source": [
    "replace_nans = {\n",
    "                'Choice Frequencies': fill_nans_zero, \n",
    "                'Wage Distribution': fill_nans_zero\n",
    "                }"
   ]
  },
  {
   "cell_type": "code",
   "execution_count": 37,
   "metadata": {
    "ExecuteTime": {
     "end_time": "2020-01-02T20:32:26.361156Z",
     "start_time": "2020-01-02T20:32:22.915874Z"
    }
   },
   "outputs": [],
   "source": [
    "params, options, df_emp = rp.get_example_model(\"kw_94_one\")\n",
    "choices = calc_choice_freq(df_emp)\n",
    "choices = fill_nans_zero(choices)\n",
    "wages = calc_wage_distr(df_emp)\n",
    "wages = fill_nans_zero(wages)\n",
    "\n",
    "empirical_moments = {\n",
    "                     'Choice Frequencies': choices, \n",
    "                     'Wage Distribution': wages,\n",
    "                     }"
   ]
  },
  {
   "cell_type": "code",
   "execution_count": 38,
   "metadata": {
    "ExecuteTime": {
     "end_time": "2020-01-02T20:32:26.821299Z",
     "start_time": "2020-01-02T20:32:26.799908Z"
    }
   },
   "outputs": [],
   "source": [
    "weighting_matrix = get_diag_weighting_matrix(empirical_moments)"
   ]
  },
  {
   "cell_type": "code",
   "execution_count": 45,
   "metadata": {
    "ExecuteTime": {
     "end_time": "2020-01-02T20:40:28.680607Z",
     "start_time": "2020-01-02T20:40:25.225504Z"
    }
   },
   "outputs": [
    {
     "data": {
      "text/plain": [
       "0.0"
      ]
     },
     "execution_count": 45,
     "metadata": {},
     "output_type": "execute_result"
    }
   ],
   "source": [
    "msm(params=params, \n",
    "   options=options, \n",
    "   calc_moments=calc_moments, \n",
    "   replace_nans = replace_nans,\n",
    "   empirical_moments=empirical_moments, \n",
    "   weighting_matrix = weighting_matrix, \n",
    "   return_scalar=True\n",
    "   )"
   ]
  },
  {
   "cell_type": "code",
   "execution_count": 43,
   "metadata": {
    "ExecuteTime": {
     "end_time": "2020-01-02T20:40:05.176977Z",
     "start_time": "2020-01-02T20:40:01.923668Z"
    }
   },
   "outputs": [
    {
     "data": {
      "text/html": [
       "<div>\n",
       "<style scoped>\n",
       "    .dataframe tbody tr th:only-of-type {\n",
       "        vertical-align: middle;\n",
       "    }\n",
       "\n",
       "    .dataframe tbody tr th {\n",
       "        vertical-align: top;\n",
       "    }\n",
       "\n",
       "    .dataframe thead th {\n",
       "        text-align: right;\n",
       "    }\n",
       "</style>\n",
       "<table border=\"1\" class=\"dataframe\">\n",
       "  <thead>\n",
       "    <tr style=\"text-align: right;\">\n",
       "      <th></th>\n",
       "      <th>0</th>\n",
       "    </tr>\n",
       "  </thead>\n",
       "  <tbody>\n",
       "    <tr>\n",
       "      <td>a_0</td>\n",
       "      <td>0.174</td>\n",
       "    </tr>\n",
       "    <tr>\n",
       "      <td>a_1</td>\n",
       "      <td>0.200</td>\n",
       "    </tr>\n",
       "    <tr>\n",
       "      <td>a_2</td>\n",
       "      <td>0.207</td>\n",
       "    </tr>\n",
       "    <tr>\n",
       "      <td>a_3</td>\n",
       "      <td>0.144</td>\n",
       "    </tr>\n",
       "    <tr>\n",
       "      <td>a_4</td>\n",
       "      <td>0.137</td>\n",
       "    </tr>\n",
       "  </tbody>\n",
       "</table>\n",
       "</div>"
      ],
      "text/plain": [
       "         0\n",
       "a_0  0.174\n",
       "a_1  0.200\n",
       "a_2  0.207\n",
       "a_3  0.144\n",
       "a_4  0.137"
      ]
     },
     "execution_count": 43,
     "metadata": {},
     "output_type": "execute_result"
    }
   ],
   "source": [
    "msm(params=params_sim, \n",
    "    options=options, \n",
    "    calc_moments=calc_moments, \n",
    "    replace_nans = replace_nans,\n",
    "    empirical_moments=empirical_moments, \n",
    "    weighting_matrix = weighting_matrix, \n",
    "    return_scalar=False\n",
    "    ).head()"
   ]
  },
  {
   "cell_type": "code",
   "execution_count": 46,
   "metadata": {
    "ExecuteTime": {
     "end_time": "2020-01-02T20:40:33.052075Z",
     "start_time": "2020-01-02T20:40:29.843306Z"
    }
   },
   "outputs": [
    {
     "data": {
      "text/plain": [
       "3261729527.4287252"
      ]
     },
     "execution_count": 46,
     "metadata": {},
     "output_type": "execute_result"
    }
   ],
   "source": [
    "msm(params=params_sim, \n",
    "    options=options, \n",
    "    calc_moments=calc_moments, \n",
    "    replace_nans = replace_nans,\n",
    "    empirical_moments=empirical_moments, \n",
    "    weighting_matrix = weighting_matrix, \n",
    "    return_scalar=True\n",
    "    )"
   ]
  },
  {
   "cell_type": "markdown",
   "metadata": {},
   "source": [
    "## References\n",
    "\n",
    "> Keane, M. P. and  Wolpin, K. I. (1994). [The Solution and Estimation of Discrete Choice Dynamic Programming Models by Simulation and Interpolation: Monte Carlo Evidence](https://doi.org/10.2307/2109768). *The Review of Economics and Statistics*, 76(4): 648-672.\n"
   ]
  }
 ],
 "metadata": {
  "kernelspec": {
   "display_name": "Python 3",
   "language": "python",
   "name": "python3"
  },
  "language_info": {
   "codemirror_mode": {
    "name": "ipython",
    "version": 3
   },
   "file_extension": ".py",
   "mimetype": "text/x-python",
   "name": "python",
   "nbconvert_exporter": "python",
   "pygments_lexer": "ipython3",
   "version": "3.7.4"
  },
  "toc": {
   "base_numbering": 1,
   "nav_menu": {},
   "number_sections": true,
   "sideBar": true,
   "skip_h1_title": true,
   "title_cell": "Table of Contents",
   "title_sidebar": "Contents",
   "toc_cell": false,
   "toc_position": {
    "height": "calc(100% - 180px)",
    "left": "10px",
    "top": "150px",
    "width": "308.8px"
   },
   "toc_section_display": true,
   "toc_window_display": true
  },
  "varInspector": {
   "cols": {
    "lenName": 16,
    "lenType": 16,
    "lenVar": 40
   },
   "kernels_config": {
    "python": {
     "delete_cmd_postfix": "",
     "delete_cmd_prefix": "del ",
     "library": "var_list.py",
     "varRefreshCmd": "print(var_dic_list())"
    },
    "r": {
     "delete_cmd_postfix": ") ",
     "delete_cmd_prefix": "rm(",
     "library": "var_list.r",
     "varRefreshCmd": "cat(var_dic_list()) "
    }
   },
   "types_to_exclude": [
    "module",
    "function",
    "builtin_function_or_method",
    "instance",
    "_Feature"
   ],
   "window_display": false
  }
 },
 "nbformat": 4,
 "nbformat_minor": 2
}
