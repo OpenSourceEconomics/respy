{
 "cells": [
  {
   "cell_type": "markdown",
   "metadata": {},
   "source": [
    "**Mehod of Simulated Moments**\n",
    "This tutorial walks you through the setup of method of simulated moment estimation in respy. \n",
    "Respy requires you to provide two addditional object next to the model specification. \n",
    "One is a pandas Series containing all empirical moments and one is a function that calculates simulated moments\n",
    "from the simulated Data. \n",
    "Additionally one can supply an own weighting matrix, the default choice is the identity. \n",
    "One can also request respy to return the result in vector form which might be requred by some derivative free optimization algorithms. "
   ]
  },
  {
   "cell_type": "code",
   "execution_count": 1,
   "metadata": {},
   "outputs": [
    {
     "ename": "ModuleNotFoundError",
     "evalue": "No module named 'respy'",
     "output_type": "error",
     "traceback": [
      "\u001b[0;31m---------------------------------------------------------------------------\u001b[0m",
      "\u001b[0;31mModuleNotFoundError\u001b[0m                       Traceback (most recent call last)",
      "\u001b[0;32m<ipython-input-1-56ba56629975>\u001b[0m in \u001b[0;36m<module>\u001b[0;34m\u001b[0m\n\u001b[1;32m      1\u001b[0m \u001b[0;31m#Import relevant packages\u001b[0m\u001b[0;34m\u001b[0m\u001b[0;34m\u001b[0m\u001b[0;34m\u001b[0m\u001b[0m\n\u001b[0;32m----> 2\u001b[0;31m \u001b[0;32mimport\u001b[0m \u001b[0mrespy\u001b[0m \u001b[0;32mas\u001b[0m \u001b[0mrp\u001b[0m\u001b[0;34m\u001b[0m\u001b[0;34m\u001b[0m\u001b[0m\n\u001b[0m\u001b[1;32m      3\u001b[0m \u001b[0;32mimport\u001b[0m \u001b[0mnumpy\u001b[0m \u001b[0;32mas\u001b[0m \u001b[0mnp\u001b[0m\u001b[0;34m\u001b[0m\u001b[0;34m\u001b[0m\u001b[0m\n\u001b[1;32m      4\u001b[0m \u001b[0;34m\u001b[0m\u001b[0m\n\u001b[1;32m      5\u001b[0m \u001b[0;32mfrom\u001b[0m \u001b[0mrespy\u001b[0m\u001b[0;34m.\u001b[0m\u001b[0mpre_processing\u001b[0m\u001b[0;34m.\u001b[0m\u001b[0mmodel_processing\u001b[0m \u001b[0;32mimport\u001b[0m \u001b[0mprocess_params_and_options\u001b[0m\u001b[0;34m\u001b[0m\u001b[0;34m\u001b[0m\u001b[0m\n",
      "\u001b[0;31mModuleNotFoundError\u001b[0m: No module named 'respy'"
     ]
    }
   ],
   "source": [
    "#Import relevant packages \n",
    "import respy as rp\n",
    "import numpy as np\n",
    "\n",
    "from respy.pre_processing.model_processing import process_params_and_options\n",
    "from respy.tests.random_model import get_mock_moment_func\n",
    "from respy.method_of_simulated_moments import get_msm_func"
   ]
  },
  {
   "cell_type": "markdown",
   "metadata": {},
   "source": [
    "**Moment Function**\n",
    "In the first step we create a moment function. \n",
    "For  the example we only target choice probabilities and\n",
    "no other moments.\n"
   ]
  },
  {
   "cell_type": "code",
   "execution_count": 2,
   "metadata": {},
   "outputs": [],
   "source": [
    "def get_moment_func(df, optim_paras):\n",
    "    periods, choices, container_idx = _create_index_mock(df, optim_paras)\n",
    "    out = partial(_get_moments,\n",
    "                  container_idx=container_idx,\n",
    "                  periods=periods,\n",
    "                  choices=choices)\n",
    "    return out\n",
    "\n",
    "def _get_moments(df, container_idx, periods, choices):\n",
    "    \"\"\"\n",
    "    Mock Moment function to test the smm interface.\n",
    "    \"\"\"\n",
    "    moments = pd.Series(index=container_idx)\n",
    "    df_indexed = df.set_index([\"Identifier\", \"Period\"], drop=True)\n",
    "    df_grouped_period = df_indexed.groupby([\"Period\"])\n",
    "\n",
    "    info_period = df_grouped_period[\"Choice\"].value_counts(normalize=True).to_dict()\n",
    "    info_period = defaultdict(lambda: 0.00, info_period)\n",
    "\n",
    "    for period in periods:\n",
    "        for choice in choices:\n",
    "            name = (period, choice)\n",
    "            moments.loc[name] = info_period[name]\n",
    "    return moments\n",
    "\n",
    "def _create_index_mock(df, optim_paras):\n",
    "    periods = sorted(df[\"Period\"].unique())\n",
    "    choices = sorted(list(optim_paras[\"choices\"].keys()))\n",
    "    container_idx = list(itertools.product(periods, choices))\n",
    "    return periods, choices, container_idx"
   ]
  },
  {
   "cell_type": "markdown",
   "metadata": {},
   "source": [
    "**Create Criterion**\n",
    "Now we have all the ingredients to create a first simple criterion function:"
   ]
  },
  {
   "cell_type": "code",
   "execution_count": 3,
   "metadata": {},
   "outputs": [
    {
     "ename": "NameError",
     "evalue": "name 'rp' is not defined",
     "output_type": "error",
     "traceback": [
      "\u001b[0;31m---------------------------------------------------------------------------\u001b[0m",
      "\u001b[0;31mNameError\u001b[0m                                 Traceback (most recent call last)",
      "\u001b[0;32m<ipython-input-3-7c9cdea4b9f4>\u001b[0m in \u001b[0;36m<module>\u001b[0;34m\u001b[0m\n\u001b[0;32m----> 1\u001b[0;31m \u001b[0mparams\u001b[0m\u001b[0;34m,\u001b[0m \u001b[0moptions\u001b[0m\u001b[0;34m,\u001b[0m\u001b[0m_\u001b[0m \u001b[0;34m=\u001b[0m \u001b[0mrp\u001b[0m\u001b[0;34m.\u001b[0m\u001b[0mget_example_model\u001b[0m\u001b[0;34m(\u001b[0m\u001b[0;34m\"kw_94_one\"\u001b[0m\u001b[0;34m)\u001b[0m\u001b[0;34m\u001b[0m\u001b[0;34m\u001b[0m\u001b[0m\n\u001b[0m\u001b[1;32m      2\u001b[0m \u001b[0msimulate\u001b[0m \u001b[0;34m=\u001b[0m \u001b[0mrp\u001b[0m\u001b[0;34m.\u001b[0m\u001b[0mget_simulate_func\u001b[0m\u001b[0;34m(\u001b[0m\u001b[0mparams\u001b[0m\u001b[0;34m,\u001b[0m \u001b[0moptions\u001b[0m\u001b[0;34m)\u001b[0m\u001b[0;34m\u001b[0m\u001b[0;34m\u001b[0m\u001b[0m\n\u001b[1;32m      3\u001b[0m \u001b[0mdf\u001b[0m \u001b[0;34m=\u001b[0m \u001b[0msimulate\u001b[0m\u001b[0;34m(\u001b[0m\u001b[0mparams\u001b[0m\u001b[0;34m)\u001b[0m\u001b[0;34m\u001b[0m\u001b[0;34m\u001b[0m\u001b[0m\n\u001b[1;32m      4\u001b[0m \u001b[0moptim_paras\u001b[0m\u001b[0;34m,\u001b[0m \u001b[0m_\u001b[0m \u001b[0;34m=\u001b[0m \u001b[0mprocess_params_and_options\u001b[0m\u001b[0;34m(\u001b[0m\u001b[0mparams\u001b[0m\u001b[0;34m,\u001b[0m \u001b[0moptions\u001b[0m\u001b[0;34m)\u001b[0m\u001b[0;34m\u001b[0m\u001b[0;34m\u001b[0m\u001b[0m\n\u001b[1;32m      5\u001b[0m \u001b[0mget_moments\u001b[0m \u001b[0;34m=\u001b[0m \u001b[0mget_mock_moment_func\u001b[0m\u001b[0;34m(\u001b[0m\u001b[0mdf\u001b[0m\u001b[0;34m,\u001b[0m \u001b[0moptim_paras\u001b[0m\u001b[0;34m)\u001b[0m\u001b[0;34m\u001b[0m\u001b[0;34m\u001b[0m\u001b[0m\n",
      "\u001b[0;31mNameError\u001b[0m: name 'rp' is not defined"
     ]
    }
   ],
   "source": [
    "    params, options,_ = rp.get_example_model(\"kw_94_one\")\n",
    "    simulate = rp.get_simulate_func(params, options)\n",
    "    df = simulate(params)\n",
    "    optim_paras, _ = process_params_and_options(params, options)\n",
    "    get_moments = get_mock_moment_func(df, optim_paras)\n",
    "    moments_base = get_moments(df)\n",
    "    #The following function is  the criterion. It will act as input to the optimization algorithm \n",
    "    msm = get_msm_func(params, options, moments_base, get_moments)\n",
    "    #It can be evaluated in the following way\n",
    "    rslt = msm(params)"
   ]
  },
  {
   "cell_type": "markdown",
   "metadata": {},
   "source": [
    "**Weighting Matrix**\n",
    "The example we just used does not specify a weighting matrix. \n",
    "In such a case the identity is used as default. In the situation at hand this \n",
    "is most likely not a huge problem since all moments are of the same order of magnitude. \n",
    "If we however target a range of different moments it could very well be that moments have different orders of magnitude \n",
    "which make the identity basically useless as weighting matrix. \n",
    "The following code snippet shows you how you can create a common weighting matrix for  the problem at hand. \n",
    "We choose the inverse Variance Matrix of the moments"
   ]
  },
  {
   "cell_type": "code",
   "execution_count": null,
   "metadata": {},
   "outputs": [],
   "source": [
    "def weighting_matrix():\n",
    "    pass"
   ]
  },
  {
   "cell_type": "markdown",
   "metadata": {},
   "source": [
    "**Dimensionality**\n",
    "Last but not least one can also request a the vector of weighted deviations instead of the final value of the objective. \n",
    "That could be required by some optimization algorithms. \n",
    "The following cell shows how that is possible. "
   ]
  },
  {
   "cell_type": "code",
   "execution_count": null,
   "metadata": {},
   "outputs": [],
   "source": []
  }
 ],
 "metadata": {
  "kernelspec": {
   "display_name": "Python 3",
   "language": "python",
   "name": "python3"
  },
  "language_info": {
   "codemirror_mode": {
    "name": "ipython",
    "version": 3
   },
   "file_extension": ".py",
   "mimetype": "text/x-python",
   "name": "python",
   "nbconvert_exporter": "python",
   "pygments_lexer": "ipython3",
   "version": "3.7.3"
  }
 },
 "nbformat": 4,
 "nbformat_minor": 4
}
