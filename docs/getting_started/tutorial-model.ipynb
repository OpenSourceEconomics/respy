{
 "cells": [
  {
   "cell_type": "markdown",
   "metadata": {},
   "source": [
    "# Tutorial - Model\n",
    "\n",
    "We now illustrate the basic capabilities of the ``respy`` package in a simple tutorial.\n",
    "\n",
    "## The model specification\n",
    "\n",
    "In order to perform simulation and/or estimation using ``respy`` package a model specification is needed. It consists of two files: the parameter specification contains initial parameter values and the options specification includes important data set dimentions, arguments for the optimization algorythms, etc.. Details on the components of the model specification are presented in the section [Model specification](../software/model-specification.rst). Please note that the two specification files should be in your current working directory or another accessible directory when executing the commands and scripts discussed below.\n",
    "\n",
    "## Example\n",
    "\n",
    "Now we can explore the basic functionalities of the ``respy`` package based on a simple example."
   ]
  },
  {
   "cell_type": "code",
   "execution_count": 1,
   "metadata": {},
   "outputs": [],
   "source": [
    "import respy as rp"
   ]
  },
  {
   "cell_type": "code",
   "execution_count": 2,
   "metadata": {},
   "outputs": [],
   "source": [
    "# Get an exemplary model specification.\n",
    "params_spec, options_spec = rp.get_example_model(\"kw_data_one\")"
   ]
  },
  {
   "cell_type": "markdown",
   "metadata": {},
   "source": [
    "The options specification shows all variable arguments to the model which are not part of the optimization process like the number of periods in the model or the optimizer to fit the model to data."
   ]
  },
  {
   "cell_type": "code",
   "execution_count": 3,
   "metadata": {
    "scrolled": false
   },
   "outputs": [
    {
     "data": {
      "text/plain": [
       "{'estimation': {'agents': 1000, 'draws': 200, 'seed': 500, 'tau': 500.0},\n",
       " 'simulation': {'agents': 1000, 'seed': 132},\n",
       " 'program': {'debug': False},\n",
       " 'interpolation': {'flag': False, 'points': 200},\n",
       " 'solution': {'seed': 456, 'draws': 500},\n",
       " 'edu_spec': {'lagged': [1.0], 'start': [10], 'share': [1.0], 'max': 20},\n",
       " 'num_periods': 40}"
      ]
     },
     "execution_count": 3,
     "metadata": {},
     "output_type": "execute_result"
    }
   ],
   "source": [
    "options_spec"
   ]
  },
  {
   "cell_type": "code",
   "execution_count": 4,
   "metadata": {},
   "outputs": [],
   "source": [
    "# We limit the model to five periods to make runtime shorter\n",
    "# and to avoid memory errors on mybinder.org.\n",
    "options_spec[\"num_periods\"] = 5"
   ]
  },
  {
   "cell_type": "markdown",
   "metadata": {},
   "source": [
    "The parameter specification includes all parameters of the model which are affected by the optimization routine."
   ]
  },
  {
   "cell_type": "code",
   "execution_count": 5,
   "metadata": {},
   "outputs": [
    {
     "data": {
      "text/html": [
       "<div>\n",
       "<style scoped>\n",
       "    .dataframe tbody tr th:only-of-type {\n",
       "        vertical-align: middle;\n",
       "    }\n",
       "\n",
       "    .dataframe tbody tr th {\n",
       "        vertical-align: top;\n",
       "    }\n",
       "\n",
       "    .dataframe thead th {\n",
       "        text-align: right;\n",
       "    }\n",
       "</style>\n",
       "<table border=\"1\" class=\"dataframe\">\n",
       "  <thead>\n",
       "    <tr style=\"text-align: right;\">\n",
       "      <th></th>\n",
       "      <th>category</th>\n",
       "      <th>name</th>\n",
       "      <th>para</th>\n",
       "      <th>fixed</th>\n",
       "      <th>lower</th>\n",
       "      <th>upper</th>\n",
       "      <th>comment</th>\n",
       "    </tr>\n",
       "  </thead>\n",
       "  <tbody>\n",
       "    <tr>\n",
       "      <th>0</th>\n",
       "      <td>delta</td>\n",
       "      <td>delta</td>\n",
       "      <td>0.950</td>\n",
       "      <td>False</td>\n",
       "      <td>0.7</td>\n",
       "      <td>1.0</td>\n",
       "      <td>discount factor</td>\n",
       "    </tr>\n",
       "    <tr>\n",
       "      <th>1</th>\n",
       "      <td>coeffs_common</td>\n",
       "      <td>return_hs_degree</td>\n",
       "      <td>0.000</td>\n",
       "      <td>False</td>\n",
       "      <td>NaN</td>\n",
       "      <td>NaN</td>\n",
       "      <td>return to high school degree (non pecuniary)</td>\n",
       "    </tr>\n",
       "    <tr>\n",
       "      <th>2</th>\n",
       "      <td>coeffs_common</td>\n",
       "      <td>return_col_degree</td>\n",
       "      <td>0.000</td>\n",
       "      <td>False</td>\n",
       "      <td>NaN</td>\n",
       "      <td>NaN</td>\n",
       "      <td>return to college degree (non pecuniary)</td>\n",
       "    </tr>\n",
       "    <tr>\n",
       "      <th>3</th>\n",
       "      <td>coeffs_a</td>\n",
       "      <td>skill_price</td>\n",
       "      <td>9.210</td>\n",
       "      <td>False</td>\n",
       "      <td>NaN</td>\n",
       "      <td>NaN</td>\n",
       "      <td>skill rental price if the base skill endowment...</td>\n",
       "    </tr>\n",
       "    <tr>\n",
       "      <th>4</th>\n",
       "      <td>coeffs_a</td>\n",
       "      <td>return_schooling</td>\n",
       "      <td>0.038</td>\n",
       "      <td>False</td>\n",
       "      <td>NaN</td>\n",
       "      <td>NaN</td>\n",
       "      <td>linear return to an additional year of schooli...</td>\n",
       "    </tr>\n",
       "  </tbody>\n",
       "</table>\n",
       "</div>"
      ],
      "text/plain": [
       "        category               name   para  fixed  lower  upper  \\\n",
       "0          delta              delta  0.950  False    0.7    1.0   \n",
       "1  coeffs_common   return_hs_degree  0.000  False    NaN    NaN   \n",
       "2  coeffs_common  return_col_degree  0.000  False    NaN    NaN   \n",
       "3       coeffs_a        skill_price  9.210  False    NaN    NaN   \n",
       "4       coeffs_a   return_schooling  0.038  False    NaN    NaN   \n",
       "\n",
       "                                             comment  \n",
       "0                                    discount factor  \n",
       "1       return to high school degree (non pecuniary)  \n",
       "2           return to college degree (non pecuniary)  \n",
       "3  skill rental price if the base skill endowment...  \n",
       "4  linear return to an additional year of schooli...  "
      ]
     },
     "execution_count": 5,
     "metadata": {},
     "output_type": "execute_result"
    }
   ],
   "source": [
    "params_spec.head(5)"
   ]
  },
  {
   "cell_type": "code",
   "execution_count": 6,
   "metadata": {},
   "outputs": [],
   "source": [
    "# Convert parameters and options to model attributes.\n",
    "attr = rp.process_model_spec(params_spec, options_spec)"
   ]
  },
  {
   "cell_type": "code",
   "execution_count": 7,
   "metadata": {},
   "outputs": [],
   "source": [
    "# Simulate a sample from the specified model.\n",
    "state_space, df = rp.simulate(attr)"
   ]
  },
  {
   "cell_type": "code",
   "execution_count": 8,
   "metadata": {},
   "outputs": [
    {
     "data": {
      "text/plain": [
       "2.0070985859621238"
      ]
     },
     "execution_count": 8,
     "metadata": {},
     "output_type": "execute_result"
    }
   ],
   "source": [
    "# Calculate the likelihood for the simulated sample.\n",
    "crit_func = rp.get_criterion_function(attr, df)\n",
    "x = rp.get_parameter_vector(attr)\n",
    "\n",
    "crit_val = crit_func(x)\n",
    "crit_val"
   ]
  },
  {
   "cell_type": "markdown",
   "metadata": {},
   "source": [
    "The simulation and estimation functionalities of the ``respy`` package can be used\n",
    "separately. To perform a simulation only a model specification, as shown above, is\n",
    "required. Here we are using the simulated data\n",
    "for the estimation. However, you can of course also use other data sources.\n",
    "For more information on the required structure of the dataset see\n",
    "[Model specification](../software/model-specification.rst)."
   ]
  }
 ],
 "metadata": {
  "kernelspec": {
   "display_name": "Python 3",
   "language": "python",
   "name": "python3"
  },
  "language_info": {
   "codemirror_mode": {
    "name": "ipython",
    "version": 3
   },
   "file_extension": ".py",
   "mimetype": "text/x-python",
   "name": "python",
   "nbconvert_exporter": "python",
   "pygments_lexer": "ipython3",
   "version": "3.7.3"
  }
 },
 "nbformat": 4,
 "nbformat_minor": 2
}
