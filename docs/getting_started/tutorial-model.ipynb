{
 "cells": [
  {
   "cell_type": "markdown",
   "metadata": {},
   "source": [
    "# Tutorial - Model\n",
    "\n",
    "We now illustrate the basic capabilities of the ``respy`` package in a simple tutorial.\n",
    "\n",
    "## The model specification\n",
    "\n",
    "In order to perform simulation and/or estimation using ``respy`` package a model specification is needed. It consists of two files: the parameter specification contains initial parameter values and the options specification includes important data set dimentions, arguments for the optimization algorythms, etc.. Details on the components of the model specification are presented in the section [Model specification](../software/model-specification.rst). Please note that the two specification files should be in your current working directory or another accessible directory when executing the commands and scripts discussed below.\n",
    "\n",
    "## Example\n",
    "\n",
    "Now we can explore the basic functionalities of the ``respy`` package based on a simple example."
   ]
  },
  {
   "cell_type": "code",
   "execution_count": 1,
   "metadata": {},
   "outputs": [],
   "source": [
    "import os\n",
    "import respy\n",
    "import shutil\n",
    "\n",
    "from pathlib import Path"
   ]
  },
  {
   "cell_type": "code",
   "execution_count": 2,
   "metadata": {},
   "outputs": [],
   "source": [
    "# Create temporary directory and walk into it, so that the output does not\n",
    "# clutter your directory.\n",
    "temp_dir = Path(\"__tutorial__\").resolve()\n",
    "if temp_dir.exists():\n",
    "    shutil.rmtree(temp_dir)\n",
    "temp_dir.mkdir()    \n",
    "os.chdir(temp_dir)"
   ]
  },
  {
   "cell_type": "code",
   "execution_count": 3,
   "metadata": {},
   "outputs": [],
   "source": [
    "# Get an exemplary model specification.\n",
    "options_spec, params_spec = respy.get_example_model(\"kw_data_one\")"
   ]
  },
  {
   "cell_type": "markdown",
   "metadata": {},
   "source": [
    "The options specification shows all variable arguments to the model which are not part of the optimization process like the number of periods in the model or the optimizer to fit the model to data."
   ]
  },
  {
   "cell_type": "code",
   "execution_count": 4,
   "metadata": {},
   "outputs": [
    {
     "data": {
      "text/plain": [
       "{'estimation': {'file': 'data.respy.dat',\n",
       "  'maxfun': 1000,\n",
       "  'agents': 1000,\n",
       "  'draws': 200,\n",
       "  'optimizer': 'FORT-BOBYQA',\n",
       "  'seed': 500,\n",
       "  'tau': 500.0},\n",
       " 'simulation': {'file': 'data', 'agents': 1000, 'seed': 132},\n",
       " 'program': {'debug': False, 'procs': 1, 'threads': 1, 'version': 'fortran'},\n",
       " 'interpolation': {'flag': False, 'points': 200},\n",
       " 'solution': {'store': True, 'seed': 456, 'draws': 500},\n",
       " 'preconditioning': {'minimum': 1e-05, 'type': 'magnitudes', 'eps': 0.0001},\n",
       " 'derivatives': 'forward-differences',\n",
       " 'edu_spec': {'lagged': [1.0], 'start': [10], 'share': [1.0], 'max': 20},\n",
       " 'num_periods': 40,\n",
       " 'FORT-NEWUOA': {'maxfun': 1000000, 'npt': 1, 'rhobeg': 1.0, 'rhoend': 1e-06},\n",
       " 'FORT-BFGS': {'eps': 0.0001, 'gtol': 1e-05, 'maxiter': 10, 'stpmx': 100.0},\n",
       " 'FORT-BOBYQA': {'maxfun': 1000000, 'npt': 1, 'rhobeg': 1.0, 'rhoend': 1e-06},\n",
       " 'SCIPY-BFGS': {'eps': 0.0001, 'gtol': 0.0001, 'maxiter': 1},\n",
       " 'SCIPY-POWELL': {'ftol': 0.0001,\n",
       "  'maxfun': 100000,\n",
       "  'maxiter': 1,\n",
       "  'xtol': 0.0001},\n",
       " 'SCIPY-LBFGSB': {'eps': 4.41037423e-07,\n",
       "  'factr': 30.401091854739622,\n",
       "  'm': 5,\n",
       "  'maxiter': 2,\n",
       "  'maxls': 2,\n",
       "  'pgtol': 8.6554171164e-05}}"
      ]
     },
     "execution_count": 4,
     "metadata": {},
     "output_type": "execute_result"
    }
   ],
   "source": [
    "options_spec"
   ]
  },
  {
   "cell_type": "code",
   "execution_count": 5,
   "metadata": {},
   "outputs": [],
   "source": [
    "# We use the Python version for compatibility.\n",
    "options_spec[\"program\"][\"version\"] = \"python\"\n",
    "# We need to change from a Fortran to a Python optimizer\n",
    "options_spec[\"estimation\"][\"optimizer\"] = \"SCIPY-LBFGSB\"\n",
    "# We limit the model to five periods to make runtime shorter\n",
    "# and to avoid memory errors on mybinder.org.\n",
    "options_spec[\"num_periods\"] = 5"
   ]
  },
  {
   "cell_type": "markdown",
   "metadata": {},
   "source": [
    "The parameter specification includes all parameters of the model which are affected by the optimization routine."
   ]
  },
  {
   "cell_type": "code",
   "execution_count": 6,
   "metadata": {},
   "outputs": [
    {
     "data": {
      "text/html": [
       "<div>\n",
       "<style scoped>\n",
       "    .dataframe tbody tr th:only-of-type {\n",
       "        vertical-align: middle;\n",
       "    }\n",
       "\n",
       "    .dataframe tbody tr th {\n",
       "        vertical-align: top;\n",
       "    }\n",
       "\n",
       "    .dataframe thead th {\n",
       "        text-align: right;\n",
       "    }\n",
       "</style>\n",
       "<table border=\"1\" class=\"dataframe\">\n",
       "  <thead>\n",
       "    <tr style=\"text-align: right;\">\n",
       "      <th></th>\n",
       "      <th>category</th>\n",
       "      <th>name</th>\n",
       "      <th>para</th>\n",
       "      <th>fixed</th>\n",
       "      <th>lower</th>\n",
       "      <th>upper</th>\n",
       "      <th>comment</th>\n",
       "    </tr>\n",
       "  </thead>\n",
       "  <tbody>\n",
       "    <tr>\n",
       "      <th>0</th>\n",
       "      <td>delta</td>\n",
       "      <td>delta</td>\n",
       "      <td>0.950</td>\n",
       "      <td>False</td>\n",
       "      <td>0.7</td>\n",
       "      <td>1.0</td>\n",
       "      <td>discount factor</td>\n",
       "    </tr>\n",
       "    <tr>\n",
       "      <th>1</th>\n",
       "      <td>coeffs_common</td>\n",
       "      <td>return_hs_degree</td>\n",
       "      <td>0.000</td>\n",
       "      <td>False</td>\n",
       "      <td>NaN</td>\n",
       "      <td>NaN</td>\n",
       "      <td>return to high school degree (non pecuniary)</td>\n",
       "    </tr>\n",
       "    <tr>\n",
       "      <th>2</th>\n",
       "      <td>coeffs_common</td>\n",
       "      <td>return_col_degree</td>\n",
       "      <td>0.000</td>\n",
       "      <td>False</td>\n",
       "      <td>NaN</td>\n",
       "      <td>NaN</td>\n",
       "      <td>return to college degree (non pecuniary)</td>\n",
       "    </tr>\n",
       "    <tr>\n",
       "      <th>3</th>\n",
       "      <td>coeffs_a</td>\n",
       "      <td>skill_price</td>\n",
       "      <td>9.210</td>\n",
       "      <td>False</td>\n",
       "      <td>NaN</td>\n",
       "      <td>NaN</td>\n",
       "      <td>skill rental price if the base skill endowment...</td>\n",
       "    </tr>\n",
       "    <tr>\n",
       "      <th>4</th>\n",
       "      <td>coeffs_a</td>\n",
       "      <td>return_schooling</td>\n",
       "      <td>0.038</td>\n",
       "      <td>False</td>\n",
       "      <td>NaN</td>\n",
       "      <td>NaN</td>\n",
       "      <td>linear return to an additional year of schooli...</td>\n",
       "    </tr>\n",
       "  </tbody>\n",
       "</table>\n",
       "</div>"
      ],
      "text/plain": [
       "        category               name   para  fixed  lower  upper  \\\n",
       "0          delta              delta  0.950  False    0.7    1.0   \n",
       "1  coeffs_common   return_hs_degree  0.000  False    NaN    NaN   \n",
       "2  coeffs_common  return_col_degree  0.000  False    NaN    NaN   \n",
       "3       coeffs_a        skill_price  9.210  False    NaN    NaN   \n",
       "4       coeffs_a   return_schooling  0.038  False    NaN    NaN   \n",
       "\n",
       "                                             comment  \n",
       "0                                    discount factor  \n",
       "1       return to high school degree (non pecuniary)  \n",
       "2           return to college degree (non pecuniary)  \n",
       "3  skill rental price if the base skill endowment...  \n",
       "4  linear return to an additional year of schooli...  "
      ]
     },
     "execution_count": 6,
     "metadata": {},
     "output_type": "execute_result"
    }
   ],
   "source": [
    "params_spec.head(5)"
   ]
  },
  {
   "cell_type": "code",
   "execution_count": 7,
   "metadata": {},
   "outputs": [],
   "source": [
    "# Instantiate the respy model class with parameters and options\n",
    "model = respy.RespyCls(params_spec, options_spec)"
   ]
  },
  {
   "cell_type": "code",
   "execution_count": 8,
   "metadata": {},
   "outputs": [],
   "source": [
    "# Simulate a sample from the specified model\n",
    "model, df = model.simulate()"
   ]
  },
  {
   "cell_type": "code",
   "execution_count": 9,
   "metadata": {},
   "outputs": [],
   "source": [
    "# Set maximum number of function evaluations to 5\n",
    "model.attr[\"maxfun\"] = 5"
   ]
  },
  {
   "cell_type": "code",
   "execution_count": 10,
   "metadata": {},
   "outputs": [],
   "source": [
    "# Estimate the model using the simulated data as an observed sample\n",
    "x, crit_val = model.fit()"
   ]
  },
  {
   "cell_type": "code",
   "execution_count": 11,
   "metadata": {},
   "outputs": [],
   "source": [
    "# Simulate a sample based on the estimated parameters\n",
    "model.update_optim_paras(x)\n",
    "model, df = model.simulate()"
   ]
  },
  {
   "cell_type": "code",
   "execution_count": 12,
   "metadata": {},
   "outputs": [],
   "source": [
    "# Step out of the folder and delete it.\n",
    "os.chdir(temp_dir.parent)\n",
    "shutil.rmtree(temp_dir)"
   ]
  },
  {
   "cell_type": "markdown",
   "metadata": {},
   "source": [
    "The simulation and estimation functionalities of the ``respy`` package can also be used\n",
    "separately. To perform a simulation only an initialization file, as discussed above, is\n",
    "required. To directly estimate the model parameters your working directory has to\n",
    "contain the initialization file and your data set. Here we are using the simulated data\n",
    "for the estimation. However, you can of course also use other data sources. Just make\n",
    "sure they follow the layout of the simulated sample as visible in ``data.respy.dat``.\n",
    "For more information on the required structure of the dataset see\n",
    "[Model specification](../software/model-specification.rst). The coefficient values in the initialization file serve as\n",
    "the starting values.\n",
    "\n",
    "\n",
    "**Output Files**\n",
    "\n",
    "During the script execution, several files will appear in the current working directory.\n",
    "First, we outline the files generated during the initial simulation.\n",
    "\n",
    "* **data.respy.sol**\n",
    "\n",
    "Records the progress of the backward induction procedure. If the interpolation method is\n",
    "used during the backward induction procedure, the coefficient estimates and goodness of\n",
    "fit statistics are provided.\n",
    "\n",
    "* **data.respy.pkl**\n",
    "\n",
    "This file is an instance of the ``RespyCls`` and contains detailed information about the\n",
    "solution of model such as the $E\\max$ of each state for example. For details,\n",
    "please consult the [source code](../development/api.rst#respy.clsRespy.RespyCls) directly.\n",
    "It is created if persistent storage of results is requested in the *SOLUTION* section of\n",
    "the initialization file.\n",
    "\n",
    "* **data.respy.sim**\n",
    "\n",
    "Allows to monitor the progress of the simulation. It provides information about the seed\n",
    "used to sample the random components of the agents' state experience and the total\n",
    "number of simulated agents.\n",
    "\n",
    "* **data.respy.dat**\n",
    "\n",
    "Contains the simulated data on agents' choices and state experiences. It has the\n",
    "following structure:\n",
    "\n",
    "|  Column |                                                Information                                                |\n",
    "|---------|-----------------------------------------------------------------------------------------------------------|\n",
    "| 1       | agent identifier                                                                                          |\n",
    "| 2       | time period                                                                                               |\n",
    "| 3       | choice (1 = Occupation A, 2 = Occupation B, 3 = education, 4 = home)                                      |\n",
    "| 4       | wages (missing value if not working)                                                                      |\n",
    "| 5       | work experience in Occupation A                                                                           |\n",
    "| 6       | work experience in Occupation B                                                                           |\n",
    "| 7       | years of schooling                                                                                        |\n",
    "| 8       | lagged choice                                                                                             |\n",
    "| 9       | type number (0 for the whole column, if homogeneous agents)                                               |\n",
    "| 10 - 13 | total rewards - all components                                                                            |\n",
    "| 14 - 17 | systematic reward - no shock                                                                              |\n",
    "| 18 - 21 | shock reward - shock component                                                                            |\n",
    "| 22      | discount rate                                                                                             |\n",
    "| 23 - 24 | general reward - non-monetary rewards and non- common rewards, example cm1 cm2 and alpha for occupation A |\n",
    "| 25      | common reward - indicators assoc with beta 1 and beta 2                                                   |\n",
    "| 26 - 29 | immediate reward - period reward                                                                          |\n",
    "\n",
    "* **data.respy.info**\n",
    "\n",
    "Provides descriptive statistics such as the choice probabilities, the transition matrix,\n",
    "number of agents per period and occupation, and the respective wage distributions. It also\n",
    "prints out the underlying parameterization of the model.\n",
    "\n",
    "Second, we turn to the estimation output. The fit procedure directly returns the value\n",
    "of the coefficients at the final step of the optimizer, as well as the value of the\n",
    "criterion function. However, some additional files appear in the meantime.\n",
    "\n",
    "* **est.respy.info**\n",
    "\n",
    "Allows to monitor the estimation as it progresses. It provides information about\n",
    "starting values, step values, and current values as well as the corresponding value of\n",
    "the criterion function.\n",
    "\n",
    "* **est.respy.log**\n",
    "\n",
    "Documents details about the estimation procedure. Provides information on the\n",
    "preconditioning of the parameters including the original parameter value, the scaling\n",
    "factor and the rescaled parameter. Further, details about each of the evaluations of the\n",
    "criterion function are included. Most importantly, once an estimation is completed, it\n",
    "provides the return message from the optimizer.\n",
    "\n",
    "Third, additional information is provided in two further generated files:\n",
    "\n",
    "* **scaling.respy.out**\n",
    "\n",
    "* **solution.respy.pkl**\n",
    "\n",
    "Finally, when a second simulation is performed, now based on the parameter estimates,\n",
    "the existing simulation output files are replaced by new ones referring to the current\n",
    "simulation run.\n"
   ]
  }
 ],
 "metadata": {
  "kernelspec": {
   "display_name": "Python 3",
   "language": "python",
   "name": "python3"
  },
  "language_info": {
   "codemirror_mode": {
    "name": "ipython",
    "version": 3
   },
   "file_extension": ".py",
   "mimetype": "text/x-python",
   "name": "python",
   "nbconvert_exporter": "python",
   "pygments_lexer": "ipython3",
   "version": "3.7.3"
  }
 },
 "nbformat": 4,
 "nbformat_minor": 2
}
