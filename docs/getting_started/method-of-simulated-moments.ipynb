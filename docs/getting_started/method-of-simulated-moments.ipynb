{
 "cells": [
  {
   "cell_type": "markdown",
   "metadata": {},
   "source": [
    "# Method of Simulated Moments\n",
    "\n",
    "## Introduction\n",
    "\n",
    "The method of simulated moments (MSM) or simulated method of moments (SMM) is some kind of a sledgehammer approach to estimate model parameters. It is a deviation from the general method of moments (GMM) which does not require that the function mapping parameters to moments has a closed-form solution. Thus, we want to minimize the distance between the actual moments and the simulated moments implied by the model parameters. Mathematically, we want to minimize\n",
    "\n",
    "$$\n",
    "    \\min_\\theta \\; (m(\\theta) - m^*)' W (m(\\theta) - m^*)\n",
    "$$\n",
    "\n",
    "where $\\theta$ is the parameter vector, $m(\\theta)$ are the simulated moments implied by the parameters, $m^*$ are the moments from the data and $W$ is the weighting matrix.\n",
    "\n",
    "## The weighting matrix"
   ]
  },
  {
   "cell_type": "code",
   "execution_count": 1,
   "metadata": {},
   "outputs": [],
   "source": [
    "%matplotlib inline\n",
    "\n",
    "import numpy as np\n",
    "import pandas as pd\n",
    "import respy as rp\n",
    "import matplotlib.pyplot as plt\n",
    "\n",
    "from respy.pre_processing.model_processing import process_params_and_options"
   ]
  },
  {
   "cell_type": "markdown",
   "metadata": {},
   "source": [
    "## Estimation"
   ]
  },
  {
   "cell_type": "code",
   "execution_count": 2,
   "metadata": {},
   "outputs": [],
   "source": [
    "params, options, df = rp.get_example_model(\"kw_94_one\")"
   ]
  },
  {
   "cell_type": "markdown",
   "metadata": {},
   "source": [
    "### 1. Define function to calculate moments."
   ]
  },
  {
   "cell_type": "code",
   "execution_count": 3,
   "metadata": {},
   "outputs": [],
   "source": [
    "def calc_moments(df):\n",
    "    counts = (\n",
    "        df.groupby([\"Period\", \"Choice\"]).count()\n",
    "        .fillna(0)\n",
    "        .iloc[:, 0]\n",
    "        .unstack(1)\n",
    "    )\n",
    "    sum_ = counts.sum(axis=1)\n",
    "    shares = counts.div(sum_, axis=0)\n",
    "    \n",
    "    return shares.to_numpy().flatten()"
   ]
  },
  {
   "cell_type": "code",
   "execution_count": 4,
   "metadata": {},
   "outputs": [],
   "source": [
    "moments = calc_moments(df)"
   ]
  },
  {
   "cell_type": "markdown",
   "metadata": {},
   "source": [
    "### 2. Choose a weighting matrix."
   ]
  },
  {
   "cell_type": "code",
   "execution_count": 5,
   "metadata": {},
   "outputs": [],
   "source": [
    "def bootstrap_weighting_matrix(df, calc_moments, n_bootstraps, n_individuals):\n",
    "    identifiers = df.Identifier.unique()\n",
    "    \n",
    "    moments = []\n",
    "    for _ in range(n_bootstraps):\n",
    "        idents = np.random.choice(identifiers, size=n_individuals, replace=True)\n",
    "        sample = df.loc[df.Identifier.isin(idents)]\n",
    "        bootstrapped_moments = calc_moments(sample)\n",
    "        moments.append(bootstrapped_moments)\n",
    "    moments = np.column_stack(moments)\n",
    "    \n",
    "    standard_deviations = moments.std(axis=1)\n",
    "    standard_deviations = np.where(\n",
    "        standard_deviations == 0, 10, standard_deviations\n",
    "    )\n",
    "    \n",
    "    weighting_matrix = np.diag(standard_deviations)\n",
    "        \n",
    "    return weighting_matrix"
   ]
  },
  {
   "cell_type": "code",
   "execution_count": 6,
   "metadata": {},
   "outputs": [],
   "source": [
    "W = bootstrap_weighting_matrix(df, calc_moments, 10, 200)"
   ]
  },
  {
   "cell_type": "markdown",
   "metadata": {},
   "source": [
    "### 3. Estimate."
   ]
  },
  {
   "cell_type": "code",
   "execution_count": 7,
   "metadata": {},
   "outputs": [],
   "source": [
    "msm = rp.get_msm_func(params, options, moments, calc_moments, W)"
   ]
  },
  {
   "cell_type": "code",
   "execution_count": 8,
   "metadata": {},
   "outputs": [],
   "source": [
    "from estimagic.optimization.optimize import minimize\n",
    "\n",
    "\n",
    "constr = [\n",
    "    {\"loc\": \"shocks_sdcorr\", \"type\": \"sdcorr\"},\n",
    "    {\"loc\": \"lagged_choice_1_edu\", \"type\": \"fixed\"},\n",
    "    {\"loc\": \"initial_exp_edu\", \"type\": \"fixed\"},\n",
    "    {\"loc\": \"maximum_exp\", \"type\": \"fixed\"},\n",
    "]\n",
    "params[\"group\"] = params.index.get_level_values('category')"
   ]
  },
  {
   "cell_type": "code",
   "execution_count": 9,
   "metadata": {},
   "outputs": [],
   "source": [
    "results, params = minimize(\n",
    "    msm,\n",
    "    params,\n",
    "    \"scipy_L-BFGS-B\",\n",
    "    algo_options={\"maxfun\": 1},\n",
    "    constraints=constr,\n",
    ")"
   ]
  },
  {
   "cell_type": "code",
   "execution_count": 10,
   "metadata": {},
   "outputs": [
    {
     "data": {
      "text/plain": [
       "{'fun': 0.0,\n",
       " 'jac': [0.0,\n",
       "  0.0,\n",
       "  0.0,\n",
       "  0.0,\n",
       "  2.1866006306702985,\n",
       "  0.0,\n",
       "  0.0,\n",
       "  0.0,\n",
       "  0.0,\n",
       "  0.0,\n",
       "  0.0,\n",
       "  0.0,\n",
       "  0.0,\n",
       "  0.0,\n",
       "  0.0,\n",
       "  0.0,\n",
       "  0.0,\n",
       "  0.0,\n",
       "  0.0,\n",
       "  0.0,\n",
       "  0.0,\n",
       "  0.0,\n",
       "  0.0,\n",
       "  0.0,\n",
       "  0.0,\n",
       "  0.0,\n",
       "  0.0,\n",
       "  0.0,\n",
       "  0.0],\n",
       " 'nfev': 630,\n",
       " 'nit': 0,\n",
       " 'status': 1,\n",
       " 'message': b'ABNORMAL_TERMINATION_IN_LNSRCH',\n",
       " 'x': [0.95,\n",
       "  9.21,\n",
       "  0.038,\n",
       "  0.033,\n",
       "  -0.0005,\n",
       "  0.0,\n",
       "  0.0,\n",
       "  8.48,\n",
       "  0.07,\n",
       "  0.067,\n",
       "  -0.001,\n",
       "  0.022000000000000002,\n",
       "  -0.0005,\n",
       "  0.0,\n",
       "  0.0,\n",
       "  -4000.0,\n",
       "  17750.0,\n",
       "  0.2,\n",
       "  0.0,\n",
       "  0.25,\n",
       "  0.0,\n",
       "  0.0,\n",
       "  1500.0,\n",
       "  0.0,\n",
       "  0.0,\n",
       "  0.0,\n",
       "  1500.0,\n",
       "  1.0,\n",
       "  1.0],\n",
       " 'success': False,\n",
       " 'hess_inv': <29x29 LbfgsInvHessProduct with dtype=float64>,\n",
       " 'internal_x': [0.95,\n",
       "  9.21,\n",
       "  0.038,\n",
       "  0.033,\n",
       "  -0.0005,\n",
       "  0.0,\n",
       "  0.0,\n",
       "  8.48,\n",
       "  0.07,\n",
       "  0.067,\n",
       "  -0.001,\n",
       "  0.022000000000000002,\n",
       "  -0.0005,\n",
       "  0.0,\n",
       "  0.0,\n",
       "  -4000.0,\n",
       "  17750.0,\n",
       "  0.2,\n",
       "  0.0,\n",
       "  0.25,\n",
       "  0.0,\n",
       "  0.0,\n",
       "  1500.0,\n",
       "  0.0,\n",
       "  0.0,\n",
       "  0.0,\n",
       "  1500.0,\n",
       "  1.0,\n",
       "  1.0]}"
      ]
     },
     "execution_count": 10,
     "metadata": {},
     "output_type": "execute_result"
    }
   ],
   "source": [
    "results"
   ]
  }
 ],
 "metadata": {
  "kernelspec": {
   "display_name": "Python 3",
   "language": "python",
   "name": "python3"
  },
  "language_info": {
   "codemirror_mode": {
    "name": "ipython",
    "version": 3
   },
   "file_extension": ".py",
   "mimetype": "text/x-python",
   "name": "python",
   "nbconvert_exporter": "python",
   "pygments_lexer": "ipython3",
   "version": "3.7.3"
  }
 },
 "nbformat": 4,
 "nbformat_minor": 4
}
