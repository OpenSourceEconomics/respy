{
 "cells": [
  {
   "cell_type": "markdown",
   "metadata": {},
   "source": [
    "# Robinson Crusoe or how to build your own model\n",
    "\n",
    "With ``respy`` you are able to prototype a model similar to Keane and Wolpin (1997) in minutes. In this notebook we will implement a model of a common theme in economics - the Robinson Crusoe economy - as a discrete choice dynamic programming model. Throughout the notebook you find indented text which tell parts of Robinson's story and motivate the model."
   ]
  },
  {
   "cell_type": "code",
   "execution_count": 19,
   "metadata": {},
   "outputs": [],
   "source": [
    "%matplotlib inline\n",
    "\n",
    "import io\n",
    "import matplotlib.pyplot as plt\n",
    "import pandas as pd\n",
    "import respy as rp\n",
    "import seaborn as sns\n",
    "\n",
    "from pathlib import Path\n",
    "from time import time"
   ]
  },
  {
   "cell_type": "markdown",
   "metadata": {},
   "source": [
    "## Introduction\n",
    "\n",
    "> After setting sail against his parents wishes, being captured by pirates, escaping from them, building a plantation and setting sail again to capture slaves in Africa, [Robinson Crusoe](https://en.wikipedia.org/wiki/Robinson_Crusoe) stranded on a small island. He is alone with one dog, two cats and only some supplies. To make ends meet he goes fishing and if he is too tired he will relax in his hammock made of old canvas.\n",
    "\n",
    "The core assumption of discrete choice dynamic programming models is that individuals maximize the expected present value of utility over all choices. This is what guides indivduals to choose different actions in each period. In the example of Robinson Crusoe,"
   ]
  },
  {
   "cell_type": "code",
   "execution_count": 2,
   "metadata": {},
   "outputs": [
    {
     "name": "stdout",
     "output_type": "stream",
     "text": [
      "Overwriting robinson-crusoe.csv\n"
     ]
    }
   ],
   "source": [
    "%%writefile robinson-crusoe.csv\n",
    "\n",
    "category,name,value\n",
    "delta,delta,0.95\n",
    "wage_fishing,exp_fishing,0.1\n",
    "nonpec_hammock,constant,2\n",
    "shocks,sd_fishing,1\n",
    "shocks,sd_hammock,1\n",
    "shocks,corr_hammock_fishing,-0.2\n",
    "meas_error,sd_fishing,0.1"
   ]
  },
  {
   "cell_type": "code",
   "execution_count": 3,
   "metadata": {},
   "outputs": [
    {
     "name": "stdout",
     "output_type": "stream",
     "text": [
      "Overwriting robinson-crusoe.yaml\n"
     ]
    }
   ],
   "source": [
    "%%writefile robinson-crusoe.yaml\n",
    "\n",
    "estimation_draws: 10000\n",
    "estimation_seed: 500\n",
    "estimation_tau: 50\n",
    "interpolation_points: -1\n",
    "n_periods: 10\n",
    "simulation_agents: 1000\n",
    "simulation_seed: 132\n",
    "solution_draws: 10000\n",
    "solution_seed: 456\n",
    "covariates:\n",
    "    constant: \"1\""
   ]
  },
  {
   "cell_type": "code",
   "execution_count": 4,
   "metadata": {},
   "outputs": [],
   "source": [
    "params = Path(\"robinson-crusoe.csv\").resolve()\n",
    "options = Path(\"robinson-crusoe.yaml\").resolve()"
   ]
  },
  {
   "cell_type": "code",
   "execution_count": 5,
   "metadata": {},
   "outputs": [],
   "source": [
    "simulate = rp.get_simulate_func(params, options)"
   ]
  },
  {
   "cell_type": "code",
   "execution_count": 6,
   "metadata": {},
   "outputs": [],
   "source": [
    "df = simulate(params)"
   ]
  },
  {
   "cell_type": "code",
   "execution_count": 7,
   "metadata": {},
   "outputs": [
    {
     "data": {
      "image/png": "[encoded data removed]",
      "text/plain": [
       "<Figure size 432x288 with 1 Axes>"
      ]
     },
     "metadata": {
      "needs_background": "light"
     },
     "output_type": "display_data"
    }
   ],
   "source": [
    "fig, ax = plt.subplots()\n",
    "\n",
    "df.groupby(\"Period\").Choice.value_counts(normalize=True).unstack().plot.bar(\n",
    "    stacked=True, ax=ax\n",
    ")\n",
    "\n",
    "plt.xticks(rotation=\"horizontal\")\n",
    "\n",
    "plt.legend(loc=\"lower center\", bbox_to_anchor=(0.5,-0.275), ncol=2)\n",
    "\n",
    "plt.show()\n",
    "plt.close()"
   ]
  },
  {
   "cell_type": "code",
   "execution_count": 16,
   "metadata": {},
   "outputs": [],
   "source": [
    "df[\"Lagged_Choice_1\"] = df.groupby(\"Identifier\").Choice.transform(\"shift\")"
   ]
  },
  {
   "cell_type": "code",
   "execution_count": 21,
   "metadata": {},
   "outputs": [
    {
     "data": {
      "text/plain": [
       "<matplotlib.axes._subplots.AxesSubplot at 0x2115c6ed388>"
      ]
     },
     "execution_count": 21,
     "metadata": {},
     "output_type": "execute_result"
    },
    {
     "data": {
      "image/png": "[encoded data removed]",
      "text/plain": [
       "<Figure size 432x288 with 2 Axes>"
      ]
     },
     "metadata": {
      "needs_background": "light"
     },
     "output_type": "display_data"
    }
   ],
   "source": [
    "sns.heatmap(pd.crosstab(df.Lagged_Choice_1, df.Choice), cmap=\"Blues\")"
   ]
  },
  {
   "cell_type": "markdown",
   "metadata": {},
   "source": [
    "## A small extension\n",
    "\n",
    "> At some point Crusoe notices that a group of cannibals occasionally visits the island and celebrate one of their dark rituals. But then, a prisoner can escape and becomes Crusoe's new friend Friday whom he teaches English. In return Friday can share his knowledge once to help Robinson improve his fishing skills, but that is only possible after Robinson tried at least once to go fishing.\n",
    "\n",
    "- show that there are two possible ways to implement Friday, experience and lagged_choice\n",
    "- show that there are two possible ways to restrict talking to Friday to a one-time choice"
   ]
  },
  {
   "cell_type": "code",
   "execution_count": 8,
   "metadata": {},
   "outputs": [
    {
     "name": "stdout",
     "output_type": "stream",
     "text": [
      "Overwriting robinson-crusoe.csv\n"
     ]
    }
   ],
   "source": [
    "%%writefile robinson-crusoe.csv\n",
    "\n",
    "category,name,value\n",
    "delta,delta,0.95\n",
    "wage_fishing,exp_fishing,0.1\n",
    "wage_fishing,contemplation_with_friday,0.3\n",
    "nonpec_friday,constant,-1\n",
    "nonpec_friday,no_exp_fishing,-99\n",
    "nonpec_hammock,constant,2\n",
    "shocks,sd_fishing,1\n",
    "shocks,sd_friday,1\n",
    "shocks,sd_hammock,1\n",
    "shocks,corr_friday_fishing,0\n",
    "shocks,corr_hammock_fishing,-0.2\n",
    "shocks,corr_hammock_friday,0\n",
    "meas_error,sd_fishing,0.1"
   ]
  },
  {
   "cell_type": "code",
   "execution_count": 9,
   "metadata": {},
   "outputs": [
    {
     "name": "stdout",
     "output_type": "stream",
     "text": [
      "Overwriting robinson-crusoe.yaml\n"
     ]
    }
   ],
   "source": [
    "%%writefile robinson-crusoe.yaml\n",
    "\n",
    "estimation_draws: 10000\n",
    "estimation_seed: 500\n",
    "estimation_tau: 50\n",
    "interpolation_points: -1\n",
    "n_periods: 10\n",
    "simulation_agents: 1000\n",
    "simulation_seed: 132\n",
    "solution_draws: 10000\n",
    "solution_seed: 456\n",
    "covariates:\n",
    "    constant: \"1\"\n",
    "    contemplation_with_friday: \"exp_friday == 1 and exp_fishing >= 1\"\n",
    "    no_exp_fishing: \"exp_fishing == 0\""
   ]
  },
  {
   "cell_type": "code",
   "execution_count": 10,
   "metadata": {},
   "outputs": [],
   "source": [
    "simulate = rp.get_simulate_func(params, options)"
   ]
  },
  {
   "cell_type": "code",
   "execution_count": 11,
   "metadata": {},
   "outputs": [],
   "source": [
    "df = simulate(params)"
   ]
  },
  {
   "cell_type": "code",
   "execution_count": 15,
   "metadata": {},
   "outputs": [
    {
     "data": {
      "image/png": "[encoded data removed]",
      "text/plain": [
       "<Figure size 432x288 with 1 Axes>"
      ]
     },
     "metadata": {
      "needs_background": "light"
     },
     "output_type": "display_data"
    }
   ],
   "source": [
    "fig, ax = plt.subplots()\n",
    "\n",
    "df.groupby(\"Period\").Choice.value_counts(normalize=True).unstack().plot.bar(\n",
    "    stacked=True, ax=ax, color=[\"C0\", \"C2\", \"C1\"],\n",
    ")\n",
    "\n",
    "plt.xticks(rotation=\"horizontal\")\n",
    "\n",
    "plt.legend(loc=\"lower center\", bbox_to_anchor=(0.5,-0.275), ncol=3)\n",
    "\n",
    "plt.show()\n",
    "plt.close()"
   ]
  },
  {
   "cell_type": "code",
   "execution_count": 13,
   "metadata": {},
   "outputs": [
    {
     "ename": "NameError",
     "evalue": "name 'asdasdsa' is not defined",
     "output_type": "error",
     "traceback": [
      "\u001b[1;31m---------------------------------------------------------------------------\u001b[0m",
      "\u001b[1;31mNameError\u001b[0m                                 Traceback (most recent call last)",
      "\u001b[1;32m<ipython-input-13-b0a45b99411a>\u001b[0m in \u001b[0;36m<module>\u001b[1;34m\u001b[0m\n\u001b[1;32m----> 1\u001b[1;33m \u001b[0masdasdsa\u001b[0m\u001b[1;33m\u001b[0m\u001b[1;33m\u001b[0m\u001b[0m\n\u001b[0m",
      "\u001b[1;31mNameError\u001b[0m: name 'asdasdsa' is not defined"
     ]
    }
   ],
   "source": [
    "asdasdsa"
   ]
  },
  {
   "cell_type": "markdown",
   "metadata": {},
   "source": [
    "## Changing the utility function\n",
    "\n",
    "- implement a log utility function\n",
    "- try to patch the other function over at runtime https://medium.com/@chipiga86/python-monkey-patching-like-a-boss-87d7ddb8098e"
   ]
  },
  {
   "cell_type": "code",
   "execution_count": null,
   "metadata": {},
   "outputs": [],
   "source": [
    "@nb.njit\n",
    "def log_utility(wage, nonpec, continuation_value, draw, delta, is_inadmissible):\n",
    "    flow_utility = wage * draw + nonpec\n",
    "    value_function = flow_utility + delta * continuation_value\n",
    "\n",
    "    if is_inadmissible:\n",
    "        value_function += INADMISSIBILITY_PENALTY\n",
    "\n",
    "    return value_function, flow_utility"
   ]
  },
  {
   "cell_type": "markdown",
   "metadata": {},
   "source": [
    "## Estimate parameters"
   ]
  },
  {
   "cell_type": "code",
   "execution_count": null,
   "metadata": {},
   "outputs": [],
   "source": [
    "criterion = rp.get_crit_func(params, options, df)"
   ]
  },
  {
   "cell_type": "code",
   "execution_count": null,
   "metadata": {},
   "outputs": [],
   "source": [
    "start = time()\n",
    "criterion(params)\n",
    "end = time()\n",
    "\n",
    "print(f\"One evaluation of the likelihood took {end - start:.2f} seconds.\")"
   ]
  },
  {
   "cell_type": "code",
   "execution_count": null,
   "metadata": {},
   "outputs": [],
   "source": [
    "import numpy as np\n",
    "from estimagic.optimization.optimize import maximize"
   ]
  },
  {
   "cell_type": "code",
   "execution_count": null,
   "metadata": {},
   "outputs": [],
   "source": [
    "constr = [{\"loc\": \"shocks\", \"type\": \"sdcorr\", 'bounds_distance' : 1e-15}, {\"loc\": \"delta\", \"type\": \"fixed\"}]"
   ]
  },
  {
   "cell_type": "code",
   "execution_count": null,
   "metadata": {},
   "outputs": [],
   "source": [
    "params = pd.read_csv(params, index_col=[\"category\", \"name\"])\n",
    "\n",
    "params[\"group\"] = params.index.get_level_values('category')\n",
    "params['lower'] = -np.inf\n",
    "params['upper'] = np.inf\n",
    "params"
   ]
  },
  {
   "cell_type": "code",
   "execution_count": null,
   "metadata": {},
   "outputs": [],
   "source": [
    "results, params = maximize(criterion, params, \"nlopt_neldermead\", db_options={\"rollover\": 200}, algo_options={\"maxeval\": 100}, constraints=constr, dashboard=True)"
   ]
  },
  {
   "cell_type": "code",
   "execution_count": null,
   "metadata": {},
   "outputs": [],
   "source": [
    "results"
   ]
  }
 ],
 "metadata": {
  "kernelspec": {
   "display_name": "Python 3",
   "language": "python",
   "name": "python3"
  },
  "language_info": {
   "codemirror_mode": {
    "name": "ipython",
    "version": 3
   },
   "file_extension": ".py",
   "mimetype": "text/x-python",
   "name": "python",
   "nbconvert_exporter": "python",
   "pygments_lexer": "ipython3",
   "version": "3.7.4"
  }
 },
 "nbformat": 4,
 "nbformat_minor": 4
}
