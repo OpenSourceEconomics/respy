{
 "cells": [
  {
   "cell_type": "markdown",
   "metadata": {},
   "source": [
    "# A Robinson Crusoe economy or how to build your own model\n",
    "\n",
    "As ``respy`` progressed quite rapidly "
   ]
  },
  {
   "cell_type": "code",
   "execution_count": 1,
   "metadata": {},
   "outputs": [],
   "source": [
    "%matplotlib inline\n",
    "\n",
    "import io\n",
    "import pandas as pd\n",
    "import respy as rp\n",
    "from pathlib import Path\n",
    "from time import time"
   ]
  },
  {
   "cell_type": "code",
   "execution_count": 2,
   "metadata": {},
   "outputs": [
    {
     "name": "stdout",
     "output_type": "stream",
     "text": [
      "Overwriting robinson-crusoe.csv\n"
     ]
    }
   ],
   "source": [
    "%%writefile robinson-crusoe.csv\n",
    "\n",
    "category,name,value\n",
    "delta,delta,0.95\n",
    "wage_fishing,exp_fishing,0.1\n",
    "nonpec_home,constant,2\n",
    "shocks,sd_fishing,1\n",
    "shocks,sd_home,1\n",
    "shocks,corr_home_fishing,-0.2\n",
    "meas_error,sd_fishing,0.1"
   ]
  },
  {
   "cell_type": "code",
   "execution_count": 3,
   "metadata": {},
   "outputs": [
    {
     "name": "stdout",
     "output_type": "stream",
     "text": [
      "Overwriting robinson-crusoe.yaml\n"
     ]
    }
   ],
   "source": [
    "%%writefile robinson-crusoe.yaml\n",
    "\n",
    "estimation_draws: 10000\n",
    "estimation_seed: 500\n",
    "estimation_tau: 50\n",
    "interpolation_points: -1\n",
    "n_periods: 10\n",
    "simulation_agents: 1000\n",
    "simulation_seed: 132\n",
    "solution_draws: 10000\n",
    "solution_seed: 456\n",
    "covariates:\n",
    "    constant: \"1\""
   ]
  },
  {
   "cell_type": "code",
   "execution_count": 4,
   "metadata": {},
   "outputs": [],
   "source": [
    "params = Path(\"robinson-crusoe.csv\").resolve()\n",
    "options = Path(\"robinson-crusoe.yaml\").resolve()"
   ]
  },
  {
   "cell_type": "code",
   "execution_count": 5,
   "metadata": {},
   "outputs": [],
   "source": [
    "state_space = rp.solve(params, options)"
   ]
  },
  {
   "cell_type": "code",
   "execution_count": 6,
   "metadata": {},
   "outputs": [],
   "source": [
    "simulate = rp.get_simulate_func(params, options)"
   ]
  },
  {
   "cell_type": "code",
   "execution_count": 7,
   "metadata": {},
   "outputs": [],
   "source": [
    "df = simulate(params)"
   ]
  },
  {
   "cell_type": "code",
   "execution_count": 8,
   "metadata": {},
   "outputs": [
    {
     "data": {
      "text/plain": [
       "<matplotlib.axes._subplots.AxesSubplot at 0x185360495c8>"
      ]
     },
     "execution_count": 8,
     "metadata": {},
     "output_type": "execute_result"
    },
    {
     "data": {
      "image/png": "[encoded data removed]",
      "text/plain": [
       "<Figure size 432x288 with 1 Axes>"
      ]
     },
     "metadata": {
      "needs_background": "light"
     },
     "output_type": "display_data"
    }
   ],
   "source": [
    "df.groupby(\"Period\").Choice.value_counts(normalize=True).unstack().plot.bar(stacked=True)"
   ]
  },
  {
   "cell_type": "code",
   "execution_count": 9,
   "metadata": {},
   "outputs": [],
   "source": [
    "criterion = rp.get_crit_func(params, options, df)"
   ]
  },
  {
   "cell_type": "code",
   "execution_count": 10,
   "metadata": {},
   "outputs": [
    {
     "name": "stdout",
     "output_type": "stream",
     "text": [
      "One evaluation of the likelihood took 5.66 seconds.\n"
     ]
    }
   ],
   "source": [
    "start = time()\n",
    "criterion(params)\n",
    "end = time()\n",
    "\n",
    "print(f\"One evaluation of the likelihood took {end - start:.2f} seconds.\")"
   ]
  },
  {
   "cell_type": "code",
   "execution_count": 11,
   "metadata": {},
   "outputs": [],
   "source": [
    "import numpy as np\n",
    "from estimagic.optimization.optimize import maximize"
   ]
  },
  {
   "cell_type": "code",
   "execution_count": 12,
   "metadata": {},
   "outputs": [],
   "source": [
    "constr = [{\"loc\": \"shocks\", \"type\": \"sdcorr\", 'bounds_distance' : 1e-15}, {\"loc\": \"delta\", \"type\": \"fixed\"}]"
   ]
  },
  {
   "cell_type": "code",
   "execution_count": 13,
   "metadata": {},
   "outputs": [
    {
     "data": {
      "text/html": [
       "<div>\n",
       "<style scoped>\n",
       "    .dataframe tbody tr th:only-of-type {\n",
       "        vertical-align: middle;\n",
       "    }\n",
       "\n",
       "    .dataframe tbody tr th {\n",
       "        vertical-align: top;\n",
       "    }\n",
       "\n",
       "    .dataframe thead th {\n",
       "        text-align: right;\n",
       "    }\n",
       "</style>\n",
       "<table border=\"1\" class=\"dataframe\">\n",
       "  <thead>\n",
       "    <tr style=\"text-align: right;\">\n",
       "      <th></th>\n",
       "      <th></th>\n",
       "      <th>value</th>\n",
       "      <th>group</th>\n",
       "      <th>lower</th>\n",
       "      <th>upper</th>\n",
       "    </tr>\n",
       "    <tr>\n",
       "      <th>category</th>\n",
       "      <th>name</th>\n",
       "      <th></th>\n",
       "      <th></th>\n",
       "      <th></th>\n",
       "      <th></th>\n",
       "    </tr>\n",
       "  </thead>\n",
       "  <tbody>\n",
       "    <tr>\n",
       "      <th>delta</th>\n",
       "      <th>delta</th>\n",
       "      <td>0.95</td>\n",
       "      <td>delta</td>\n",
       "      <td>-inf</td>\n",
       "      <td>inf</td>\n",
       "    </tr>\n",
       "    <tr>\n",
       "      <th>wage_fishing</th>\n",
       "      <th>exp_fishing</th>\n",
       "      <td>0.10</td>\n",
       "      <td>wage_fishing</td>\n",
       "      <td>-inf</td>\n",
       "      <td>inf</td>\n",
       "    </tr>\n",
       "    <tr>\n",
       "      <th>nonpec_home</th>\n",
       "      <th>constant</th>\n",
       "      <td>2.00</td>\n",
       "      <td>nonpec_home</td>\n",
       "      <td>-inf</td>\n",
       "      <td>inf</td>\n",
       "    </tr>\n",
       "    <tr>\n",
       "      <th rowspan=\"3\" valign=\"top\">shocks</th>\n",
       "      <th>sd_fishing</th>\n",
       "      <td>1.00</td>\n",
       "      <td>shocks</td>\n",
       "      <td>-inf</td>\n",
       "      <td>inf</td>\n",
       "    </tr>\n",
       "    <tr>\n",
       "      <th>sd_home</th>\n",
       "      <td>1.00</td>\n",
       "      <td>shocks</td>\n",
       "      <td>-inf</td>\n",
       "      <td>inf</td>\n",
       "    </tr>\n",
       "    <tr>\n",
       "      <th>corr_home_fishing</th>\n",
       "      <td>-0.20</td>\n",
       "      <td>shocks</td>\n",
       "      <td>-inf</td>\n",
       "      <td>inf</td>\n",
       "    </tr>\n",
       "    <tr>\n",
       "      <th>meas_error</th>\n",
       "      <th>sd_fishing</th>\n",
       "      <td>0.10</td>\n",
       "      <td>meas_error</td>\n",
       "      <td>-inf</td>\n",
       "      <td>inf</td>\n",
       "    </tr>\n",
       "  </tbody>\n",
       "</table>\n",
       "</div>"
      ],
      "text/plain": [
       "                                value         group  lower  upper\n",
       "category     name                                                \n",
       "delta        delta               0.95         delta   -inf    inf\n",
       "wage_fishing exp_fishing         0.10  wage_fishing   -inf    inf\n",
       "nonpec_home  constant            2.00   nonpec_home   -inf    inf\n",
       "shocks       sd_fishing          1.00        shocks   -inf    inf\n",
       "             sd_home             1.00        shocks   -inf    inf\n",
       "             corr_home_fishing  -0.20        shocks   -inf    inf\n",
       "meas_error   sd_fishing          0.10    meas_error   -inf    inf"
      ]
     },
     "execution_count": 13,
     "metadata": {},
     "output_type": "execute_result"
    }
   ],
   "source": [
    "params = pd.read_csv(params, index_col=[\"category\", \"name\"])\n",
    "\n",
    "params[\"group\"] = params.index.get_level_values('category')\n",
    "params['lower'] = -np.inf\n",
    "params['upper'] = np.inf\n",
    "params"
   ]
  },
  {
   "cell_type": "code",
   "execution_count": 14,
   "metadata": {},
   "outputs": [],
   "source": [
    "results, params = maximize(criterion, params, \"nlopt_neldermead\", db_options={\"rollover\": 200}, algo_options={\"maxeval\": 100}, constraints=constr, dashboard=True)"
   ]
  },
  {
   "cell_type": "code",
   "execution_count": 16,
   "metadata": {},
   "outputs": [
    {
     "data": {
      "text/plain": [
       "{'fun': -14.082096302100293,\n",
       " 'internal_x': [0.2330528255684285,\n",
       "  -6.802599858411258,\n",
       "  0.7957489233233701,\n",
       "  -1.3411800047396776,\n",
       "  2.0570248878948627,\n",
       "  0.4111665223856548]}"
      ]
     },
     "execution_count": 16,
     "metadata": {},
     "output_type": "execute_result"
    }
   ],
   "source": [
    "results"
   ]
  }
 ],
 "metadata": {
  "kernelspec": {
   "display_name": "Python 3",
   "language": "python",
   "name": "python3"
  },
  "language_info": {
   "codemirror_mode": {
    "name": "ipython",
    "version": 3
   },
   "file_extension": ".py",
   "mimetype": "text/x-python",
   "name": "python",
   "nbconvert_exporter": "python",
   "pygments_lexer": "ipython3",
   "version": "3.7.4"
  }
 },
 "nbformat": 4,
 "nbformat_minor": 4
}
