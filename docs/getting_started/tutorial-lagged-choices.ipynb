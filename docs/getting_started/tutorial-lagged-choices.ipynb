{
 "cells": [
  {
   "cell_type": "markdown",
   "metadata": {},
   "source": [
    "# Tutorial - Lagged Choices\n",
    "\n",
    "The models in Keane and Wolpin (1994) and the extended model in Keane and Wolpin (1997) require information on the previous choice as lagged choices have an influence on utility by modeling switching costs, etc.. In contrast, the basic model in Keane and Wolpin (1997) does not require this information. This notebook shows the effects of including previous choices in your model.\n",
    "\n",
    "*If you want to know how to simulate models with different distributions of previous choices, see the [tutorial on initial conditions](tutorial-initial-conditions.ipynb).*"
   ]
  },
  {
   "cell_type": "code",
   "execution_count": 2,
   "metadata": {},
   "outputs": [],
   "source": [
    "import respy as rp"
   ]
  },
  {
   "cell_type": "markdown",
   "metadata": {},
   "source": [
    "## How to define lagged choices\n",
    "\n",
    "The number of lags is inferred from the definition of covariates, because lagged choices are only relevant for the model if they influence the utility of individuals. The lags have to be called ``lagged_choice_1``, ``lagged_choice_2``, and so on. Let us take a look at the covariates from the extended model in Keane and Wolpin (1997)."
   ]
  },
  {
   "cell_type": "code",
   "execution_count": 3,
   "metadata": {},
   "outputs": [],
   "source": [
    "params, options = rp.get_example_model(\"kw_97_extended\", with_data=False)"
   ]
  },
  {
   "cell_type": "markdown",
   "metadata": {},
   "source": [
    "The covariates are stored in a dictionary where the key matches parameter names from ``params`` and the value is the definition of the covariate. The definition is passed to :func:`pandas.DataFrame.eval` and constructs the covariate with the available information in the DataFrame. Covariates are constructed sequentially which allows to reuse previously constructed covariates in following definitions. For more information on :func:`pandas.DataFrame.eval` see the the [official documentation](https://pandas.pydata.org/pandas-docs/stable/reference/api/pandas.DataFrame.eval.html) or this [StackOverflow post](https://stackoverflow.com/a/53779987) called the \"Missing Manual\".\n",
    "\n",
    "Depending on the internal routine, most information of the state space, like period, experiences, lagged choices, are available. ``exp_*`` is the code to target the experience in one choice where the choice name has to be consistently used in ``params``. Lagged choices are defined internally as a [``pandas.Categorical``](https://pandas.pydata.org/pandas-docs/stable/reference/api/pandas.Categorical.html) and can be compared to choice names. Even expressions as ``lagged_choice_1 in ['a', 'b']`` are possible."
   ]
  },
  {
   "cell_type": "code",
   "execution_count": 3,
   "metadata": {},
   "outputs": [
    {
     "data": {
      "text/plain": [
       "{'not_exp_a_lagged': \"exp_a > 0 and lagged_choice_1 != 'a'\",\n",
       " 'not_exp_b_lagged': \"exp_b > 0 and lagged_choice_1 != 'b'\",\n",
       " 'work_a_lagged': \"lagged_choice_1 == 'a'\",\n",
       " 'work_b_lagged': \"lagged_choice_1 == 'b'\",\n",
       " 'edu_lagged': \"lagged_choice_1 == 'edu'\",\n",
       " 'not_any_exp_a': 'exp_a == 0',\n",
       " 'not_any_exp_b': 'exp_b == 0',\n",
       " 'not_any_exp_mil': 'exp_mil == 0',\n",
       " 'any_exp_a': 'exp_a > 0',\n",
       " 'any_exp_b': 'exp_b > 0',\n",
       " 'any_exp_mil': 'exp_mil > 0',\n",
       " 'hs_graduate': 'exp_edu >= 12',\n",
       " 'co_graduate': 'exp_edu >= 16',\n",
       " 'is_return_not_high_school': '~edu_lagged and ~hs_graduate',\n",
       " 'is_return_high_school': '~edu_lagged and hs_graduate',\n",
       " 'is_minor': 'period < 2',\n",
       " 'is_young_adult': '2 <= period <= 4',\n",
       " 'is_adult': '5 <= period',\n",
       " 'constant': '1',\n",
       " 'exp_a_square': 'exp_a ** 2 / 100',\n",
       " 'exp_b_square': 'exp_b ** 2 / 100',\n",
       " 'exp_mil_square': 'exp_mil ** 2 / 100',\n",
       " 'mil_dropout': 'exp_mil == 1',\n",
       " 'up_to_nine_years_edu': 'exp_edu <= 9',\n",
       " 'at_least_ten_years_edu': '10 <= exp_edu'}"
      ]
     },
     "execution_count": 3,
     "metadata": {},
     "output_type": "execute_result"
    }
   ],
   "source": [
    "options[\"covariates\"]"
   ]
  },
  {
   "cell_type": "markdown",
   "metadata": {},
   "source": [
    "The introduction of lagged choices leads to impossible combinations or inadmissible states in the state space. E.g. if an individual has always engaged in a choice with experience, the individual cannot have a different choice as the lagged choice. These inadmissible states are a computational burden for the model because a solution for the optimal decision in this state is obtained despite that no individual will ever reach this state. Thus, ``respy`` has ``\"core_state_space_filters\"`` to purge those states from the state space. Every entry in the list is a boolean expression which evaluates to ``True`` for inadmissible states.\n",
    "\n",
    "To limit redundancy, the expressions in the curly braces are placeholder for certain kinds of choices. ``\"{i}\"`` will be replaced with every choice with experience accumulation. ``\"{j}\"`` will be replaced with every choice without experience accumulation. At last, ``\"{k}\"`` will be replaced with choices with a wage component."
   ]
  },
  {
   "cell_type": "code",
   "execution_count": 4,
   "metadata": {},
   "outputs": [
    {
     "data": {
      "text/plain": [
       "[\"period > 0 and exp_{i} == period and lagged_choice_1 != '{i}'\",\n",
       " \"period > 0 and exp_a + exp_b + exp_mil + exp_edu == period and lagged_choice_1 == '{j}'\",\n",
       " \"period > 0 and lagged_choice_1 == 'edu' and exp_edu == 0\",\n",
       " \"lagged_choice_1 == '{k}' and exp_{k} == 0\",\n",
       " \"period == 0 and lagged_choice_1 == '{k}'\"]"
      ]
     },
     "execution_count": 4,
     "metadata": {},
     "output_type": "execute_result"
    }
   ],
   "source": [
    "options[\"core_state_space_filters\"]"
   ]
  },
  {
   "cell_type": "markdown",
   "metadata": {},
   "source": [
    "The name core state space refers to the fact that periods, experiences and lagged choices form a core of the model. The space defined by the former dimensions is sparse as not every combination between the dimensions is possible. In contrast, there exist a dense space formed by, e.g., types because every combination of states in the core state space with every type exists.\n",
    "\n",
    "## Lagged choices and model complexity\n",
    "\n",
    "In this section, the base and extended model of Keane and Wolpin (1997) are compared. The base model does not require any information on the occupational history. Thus, the state space is a lot smaller. The state space increases approximately by a factor of\n",
    "\n",
    "$$\n",
    "    \\texttt{n_choices}^\\texttt{n_lags}\n",
    "$$\n",
    "\n",
    "Indeed, as you can see in the following graphic, the total number of states in the base model is 12.99 Mio. and 59.3 Mio. in the extended model. The filters reduced around 5 Mio. states."
   ]
  },
  {
   "cell_type": "code",
   "execution_count": 5,
   "metadata": {},
   "outputs": [
    {
     "name": "stderr",
     "output_type": "stream",
     "text": [
      "/data/homes/iza25808/respy/respy/pre_processing/model_processing.py:157: UserWarning: The shares of initial experiences for choice 'edu' do not sum to one. Shares are divided by their sum for normalization.\n",
      "  category=UserWarning,\n"
     ]
    }
   ],
   "source": [
    "state_space_extended = rp.solve(params, options)"
   ]
  },
  {
   "cell_type": "code",
   "execution_count": 6,
   "metadata": {},
   "outputs": [],
   "source": [
    "params, options = rp.get_example_model(\"kw_97_base\", with_data=False)"
   ]
  },
  {
   "cell_type": "code",
   "execution_count": 7,
   "metadata": {},
   "outputs": [
    {
     "name": "stderr",
     "output_type": "stream",
     "text": [
      "/data/homes/iza25808/respy/respy/pre_processing/model_processing.py:157: UserWarning: The shares of initial experiences for choice 'edu' do not sum to one. Shares are divided by their sum for normalization.\n",
      "  category=UserWarning,\n"
     ]
    }
   ],
   "source": [
    "state_space_base = rp.solve(params, options)"
   ]
  },
  {
   "cell_type": "code",
   "execution_count": 8,
   "metadata": {},
   "outputs": [],
   "source": [
    "states_per_period_extended = [\n",
    "    len(range(slice_.start, slice_.stop))\n",
    "    for slice_ in state_space_extended.slices_by_periods\n",
    "]\n",
    "\n",
    "states_per_period_base = [\n",
    "    len(range(slice_.start, slice_.stop))\n",
    "    for slice_ in state_space_base.slices_by_periods\n",
    "]"
   ]
  },
  {
   "cell_type": "code",
   "execution_count": 9,
   "metadata": {},
   "outputs": [
    {
     "data": {
      "image/png": "[encoded data removed]",
      "text/plain": [
       "<Figure size 432x288 with 1 Axes>"
      ]
     },
     "metadata": {
      "needs_background": "light"
     },
     "output_type": "display_data"
    }
   ],
   "source": [
    "%matplotlib inline\n",
    "import matplotlib.pyplot as plt\n",
    "\n",
    "\n",
    "fig, ax = plt.subplots()\n",
    "\n",
    "for states_per_period in [states_per_period_base, states_per_period_extended]:\n",
    "    ax.semilogy(range(0, len(states_per_period)), states_per_period)\n",
    "    \n",
    "ax.set_ylim(1, 1e7)\n",
    "\n",
    "ax.set_xlabel(\"Period\")\n",
    "ax.set_ylabel(\"Number of states\")\n",
    "\n",
    "ax.legend([\"Keane and Wolpin (1997) - Base\", \"Keane and Wolpin (1997) - Extended\"], loc=\"lower right\");"
   ]
  }
 ],
 "metadata": {
  "kernelspec": {
   "display_name": "Python 3",
   "language": "python",
   "name": "python3"
  },
  "language_info": {
   "codemirror_mode": {
    "name": "ipython",
    "version": 3
   },
   "file_extension": ".py",
   "mimetype": "text/x-python",
   "name": "python",
   "nbconvert_exporter": "python",
   "pygments_lexer": "ipython3",
   "version": "3.7.3"
  }
 },
 "nbformat": 4,
 "nbformat_minor": 4
}
