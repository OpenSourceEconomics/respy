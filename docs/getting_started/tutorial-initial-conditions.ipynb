{
 "cells": [
  {
   "cell_type": "markdown",
   "metadata": {},
   "source": [
    "# Tutorial - Initial Conditions\n",
    "\n",
    "While working with respy, you often want to simulate the effects of policies in counterfactual environments. At the start of the simulation, you need to sample the characteristics of individuals. You normally want to do at least one of the following points:\n",
    "\n",
    "- Individuals should start with nonzero years of experience for some choice.\n",
    "- The previous (lagged) choice in the first period can only be a subset of all choices in the model.\n",
    "- An observed characteristic is not evenly distributed in the population.\n",
    "\n",
    "Taken together these assumptions are called the initial conditions of a model. An initial condition is also called a *seed value* and determines the value of a variable in the first period of a dynamic system. \n",
    "\n",
    "In the following, we describe how to set the initial condition for each of the the three points for a small Robinson Crusoe Economy. A more thorough presentation of a similar model can be found [here](tutorial-robinson-crusoe.ipynb)."
   ]
  },
  {
   "cell_type": "code",
   "execution_count": 1,
   "metadata": {},
   "outputs": [],
   "source": [
    "%matplotlib inline\n",
    "\n",
    "import io\n",
    "import pandas as pd\n",
    "import respy as rp\n",
    "import matplotlib.pyplot as plt\n",
    "import seaborn as sns"
   ]
  },
  {
   "cell_type": "markdown",
   "metadata": {},
   "source": [
    "## Experiences\n",
    "\n",
    "In a nutshell, Robinson can choose between fishing and staying in the hammock every period. He can accumulate experience in fishing which makes him more productive. To describe such a simple model, we write the following parameterization and simulate data with ten periods."
   ]
  },
  {
   "cell_type": "code",
   "execution_count": 2,
   "metadata": {},
   "outputs": [],
   "source": [
    "params = \"\"\"\n",
    "category,name,value\n",
    "delta,delta,0.95\n",
    "wage_fishing,exp_fishing,0.01\n",
    "nonpec_hammock,constant,1\n",
    "shocks_sdcorr,sd_fishing,1\n",
    "shocks_sdcorr,sd_hammock,1\n",
    "shocks_sdcorr,corr_hammock_fishing,0\n",
    "\"\"\"\n",
    "\n",
    "options = {\n",
    "    \"n_periods\": 10,\n",
    "    \"simulation_agents\": 1_000,\n",
    "    \"covariates\": {\"constant\": \"1\"}\n",
    "}"
   ]
  },
  {
   "cell_type": "code",
   "execution_count": 3,
   "metadata": {},
   "outputs": [
    {
     "data": {
      "text/html": [
       "<div>\n",
       "<style scoped>\n",
       "    .dataframe tbody tr th:only-of-type {\n",
       "        vertical-align: middle;\n",
       "    }\n",
       "\n",
       "    .dataframe tbody tr th {\n",
       "        vertical-align: top;\n",
       "    }\n",
       "\n",
       "    .dataframe thead th {\n",
       "        text-align: right;\n",
       "    }\n",
       "</style>\n",
       "<table border=\"1\" class=\"dataframe\">\n",
       "  <thead>\n",
       "    <tr style=\"text-align: right;\">\n",
       "      <th></th>\n",
       "      <th></th>\n",
       "      <th>value</th>\n",
       "    </tr>\n",
       "    <tr>\n",
       "      <th>category</th>\n",
       "      <th>name</th>\n",
       "      <th></th>\n",
       "    </tr>\n",
       "  </thead>\n",
       "  <tbody>\n",
       "    <tr>\n",
       "      <th>delta</th>\n",
       "      <th>delta</th>\n",
       "      <td>0.95</td>\n",
       "    </tr>\n",
       "    <tr>\n",
       "      <th>wage_fishing</th>\n",
       "      <th>exp_fishing</th>\n",
       "      <td>0.01</td>\n",
       "    </tr>\n",
       "    <tr>\n",
       "      <th>nonpec_hammock</th>\n",
       "      <th>constant</th>\n",
       "      <td>1.00</td>\n",
       "    </tr>\n",
       "    <tr>\n",
       "      <th rowspan=\"3\" valign=\"top\">shocks_sdcorr</th>\n",
       "      <th>sd_fishing</th>\n",
       "      <td>1.00</td>\n",
       "    </tr>\n",
       "    <tr>\n",
       "      <th>sd_hammock</th>\n",
       "      <td>1.00</td>\n",
       "    </tr>\n",
       "    <tr>\n",
       "      <th>corr_hammock_fishing</th>\n",
       "      <td>0.00</td>\n",
       "    </tr>\n",
       "  </tbody>\n",
       "</table>\n",
       "</div>"
      ],
      "text/plain": [
       "                                     value\n",
       "category       name                       \n",
       "delta          delta                  0.95\n",
       "wage_fishing   exp_fishing            0.01\n",
       "nonpec_hammock constant               1.00\n",
       "shocks_sdcorr  sd_fishing             1.00\n",
       "               sd_hammock             1.00\n",
       "               corr_hammock_fishing   0.00"
      ]
     },
     "execution_count": 3,
     "metadata": {},
     "output_type": "execute_result"
    }
   ],
   "source": [
    "params = pd.read_csv(io.StringIO(params), index_col=[\"category\", \"name\"])\n",
    "params"
   ]
  },
  {
   "cell_type": "code",
   "execution_count": 4,
   "metadata": {},
   "outputs": [],
   "source": [
    "simulate = rp.get_simulate_func(params, options)\n",
    "df = simulate(params)"
   ]
  },
  {
   "cell_type": "code",
   "execution_count": 5,
   "metadata": {},
   "outputs": [
    {
     "data": {
      "image/png": "[encoded data removed]",
      "text/plain": [
       "<Figure size 921.6x345.6 with 2 Axes>"
      ]
     },
     "metadata": {
      "needs_background": "light"
     },
     "output_type": "display_data"
    }
   ],
   "source": [
    "fig, axs = plt.subplots(1, 2, figsize=(12.8, 4.8))\n",
    "\n",
    "(df.groupby(\"Period\").Choice.value_counts(normalize=True).unstack()\n",
    " .plot.bar(ax=axs[0], stacked=True, rot=0, title=\"Choice Probabilities\"))\n",
    "(df.groupby(\"Period\").Experience_Fishing.value_counts(normalize=True).unstack().plot\n",
    " .bar(ax=axs[1], stacked=True, rot=0, title=\"Share of Experience Level per Period\", cmap=\"Reds\"))\n",
    "\n",
    "axs[0].legend([\"Fishing\", \"Hammock\"], loc=\"upper center\", bbox_to_anchor=(0.5, -0.15), ncol=2)\n",
    "axs[1].legend(loc=\"upper center\", bbox_to_anchor=(0.5, -0.15), ncol=5)\n",
    "\n",
    "plt.show()\n",
    "plt.close()"
   ]
  },
  {
   "cell_type": "markdown",
   "metadata": {},
   "source": [
    "The figure on the left-hand-side shows the choice probabilities for Robinson in each period. On the right-hand-side, one can see the average experience in fishing. By default Robinson starts with zero experience in fishing.\n",
    "\n",
    "What if Robinson has an equal probability start with zero, one or two periods of experience in fishing? The first way to add more complex initial conditions to the model is via **probability mass functions**. This type of distributions is handy if the probabilities do not depend on any information. To feed the information to ``respy`` use the keyword ``initial_exp_fishing_*`` in the category-level of the index. Replace ``*`` with the experience level. In the name-level, use ``probability`` to signal that the float in ``value`` is a probability. The new parameter specification is below.\n",
    "\n",
    "Note that one probability is set to 0.34 such that all probabilities sum to one. If that is not the case, respy will emit a warning and normalize probabilities."
   ]
  },
  {
   "cell_type": "code",
   "execution_count": 6,
   "metadata": {},
   "outputs": [],
   "source": [
    "params = \"\"\"\n",
    "category,name,value\n",
    "delta,delta,0.95\n",
    "wage_fishing,exp_fishing,0.01\n",
    "nonpec_hammock,constant,1\n",
    "shocks_sdcorr,sd_fishing,1\n",
    "shocks_sdcorr,sd_hammock,1\n",
    "shocks_sdcorr,corr_hammock_fishing,0\n",
    "initial_exp_fishing_0,probability,0.33\n",
    "initial_exp_fishing_1,probability,0.33\n",
    "initial_exp_fishing_2,probability,0.34\n",
    "\"\"\""
   ]
  },
  {
   "cell_type": "code",
   "execution_count": 7,
   "metadata": {},
   "outputs": [
    {
     "data": {
      "text/html": [
       "<div>\n",
       "<style scoped>\n",
       "    .dataframe tbody tr th:only-of-type {\n",
       "        vertical-align: middle;\n",
       "    }\n",
       "\n",
       "    .dataframe tbody tr th {\n",
       "        vertical-align: top;\n",
       "    }\n",
       "\n",
       "    .dataframe thead th {\n",
       "        text-align: right;\n",
       "    }\n",
       "</style>\n",
       "<table border=\"1\" class=\"dataframe\">\n",
       "  <thead>\n",
       "    <tr style=\"text-align: right;\">\n",
       "      <th></th>\n",
       "      <th></th>\n",
       "      <th>value</th>\n",
       "    </tr>\n",
       "    <tr>\n",
       "      <th>category</th>\n",
       "      <th>name</th>\n",
       "      <th></th>\n",
       "    </tr>\n",
       "  </thead>\n",
       "  <tbody>\n",
       "    <tr>\n",
       "      <th>delta</th>\n",
       "      <th>delta</th>\n",
       "      <td>0.95</td>\n",
       "    </tr>\n",
       "    <tr>\n",
       "      <th>wage_fishing</th>\n",
       "      <th>exp_fishing</th>\n",
       "      <td>0.01</td>\n",
       "    </tr>\n",
       "    <tr>\n",
       "      <th>nonpec_hammock</th>\n",
       "      <th>constant</th>\n",
       "      <td>1.00</td>\n",
       "    </tr>\n",
       "    <tr>\n",
       "      <th rowspan=\"3\" valign=\"top\">shocks_sdcorr</th>\n",
       "      <th>sd_fishing</th>\n",
       "      <td>1.00</td>\n",
       "    </tr>\n",
       "    <tr>\n",
       "      <th>sd_hammock</th>\n",
       "      <td>1.00</td>\n",
       "    </tr>\n",
       "    <tr>\n",
       "      <th>corr_hammock_fishing</th>\n",
       "      <td>0.00</td>\n",
       "    </tr>\n",
       "    <tr>\n",
       "      <th>initial_exp_fishing_0</th>\n",
       "      <th>probability</th>\n",
       "      <td>0.33</td>\n",
       "    </tr>\n",
       "    <tr>\n",
       "      <th>initial_exp_fishing_1</th>\n",
       "      <th>probability</th>\n",
       "      <td>0.33</td>\n",
       "    </tr>\n",
       "    <tr>\n",
       "      <th>initial_exp_fishing_2</th>\n",
       "      <th>probability</th>\n",
       "      <td>0.34</td>\n",
       "    </tr>\n",
       "  </tbody>\n",
       "</table>\n",
       "</div>"
      ],
      "text/plain": [
       "                                            value\n",
       "category              name                       \n",
       "delta                 delta                  0.95\n",
       "wage_fishing          exp_fishing            0.01\n",
       "nonpec_hammock        constant               1.00\n",
       "shocks_sdcorr         sd_fishing             1.00\n",
       "                      sd_hammock             1.00\n",
       "                      corr_hammock_fishing   0.00\n",
       "initial_exp_fishing_0 probability            0.33\n",
       "initial_exp_fishing_1 probability            0.33\n",
       "initial_exp_fishing_2 probability            0.34"
      ]
     },
     "execution_count": 7,
     "metadata": {},
     "output_type": "execute_result"
    }
   ],
   "source": [
    "params = pd.read_csv(io.StringIO(params), index_col=[\"category\", \"name\"])\n",
    "params"
   ]
  },
  {
   "cell_type": "code",
   "execution_count": 8,
   "metadata": {},
   "outputs": [],
   "source": [
    "simulate = rp.get_simulate_func(params, options)\n",
    "df = simulate(params)"
   ]
  },
  {
   "cell_type": "code",
   "execution_count": 9,
   "metadata": {},
   "outputs": [
    {
     "data": {
      "image/png": "[encoded data removed]",
      "text/plain": [
       "<Figure size 921.6x345.6 with 2 Axes>"
      ]
     },
     "metadata": {
      "needs_background": "light"
     },
     "output_type": "display_data"
    }
   ],
   "source": [
    "fig, axs = plt.subplots(1, 2, figsize=(12.8, 4.8))\n",
    "\n",
    "(df.groupby(\"Period\").Choice.value_counts(normalize=True).unstack()\n",
    " .plot.bar(ax=axs[0], stacked=True, rot=0, title=\"Choice Probabilities\"))\n",
    "(df.groupby(\"Period\").Experience_Fishing.value_counts(normalize=True).unstack().plot\n",
    " .bar(ax=axs[1], stacked=True, rot=0, title=\"Share of Experience Level per Period\", cmap=\"Reds\"))\n",
    "\n",
    "axs[0].legend([\"Fishing\", \"Hammock\"], loc=\"upper center\", bbox_to_anchor=(0.5, -0.15), ncol=2)\n",
    "axs[1].legend(loc=\"upper center\", bbox_to_anchor=(0.5, -0.15), ncol=6)\n",
    "\n",
    "plt.show()\n",
    "plt.close()"
   ]
  },
  {
   "cell_type": "markdown",
   "metadata": {},
   "source": [
    "One can clearly see the proportions of experiences in the first period.\n",
    "\n",
    "## Lagged Choices\n",
    "\n",
    "In the next step, we want to enrich the model with information on the choice in the previous period. Let us assume that Robinson has troubles storing food on a tropical island so that he incurs a penalty if he enjoys his life in the hammock two times in a row. We add the parameter ``\"not_fishing_last_period\"`` to the nonpecuniary reward and add a corresponding covariate to the options."
   ]
  },
  {
   "cell_type": "code",
   "execution_count": 10,
   "metadata": {},
   "outputs": [],
   "source": [
    "params = \"\"\"\n",
    "category,name,value\n",
    "delta,delta,0.95\n",
    "wage_fishing,exp_fishing,0.01\n",
    "nonpec_hammock,constant,1\n",
    "nonpec_hammock,not_fishing_last_period,-0.5\n",
    "shocks_sdcorr,sd_fishing,1\n",
    "shocks_sdcorr,sd_hammock,1\n",
    "shocks_sdcorr,corr_hammock_fishing,0\n",
    "initial_exp_fishing_0,probability,0.33\n",
    "initial_exp_fishing_1,probability,0.33\n",
    "initial_exp_fishing_2,probability,0.34\n",
    "\"\"\"\n",
    "\n",
    "options = {\n",
    "    \"n_periods\": 10,\n",
    "    \"simulation_agents\": 1_000,\n",
    "    \"covariates\": {\n",
    "        \"constant\": \"1\",\n",
    "        \"not_fishing_last_period\": \"lagged_choice_1 != 'fishing'\"\n",
    "    }\n",
    "}"
   ]
  },
  {
   "cell_type": "code",
   "execution_count": 11,
   "metadata": {},
   "outputs": [
    {
     "data": {
      "text/html": [
       "<div>\n",
       "<style scoped>\n",
       "    .dataframe tbody tr th:only-of-type {\n",
       "        vertical-align: middle;\n",
       "    }\n",
       "\n",
       "    .dataframe tbody tr th {\n",
       "        vertical-align: top;\n",
       "    }\n",
       "\n",
       "    .dataframe thead th {\n",
       "        text-align: right;\n",
       "    }\n",
       "</style>\n",
       "<table border=\"1\" class=\"dataframe\">\n",
       "  <thead>\n",
       "    <tr style=\"text-align: right;\">\n",
       "      <th></th>\n",
       "      <th></th>\n",
       "      <th>value</th>\n",
       "    </tr>\n",
       "    <tr>\n",
       "      <th>category</th>\n",
       "      <th>name</th>\n",
       "      <th></th>\n",
       "    </tr>\n",
       "  </thead>\n",
       "  <tbody>\n",
       "    <tr>\n",
       "      <th>delta</th>\n",
       "      <th>delta</th>\n",
       "      <td>0.95</td>\n",
       "    </tr>\n",
       "    <tr>\n",
       "      <th>wage_fishing</th>\n",
       "      <th>exp_fishing</th>\n",
       "      <td>0.01</td>\n",
       "    </tr>\n",
       "    <tr>\n",
       "      <th rowspan=\"2\" valign=\"top\">nonpec_hammock</th>\n",
       "      <th>constant</th>\n",
       "      <td>1.00</td>\n",
       "    </tr>\n",
       "    <tr>\n",
       "      <th>not_fishing_last_period</th>\n",
       "      <td>-0.50</td>\n",
       "    </tr>\n",
       "    <tr>\n",
       "      <th rowspan=\"3\" valign=\"top\">shocks_sdcorr</th>\n",
       "      <th>sd_fishing</th>\n",
       "      <td>1.00</td>\n",
       "    </tr>\n",
       "    <tr>\n",
       "      <th>sd_hammock</th>\n",
       "      <td>1.00</td>\n",
       "    </tr>\n",
       "    <tr>\n",
       "      <th>corr_hammock_fishing</th>\n",
       "      <td>0.00</td>\n",
       "    </tr>\n",
       "    <tr>\n",
       "      <th>initial_exp_fishing_0</th>\n",
       "      <th>probability</th>\n",
       "      <td>0.33</td>\n",
       "    </tr>\n",
       "    <tr>\n",
       "      <th>initial_exp_fishing_1</th>\n",
       "      <th>probability</th>\n",
       "      <td>0.33</td>\n",
       "    </tr>\n",
       "    <tr>\n",
       "      <th>initial_exp_fishing_2</th>\n",
       "      <th>probability</th>\n",
       "      <td>0.34</td>\n",
       "    </tr>\n",
       "  </tbody>\n",
       "</table>\n",
       "</div>"
      ],
      "text/plain": [
       "                                               value\n",
       "category              name                          \n",
       "delta                 delta                     0.95\n",
       "wage_fishing          exp_fishing               0.01\n",
       "nonpec_hammock        constant                  1.00\n",
       "                      not_fishing_last_period  -0.50\n",
       "shocks_sdcorr         sd_fishing                1.00\n",
       "                      sd_hammock                1.00\n",
       "                      corr_hammock_fishing      0.00\n",
       "initial_exp_fishing_0 probability               0.33\n",
       "initial_exp_fishing_1 probability               0.33\n",
       "initial_exp_fishing_2 probability               0.34"
      ]
     },
     "execution_count": 11,
     "metadata": {},
     "output_type": "execute_result"
    }
   ],
   "source": [
    "params = pd.read_csv(io.StringIO(params), index_col=[\"category\", \"name\"])\n",
    "params"
   ]
  },
  {
   "cell_type": "code",
   "execution_count": 12,
   "metadata": {},
   "outputs": [
    {
     "name": "stderr",
     "output_type": "stream",
     "text": [
      "C:\\Users\\tobia\\git\\respy\\respy\\pre_processing\\model_processing.py:438: UserWarning: The distribution of initial lagged choices is insufficiently specified in the parameters. Covariates require 1 lagged choices and parameters define 0. Missing lags have equiprobable choices.\n",
      "  category=UserWarning,\n",
      "C:\\Users\\tobia\\git\\respy\\respy\\pre_processing\\model_processing.py:438: UserWarning: The distribution of initial lagged choices is insufficiently specified in the parameters. Covariates require 1 lagged choices and parameters define 0. Missing lags have equiprobable choices.\n",
      "  category=UserWarning,\n"
     ]
    }
   ],
   "source": [
    "simulate = rp.get_simulate_func(params, options)\n",
    "df = simulate(params)"
   ]
  },
  {
   "cell_type": "markdown",
   "metadata": {},
   "source": [
    "The warning is raised because we forgot to specify what individuals in period 0 have been doing in the previous period. As a default, `respy` assumes that all choices have the same probability for being the previous choice. Note that, it might lead to inconsistent states where an individual should have accumulated experience in the previous period, but still starts with zero experience.\n",
    "\n",
    "Below we see the choice probabilities on the left-hand-side and the shares of lagged choices on the right-hand-side. Without further information, ``respy`` makes all previous choices in the first period equiprobable.\n",
    "\n",
    "If we had set the covariate with the lagged choice but not added a parameter using the covariate, ``respy`` would have discarded the covariate and created a model without lagged choices."
   ]
  },
  {
   "cell_type": "code",
   "execution_count": 13,
   "metadata": {},
   "outputs": [
    {
     "data": {
      "image/png": "[encoded data removed]",
      "text/plain": [
       "<Figure size 921.6x345.6 with 2 Axes>"
      ]
     },
     "metadata": {
      "needs_background": "light"
     },
     "output_type": "display_data"
    }
   ],
   "source": [
    "fig, axs = plt.subplots(1, 2, figsize=(12.8, 4.8))\n",
    "\n",
    "(df.groupby(\"Period\").Choice.value_counts(normalize=True).unstack()\n",
    " .plot.bar(ax=axs[0], stacked=True, rot=0, title=\"Choice Probabilities\"))\n",
    "(df.groupby(\"Period\").Lagged_Choice_1.value_counts(normalize=True).unstack().plot\n",
    " .bar(ax=axs[1], stacked=True, rot=0, title=\"Share of Lagged Choice per Period\"))\n",
    "\n",
    "axs[0].legend([\"Fishing\", \"Hammock\"], loc=\"upper center\", bbox_to_anchor=(0.5, -0.15), ncol=2)\n",
    "axs[1].legend(loc=\"upper center\", bbox_to_anchor=(0.5, -0.15), ncol=2)\n",
    "\n",
    "plt.show()\n",
    "plt.close()"
   ]
  },
  {
   "cell_type": "markdown",
   "metadata": {},
   "source": [
    "What if we wanted a more complex distribution of lagged choices. Remember that Robinson starts with 0, 1 or 2 periods of experience in fishing. Thus, it is natural to assume that higher experience levels correspond to a higher probability for having fishing as a previous choice.\n",
    "\n",
    "This kind of distribution is more complex because it involves covariates. A flexible solution is to use a **multinomial logit** or **softmax function** to map parameters with covariates to probabilities. This allows to specify very complex distributions, ones which could have been estimated outside the structural model. Here is a short explanation.\n",
    "\n",
    "For each lag, we have a set of parameters, $\\beta^f$ and $\\beta^h$, and their corresponding covariates, $x^f$ and $x^h$. The probability $p^f$ for one individual having fishing as their first lagged choice is\n",
    "\n",
    "$$\n",
    "    p^f = \\frac{e^{x^f \\beta^f}}{e^{x^f \\beta^f} + e^{x^h \\beta^h}}\n",
    "$$\n",
    "\n",
    "The probability for hammock as the lagged choice is defined analogously.\n",
    "\n",
    "In the parameters, you can use the ``lagged_choice_1_fishing`` keyword to define the parameters for fishing as the first lag. You can also define higher order lags using, for example, ``lagged_choice_2_*``.\n",
    "\n",
    "Let us assume that with each level of initial experience the probability for choosing fishing the previous period rises from 0.5 over 0.75 to 1. For zero experience in fishing, the resulting probabilities should be one halve for fishing and one halve for hammock. First, we create a covariate which is ``True`` if an individual has zero experience in fishing. This covariate is ``{\"zero_exp_fishing\": \"exp_fishing == 0\"}``. Then, the parameters for this covariate just have to be equal and can take any value. That is because the softmax function is shift-invariant. The resulting lines in the csv are\n",
    "\n",
    "    lagged_choice_1_fishing,zero_exp_fishing,1\n",
    "    lagged_choice_1_hammock,zero_exp_fishing,1\n",
    "    \n",
    "For one period of experience, the weights are 0.75 for fishing and 0.25 for the hammock. First, define a covariate ``{\"one_exp_fishing\": \"exp_fishing == 1\"}``. To get the corresponding softmax coefficients for the probabilities, note that you can rewrite the softmax formula replacing $x_i$ with 1. Recognize that the sum in the denominator, $C$, applies to all probabilities and can be discarded. Thus, the coefficients are the logs of the probabilities.\n",
    "\n",
    "$$\\begin{align}\n",
    "    p_i      &= \\frac{e^{x_i \\beta_i}}{\\sum_j e^{x_j \\beta_j}} \\\\\n",
    "             &= \\frac{e^{\\beta_i}}{\\sum_j e^{\\beta_j}} \\\\\n",
    "    log(p_i) &= \\beta_i - \\log(\\sum_j e^{\\beta_j}) \\\\\n",
    "             &= \\beta_i - C\n",
    "\\end{align}$$\n",
    "\n",
    "The lines in the parameters for $log(0.75)$ and $log(0.25)$ are\n",
    "\n",
    "    lagged_choice_1_fishing,one_exp_fishing,-0.2877\n",
    "    lagged_choice_1_hammock,one_exp_fishing,-1.3863\n",
    "    \n",
    "For two experience in fishing, we have to make sure that fishing receives a probability of one which can be achieved by using a fairly large value such as 6. By default, all missing choices receive a parameter with value -1e300.\n",
    "\n",
    "The final parameters and options are the following:"
   ]
  },
  {
   "cell_type": "code",
   "execution_count": 14,
   "metadata": {},
   "outputs": [],
   "source": [
    "params = \"\"\"\n",
    "category,name,value\n",
    "delta,delta,0.95\n",
    "wage_fishing,exp_fishing,0.01\n",
    "nonpec_hammock,constant,1\n",
    "nonpec_hammock,not_fishing_last_period,-0.5\n",
    "shocks_sdcorr,sd_fishing,1\n",
    "shocks_sdcorr,sd_hammock,1\n",
    "shocks_sdcorr,corr_hammock_fishing,0\n",
    "initial_exp_fishing_0,probability,0.33\n",
    "initial_exp_fishing_1,probability,0.33\n",
    "initial_exp_fishing_2,probability,0.34\n",
    "lagged_choice_1_fishing,zero_exp_fishing,1\n",
    "lagged_choice_1_hammock,zero_exp_fishing,1\n",
    "lagged_choice_1_fishing,one_exp_fishing,-0.2877\n",
    "lagged_choice_1_hammock,one_exp_fishing,-1.3863\n",
    "lagged_choice_1_fishing,two_exp_fishing,6\n",
    "\"\"\"\n",
    "\n",
    "options = {\n",
    "    \"n_periods\": 10,\n",
    "    \"simulation_agents\": 1_000,\n",
    "    \"covariates\": {\n",
    "        \"constant\": \"1\",\n",
    "        \"not_fishing_last_period\": \"lagged_choice_1 != 'fishing'\",\n",
    "        \"zero_exp_fishing\": \"exp_fishing == 0\",\n",
    "        \"one_exp_fishing\": \"exp_fishing == 1\",\n",
    "        \"two_exp_fishing\": \"exp_fishing == 2\",\n",
    "    }\n",
    "}"
   ]
  },
  {
   "cell_type": "code",
   "execution_count": 15,
   "metadata": {},
   "outputs": [
    {
     "data": {
      "text/html": [
       "<div>\n",
       "<style scoped>\n",
       "    .dataframe tbody tr th:only-of-type {\n",
       "        vertical-align: middle;\n",
       "    }\n",
       "\n",
       "    .dataframe tbody tr th {\n",
       "        vertical-align: top;\n",
       "    }\n",
       "\n",
       "    .dataframe thead th {\n",
       "        text-align: right;\n",
       "    }\n",
       "</style>\n",
       "<table border=\"1\" class=\"dataframe\">\n",
       "  <thead>\n",
       "    <tr style=\"text-align: right;\">\n",
       "      <th></th>\n",
       "      <th></th>\n",
       "      <th>value</th>\n",
       "    </tr>\n",
       "    <tr>\n",
       "      <th>category</th>\n",
       "      <th>name</th>\n",
       "      <th></th>\n",
       "    </tr>\n",
       "  </thead>\n",
       "  <tbody>\n",
       "    <tr>\n",
       "      <th>delta</th>\n",
       "      <th>delta</th>\n",
       "      <td>0.9500</td>\n",
       "    </tr>\n",
       "    <tr>\n",
       "      <th>wage_fishing</th>\n",
       "      <th>exp_fishing</th>\n",
       "      <td>0.0100</td>\n",
       "    </tr>\n",
       "    <tr>\n",
       "      <th rowspan=\"2\" valign=\"top\">nonpec_hammock</th>\n",
       "      <th>constant</th>\n",
       "      <td>1.0000</td>\n",
       "    </tr>\n",
       "    <tr>\n",
       "      <th>not_fishing_last_period</th>\n",
       "      <td>-0.5000</td>\n",
       "    </tr>\n",
       "    <tr>\n",
       "      <th rowspan=\"3\" valign=\"top\">shocks_sdcorr</th>\n",
       "      <th>sd_fishing</th>\n",
       "      <td>1.0000</td>\n",
       "    </tr>\n",
       "    <tr>\n",
       "      <th>sd_hammock</th>\n",
       "      <td>1.0000</td>\n",
       "    </tr>\n",
       "    <tr>\n",
       "      <th>corr_hammock_fishing</th>\n",
       "      <td>0.0000</td>\n",
       "    </tr>\n",
       "    <tr>\n",
       "      <th>initial_exp_fishing_0</th>\n",
       "      <th>probability</th>\n",
       "      <td>0.3300</td>\n",
       "    </tr>\n",
       "    <tr>\n",
       "      <th>initial_exp_fishing_1</th>\n",
       "      <th>probability</th>\n",
       "      <td>0.3300</td>\n",
       "    </tr>\n",
       "    <tr>\n",
       "      <th>initial_exp_fishing_2</th>\n",
       "      <th>probability</th>\n",
       "      <td>0.3400</td>\n",
       "    </tr>\n",
       "    <tr>\n",
       "      <th>lagged_choice_1_fishing</th>\n",
       "      <th>zero_exp_fishing</th>\n",
       "      <td>1.0000</td>\n",
       "    </tr>\n",
       "    <tr>\n",
       "      <th>lagged_choice_1_hammock</th>\n",
       "      <th>zero_exp_fishing</th>\n",
       "      <td>1.0000</td>\n",
       "    </tr>\n",
       "    <tr>\n",
       "      <th>lagged_choice_1_fishing</th>\n",
       "      <th>one_exp_fishing</th>\n",
       "      <td>-0.2877</td>\n",
       "    </tr>\n",
       "    <tr>\n",
       "      <th>lagged_choice_1_hammock</th>\n",
       "      <th>one_exp_fishing</th>\n",
       "      <td>-1.3863</td>\n",
       "    </tr>\n",
       "    <tr>\n",
       "      <th>lagged_choice_1_fishing</th>\n",
       "      <th>two_exp_fishing</th>\n",
       "      <td>6.0000</td>\n",
       "    </tr>\n",
       "  </tbody>\n",
       "</table>\n",
       "</div>"
      ],
      "text/plain": [
       "                                                  value\n",
       "category                name                           \n",
       "delta                   delta                    0.9500\n",
       "wage_fishing            exp_fishing              0.0100\n",
       "nonpec_hammock          constant                 1.0000\n",
       "                        not_fishing_last_period -0.5000\n",
       "shocks_sdcorr           sd_fishing               1.0000\n",
       "                        sd_hammock               1.0000\n",
       "                        corr_hammock_fishing     0.0000\n",
       "initial_exp_fishing_0   probability              0.3300\n",
       "initial_exp_fishing_1   probability              0.3300\n",
       "initial_exp_fishing_2   probability              0.3400\n",
       "lagged_choice_1_fishing zero_exp_fishing         1.0000\n",
       "lagged_choice_1_hammock zero_exp_fishing         1.0000\n",
       "lagged_choice_1_fishing one_exp_fishing         -0.2877\n",
       "lagged_choice_1_hammock one_exp_fishing         -1.3863\n",
       "lagged_choice_1_fishing two_exp_fishing          6.0000"
      ]
     },
     "execution_count": 15,
     "metadata": {},
     "output_type": "execute_result"
    }
   ],
   "source": [
    "params = pd.read_csv(io.StringIO(params), index_col=[\"category\", \"name\"])\n",
    "params"
   ]
  },
  {
   "cell_type": "code",
   "execution_count": 16,
   "metadata": {},
   "outputs": [],
   "source": [
    "simulate = rp.get_simulate_func(params, options)\n",
    "df = simulate(params)"
   ]
  },
  {
   "cell_type": "markdown",
   "metadata": {},
   "source": [
    "The parameters produce previous choice probabilities on the left-hand-side and the correct conditional probabilities on the right-hand-side. The differences in the probabilities occur due to the low number of simulated individuals."
   ]
  },
  {
   "cell_type": "code",
   "execution_count": 17,
   "metadata": {},
   "outputs": [
    {
     "data": {
      "image/png": "[encoded data removed]",
      "text/plain": [
       "<Figure size 921.6x345.6 with 3 Axes>"
      ]
     },
     "metadata": {
      "needs_background": "light"
     },
     "output_type": "display_data"
    }
   ],
   "source": [
    "fig, axs = plt.subplots(1, 2, figsize=(12.8, 4.8))\n",
    "\n",
    "(df.groupby(\"Period\").Lagged_Choice_1.value_counts(normalize=True).unstack().plot\n",
    " .bar(ax=axs[0], stacked=True, rot=0, title=\"Share of Lagged Choice per Period\"))\n",
    "\n",
    "sns.heatmap((df.query(\"Period == 0\").groupby([\"Experience_Fishing\"]).Lagged_Choice_1\n",
    " .value_counts(normalize=\"rows\").unstack().fillna(0)), ax=axs[1], cmap=\"RdBu_r\", annot=True)\n",
    "\n",
    "axs[0].legend(loc=\"upper center\", bbox_to_anchor=(0.5, -0.15), ncol=6)\n",
    "\n",
    "plt.show()\n",
    "plt.close()"
   ]
  },
  {
   "cell_type": "markdown",
   "metadata": {},
   "source": [
    "## Observables\n",
    "\n",
    "Now, we have talked enough about experiences and lagged choices. The last section is about observables which are other characteristics such as whether the island has rich fishing grounds or not. We can also express the distribution of observables as probability mass functions or softmax functions.\n",
    "\n",
    "Note that observables are sampled first before all other characteristics of individuals. After that, experiences and lagged choices in chronological order (highest lag first) follow. Every group itself is sorted alphabetically. Keep this in mind if you want to condition a distribution on other characteristics.\n",
    "\n",
    "For observables, it is also possible to use labels instead of numbers to identify levels which might be more convenient and intuitive. The evenly distributed levels are ``\"rich\"`` and ``\"poor\"``. The keyword is ``observable_*_*`` and everything after the last ``_`` is considered the name of the level."
   ]
  },
  {
   "cell_type": "code",
   "execution_count": 18,
   "metadata": {},
   "outputs": [],
   "source": [
    "params = \"\"\"\n",
    "category,name,value\n",
    "delta,delta,0.95\n",
    "wage_fishing,exp_fishing,0.01\n",
    "nonpec_fishing,rich_fishing_grounds,0.5\n",
    "nonpec_hammock,constant,1\n",
    "nonpec_hammock,not_fishing_last_period,-0.5\n",
    "shocks_sdcorr,sd_fishing,1\n",
    "shocks_sdcorr,sd_hammock,1\n",
    "shocks_sdcorr,corr_hammock_fishing,0\n",
    "initial_exp_fishing_0,probability,0.33\n",
    "initial_exp_fishing_1,probability,0.33\n",
    "initial_exp_fishing_2,probability,0.34\n",
    "lagged_choice_1_fishing,zero_exp_fishing,1\n",
    "lagged_choice_1_hammock,zero_exp_fishing,1\n",
    "lagged_choice_1_fishing,one_exp_fishing,-0.2877\n",
    "lagged_choice_1_hammock,one_exp_fishing,-1.3863\n",
    "lagged_choice_1_fishing,two_exp_fishing,6\n",
    "observable_fishing_grounds_rich,probability,0.5\n",
    "observable_fishing_grounds_poor,probability,0.5\n",
    "\"\"\"\n",
    "\n",
    "options = {\n",
    "    \"n_periods\": 10,\n",
    "    \"simulation_agents\": 10_000,\n",
    "    \"covariates\": {\n",
    "        \"constant\": \"1\",\n",
    "        \"not_fishing_last_period\": \"lagged_choice_1 != 'fishing'\",\n",
    "        \"zero_exp_fishing\": \"exp_fishing == 0\",\n",
    "        \"one_exp_fishing\": \"exp_fishing == 1\",\n",
    "        \"two_exp_fishing\": \"exp_fishing == 2\",\n",
    "        \"rich_fishing_grounds\": \"fishing_grounds == 'rich'\",\n",
    "    }\n",
    "}"
   ]
  },
  {
   "cell_type": "code",
   "execution_count": 19,
   "metadata": {},
   "outputs": [
    {
     "data": {
      "text/html": [
       "<div>\n",
       "<style scoped>\n",
       "    .dataframe tbody tr th:only-of-type {\n",
       "        vertical-align: middle;\n",
       "    }\n",
       "\n",
       "    .dataframe tbody tr th {\n",
       "        vertical-align: top;\n",
       "    }\n",
       "\n",
       "    .dataframe thead th {\n",
       "        text-align: right;\n",
       "    }\n",
       "</style>\n",
       "<table border=\"1\" class=\"dataframe\">\n",
       "  <thead>\n",
       "    <tr style=\"text-align: right;\">\n",
       "      <th></th>\n",
       "      <th></th>\n",
       "      <th>value</th>\n",
       "    </tr>\n",
       "    <tr>\n",
       "      <th>category</th>\n",
       "      <th>name</th>\n",
       "      <th></th>\n",
       "    </tr>\n",
       "  </thead>\n",
       "  <tbody>\n",
       "    <tr>\n",
       "      <th>delta</th>\n",
       "      <th>delta</th>\n",
       "      <td>0.9500</td>\n",
       "    </tr>\n",
       "    <tr>\n",
       "      <th>wage_fishing</th>\n",
       "      <th>exp_fishing</th>\n",
       "      <td>0.0100</td>\n",
       "    </tr>\n",
       "    <tr>\n",
       "      <th>nonpec_fishing</th>\n",
       "      <th>rich_fishing_grounds</th>\n",
       "      <td>0.5000</td>\n",
       "    </tr>\n",
       "    <tr>\n",
       "      <th rowspan=\"2\" valign=\"top\">nonpec_hammock</th>\n",
       "      <th>constant</th>\n",
       "      <td>1.0000</td>\n",
       "    </tr>\n",
       "    <tr>\n",
       "      <th>not_fishing_last_period</th>\n",
       "      <td>-0.5000</td>\n",
       "    </tr>\n",
       "    <tr>\n",
       "      <th rowspan=\"3\" valign=\"top\">shocks_sdcorr</th>\n",
       "      <th>sd_fishing</th>\n",
       "      <td>1.0000</td>\n",
       "    </tr>\n",
       "    <tr>\n",
       "      <th>sd_hammock</th>\n",
       "      <td>1.0000</td>\n",
       "    </tr>\n",
       "    <tr>\n",
       "      <th>corr_hammock_fishing</th>\n",
       "      <td>0.0000</td>\n",
       "    </tr>\n",
       "    <tr>\n",
       "      <th>initial_exp_fishing_0</th>\n",
       "      <th>probability</th>\n",
       "      <td>0.3300</td>\n",
       "    </tr>\n",
       "    <tr>\n",
       "      <th>initial_exp_fishing_1</th>\n",
       "      <th>probability</th>\n",
       "      <td>0.3300</td>\n",
       "    </tr>\n",
       "    <tr>\n",
       "      <th>initial_exp_fishing_2</th>\n",
       "      <th>probability</th>\n",
       "      <td>0.3400</td>\n",
       "    </tr>\n",
       "    <tr>\n",
       "      <th>lagged_choice_1_fishing</th>\n",
       "      <th>zero_exp_fishing</th>\n",
       "      <td>1.0000</td>\n",
       "    </tr>\n",
       "    <tr>\n",
       "      <th>lagged_choice_1_hammock</th>\n",
       "      <th>zero_exp_fishing</th>\n",
       "      <td>1.0000</td>\n",
       "    </tr>\n",
       "    <tr>\n",
       "      <th>lagged_choice_1_fishing</th>\n",
       "      <th>one_exp_fishing</th>\n",
       "      <td>-0.2877</td>\n",
       "    </tr>\n",
       "    <tr>\n",
       "      <th>lagged_choice_1_hammock</th>\n",
       "      <th>one_exp_fishing</th>\n",
       "      <td>-1.3863</td>\n",
       "    </tr>\n",
       "    <tr>\n",
       "      <th>lagged_choice_1_fishing</th>\n",
       "      <th>two_exp_fishing</th>\n",
       "      <td>6.0000</td>\n",
       "    </tr>\n",
       "    <tr>\n",
       "      <th>observable_fishing_grounds_rich</th>\n",
       "      <th>probability</th>\n",
       "      <td>0.5000</td>\n",
       "    </tr>\n",
       "    <tr>\n",
       "      <th>observable_fishing_grounds_poor</th>\n",
       "      <th>probability</th>\n",
       "      <td>0.5000</td>\n",
       "    </tr>\n",
       "  </tbody>\n",
       "</table>\n",
       "</div>"
      ],
      "text/plain": [
       "                                                          value\n",
       "category                        name                           \n",
       "delta                           delta                    0.9500\n",
       "wage_fishing                    exp_fishing              0.0100\n",
       "nonpec_fishing                  rich_fishing_grounds     0.5000\n",
       "nonpec_hammock                  constant                 1.0000\n",
       "                                not_fishing_last_period -0.5000\n",
       "shocks_sdcorr                   sd_fishing               1.0000\n",
       "                                sd_hammock               1.0000\n",
       "                                corr_hammock_fishing     0.0000\n",
       "initial_exp_fishing_0           probability              0.3300\n",
       "initial_exp_fishing_1           probability              0.3300\n",
       "initial_exp_fishing_2           probability              0.3400\n",
       "lagged_choice_1_fishing         zero_exp_fishing         1.0000\n",
       "lagged_choice_1_hammock         zero_exp_fishing         1.0000\n",
       "lagged_choice_1_fishing         one_exp_fishing         -0.2877\n",
       "lagged_choice_1_hammock         one_exp_fishing         -1.3863\n",
       "lagged_choice_1_fishing         two_exp_fishing          6.0000\n",
       "observable_fishing_grounds_rich probability              0.5000\n",
       "observable_fishing_grounds_poor probability              0.5000"
      ]
     },
     "execution_count": 19,
     "metadata": {},
     "output_type": "execute_result"
    }
   ],
   "source": [
    "params = pd.read_csv(io.StringIO(params), index_col=[\"category\", \"name\"])\n",
    "params"
   ]
  },
  {
   "cell_type": "code",
   "execution_count": 20,
   "metadata": {},
   "outputs": [],
   "source": [
    "simulate = rp.get_simulate_func(params, options)\n",
    "df = simulate(params)"
   ]
  },
  {
   "cell_type": "code",
   "execution_count": 21,
   "metadata": {},
   "outputs": [
    {
     "data": {
      "image/png": "[encoded data removed]",
      "text/plain": [
       "<Figure size 921.6x345.6 with 2 Axes>"
      ]
     },
     "metadata": {
      "needs_background": "light"
     },
     "output_type": "display_data"
    }
   ],
   "source": [
    "fig, axs = plt.subplots(1, 2, figsize=(12.8, 4.8))\n",
    "\n",
    "(df.groupby(\"Fishing_Grounds\").Choice.value_counts(normalize=True).unstack().plot\n",
    " .bar(ax=axs[0], stacked=True, rot=0, title=\"Choice Probabilities\"))\n",
    "\n",
    "(df.Fishing_Grounds.value_counts(normalize=True)\n",
    " .fillna(0).plot.bar(stacked=True, ax=axs[1], rot=0, title=\"Observable Distribution\"))\n",
    "\n",
    "axs[0].legend(loc=\"upper center\", bbox_to_anchor=(0.5, -0.15), ncol=2)\n",
    "axs[1].legend(loc=\"upper center\", bbox_to_anchor=(0.5, -0.15), ncol=2)\n",
    "\n",
    "plt.show()\n",
    "plt.close()"
   ]
  },
  {
   "cell_type": "markdown",
   "metadata": {},
   "source": [
    "You can see in the figure on the right-hand-side that poor and rich fishing grounds are evenly distributed. The figure on the left-hand-side shows that rich fishing grounds lead to higher engagement in fishing.\n",
    "\n",
    "## Conclusion\n",
    "\n",
    "We showed ...\n",
    "\n",
    "- how to express different distributions, probability mass functions or softmax functions, in the parameters of a respy model.\n",
    "- that you can use numbers and labels for discrete levels of observables.\n",
    "\n",
    "Happy modeling!"
   ]
  }
 ],
 "metadata": {
  "kernelspec": {
   "display_name": "Python 3",
   "language": "python",
   "name": "python3"
  },
  "language_info": {
   "codemirror_mode": {
    "name": "ipython",
    "version": 3
   },
   "file_extension": ".py",
   "mimetype": "text/x-python",
   "name": "python",
   "nbconvert_exporter": "python",
   "pygments_lexer": "ipython3",
   "version": "3.7.6"
  }
 },
 "nbformat": 4,
 "nbformat_minor": 4
}
