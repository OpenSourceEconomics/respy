{
 "cells": [
  {
   "cell_type": "markdown",
   "metadata": {},
   "source": [
    "# Tutorial - ``params``, ``options``, and simulation"
   ]
  },
  {
   "cell_type": "markdown",
   "metadata": {},
   "source": [
    "This series of tutorials is an introduction to ``respy`` for new users. It is especially targeted at Economics students \n",
    "taking their first steps in structural econometric modeling, and it also serves to showcase the potential of ``respy`` as a teaching tool. \n",
    "\n",
    "In this first tutorial we will learn how to specify and simulate a simple model with ``respy``. As economists love Robinsonades [<sup>1</sup>](#fn1), we will implement a simple Robinson Crusoe economy as a discrete choice dynamic programming model. "
   ]
  },
  {
   "cell_type": "code",
   "execution_count": 1,
   "metadata": {},
   "outputs": [],
   "source": [
    "%matplotlib inline\n",
    "\n",
    "import io\n",
    "import yaml\n",
    "import pandas as pd\n",
    "import respy as rp\n",
    "import matplotlib.pyplot as plt\n",
    "import seaborn as sns"
   ]
  },
  {
   "cell_type": "markdown",
   "metadata": {},
   "source": [
    "## The model: a simple Robinson Crusoe economy"
   ]
  },
  {
   "cell_type": "markdown",
   "metadata": {},
   "source": [
    "In this basic Robinson Crusoe economy, Robinson is alone on a desert island and must choose every period $t = \\{0, 1, ... T-1\\}$ between two alternatives: fishing or relaxing on his hammock. Each of the two alternatives is associated with a certain level of instantaneous utility, determined at each time $t$ by a deterministic component and a stochastic component. As Robinson cannot foresee these stochastic components, we speak of \"choice under uncertainty\".<br>\n",
    "\n",
    "In ``respy`` the istantaneous utility of an alternative, $u_t$, consists of the sum of a pecuniary reward or wage $W_t$ and a non-pecuniary reward $N_t$.<br> \n",
    "Speaking of a wage in this context seems inappropriate since Robinson, being alone on an island, won't receive any wage for the time he spends fishing. However, this distinction is useful to keep in mind when tackling more complex models of labor supply.\n",
    "\n",
    "The **wage** is zero if Robinson chooses to relax on his hammock. If Robinson goes fishing his wage at time $t$ is:\n",
    "\n",
    "$$\n",
    "W^f = exp\\{x_t \\beta^f + \\epsilon_{ft}\\}\n",
    "$$\n",
    "\n",
    "where:\n",
    "\n",
    "- $f$ indicates the \"fishing\" alternative; \n",
    "- $x_t$ denotes Robinson's experience in fishing;\n",
    "- $\\beta^f$ denotes the return to experience in fishing; \n",
    "- $\\epsilon_{ft}$ is a random shock.<br>\n",
    "\n",
    "In words, the deterministic component of Robinson's wage is generated each day by only one covariate, his current experience in fishing (which is 0 if Robinson never fished before, 1 if Robinson fished once before, and so on), times the return to experience in fishing. The stochastic component, $\\epsilon_{ft}$, is drawn from a Normal distribution, and (may) depend on the current time $t$ and on Robinson's current choice. \n",
    "\n",
    "The **non-pecuniary reward** for fishing and relaxing on the hammock are simply set as constant terms, with an additional shock, also drawn from a Normal distribution, entering the latter additively: \n",
    "\n",
    "$$\\begin{align}\n",
    "N^f = \\alpha^f \\\\\n",
    "N^h = \\alpha^h + \\epsilon_{ht}\\\n",
    "\\end{align}$$\n",
    "\n",
    "More generally, the wage and non-pecuniary rewards can be flexibly generated specifying a vector of choice- and time-dependent covariates and the associated vector of choice-dependent parameters. "
   ]
  },
  {
   "cell_type": "markdown",
   "metadata": {},
   "source": [
    "<div class=\"alert alert-info\">\n",
    "\n",
    "See [link to how-to guide] for a more detailed explaination of how to specify a model in ``respy``.\n",
    "\n",
    "</div>"
   ]
  },
  {
   "cell_type": "markdown",
   "metadata": {},
   "source": [
    "The parameters of this simple model are $\\alpha^h$ and $\\alpha^f$ (the constants in the non-pecuniary rewards) and $\\beta^f$ (return to experience in fishing), along with the time-preference parameter (see below) and the lower triangular elements of the shocks variance-covariance matrix which governs the distribution of the shocks. "
   ]
  },
  {
   "cell_type": "markdown",
   "metadata": {},
   "source": [
    "## Solution"
   ]
  },
  {
   "cell_type": "markdown",
   "metadata": {},
   "source": [
    "Discrete choice models are usually derived under an assumption of utility-maximizing behavior by the decision-maker. Indeed, below we assume that Robinson is forward-looking and that, in each period $t$, he wants to maximize the expected present value of utility over the remaining periods. However, Robinson can discount the utility stream derived from future periods in different ways. ``respy`` allows for:\n",
    "\n",
    "- Exponential discounting\n",
    "- Hyperbolic discounting (with a completely naïve agent)\n",
    "\n",
    "In the following, we assume Robinson to be an exponential discounter. This means that Robinson's time preferences can be described by:\n",
    "\n",
    "$$\n",
    "U_t(u_t, u_{t+1}, ...) \\equiv \\sum_{t=0}^T{\\delta^t u_t}\n",
    "$$\n",
    "\n",
    "where $\\delta \\in (0, 1]$  is the long-run discount factor which capture Robinson's preferences for immediate\n",
    "over future gratification.<br> \n",
    "If $\\delta=0$, then Robinson is completely myopic and at each time $t$ simply chooses the alternative associated with the highest instantaneous utility. If $\\delta>0$, at each period $t$, Robinson doesn't compare levels of instantaneous utility\n",
    "but *value functions* which incorporate the utility derived from future choices.<br>\n",
    "Robinson's problem (choosing the optimal sequence of alternatives) can be solved with dynamic programming. "
   ]
  },
  {
   "cell_type": "markdown",
   "metadata": {},
   "source": [
    "<div class=\"alert alert-info\">\n",
    "\n",
    "See [link] for the tutorial on hyperbolic discounting, and [link to explanations] for more details on the solution of the model.\n",
    "\n",
    "</div>"
   ]
  },
  {
   "cell_type": "markdown",
   "metadata": {},
   "source": [
    "## Specification: ``params`` and ``options``"
   ]
  },
  {
   "cell_type": "markdown",
   "metadata": {},
   "source": [
    "How can we express the model's equations and parameters with ``respy``? The parameters can be easily written to a .csv file and loaded with ``pandas``. The resulting DataFrame contains a two-level MultiIndex to group parameters (identified by a unique name and value) in categories. In particular:\n",
    "\n",
    "- ``\"delta\"`` refers to Robinson's long-run discount factor;\n",
    "- ``\"wage_fishing\"``groups the covariates and associated parameters appearing in the wage. Indeed, ``\"exp_fishing\"`` represents Robinson's experience in fishing (which is determined endogenously and recomputed from period to period) while the associated ``value`` is the return to experience;\n",
    "- ``\"nonpec_fishing\"`` groups the covariates and associated parameters appearing in the non-pecuniary rewards, and therefore contains two constant terms. Note that in the example below we set ``\"nonpec_fishing\"`` to be negative, to reflect the effort cost of fishing, while ``\"nonpec_hammock\"`` is set as positive to reflect the good feeling of relaxing on the hammock.\n",
    "- ``\"shocks_sdcorr\"`` groups the lower triangular elements of the shocks variance-covariance matrix. In ``respy``, shocks are allowed to be correlated across choices."
   ]
  },
  {
   "cell_type": "code",
   "execution_count": 2,
   "metadata": {},
   "outputs": [],
   "source": [
    "params = \"\"\"\n",
    "category,name,value\n",
    "delta,delta,0.95\n",
    "wage_fishing,exp_fishing,0.07\n",
    "nonpec_fishing,constant,-0.102\n",
    "nonpec_hammock,constant,1.046\n",
    "shocks_sdcorr,sd_fishing,0.01\n",
    "shocks_sdcorr,sd_hammock,0.01\n",
    "shocks_sdcorr,corr_hammock_fishing,0\n",
    "\"\"\""
   ]
  },
  {
   "cell_type": "code",
   "execution_count": 3,
   "metadata": {},
   "outputs": [
    {
     "data": {
      "text/html": [
       "<div>\n",
       "<style scoped>\n",
       "    .dataframe tbody tr th:only-of-type {\n",
       "        vertical-align: middle;\n",
       "    }\n",
       "\n",
       "    .dataframe tbody tr th {\n",
       "        vertical-align: top;\n",
       "    }\n",
       "\n",
       "    .dataframe thead th {\n",
       "        text-align: right;\n",
       "    }\n",
       "</style>\n",
       "<table border=\"1\" class=\"dataframe\">\n",
       "  <thead>\n",
       "    <tr style=\"text-align: right;\">\n",
       "      <th></th>\n",
       "      <th></th>\n",
       "      <th>value</th>\n",
       "    </tr>\n",
       "    <tr>\n",
       "      <th>category</th>\n",
       "      <th>name</th>\n",
       "      <th></th>\n",
       "    </tr>\n",
       "  </thead>\n",
       "  <tbody>\n",
       "    <tr>\n",
       "      <td>delta</td>\n",
       "      <td>delta</td>\n",
       "      <td>0.950</td>\n",
       "    </tr>\n",
       "    <tr>\n",
       "      <td>wage_fishing</td>\n",
       "      <td>exp_fishing</td>\n",
       "      <td>0.070</td>\n",
       "    </tr>\n",
       "    <tr>\n",
       "      <td>nonpec_fishing</td>\n",
       "      <td>constant</td>\n",
       "      <td>-0.102</td>\n",
       "    </tr>\n",
       "    <tr>\n",
       "      <td>nonpec_hammock</td>\n",
       "      <td>constant</td>\n",
       "      <td>1.046</td>\n",
       "    </tr>\n",
       "    <tr>\n",
       "      <td rowspan=\"3\" valign=\"top\">shocks_sdcorr</td>\n",
       "      <td>sd_fishing</td>\n",
       "      <td>0.010</td>\n",
       "    </tr>\n",
       "    <tr>\n",
       "      <td>sd_hammock</td>\n",
       "      <td>0.010</td>\n",
       "    </tr>\n",
       "    <tr>\n",
       "      <td>corr_hammock_fishing</td>\n",
       "      <td>0.000</td>\n",
       "    </tr>\n",
       "  </tbody>\n",
       "</table>\n",
       "</div>"
      ],
      "text/plain": [
       "                                     value\n",
       "category       name                       \n",
       "delta          delta                 0.950\n",
       "wage_fishing   exp_fishing           0.070\n",
       "nonpec_fishing constant             -0.102\n",
       "nonpec_hammock constant              1.046\n",
       "shocks_sdcorr  sd_fishing            0.010\n",
       "               sd_hammock            0.010\n",
       "               corr_hammock_fishing  0.000"
      ]
     },
     "execution_count": 3,
     "metadata": {},
     "output_type": "execute_result"
    }
   ],
   "source": [
    "params = pd.read_csv(io.StringIO(params), index_col=[\"category\", \"name\"])\n",
    "params"
   ]
  },
  {
   "cell_type": "markdown",
   "metadata": {},
   "source": [
    "``params`` is complemented with ``options``, which need to be specified in the YAML format. ``options`` contain additional information needed for the solution, simulation and estimation of the model. For example, `\"n_periods\"` defines the number of periods for which the model is solved and simulated, and ``\"simulation_agents\"`` defines how many identical individuals are simulated. \n",
    "\n",
    "Note that the behavior across individuals can differ because each simulated individual faces a different sequence of shocks: Seeds (denoted by ``\"_seed\"``in the ``options``) are used in every model component to ensure reproducibility. You can use any seed you would like or even repeat the same seed number. Internally, we ensure that randomness is completely uncorrelated."
   ]
  },
  {
   "cell_type": "markdown",
   "metadata": {},
   "source": [
    "<div class=\"alert alert-info\">\n",
    "\n",
    "See [link] for more details on randomness and reproducibility in ``respy``.\n",
    "\n",
    "</div>"
   ]
  },
  {
   "cell_type": "code",
   "execution_count": 4,
   "metadata": {},
   "outputs": [],
   "source": [
    "options = \"\"\"\n",
    "{'solution_draws': 100,\n",
    " 'solution_seed': 456,\n",
    " 'n_periods': 5,\n",
    " 'simulation_agents': 1000,\n",
    " 'simulation_seed': 132,\n",
    " 'estimation_draws': 100,\n",
    " 'estimation_seed': 100,\n",
    " 'estimation_tau': 0.001,\n",
    " 'interpolation_points': -1,\n",
    " 'covariates': {'constant': '1'}}\n",
    "\"\"\""
   ]
  },
  {
   "cell_type": "code",
   "execution_count": 5,
   "metadata": {},
   "outputs": [
    {
     "data": {
      "text/plain": [
       "{'solution_draws': 100,\n",
       " 'solution_seed': 456,\n",
       " 'n_periods': 5,\n",
       " 'simulation_agents': 1000,\n",
       " 'simulation_seed': 132,\n",
       " 'estimation_draws': 100,\n",
       " 'estimation_seed': 100,\n",
       " 'estimation_tau': 0.001,\n",
       " 'interpolation_points': -1,\n",
       " 'covariates': {'constant': '1'}}"
      ]
     },
     "execution_count": 5,
     "metadata": {},
     "output_type": "execute_result"
    }
   ],
   "source": [
    "options = yaml.safe_load(io.StringIO(options))\n",
    "options"
   ]
  },
  {
   "cell_type": "markdown",
   "metadata": {},
   "source": [
    "## Simulation"
   ]
  },
  {
   "cell_type": "markdown",
   "metadata": {},
   "source": [
    "We are now ready to simulate the model. Performing a simulation returns a MultiIndex containing all the information needed to inspect Robinson's decisions period by period. The visualizations below can be easily generated with the ``Matplotlib`` library."
   ]
  },
  {
   "cell_type": "markdown",
   "metadata": {},
   "source": [
    "<div class=\"alert alert-info\">\n",
    "\n",
    "See [link] for a guide on how to simulate with ``respy``.\n",
    "\n",
    "</div>"
   ]
  },
  {
   "cell_type": "code",
   "execution_count": 6,
   "metadata": {},
   "outputs": [],
   "source": [
    "simulate = rp.get_simulate_func(params, options)\n",
    "df = simulate(params)"
   ]
  },
  {
   "cell_type": "code",
   "execution_count": 7,
   "metadata": {
    "scrolled": true
   },
   "outputs": [
    {
     "data": {
      "text/html": [
       "<div>\n",
       "<style scoped>\n",
       "    .dataframe tbody tr th:only-of-type {\n",
       "        vertical-align: middle;\n",
       "    }\n",
       "\n",
       "    .dataframe tbody tr th {\n",
       "        vertical-align: top;\n",
       "    }\n",
       "\n",
       "    .dataframe thead th {\n",
       "        text-align: right;\n",
       "    }\n",
       "</style>\n",
       "<table border=\"1\" class=\"dataframe\">\n",
       "  <thead>\n",
       "    <tr style=\"text-align: right;\">\n",
       "      <th></th>\n",
       "      <th>Identifier</th>\n",
       "      <th>Period</th>\n",
       "      <th>Choice</th>\n",
       "      <th>Wage</th>\n",
       "      <th>Experience_Fishing</th>\n",
       "      <th>Type</th>\n",
       "      <th>Nonpecuniary_Reward_Fishing</th>\n",
       "      <th>Nonpecuniary_Reward_Hammock</th>\n",
       "      <th>Wage_Fishing</th>\n",
       "      <th>Flow_Utility_Fishing</th>\n",
       "      <th>Flow_Utility_Hammock</th>\n",
       "      <th>Value_Function_Fishing</th>\n",
       "      <th>Value_Function_Hammock</th>\n",
       "      <th>Shock_Reward_Fishing</th>\n",
       "      <th>Shock_Reward_Hammock</th>\n",
       "      <th>Discount_Rate</th>\n",
       "    </tr>\n",
       "  </thead>\n",
       "  <tbody>\n",
       "    <tr>\n",
       "      <td>0</td>\n",
       "      <td>0</td>\n",
       "      <td>0</td>\n",
       "      <td>hammock</td>\n",
       "      <td>NaN</td>\n",
       "      <td>0</td>\n",
       "      <td>0</td>\n",
       "      <td>-0.102</td>\n",
       "      <td>1.046</td>\n",
       "      <td>1.0</td>\n",
       "      <td>0.905197</td>\n",
       "      <td>1.056305</td>\n",
       "      <td>4.738557</td>\n",
       "      <td>4.742931</td>\n",
       "      <td>1.007197</td>\n",
       "      <td>0.010305</td>\n",
       "      <td>0.95</td>\n",
       "    </tr>\n",
       "    <tr>\n",
       "      <td>1</td>\n",
       "      <td>0</td>\n",
       "      <td>1</td>\n",
       "      <td>hammock</td>\n",
       "      <td>NaN</td>\n",
       "      <td>0</td>\n",
       "      <td>0</td>\n",
       "      <td>-0.102</td>\n",
       "      <td>1.046</td>\n",
       "      <td>1.0</td>\n",
       "      <td>0.907392</td>\n",
       "      <td>1.046042</td>\n",
       "      <td>3.750101</td>\n",
       "      <td>3.880917</td>\n",
       "      <td>1.009392</td>\n",
       "      <td>0.000042</td>\n",
       "      <td>0.95</td>\n",
       "    </tr>\n",
       "    <tr>\n",
       "      <td>2</td>\n",
       "      <td>0</td>\n",
       "      <td>2</td>\n",
       "      <td>hammock</td>\n",
       "      <td>NaN</td>\n",
       "      <td>0</td>\n",
       "      <td>0</td>\n",
       "      <td>-0.102</td>\n",
       "      <td>1.046</td>\n",
       "      <td>1.0</td>\n",
       "      <td>0.909790</td>\n",
       "      <td>1.053231</td>\n",
       "      <td>2.847405</td>\n",
       "      <td>2.990846</td>\n",
       "      <td>1.011790</td>\n",
       "      <td>0.007231</td>\n",
       "      <td>0.95</td>\n",
       "    </tr>\n",
       "    <tr>\n",
       "      <td>3</td>\n",
       "      <td>0</td>\n",
       "      <td>3</td>\n",
       "      <td>hammock</td>\n",
       "      <td>NaN</td>\n",
       "      <td>0</td>\n",
       "      <td>0</td>\n",
       "      <td>-0.102</td>\n",
       "      <td>1.046</td>\n",
       "      <td>1.0</td>\n",
       "      <td>0.902414</td>\n",
       "      <td>1.048698</td>\n",
       "      <td>1.896152</td>\n",
       "      <td>2.042435</td>\n",
       "      <td>1.004414</td>\n",
       "      <td>0.002698</td>\n",
       "      <td>0.95</td>\n",
       "    </tr>\n",
       "    <tr>\n",
       "      <td>4</td>\n",
       "      <td>0</td>\n",
       "      <td>4</td>\n",
       "      <td>hammock</td>\n",
       "      <td>NaN</td>\n",
       "      <td>0</td>\n",
       "      <td>0</td>\n",
       "      <td>-0.102</td>\n",
       "      <td>1.046</td>\n",
       "      <td>1.0</td>\n",
       "      <td>0.874475</td>\n",
       "      <td>1.030870</td>\n",
       "      <td>0.874475</td>\n",
       "      <td>1.030870</td>\n",
       "      <td>0.976475</td>\n",
       "      <td>-0.015130</td>\n",
       "      <td>0.95</td>\n",
       "    </tr>\n",
       "    <tr>\n",
       "      <td>5</td>\n",
       "      <td>1</td>\n",
       "      <td>0</td>\n",
       "      <td>hammock</td>\n",
       "      <td>NaN</td>\n",
       "      <td>0</td>\n",
       "      <td>0</td>\n",
       "      <td>-0.102</td>\n",
       "      <td>1.046</td>\n",
       "      <td>1.0</td>\n",
       "      <td>0.879015</td>\n",
       "      <td>1.056596</td>\n",
       "      <td>4.712375</td>\n",
       "      <td>4.743221</td>\n",
       "      <td>0.981015</td>\n",
       "      <td>0.010596</td>\n",
       "      <td>0.95</td>\n",
       "    </tr>\n",
       "    <tr>\n",
       "      <td>6</td>\n",
       "      <td>1</td>\n",
       "      <td>1</td>\n",
       "      <td>hammock</td>\n",
       "      <td>NaN</td>\n",
       "      <td>0</td>\n",
       "      <td>0</td>\n",
       "      <td>-0.102</td>\n",
       "      <td>1.046</td>\n",
       "      <td>1.0</td>\n",
       "      <td>0.919590</td>\n",
       "      <td>1.039141</td>\n",
       "      <td>3.762299</td>\n",
       "      <td>3.874017</td>\n",
       "      <td>1.021590</td>\n",
       "      <td>-0.006859</td>\n",
       "      <td>0.95</td>\n",
       "    </tr>\n",
       "    <tr>\n",
       "      <td>7</td>\n",
       "      <td>1</td>\n",
       "      <td>2</td>\n",
       "      <td>hammock</td>\n",
       "      <td>NaN</td>\n",
       "      <td>0</td>\n",
       "      <td>0</td>\n",
       "      <td>-0.102</td>\n",
       "      <td>1.046</td>\n",
       "      <td>1.0</td>\n",
       "      <td>0.897238</td>\n",
       "      <td>1.052078</td>\n",
       "      <td>2.834852</td>\n",
       "      <td>2.989693</td>\n",
       "      <td>0.999238</td>\n",
       "      <td>0.006078</td>\n",
       "      <td>0.95</td>\n",
       "    </tr>\n",
       "    <tr>\n",
       "      <td>8</td>\n",
       "      <td>1</td>\n",
       "      <td>3</td>\n",
       "      <td>hammock</td>\n",
       "      <td>NaN</td>\n",
       "      <td>0</td>\n",
       "      <td>0</td>\n",
       "      <td>-0.102</td>\n",
       "      <td>1.046</td>\n",
       "      <td>1.0</td>\n",
       "      <td>0.891793</td>\n",
       "      <td>1.038037</td>\n",
       "      <td>1.885530</td>\n",
       "      <td>2.031775</td>\n",
       "      <td>0.993793</td>\n",
       "      <td>-0.007963</td>\n",
       "      <td>0.95</td>\n",
       "    </tr>\n",
       "    <tr>\n",
       "      <td>9</td>\n",
       "      <td>1</td>\n",
       "      <td>4</td>\n",
       "      <td>hammock</td>\n",
       "      <td>NaN</td>\n",
       "      <td>0</td>\n",
       "      <td>0</td>\n",
       "      <td>-0.102</td>\n",
       "      <td>1.046</td>\n",
       "      <td>1.0</td>\n",
       "      <td>0.910283</td>\n",
       "      <td>1.052177</td>\n",
       "      <td>0.910283</td>\n",
       "      <td>1.052177</td>\n",
       "      <td>1.012283</td>\n",
       "      <td>0.006177</td>\n",
       "      <td>0.95</td>\n",
       "    </tr>\n",
       "  </tbody>\n",
       "</table>\n",
       "</div>"
      ],
      "text/plain": [
       "   Identifier  Period   Choice  Wage  Experience_Fishing  Type  \\\n",
       "0           0       0  hammock   NaN                   0     0   \n",
       "1           0       1  hammock   NaN                   0     0   \n",
       "2           0       2  hammock   NaN                   0     0   \n",
       "3           0       3  hammock   NaN                   0     0   \n",
       "4           0       4  hammock   NaN                   0     0   \n",
       "5           1       0  hammock   NaN                   0     0   \n",
       "6           1       1  hammock   NaN                   0     0   \n",
       "7           1       2  hammock   NaN                   0     0   \n",
       "8           1       3  hammock   NaN                   0     0   \n",
       "9           1       4  hammock   NaN                   0     0   \n",
       "\n",
       "   Nonpecuniary_Reward_Fishing  Nonpecuniary_Reward_Hammock  Wage_Fishing  \\\n",
       "0                       -0.102                        1.046           1.0   \n",
       "1                       -0.102                        1.046           1.0   \n",
       "2                       -0.102                        1.046           1.0   \n",
       "3                       -0.102                        1.046           1.0   \n",
       "4                       -0.102                        1.046           1.0   \n",
       "5                       -0.102                        1.046           1.0   \n",
       "6                       -0.102                        1.046           1.0   \n",
       "7                       -0.102                        1.046           1.0   \n",
       "8                       -0.102                        1.046           1.0   \n",
       "9                       -0.102                        1.046           1.0   \n",
       "\n",
       "   Flow_Utility_Fishing  Flow_Utility_Hammock  Value_Function_Fishing  \\\n",
       "0              0.905197              1.056305                4.738557   \n",
       "1              0.907392              1.046042                3.750101   \n",
       "2              0.909790              1.053231                2.847405   \n",
       "3              0.902414              1.048698                1.896152   \n",
       "4              0.874475              1.030870                0.874475   \n",
       "5              0.879015              1.056596                4.712375   \n",
       "6              0.919590              1.039141                3.762299   \n",
       "7              0.897238              1.052078                2.834852   \n",
       "8              0.891793              1.038037                1.885530   \n",
       "9              0.910283              1.052177                0.910283   \n",
       "\n",
       "   Value_Function_Hammock  Shock_Reward_Fishing  Shock_Reward_Hammock  \\\n",
       "0                4.742931              1.007197              0.010305   \n",
       "1                3.880917              1.009392              0.000042   \n",
       "2                2.990846              1.011790              0.007231   \n",
       "3                2.042435              1.004414              0.002698   \n",
       "4                1.030870              0.976475             -0.015130   \n",
       "5                4.743221              0.981015              0.010596   \n",
       "6                3.874017              1.021590             -0.006859   \n",
       "7                2.989693              0.999238              0.006078   \n",
       "8                2.031775              0.993793             -0.007963   \n",
       "9                1.052177              1.012283              0.006177   \n",
       "\n",
       "   Discount_Rate  \n",
       "0           0.95  \n",
       "1           0.95  \n",
       "2           0.95  \n",
       "3           0.95  \n",
       "4           0.95  \n",
       "5           0.95  \n",
       "6           0.95  \n",
       "7           0.95  \n",
       "8           0.95  \n",
       "9           0.95  "
      ]
     },
     "execution_count": 7,
     "metadata": {},
     "output_type": "execute_result"
    }
   ],
   "source": [
    "df.head(10)"
   ]
  },
  {
   "cell_type": "code",
   "execution_count": 8,
   "metadata": {},
   "outputs": [],
   "source": [
    "def plot_robinson_choices(df):\n",
    "    sns.set_style(\"white\")\n",
    "    sns.set_context(\"notebook\", font_scale=1.5)\n",
    "\n",
    "    fig, ax = plt.subplots(figsize=(8, 5))\n",
    "\n",
    "    df.groupby(\"Period\").Choice.value_counts(normalize=True).unstack().plot.bar(stacked=True, ax=ax)\n",
    "    plt.xticks(rotation=\"horizontal\")\n",
    "    plt.legend(loc=\"lower center\", bbox_to_anchor=(0.5,-0.35), ncol=2)\n",
    "    plt.title(\"Robinson's choices by period\", pad=15)\n",
    "\n",
    "    plt.show()"
   ]
  },
  {
   "cell_type": "code",
   "execution_count": 9,
   "metadata": {},
   "outputs": [
    {
     "data": {
      "image/png": "[encoded data removed]",
      "text/plain": [
       "<Figure size 576x360 with 1 Axes>"
      ]
     },
     "metadata": {},
     "output_type": "display_data"
    }
   ],
   "source": [
    "plot_robinson_choices(df)"
   ]
  },
  {
   "cell_type": "markdown",
   "metadata": {},
   "source": [
    "A payoff of structural models is the possibility to simulate and analyse counterfactuals: As an example, in models of educational choice, the analysis of comparitive statics is often applied to evaluate the effect of alternative tuition policies on average educational attainment. \n",
    "\n",
    "How does Robinson's behavior change if we increase the return to experience in fishing? We can simulate the model again and inspect Robinson's new choices. "
   ]
  },
  {
   "cell_type": "code",
   "execution_count": 10,
   "metadata": {},
   "outputs": [],
   "source": [
    "params.loc[(\"wage_fishing\",\"exp_fishing\"),\"value\"] = 0.075"
   ]
  },
  {
   "cell_type": "code",
   "execution_count": 11,
   "metadata": {},
   "outputs": [],
   "source": [
    "simulate = rp.get_simulate_func(params, options)\n",
    "df = simulate(params)"
   ]
  },
  {
   "cell_type": "code",
   "execution_count": 12,
   "metadata": {},
   "outputs": [
    {
     "data": {
      "image/png": "[encoded data removed]",
      "text/plain": [
       "<Figure size 576x360 with 1 Axes>"
      ]
     },
     "metadata": {},
     "output_type": "display_data"
    }
   ],
   "source": [
    "plot_robinson_choices(df)"
   ]
  },
  {
   "cell_type": "markdown",
   "metadata": {},
   "source": [
    "In the next tutorials, we will showcase how to estimate the model parameters via maximum likelihood. Moreover, we will learn to enrich our simple Robinson Crusoe economy including more covariates and choices, as well as observed characteristics and exogenous processes."
   ]
  },
  {
   "cell_type": "markdown",
   "metadata": {},
   "source": [
    "***\n",
    "\n",
    "**Footnotes**"
   ]
  },
  {
   "cell_type": "markdown",
   "metadata": {},
   "source": [
    "<span id=\"fn1\"><sup>1</sup>\n",
    "    One of the earliest references of Robinsonades in Economics can be found in Marx (1867). In the 37th footnote, he mentions that even Ricardo used the theme before him.\n",
    "</span>"
   ]
  },
  {
   "cell_type": "markdown",
   "metadata": {},
   "source": [
    "## References"
   ]
  },
  {
   "cell_type": "markdown",
   "metadata": {},
   "source": [
    "Marx, K. (1867). Das Kapital, Bd. 1. *MEW*, Bd, 23, 405"
   ]
  }
 ],
 "metadata": {
  "kernelspec": {
   "display_name": "Python 3",
   "language": "python",
   "name": "python3"
  },
  "language_info": {
   "codemirror_mode": {
    "name": "ipython",
    "version": 3
   },
   "file_extension": ".py",
   "mimetype": "text/x-python",
   "name": "python",
   "nbconvert_exporter": "python",
   "pygments_lexer": "ipython3",
   "version": "3.7.6"
  }
 },
 "nbformat": 4,
 "nbformat_minor": 4
}
