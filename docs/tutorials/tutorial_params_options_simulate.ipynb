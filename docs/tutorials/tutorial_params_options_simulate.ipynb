{
 "cells": [
  {
   "cell_type": "markdown",
   "metadata": {},
   "source": [
    "# Tutorial - ``params``, ``options``, and simulation"
   ]
  },
  {
   "cell_type": "markdown",
   "metadata": {},
   "source": [
    "In this first tutorial we will learn how to specify and simulate a simple model with ``respy``. As economists love Robinsonades [<sup>1</sup>](#fn1), we will implement a simple Robinson Crusoe economy as a discrete choice dynamic programming model. "
   ]
  },
  {
   "cell_type": "code",
   "execution_count": 1,
   "metadata": {},
   "outputs": [],
   "source": [
    "%matplotlib inline\n",
    "\n",
    "import pandas as pd\n",
    "import respy as rp\n",
    "import matplotlib.pyplot as plt\n",
    "import seaborn as sns"
   ]
  },
  {
   "cell_type": "markdown",
   "metadata": {},
   "source": [
    "## The model: a simple Robinson Crusoe economy"
   ]
  },
  {
   "cell_type": "markdown",
   "metadata": {},
   "source": [
    "In this basic Robinson Crusoe economy, Robinson is alone on a desert island and must choose every period $t = \\{0, 1, ... T-1\\}$ between two alternatives: fishing or relaxing on his hammock. Each of the two alternatives is associated with a certain level of instantaneous utility, determined in each period $t$ by a deterministic component and a stochastic component. As Robinson cannot foresee these stochastic components, we speak of \"choice under uncertainty\".<br>\n",
    "\n",
    "In ``respy``, the instantaneous utility of an alternative, $u_t$, consists of the sum of a pecuniary reward or wage $W_t$ and a non-pecuniary reward $N_t$.<br> \n",
    "Speaking of a wage in this context seems inappropriate since Robinson, being alone on an island, won't receive any wage for the time he spends fishing. However, this distinction is useful to keep in mind when tackling more complex models of labor supply.\n",
    "\n",
    "The **wage** is zero if Robinson chooses to relax on his hammock. If Robinson goes fishing his wage at time $t$ is:\n",
    "\n",
    "$$\n",
    "W^f = exp\\{x_t \\beta^f + \\epsilon_{ft}\\}\n",
    "$$\n",
    "\n",
    "where:\n",
    "\n",
    "- $f$ indicates the \"fishing\" alternative; \n",
    "- $x_t$ denotes Robinson's experience in fishing in period $t$;\n",
    "- $\\beta^f$ denotes the return to experience in fishing; \n",
    "- $\\epsilon_{ft}$ is the random shock in period $t$.<br>\n",
    "\n",
    "In words, the deterministic component of Robinson's wage is generated each day by only one covariate, his current experience in fishing (which is 0 if Robinson never fished before, 1 if Robinson fished once before, and so on), times the return to experience in fishing. The stochastic component, $\\epsilon_{ft}$, is drawn from a normal distribution, and (may) depend on the current time $t$ and on Robinson's current choice. \n",
    "\n",
    "The **non-pecuniary reward** for fishing and relaxing on the hammock are simply set as constant terms, with an additional shock, also drawn from a Normal distribution, entering the latter additively: \n",
    "\n",
    "$$\\begin{align}\n",
    "N^f = \\alpha^f \\\\\n",
    "N^h = \\alpha^h + \\epsilon_{ht}\\\n",
    "\\end{align}$$\n",
    "\n",
    "Therefore, the parameters of this simple model are $\\alpha^h$ and $\\alpha^f$ (the constants in the non-pecuniary rewards) and $\\beta^f$ (return to experience in fishing), along with the time-preference parameter (see below) and the lower triangular elements of the variance-covariance matrix which governs the distribution of the shocks. \n",
    "\n",
    "More generally, ``respy`` allows the wage and non-pecuniary rewards to be flexibly generated specifying a vector of choice- and time-dependent covariates and the associated vector of choice-dependent parameters. "
   ]
  },
  {
   "cell_type": "raw",
   "metadata": {
    "raw_mimetype": "text/html"
   },
   "source": [
    "<div class=\"d-flex flex-row gs-torefguide\">\n",
    "    <span class=\"badge badge-info\">To how-to guide</span>\n",
    "\n",
    "    Find out more about setting up a model in <b><i>&nbsp;respy&nbsp;</i></b> in <a\n",
    "    href=\"../how_to_guides/how_to_specify_a_model.html\">How to\n",
    "    specify a model</a>.\n",
    "</div>"
   ]
  },
  {
   "cell_type": "markdown",
   "metadata": {},
   "source": [
    "## Solution"
   ]
  },
  {
   "cell_type": "markdown",
   "metadata": {},
   "source": [
    "Discrete choice models are usually derived under an assumption of utility-maximizing behavior by the decision-maker. Indeed, below we assume that Robinson is forward-looking and thus, in each period $t$, wants to maximize the expected present value of utility over the remaining periods. However, Robinson can discount the utility stream derived from future periods in different ways. ``respy`` allows for:\n",
    "\n",
    "- Exponential discounting\n",
    "- Hyperbolic discounting (with a completely naïve agent)\n",
    "\n",
    "In the following, we assume Robinson to be an exponential discounter. This means that Robinson's time preferences can be described by:\n",
    "\n",
    "$$\n",
    "U_t(u_t, u_{t+1}, ...) \\equiv \\sum_{t=0}^T{\\delta^t u_t}\n",
    "$$\n",
    "\n",
    "where $\\delta \\in (0, 1]$  is the long-run discount factor which capture Robinson's preferences for immediate\n",
    "over future gratification.\n",
    "\n",
    "If $\\delta=0$, Robinson is completely myopic and in each period $t$ simply chooses the alternative associated with the highest instantaneous utility. If $\\delta>0$, in each period $t$, Robinson doesn't compare levels of instantaneous utility\n",
    "but *value functions* which incorporate the utility derived from future choices.<br>\n",
    "Robinson's problem (choosing the optimal sequence of alternatives) can be solved with dynamic programming: The resulting decision rule can be used to simulate the choices Robinson would make under a different set of parameters — that is, to simulate counterfactuals."
   ]
  },
  {
   "cell_type": "raw",
   "metadata": {
    "raw_mimetype": "text/html"
   },
   "source": [
    "<div class=\"d-flex flex-row gs-torefguide\">\n",
    "    <span class=\"badge badge-info\">To how-to guide</span>\n",
    "\n",
    "    See <a\n",
    "    href=\"../how_to_guides/impatient_robinson.html\">\"Impatient Robinson\"</a> \n",
    "    for more on hyperbolic discounting in <b><i>&nbsp;respy</i></b>.\n",
    "</div>"
   ]
  },
  {
   "cell_type": "markdown",
   "metadata": {},
   "source": [
    "## Specification: ``params`` and ``options``"
   ]
  },
  {
   "cell_type": "markdown",
   "metadata": {},
   "source": [
    "The parameters of this simple model can be easily loaded with ``respy``. The resulting DataFrame contains a two-level MultiIndex to group parameters (identified by a unique name and value) in categories. In particular:\n",
    "\n",
    "- ``\"delta\"`` refers to Robinson's long-run discount factor;\n",
    "- ``\"wage_fishing\"``groups the covariates and associated parameters appearing in the wage. Indeed, ``\"exp_fishing\"`` represents Robinson's experience in fishing (which is determined endogenously and recomputed from period to period) while the associated ``value`` is the return to experience;\n",
    "- ``\"nonpec_fishing\"`` groups the covariates and associated parameters appearing in the non-pecuniary rewards, and therefore contains two constant terms. Note that in the example below we set ``\"nonpec_fishing\"`` to be negative, to reflect the effort cost of fishing, while ``\"nonpec_hammock\"`` is set as positive to reflect the good feeling of relaxing on the hammock.\n",
    "- ``\"shocks_sdcorr\"`` groups the lower triangular elements of the shocks variance-covariance matrix. In ``respy``, shocks are allowed to be correlated across choices."
   ]
  },
  {
   "cell_type": "code",
   "execution_count": 2,
   "metadata": {},
   "outputs": [],
   "source": [
    "params, options = rp.get_example_model(\"robinson_crusoe_basic\", with_data=False)"
   ]
  },
  {
   "cell_type": "code",
   "execution_count": 3,
   "metadata": {},
   "outputs": [
    {
     "data": {
      "text/html": [
       "<div>\n",
       "<style scoped>\n",
       "    .dataframe tbody tr th:only-of-type {\n",
       "        vertical-align: middle;\n",
       "    }\n",
       "\n",
       "    .dataframe tbody tr th {\n",
       "        vertical-align: top;\n",
       "    }\n",
       "\n",
       "    .dataframe thead th {\n",
       "        text-align: right;\n",
       "    }\n",
       "</style>\n",
       "<table border=\"1\" class=\"dataframe\">\n",
       "  <thead>\n",
       "    <tr style=\"text-align: right;\">\n",
       "      <th></th>\n",
       "      <th></th>\n",
       "      <th>value</th>\n",
       "    </tr>\n",
       "    <tr>\n",
       "      <th>category</th>\n",
       "      <th>name</th>\n",
       "      <th></th>\n",
       "    </tr>\n",
       "  </thead>\n",
       "  <tbody>\n",
       "    <tr>\n",
       "      <th>delta</th>\n",
       "      <th>delta</th>\n",
       "      <td>0.95</td>\n",
       "    </tr>\n",
       "    <tr>\n",
       "      <th>wage_fishing</th>\n",
       "      <th>exp_fishing</th>\n",
       "      <td>0.30</td>\n",
       "    </tr>\n",
       "    <tr>\n",
       "      <th>nonpec_fishing</th>\n",
       "      <th>constant</th>\n",
       "      <td>-0.20</td>\n",
       "    </tr>\n",
       "    <tr>\n",
       "      <th>nonpec_hammock</th>\n",
       "      <th>constant</th>\n",
       "      <td>2.00</td>\n",
       "    </tr>\n",
       "    <tr>\n",
       "      <th rowspan=\"3\" valign=\"top\">shocks_sdcorr</th>\n",
       "      <th>sd_fishing</th>\n",
       "      <td>0.50</td>\n",
       "    </tr>\n",
       "    <tr>\n",
       "      <th>sd_hammock</th>\n",
       "      <td>0.50</td>\n",
       "    </tr>\n",
       "    <tr>\n",
       "      <th>corr_hammock_fishing</th>\n",
       "      <td>0.00</td>\n",
       "    </tr>\n",
       "  </tbody>\n",
       "</table>\n",
       "</div>"
      ],
      "text/plain": [
       "                                     value\n",
       "category       name                       \n",
       "delta          delta                  0.95\n",
       "wage_fishing   exp_fishing            0.30\n",
       "nonpec_fishing constant              -0.20\n",
       "nonpec_hammock constant               2.00\n",
       "shocks_sdcorr  sd_fishing             0.50\n",
       "               sd_hammock             0.50\n",
       "               corr_hammock_fishing   0.00"
      ]
     },
     "execution_count": 3,
     "metadata": {},
     "output_type": "execute_result"
    }
   ],
   "source": [
    "params"
   ]
  },
  {
   "cell_type": "markdown",
   "metadata": {},
   "source": [
    "``params`` is complemented with ``options``, which contain additional information needed for the solution, simulation and estimation of the model. For example, `\"n_periods\"` indicates the number of periods for which the model is solved and simulated, and ``\"simulation_agents\"`` indicates how many identical individuals are simulated. "
   ]
  },
  {
   "cell_type": "code",
   "execution_count": 4,
   "metadata": {},
   "outputs": [
    {
     "data": {
      "text/plain": [
       "{'solution_draws': 100,\n",
       " 'solution_seed': 456,\n",
       " 'n_periods': 5,\n",
       " 'simulation_agents': 1000,\n",
       " 'simulation_seed': 132,\n",
       " 'estimation_draws': 100,\n",
       " 'estimation_seed': 100,\n",
       " 'estimation_tau': 0.001,\n",
       " 'interpolation_points': -1,\n",
       " 'covariates': {'constant': '1'}}"
      ]
     },
     "execution_count": 4,
     "metadata": {},
     "output_type": "execute_result"
    }
   ],
   "source": [
    "options"
   ]
  },
  {
   "cell_type": "markdown",
   "metadata": {},
   "source": [
    "Note that the behavior across identical simulated individuals can differ, as each of them faces a different sequence of random shocks: Seeds (denoted by ``\"_seed\"``in the ``options``) are used in every model component to ensure reproducibility. You can use any seed you like or even repeat the same seed number. Internally, we ensure that randomness is completely uncorrelated."
   ]
  },
  {
   "cell_type": "raw",
   "metadata": {
    "raw_mimetype": "text/html"
   },
   "source": [
    "<div class=\"d-flex flex-row gs-torefguide\">\n",
    "    <span class=\"badge badge-info\">To reference guide</span>\n",
    "\n",
    "    Find out more in <a\n",
    "    href=\"../reference_guides/randomness_and_reproducibility.html\">\"Randomness an Reproducibility\"</a>.\n",
    "</div>"
   ]
  },
  {
   "cell_type": "markdown",
   "metadata": {},
   "source": [
    "## Simulation"
   ]
  },
  {
   "cell_type": "markdown",
   "metadata": {},
   "source": [
    "We are now ready to simulate the model: We will simulate 1000 identical Robinsons and let the decision rule from the solution of the model guide them for 5 periods. Although the 1000 Robinsons start with the same characteristics, their actions from period to period can differ because of the different shocks they experience. \n",
    "\n",
    "We will then inspect the predicted shares of Robinsons who choose the \"fishing\" or \"hammock\" alternative respectively. In other words, we will inspect the predicted probability with which Robinson chooses between fishing and relaxing on his hammock in each period.\n",
    "\n",
    "Performing a simulation returns a MultiIndex containing all the information needed to inspect Robinson's decisions period by period, including his choice, instantaneous utility and level of experience in each period. Each of the 1000 Robinsons chooses one alternative in each ``\"Period\"`` and has a personal ``\"Identifier\"``."
   ]
  },
  {
   "cell_type": "raw",
   "metadata": {
    "raw_mimetype": "text/html"
   },
   "source": [
    "<div class=\"d-flex flex-row gs-torefguide\">\n",
    "    <span class=\"badge badge-info\">To how-to guide</span>\n",
    "\n",
    "    See <a\n",
    "    href=\"../how_to_guides/simulation.html\">\"Simulation\"</a> \n",
    "    for a guide on how to simulate with <b><i>&nbsp;respy</i></b>.\n",
    "</div>"
   ]
  },
  {
   "cell_type": "code",
   "execution_count": 5,
   "metadata": {},
   "outputs": [],
   "source": [
    "simulate = rp.get_simulate_func(params, options)\n",
    "df = simulate(params)"
   ]
  },
  {
   "cell_type": "code",
   "execution_count": 6,
   "metadata": {
    "scrolled": true
   },
   "outputs": [
    {
     "data": {
      "text/html": [
       "<div>\n",
       "<style scoped>\n",
       "    .dataframe tbody tr th:only-of-type {\n",
       "        vertical-align: middle;\n",
       "    }\n",
       "\n",
       "    .dataframe tbody tr th {\n",
       "        vertical-align: top;\n",
       "    }\n",
       "\n",
       "    .dataframe thead th {\n",
       "        text-align: right;\n",
       "    }\n",
       "</style>\n",
       "<table border=\"1\" class=\"dataframe\">\n",
       "  <thead>\n",
       "    <tr style=\"text-align: right;\">\n",
       "      <th></th>\n",
       "      <th></th>\n",
       "      <th>Experience_Fishing</th>\n",
       "      <th>Shock_Reward_Fishing</th>\n",
       "      <th>Meas_Error_Wage_Fishing</th>\n",
       "      <th>Shock_Reward_Hammock</th>\n",
       "      <th>Meas_Error_Wage_Hammock</th>\n",
       "      <th>Dense_Key</th>\n",
       "      <th>Core_Index</th>\n",
       "      <th>Choice</th>\n",
       "      <th>Wage</th>\n",
       "      <th>Discount_Rate</th>\n",
       "      <th>...</th>\n",
       "      <th>Nonpecuniary_Reward_Fishing</th>\n",
       "      <th>Wage_Fishing</th>\n",
       "      <th>Flow_Utility_Fishing</th>\n",
       "      <th>Value_Function_Fishing</th>\n",
       "      <th>Continuation_Value_Fishing</th>\n",
       "      <th>Nonpecuniary_Reward_Hammock</th>\n",
       "      <th>Wage_Hammock</th>\n",
       "      <th>Flow_Utility_Hammock</th>\n",
       "      <th>Value_Function_Hammock</th>\n",
       "      <th>Continuation_Value_Hammock</th>\n",
       "    </tr>\n",
       "    <tr>\n",
       "      <th>Identifier</th>\n",
       "      <th>Period</th>\n",
       "      <th></th>\n",
       "      <th></th>\n",
       "      <th></th>\n",
       "      <th></th>\n",
       "      <th></th>\n",
       "      <th></th>\n",
       "      <th></th>\n",
       "      <th></th>\n",
       "      <th></th>\n",
       "      <th></th>\n",
       "      <th></th>\n",
       "      <th></th>\n",
       "      <th></th>\n",
       "      <th></th>\n",
       "      <th></th>\n",
       "      <th></th>\n",
       "      <th></th>\n",
       "      <th></th>\n",
       "      <th></th>\n",
       "      <th></th>\n",
       "      <th></th>\n",
       "    </tr>\n",
       "  </thead>\n",
       "  <tbody>\n",
       "    <tr>\n",
       "      <th rowspan=\"5\" valign=\"top\">0</th>\n",
       "      <th>0</th>\n",
       "      <td>0</td>\n",
       "      <td>-0.035035</td>\n",
       "      <td>1</td>\n",
       "      <td>0.040965</td>\n",
       "      <td>1</td>\n",
       "      <td>0</td>\n",
       "      <td>0</td>\n",
       "      <td>hammock</td>\n",
       "      <td>NaN</td>\n",
       "      <td>0.95</td>\n",
       "      <td>...</td>\n",
       "      <td>-0.2</td>\n",
       "      <td>0.982635</td>\n",
       "      <td>0.782635</td>\n",
       "      <td>9.172605</td>\n",
       "      <td>8.831548</td>\n",
       "      <td>2</td>\n",
       "      <td>NaN</td>\n",
       "      <td>2.020483</td>\n",
       "      <td>9.339589</td>\n",
       "      <td>7.704322</td>\n",
       "    </tr>\n",
       "    <tr>\n",
       "      <th>1</th>\n",
       "      <td>0</td>\n",
       "      <td>0.074254</td>\n",
       "      <td>1</td>\n",
       "      <td>1.506491</td>\n",
       "      <td>1</td>\n",
       "      <td>1</td>\n",
       "      <td>0</td>\n",
       "      <td>hammock</td>\n",
       "      <td>NaN</td>\n",
       "      <td>0.95</td>\n",
       "      <td>...</td>\n",
       "      <td>-0.2</td>\n",
       "      <td>1.037825</td>\n",
       "      <td>0.837825</td>\n",
       "      <td>6.911083</td>\n",
       "      <td>6.392903</td>\n",
       "      <td>2</td>\n",
       "      <td>NaN</td>\n",
       "      <td>2.753245</td>\n",
       "      <td>8.355429</td>\n",
       "      <td>5.897036</td>\n",
       "    </tr>\n",
       "    <tr>\n",
       "      <th>2</th>\n",
       "      <td>0</td>\n",
       "      <td>-0.354560</td>\n",
       "      <td>1</td>\n",
       "      <td>1.185316</td>\n",
       "      <td>1</td>\n",
       "      <td>2</td>\n",
       "      <td>0</td>\n",
       "      <td>hammock</td>\n",
       "      <td>NaN</td>\n",
       "      <td>0.95</td>\n",
       "      <td>...</td>\n",
       "      <td>-0.2</td>\n",
       "      <td>0.837545</td>\n",
       "      <td>0.637545</td>\n",
       "      <td>4.677616</td>\n",
       "      <td>4.252706</td>\n",
       "      <td>2</td>\n",
       "      <td>NaN</td>\n",
       "      <td>2.592658</td>\n",
       "      <td>6.398066</td>\n",
       "      <td>4.005693</td>\n",
       "    </tr>\n",
       "    <tr>\n",
       "      <th>3</th>\n",
       "      <td>0</td>\n",
       "      <td>-0.109397</td>\n",
       "      <td>1</td>\n",
       "      <td>-0.785877</td>\n",
       "      <td>1</td>\n",
       "      <td>3</td>\n",
       "      <td>0</td>\n",
       "      <td>hammock</td>\n",
       "      <td>NaN</td>\n",
       "      <td>0.95</td>\n",
       "      <td>...</td>\n",
       "      <td>-0.2</td>\n",
       "      <td>0.946770</td>\n",
       "      <td>0.746770</td>\n",
       "      <td>2.793888</td>\n",
       "      <td>2.154861</td>\n",
       "      <td>2</td>\n",
       "      <td>NaN</td>\n",
       "      <td>1.607061</td>\n",
       "      <td>3.554221</td>\n",
       "      <td>2.049642</td>\n",
       "    </tr>\n",
       "    <tr>\n",
       "      <th>4</th>\n",
       "      <td>0</td>\n",
       "      <td>-1.063705</td>\n",
       "      <td>1</td>\n",
       "      <td>1.245234</td>\n",
       "      <td>1</td>\n",
       "      <td>4</td>\n",
       "      <td>0</td>\n",
       "      <td>hammock</td>\n",
       "      <td>NaN</td>\n",
       "      <td>0.95</td>\n",
       "      <td>...</td>\n",
       "      <td>-0.2</td>\n",
       "      <td>0.587516</td>\n",
       "      <td>0.387516</td>\n",
       "      <td>0.387516</td>\n",
       "      <td>0.000000</td>\n",
       "      <td>2</td>\n",
       "      <td>NaN</td>\n",
       "      <td>2.622617</td>\n",
       "      <td>2.622617</td>\n",
       "      <td>0.000000</td>\n",
       "    </tr>\n",
       "    <tr>\n",
       "      <th rowspan=\"5\" valign=\"top\">1</th>\n",
       "      <th>0</th>\n",
       "      <td>0</td>\n",
       "      <td>-0.713137</td>\n",
       "      <td>1</td>\n",
       "      <td>1.418950</td>\n",
       "      <td>1</td>\n",
       "      <td>0</td>\n",
       "      <td>0</td>\n",
       "      <td>hammock</td>\n",
       "      <td>NaN</td>\n",
       "      <td>0.95</td>\n",
       "      <td>...</td>\n",
       "      <td>-0.2</td>\n",
       "      <td>0.700075</td>\n",
       "      <td>0.500075</td>\n",
       "      <td>8.890045</td>\n",
       "      <td>8.831548</td>\n",
       "      <td>2</td>\n",
       "      <td>NaN</td>\n",
       "      <td>2.709475</td>\n",
       "      <td>10.028581</td>\n",
       "      <td>7.704322</td>\n",
       "    </tr>\n",
       "    <tr>\n",
       "      <th>1</th>\n",
       "      <td>0</td>\n",
       "      <td>-0.464134</td>\n",
       "      <td>1</td>\n",
       "      <td>-0.384774</td>\n",
       "      <td>1</td>\n",
       "      <td>1</td>\n",
       "      <td>0</td>\n",
       "      <td>hammock</td>\n",
       "      <td>NaN</td>\n",
       "      <td>0.95</td>\n",
       "      <td>...</td>\n",
       "      <td>-0.2</td>\n",
       "      <td>0.792893</td>\n",
       "      <td>0.592893</td>\n",
       "      <td>6.666151</td>\n",
       "      <td>6.392903</td>\n",
       "      <td>2</td>\n",
       "      <td>NaN</td>\n",
       "      <td>1.807613</td>\n",
       "      <td>7.409797</td>\n",
       "      <td>5.897036</td>\n",
       "    </tr>\n",
       "    <tr>\n",
       "      <th>2</th>\n",
       "      <td>0</td>\n",
       "      <td>0.066755</td>\n",
       "      <td>1</td>\n",
       "      <td>-0.844060</td>\n",
       "      <td>1</td>\n",
       "      <td>2</td>\n",
       "      <td>0</td>\n",
       "      <td>hammock</td>\n",
       "      <td>NaN</td>\n",
       "      <td>0.95</td>\n",
       "      <td>...</td>\n",
       "      <td>-0.2</td>\n",
       "      <td>1.033941</td>\n",
       "      <td>0.833941</td>\n",
       "      <td>4.874012</td>\n",
       "      <td>4.252706</td>\n",
       "      <td>2</td>\n",
       "      <td>NaN</td>\n",
       "      <td>1.577970</td>\n",
       "      <td>5.383379</td>\n",
       "      <td>4.005693</td>\n",
       "    </tr>\n",
       "    <tr>\n",
       "      <th>3</th>\n",
       "      <td>0</td>\n",
       "      <td>-0.748565</td>\n",
       "      <td>1</td>\n",
       "      <td>-1.348821</td>\n",
       "      <td>1</td>\n",
       "      <td>3</td>\n",
       "      <td>0</td>\n",
       "      <td>hammock</td>\n",
       "      <td>NaN</td>\n",
       "      <td>0.95</td>\n",
       "      <td>...</td>\n",
       "      <td>-0.2</td>\n",
       "      <td>0.687783</td>\n",
       "      <td>0.487783</td>\n",
       "      <td>2.534901</td>\n",
       "      <td>2.154861</td>\n",
       "      <td>2</td>\n",
       "      <td>NaN</td>\n",
       "      <td>1.325589</td>\n",
       "      <td>3.272749</td>\n",
       "      <td>2.049642</td>\n",
       "    </tr>\n",
       "    <tr>\n",
       "      <th>4</th>\n",
       "      <td>0</td>\n",
       "      <td>-0.130574</td>\n",
       "      <td>1</td>\n",
       "      <td>-0.539693</td>\n",
       "      <td>1</td>\n",
       "      <td>4</td>\n",
       "      <td>0</td>\n",
       "      <td>hammock</td>\n",
       "      <td>NaN</td>\n",
       "      <td>0.95</td>\n",
       "      <td>...</td>\n",
       "      <td>-0.2</td>\n",
       "      <td>0.936799</td>\n",
       "      <td>0.736799</td>\n",
       "      <td>0.736799</td>\n",
       "      <td>0.000000</td>\n",
       "      <td>2</td>\n",
       "      <td>NaN</td>\n",
       "      <td>1.730154</td>\n",
       "      <td>1.730154</td>\n",
       "      <td>0.000000</td>\n",
       "    </tr>\n",
       "  </tbody>\n",
       "</table>\n",
       "<p>10 rows × 21 columns</p>\n",
       "</div>"
      ],
      "text/plain": [
       "                   Experience_Fishing  Shock_Reward_Fishing  \\\n",
       "Identifier Period                                             \n",
       "0          0                        0             -0.035035   \n",
       "           1                        0              0.074254   \n",
       "           2                        0             -0.354560   \n",
       "           3                        0             -0.109397   \n",
       "           4                        0             -1.063705   \n",
       "1          0                        0             -0.713137   \n",
       "           1                        0             -0.464134   \n",
       "           2                        0              0.066755   \n",
       "           3                        0             -0.748565   \n",
       "           4                        0             -0.130574   \n",
       "\n",
       "                   Meas_Error_Wage_Fishing  Shock_Reward_Hammock  \\\n",
       "Identifier Period                                                  \n",
       "0          0                             1              0.040965   \n",
       "           1                             1              1.506491   \n",
       "           2                             1              1.185316   \n",
       "           3                             1             -0.785877   \n",
       "           4                             1              1.245234   \n",
       "1          0                             1              1.418950   \n",
       "           1                             1             -0.384774   \n",
       "           2                             1             -0.844060   \n",
       "           3                             1             -1.348821   \n",
       "           4                             1             -0.539693   \n",
       "\n",
       "                   Meas_Error_Wage_Hammock  Dense_Key  Core_Index   Choice  \\\n",
       "Identifier Period                                                            \n",
       "0          0                             1          0           0  hammock   \n",
       "           1                             1          1           0  hammock   \n",
       "           2                             1          2           0  hammock   \n",
       "           3                             1          3           0  hammock   \n",
       "           4                             1          4           0  hammock   \n",
       "1          0                             1          0           0  hammock   \n",
       "           1                             1          1           0  hammock   \n",
       "           2                             1          2           0  hammock   \n",
       "           3                             1          3           0  hammock   \n",
       "           4                             1          4           0  hammock   \n",
       "\n",
       "                   Wage  Discount_Rate  ...  Nonpecuniary_Reward_Fishing  \\\n",
       "Identifier Period                       ...                                \n",
       "0          0        NaN           0.95  ...                         -0.2   \n",
       "           1        NaN           0.95  ...                         -0.2   \n",
       "           2        NaN           0.95  ...                         -0.2   \n",
       "           3        NaN           0.95  ...                         -0.2   \n",
       "           4        NaN           0.95  ...                         -0.2   \n",
       "1          0        NaN           0.95  ...                         -0.2   \n",
       "           1        NaN           0.95  ...                         -0.2   \n",
       "           2        NaN           0.95  ...                         -0.2   \n",
       "           3        NaN           0.95  ...                         -0.2   \n",
       "           4        NaN           0.95  ...                         -0.2   \n",
       "\n",
       "                   Wage_Fishing  Flow_Utility_Fishing  Value_Function_Fishing  \\\n",
       "Identifier Period                                                               \n",
       "0          0           0.982635              0.782635                9.172605   \n",
       "           1           1.037825              0.837825                6.911083   \n",
       "           2           0.837545              0.637545                4.677616   \n",
       "           3           0.946770              0.746770                2.793888   \n",
       "           4           0.587516              0.387516                0.387516   \n",
       "1          0           0.700075              0.500075                8.890045   \n",
       "           1           0.792893              0.592893                6.666151   \n",
       "           2           1.033941              0.833941                4.874012   \n",
       "           3           0.687783              0.487783                2.534901   \n",
       "           4           0.936799              0.736799                0.736799   \n",
       "\n",
       "                   Continuation_Value_Fishing  Nonpecuniary_Reward_Hammock  \\\n",
       "Identifier Period                                                            \n",
       "0          0                         8.831548                            2   \n",
       "           1                         6.392903                            2   \n",
       "           2                         4.252706                            2   \n",
       "           3                         2.154861                            2   \n",
       "           4                         0.000000                            2   \n",
       "1          0                         8.831548                            2   \n",
       "           1                         6.392903                            2   \n",
       "           2                         4.252706                            2   \n",
       "           3                         2.154861                            2   \n",
       "           4                         0.000000                            2   \n",
       "\n",
       "                   Wage_Hammock  Flow_Utility_Hammock  Value_Function_Hammock  \\\n",
       "Identifier Period                                                               \n",
       "0          0                NaN              2.020483                9.339589   \n",
       "           1                NaN              2.753245                8.355429   \n",
       "           2                NaN              2.592658                6.398066   \n",
       "           3                NaN              1.607061                3.554221   \n",
       "           4                NaN              2.622617                2.622617   \n",
       "1          0                NaN              2.709475               10.028581   \n",
       "           1                NaN              1.807613                7.409797   \n",
       "           2                NaN              1.577970                5.383379   \n",
       "           3                NaN              1.325589                3.272749   \n",
       "           4                NaN              1.730154                1.730154   \n",
       "\n",
       "                   Continuation_Value_Hammock  \n",
       "Identifier Period                              \n",
       "0          0                         7.704322  \n",
       "           1                         5.897036  \n",
       "           2                         4.005693  \n",
       "           3                         2.049642  \n",
       "           4                         0.000000  \n",
       "1          0                         7.704322  \n",
       "           1                         5.897036  \n",
       "           2                         4.005693  \n",
       "           3                         2.049642  \n",
       "           4                         0.000000  \n",
       "\n",
       "[10 rows x 21 columns]"
      ]
     },
     "execution_count": 6,
     "metadata": {},
     "output_type": "execute_result"
    }
   ],
   "source": [
    "df.head(10)"
   ]
  },
  {
   "cell_type": "markdown",
   "metadata": {},
   "source": [
    "Stacked bar charts help visualize Robinson's choices. All the plots below can be easily generated with the ``Matplotlib`` library."
   ]
  },
  {
   "cell_type": "code",
   "execution_count": 7,
   "metadata": {},
   "outputs": [
    {
     "data": {
      "image/png": "[encoded data removed]",
      "text/plain": [
       "<Figure size 504x360 with 1 Axes>"
      ]
     },
     "metadata": {},
     "output_type": "display_data"
    }
   ],
   "source": [
    "sns.set_style(\"white\")\n",
    "sns.set_context(\"notebook\", font_scale=1.5)\n",
    "\n",
    "fig, ax = plt.subplots(figsize=(7, 5))\n",
    "\n",
    "df.groupby(\"Period\").Choice.value_counts(normalize=True).unstack().plot.bar(\n",
    "    width=0.4, stacked=True, ax=ax\n",
    ")\n",
    "plt.xticks(rotation=\"horizontal\")\n",
    "plt.legend(loc=\"lower center\", bbox_to_anchor=(0.5, -0.35), ncol=2)\n",
    "plt.title(\"Robinson's choices by period\", pad=15)\n",
    "\n",
    "plt.show()"
   ]
  },
  {
   "cell_type": "markdown",
   "metadata": {},
   "source": [
    "A payoff of structural models is the possibility to simulate the same model in a counterfactual environment, to help answer \"what if\" questions that can be highly relevant for policy purposes. As an example, in models of educational choice, the analysis of comparative statics is often applied to evaluate the effect of alternative tuition policies on average educational attainment. \n",
    "\n",
    "We will now show how, in this simple Robinson Crusoe economy, changing one parameter affects Robinson's behavior: How do Robinson's choices change if we increase the return to experience in fishing? We can simulate the model again under a different set of parameters and inspect Robinson's new choices. "
   ]
  },
  {
   "cell_type": "code",
   "execution_count": 8,
   "metadata": {},
   "outputs": [],
   "source": [
    "return_exp = [0.2, 0.25, 0.3, 0.35]"
   ]
  },
  {
   "cell_type": "code",
   "execution_count": 9,
   "metadata": {},
   "outputs": [],
   "source": [
    "list_df = []\n",
    "for r in return_exp:\n",
    "    params.loc[(\"wage_fishing\", \"exp_fishing\"), \"value\"] = r\n",
    "    simulate = rp.get_simulate_func(params, options)\n",
    "    df = simulate(params)\n",
    "    list_df.append(df)"
   ]
  },
  {
   "cell_type": "code",
   "execution_count": 10,
   "metadata": {},
   "outputs": [
    {
     "data": {
      "image/png": "[encoded data removed]",
      "text/plain": [
       "<Figure size 720x576 with 4 Axes>"
      ]
     },
     "metadata": {},
     "output_type": "display_data"
    }
   ],
   "source": [
    "sns.set_context(\"notebook\", font_scale=1.25)\n",
    "\n",
    "fig, axs = plt.subplots(2, 2, figsize=(10, 8))\n",
    "\n",
    "width = 0.5\n",
    "axs = axs.flatten()\n",
    "\n",
    "for ax, df, r in zip(axs, list_df, return_exp):\n",
    "    hammock = (\n",
    "        df.groupby(\"Period\")\n",
    "        .Choice.value_counts(normalize=True)\n",
    "        .unstack()\n",
    "        .loc[:, \"hammock\"]\n",
    "    )\n",
    "    fishing = (\n",
    "        df.groupby(\"Period\")\n",
    "        .Choice.value_counts(normalize=True)\n",
    "        .unstack()\n",
    "        .loc[:, \"fishing\"]\n",
    "    )\n",
    "\n",
    "    ax.bar(fishing.index, fishing.values, width=width, label=\"fishing\")\n",
    "    ax.bar(hammock.index, hammock.values, width=width, bottom=fishing, label=\"hammock\")\n",
    "\n",
    "    ax.set_title(\"Return to experience = \" + str(r))\n",
    "    plt.xticks(rotation=\"horizontal\")\n",
    "\n",
    "plt.legend(loc=\"right\", bbox_to_anchor=(0.3, -0.3), ncol=2)\n",
    "plt.suptitle(\"Robinson's choices by period\")\n",
    "\n",
    "plt.show()"
   ]
  },
  {
   "cell_type": "markdown",
   "metadata": {},
   "source": [
    "As ``\"exp_fishing\"`` increases, Robinson is more and more likely to fish in each period. For higher returns to experience, Robinson spends all of his time fishing, while for low values he spends all of his time on his hammock. Varying just one parameter results in very different predicted outcomes."
   ]
  },
  {
   "cell_type": "markdown",
   "metadata": {},
   "source": [
    "***\n",
    "\n",
    "**Footnotes**"
   ]
  },
  {
   "cell_type": "markdown",
   "metadata": {},
   "source": [
    "<span id=\"fn1\"><sup>1</sup>\n",
    "    One of the earliest references of Robinsonades in Economics can be found in Marx (1867). In the 37th footnote, he mentions that even Ricardo used the theme before him.\n",
    "</span>"
   ]
  },
  {
   "cell_type": "markdown",
   "metadata": {},
   "source": [
    "## References"
   ]
  },
  {
   "cell_type": "markdown",
   "metadata": {},
   "source": [
    "Marx, K. (1867). Das Kapital, Bd. 1. *MEW*, Bd, 23, 405"
   ]
  }
 ],
 "metadata": {
  "celltoolbar": "Raw Cell Format",
  "kernelspec": {
   "display_name": "Python 3",
   "language": "python",
   "name": "python3"
  },
  "language_info": {
   "codemirror_mode": {
    "name": "ipython",
    "version": 3
   },
   "file_extension": ".py",
   "mimetype": "text/x-python",
   "name": "python",
   "nbconvert_exporter": "python",
   "pygments_lexer": "ipython3",
   "version": "3.8.3"
  }
 },
 "nbformat": 4,
 "nbformat_minor": 4
}
