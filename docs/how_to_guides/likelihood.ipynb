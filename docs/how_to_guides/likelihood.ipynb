{
 "cells": [
  {
   "cell_type": "markdown",
   "metadata": {},
   "source": [
    "# How to specify a log likelihood function"
   ]
  },
  {
   "cell_type": "markdown",
   "metadata": {},
   "source": [
    "The **respy** interface supports two different types of estimation for parameter calbiration:\n",
    "\n",
    "1. (Simulated) maximum likelihood estimation\n",
    "2. Method of simulated moments estimation\n",
    "\n",
    "To calibrate a model, you can derive a criterion functions using `params`, `options`, and empirical data. That criterion function can then be passed on to an optimizer like those provided by [estimagic](https://estimagic.readthedocs.io). This guide outlines the construction of a criterion function for simulated maximum likelihood estimation. See the guide below for the guide on the method of simulated moments."
   ]
  },
  {
   "cell_type": "raw",
   "metadata": {},
   "source": [
    "<div to class=\"d-flex flex-row gs-torefguide\">\n",
    "    <span class=\"badge badge-info\">How-to Guide</span>\n",
    "\n",
    "    Contstruct a criterion function using the <a\n",
    "    href=\".msm.html\">method of simulated moments</a>.\n",
    "</div>"
   ]
  },
  {
   "cell_type": "markdown",
   "metadata": {},
   "source": [
    "To start off, we load an example model as usual."
   ]
  },
  {
   "cell_type": "code",
   "execution_count": 2,
   "metadata": {},
   "outputs": [],
   "source": [
    "import respy as rp\n",
    "params, options, data = rp.get_example_model(\"robinson_crusoe_basic\")"
   ]
  },
  {
   "cell_type": "markdown",
   "metadata": {},
   "source": [
    "## The log likelihood function\n",
    "\n",
    "The criterion for maximum likelihood estimation is constructed in two steps. The **respy** function `get_log_like_func` takes the inputs `params`, `options`, and `df` to construct a function that only depends on the parameter vector. This function can then be passed to an optimizer to calibrate the model parameters."
   ]
  },
  {
   "cell_type": "code",
   "execution_count": 7,
   "metadata": {},
   "outputs": [
    {
     "data": {
      "text/plain": [
       "-5.494678164823001"
      ]
     },
     "execution_count": 7,
     "metadata": {},
     "output_type": "execute_result"
    }
   ],
   "source": [
    "log_like = rp.get_log_like_func(params=params, options=options, df=data)\n",
    "scalar = log_like(params)\n",
    "scalar"
   ]
  },
  {
   "cell_type": "markdown",
   "metadata": {},
   "source": [
    "To return the log likelihood contributions, set the argument `return_scalar` to `False`."
   ]
  },
  {
   "cell_type": "code",
   "execution_count": 9,
   "metadata": {},
   "outputs": [],
   "source": [
    "log_like_contribs = rp.get_log_like_func(params=params, options=options, df=data, return_scalar=False)\n",
    "array = log_like_contribs(params)"
   ]
  },
  {
   "cell_type": "markdown",
   "metadata": {},
   "source": [
    "## Comparison plot data"
   ]
  },
  {
   "cell_type": "code",
   "execution_count": null,
   "metadata": {},
   "outputs": [],
   "source": []
  },
  {
   "cell_type": "markdown",
   "metadata": {},
   "source": [
    "## options: The smoothing parameter tau\n",
    "\n",
    "There exists no closed-form solution for the choice probabilities in the likelihood function, so these are simulated. Application of a basic accept-reject (AR) simulator poses two challenges. \n",
    "\n",
    "1. There is the ocurrance of zero probability simulation for low probability events which causes problems for the evaluation of the log-likelihood.\n",
    "2. The choice probabilities are not smooth in the parameters and instead are a step function. \n",
    "\n",
    "McFadden (1989) introduces a class of smoothed AR simulators. The logit-smoothed AR simulator is the most popular one and also implemented in **respy**. The implementation requires to specify the smoothing parameter$\\tau$. As $\\tau \\rightarrow 0$, the logit smoother approaches the original indicator function.\n",
    "\n",
    "The smoothing parameter $\\tau$ can be specified in the parameter options."
   ]
  },
  {
   "cell_type": "code",
   "execution_count": 4,
   "metadata": {},
   "outputs": [
    {
     "data": {
      "text/plain": [
       "0.001"
      ]
     },
     "execution_count": 4,
     "metadata": {},
     "output_type": "execute_result"
    }
   ],
   "source": [
    "options[\"estimation_tau\"]"
   ]
  }
 ],
 "metadata": {
  "kernelspec": {
   "display_name": "Python 3",
   "language": "python",
   "name": "python3"
  },
  "language_info": {
   "codemirror_mode": {
    "name": "ipython",
    "version": 3
   },
   "file_extension": ".py",
   "mimetype": "text/x-python",
   "name": "python",
   "nbconvert_exporter": "python",
   "pygments_lexer": "ipython3",
   "version": "3.8.6"
  }
 },
 "nbformat": 4,
 "nbformat_minor": 4
}
