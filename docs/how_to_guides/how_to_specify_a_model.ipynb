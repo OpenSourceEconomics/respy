{
 "cells": [
  {
   "cell_type": "markdown",
   "metadata": {},
   "source": [
    "# How to set up your own EKW-model\n",
    "\n",
    "*Comment: We should start a liiitttle bit more general*\n",
    "\n",
    "A model in respy is defined by two objects:\n",
    "\n",
    "1. Parameters of the model reside in `params` which is a [pandas.DataFrame](https://pandas.pydata.org/pandas-docs/stable/reference/api/pandas.DataFrame.html). It includes the structural parameters of the model which define the model structure.  \n",
    "\n",
    "    *Note:* It is not mandatory that parameters included in the `params` DataFrame have to be estimable. For example, a specified shock distribution may guide the model but exogenously set.\n",
    "    \n",
    "\n",
    "2. The object `options` specifies settings for the model solution and further restrictions on the model structure. Examples may include number of periods, type of numerical integration, unfeasible states etc. \n"
   ]
  },
  {
   "cell_type": "markdown",
   "metadata": {},
   "source": [
    "---\n",
    "## `params`\n",
    "\n",
    "The object `params` is a [multi-indexed pandas.DataFrame](https://pandas.pydata.org/pandas-docs/stable/user_guide/advanced.html).\n",
    "The first index, `category`, describes the parameters group and `name` specific parameters in the group. To talk about a more concrete example, we load the specification of the basic Robinson Crusoe economy.\n"
   ]
  },
  {
   "cell_type": "code",
   "execution_count": 2,
   "metadata": {},
   "outputs": [],
   "source": [
    "import respy as rp"
   ]
  },
  {
   "cell_type": "code",
   "execution_count": 10,
   "metadata": {},
   "outputs": [],
   "source": [
    "params, options = rp.get_example_model(\"kw_94_two\", with_data=False)"
   ]
  },
  {
   "cell_type": "code",
   "execution_count": 11,
   "metadata": {},
   "outputs": [
    {
     "data": {
      "text/html": [
       "<div>\n",
       "<style scoped>\n",
       "    .dataframe tbody tr th:only-of-type {\n",
       "        vertical-align: middle;\n",
       "    }\n",
       "\n",
       "    .dataframe tbody tr th {\n",
       "        vertical-align: top;\n",
       "    }\n",
       "\n",
       "    .dataframe thead th {\n",
       "        text-align: right;\n",
       "    }\n",
       "</style>\n",
       "<table border=\"1\" class=\"dataframe\">\n",
       "  <thead>\n",
       "    <tr style=\"text-align: right;\">\n",
       "      <th></th>\n",
       "      <th></th>\n",
       "      <th>value</th>\n",
       "      <th>comment</th>\n",
       "    </tr>\n",
       "    <tr>\n",
       "      <th>category</th>\n",
       "      <th>name</th>\n",
       "      <th></th>\n",
       "      <th></th>\n",
       "    </tr>\n",
       "  </thead>\n",
       "  <tbody>\n",
       "    <tr>\n",
       "      <th>delta</th>\n",
       "      <th>delta</th>\n",
       "      <td>0.9500</td>\n",
       "      <td>discount factor</td>\n",
       "    </tr>\n",
       "    <tr>\n",
       "      <th rowspan=\"6\" valign=\"top\">wage_a</th>\n",
       "      <th>constant</th>\n",
       "      <td>9.2100</td>\n",
       "      <td>log of rental price</td>\n",
       "    </tr>\n",
       "    <tr>\n",
       "      <th>exp_edu</th>\n",
       "      <td>0.0400</td>\n",
       "      <td>return to an additional year of schooling</td>\n",
       "    </tr>\n",
       "    <tr>\n",
       "      <th>exp_a</th>\n",
       "      <td>0.0330</td>\n",
       "      <td>return to same sector experience</td>\n",
       "    </tr>\n",
       "    <tr>\n",
       "      <th>exp_a_square</th>\n",
       "      <td>-0.0005</td>\n",
       "      <td>return to same sector, quadratic experience</td>\n",
       "    </tr>\n",
       "    <tr>\n",
       "      <th>exp_b</th>\n",
       "      <td>0.0000</td>\n",
       "      <td>return to other sector experience</td>\n",
       "    </tr>\n",
       "    <tr>\n",
       "      <th>exp_b_square</th>\n",
       "      <td>0.0000</td>\n",
       "      <td>return to other sector, quadratic experience</td>\n",
       "    </tr>\n",
       "    <tr>\n",
       "      <th rowspan=\"6\" valign=\"top\">wage_b</th>\n",
       "      <th>constant</th>\n",
       "      <td>8.2000</td>\n",
       "      <td>log of rental price</td>\n",
       "    </tr>\n",
       "    <tr>\n",
       "      <th>exp_edu</th>\n",
       "      <td>0.0800</td>\n",
       "      <td>return to an additional year of schooling</td>\n",
       "    </tr>\n",
       "    <tr>\n",
       "      <th>exp_b</th>\n",
       "      <td>0.0670</td>\n",
       "      <td>return to same sector experience</td>\n",
       "    </tr>\n",
       "    <tr>\n",
       "      <th>exp_b_square</th>\n",
       "      <td>-0.0010</td>\n",
       "      <td>return to same sector, quadratic experience</td>\n",
       "    </tr>\n",
       "    <tr>\n",
       "      <th>exp_a</th>\n",
       "      <td>0.0220</td>\n",
       "      <td>return to other sector experience</td>\n",
       "    </tr>\n",
       "    <tr>\n",
       "      <th>exp_a_square</th>\n",
       "      <td>-0.0005</td>\n",
       "      <td>return to other sector, quadratic experience</td>\n",
       "    </tr>\n",
       "    <tr>\n",
       "      <th rowspan=\"3\" valign=\"top\">nonpec_edu</th>\n",
       "      <th>constant</th>\n",
       "      <td>5000.0000</td>\n",
       "      <td>constant reward for choosing education</td>\n",
       "    </tr>\n",
       "    <tr>\n",
       "      <th>at_least_twelve_exp_edu</th>\n",
       "      <td>-5000.0000</td>\n",
       "      <td>reward for going to college (tuition, etc.)</td>\n",
       "    </tr>\n",
       "    <tr>\n",
       "      <th>not_edu_last_period</th>\n",
       "      <td>-15000.0000</td>\n",
       "      <td>reward for going back to school</td>\n",
       "    </tr>\n",
       "    <tr>\n",
       "      <th>nonpec_home</th>\n",
       "      <th>constant</th>\n",
       "      <td>14500.0000</td>\n",
       "      <td>constant reward of non-market alternative</td>\n",
       "    </tr>\n",
       "    <tr>\n",
       "      <th rowspan=\"10\" valign=\"top\">shocks_sdcorr</th>\n",
       "      <th>sd_a</th>\n",
       "      <td>0.4000</td>\n",
       "      <td>Element 1,1 of standard-deviation/correlation ...</td>\n",
       "    </tr>\n",
       "    <tr>\n",
       "      <th>sd_b</th>\n",
       "      <td>0.5000</td>\n",
       "      <td>Element 2,2 of standard-deviation/correlation ...</td>\n",
       "    </tr>\n",
       "    <tr>\n",
       "      <th>sd_edu</th>\n",
       "      <td>6000.0000</td>\n",
       "      <td>Element 3,3 of standard-deviation/correlation ...</td>\n",
       "    </tr>\n",
       "    <tr>\n",
       "      <th>sd_home</th>\n",
       "      <td>6000.0000</td>\n",
       "      <td>Element 4,4 of standard-deviation/correlation ...</td>\n",
       "    </tr>\n",
       "    <tr>\n",
       "      <th>corr_b_a</th>\n",
       "      <td>0.0000</td>\n",
       "      <td>Element 2,1 of standard-deviation/correlation ...</td>\n",
       "    </tr>\n",
       "    <tr>\n",
       "      <th>corr_edu_a</th>\n",
       "      <td>0.0000</td>\n",
       "      <td>Element 3,1 of standard-deviation/correlation ...</td>\n",
       "    </tr>\n",
       "    <tr>\n",
       "      <th>corr_edu_b</th>\n",
       "      <td>0.0000</td>\n",
       "      <td>Element 3,2 of standard-deviation/correlation ...</td>\n",
       "    </tr>\n",
       "    <tr>\n",
       "      <th>corr_home_a</th>\n",
       "      <td>0.0000</td>\n",
       "      <td>Element 4,1 of standard-deviation/correlation ...</td>\n",
       "    </tr>\n",
       "    <tr>\n",
       "      <th>corr_home_b</th>\n",
       "      <td>0.0000</td>\n",
       "      <td>Element 4,2 of standard-deviation/correlation ...</td>\n",
       "    </tr>\n",
       "    <tr>\n",
       "      <th>corr_home_edu</th>\n",
       "      <td>0.0000</td>\n",
       "      <td>Element 4,3 of standard-deviation/correlation ...</td>\n",
       "    </tr>\n",
       "    <tr>\n",
       "      <th>lagged_choice_1_edu</th>\n",
       "      <th>edu_ten</th>\n",
       "      <td>1.0000</td>\n",
       "      <td>Probability that the first lagged choice is ed...</td>\n",
       "    </tr>\n",
       "    <tr>\n",
       "      <th>initial_exp_edu</th>\n",
       "      <th>10</th>\n",
       "      <td>1.0000</td>\n",
       "      <td>Probability that the initial level of educatio...</td>\n",
       "    </tr>\n",
       "    <tr>\n",
       "      <th>maximum_exp</th>\n",
       "      <th>edu</th>\n",
       "      <td>20.0000</td>\n",
       "      <td>Maximum level of experience for education (opt...</td>\n",
       "    </tr>\n",
       "  </tbody>\n",
       "</table>\n",
       "</div>"
      ],
      "text/plain": [
       "                                                  value  \\\n",
       "category            name                                  \n",
       "delta               delta                        0.9500   \n",
       "wage_a              constant                     9.2100   \n",
       "                    exp_edu                      0.0400   \n",
       "                    exp_a                        0.0330   \n",
       "                    exp_a_square                -0.0005   \n",
       "                    exp_b                        0.0000   \n",
       "                    exp_b_square                 0.0000   \n",
       "wage_b              constant                     8.2000   \n",
       "                    exp_edu                      0.0800   \n",
       "                    exp_b                        0.0670   \n",
       "                    exp_b_square                -0.0010   \n",
       "                    exp_a                        0.0220   \n",
       "                    exp_a_square                -0.0005   \n",
       "nonpec_edu          constant                  5000.0000   \n",
       "                    at_least_twelve_exp_edu  -5000.0000   \n",
       "                    not_edu_last_period     -15000.0000   \n",
       "nonpec_home         constant                 14500.0000   \n",
       "shocks_sdcorr       sd_a                         0.4000   \n",
       "                    sd_b                         0.5000   \n",
       "                    sd_edu                    6000.0000   \n",
       "                    sd_home                   6000.0000   \n",
       "                    corr_b_a                     0.0000   \n",
       "                    corr_edu_a                   0.0000   \n",
       "                    corr_edu_b                   0.0000   \n",
       "                    corr_home_a                  0.0000   \n",
       "                    corr_home_b                  0.0000   \n",
       "                    corr_home_edu                0.0000   \n",
       "lagged_choice_1_edu edu_ten                      1.0000   \n",
       "initial_exp_edu     10                           1.0000   \n",
       "maximum_exp         edu                         20.0000   \n",
       "\n",
       "                                                                                       comment  \n",
       "category            name                                                                        \n",
       "delta               delta                                                      discount factor  \n",
       "wage_a              constant                                               log of rental price  \n",
       "                    exp_edu                          return to an additional year of schooling  \n",
       "                    exp_a                                     return to same sector experience  \n",
       "                    exp_a_square                   return to same sector, quadratic experience  \n",
       "                    exp_b                                    return to other sector experience  \n",
       "                    exp_b_square                  return to other sector, quadratic experience  \n",
       "wage_b              constant                                               log of rental price  \n",
       "                    exp_edu                          return to an additional year of schooling  \n",
       "                    exp_b                                     return to same sector experience  \n",
       "                    exp_b_square                   return to same sector, quadratic experience  \n",
       "                    exp_a                                    return to other sector experience  \n",
       "                    exp_a_square                  return to other sector, quadratic experience  \n",
       "nonpec_edu          constant                            constant reward for choosing education  \n",
       "                    at_least_twelve_exp_edu        reward for going to college (tuition, etc.)  \n",
       "                    not_edu_last_period                        reward for going back to school  \n",
       "nonpec_home         constant                         constant reward of non-market alternative  \n",
       "shocks_sdcorr       sd_a                     Element 1,1 of standard-deviation/correlation ...  \n",
       "                    sd_b                     Element 2,2 of standard-deviation/correlation ...  \n",
       "                    sd_edu                   Element 3,3 of standard-deviation/correlation ...  \n",
       "                    sd_home                  Element 4,4 of standard-deviation/correlation ...  \n",
       "                    corr_b_a                 Element 2,1 of standard-deviation/correlation ...  \n",
       "                    corr_edu_a               Element 3,1 of standard-deviation/correlation ...  \n",
       "                    corr_edu_b               Element 3,2 of standard-deviation/correlation ...  \n",
       "                    corr_home_a              Element 4,1 of standard-deviation/correlation ...  \n",
       "                    corr_home_b              Element 4,2 of standard-deviation/correlation ...  \n",
       "                    corr_home_edu            Element 4,3 of standard-deviation/correlation ...  \n",
       "lagged_choice_1_edu edu_ten                  Probability that the first lagged choice is ed...  \n",
       "initial_exp_edu     10                       Probability that the initial level of educatio...  \n",
       "maximum_exp         edu                      Maximum level of experience for education (opt...  "
      ]
     },
     "execution_count": 11,
     "metadata": {},
     "output_type": "execute_result"
    }
   ],
   "source": [
    "params"
   ]
  },
  {
   "cell_type": "markdown",
   "metadata": {},
   "source": [
    "### The discount factor\n",
    "\n",
    "The first parameter in every specification is the discount factor which is abbreviated with `delta`. The discount factor controls how utilities are aggregated over time periods."
   ]
  },
  {
   "cell_type": "code",
   "execution_count": 4,
   "metadata": {},
   "outputs": [
    {
     "data": {
      "text/html": [
       "<div>\n",
       "<style scoped>\n",
       "    .dataframe tbody tr th:only-of-type {\n",
       "        vertical-align: middle;\n",
       "    }\n",
       "\n",
       "    .dataframe tbody tr th {\n",
       "        vertical-align: top;\n",
       "    }\n",
       "\n",
       "    .dataframe thead th {\n",
       "        text-align: right;\n",
       "    }\n",
       "</style>\n",
       "<table border=\"1\" class=\"dataframe\">\n",
       "  <thead>\n",
       "    <tr style=\"text-align: right;\">\n",
       "      <th></th>\n",
       "      <th></th>\n",
       "      <th>value</th>\n",
       "    </tr>\n",
       "    <tr>\n",
       "      <th>category</th>\n",
       "      <th>name</th>\n",
       "      <th></th>\n",
       "    </tr>\n",
       "  </thead>\n",
       "  <tbody>\n",
       "    <tr>\n",
       "      <th>delta</th>\n",
       "      <th>delta</th>\n",
       "      <td>0.95</td>\n",
       "    </tr>\n",
       "  </tbody>\n",
       "</table>\n",
       "</div>"
      ],
      "text/plain": [
       "                value\n",
       "category name        \n",
       "delta    delta   0.95"
      ]
     },
     "execution_count": 4,
     "metadata": {},
     "output_type": "execute_result"
    }
   ],
   "source": [
    "params.loc[(\"delta\", slice(None)),]"
   ]
  },
  {
   "cell_type": "markdown",
   "metadata": {},
   "source": [
    "params"
   ]
  },
  {
   "cell_type": "markdown",
   "metadata": {},
   "source": [
    "## The choice rewards\n",
    "\n",
    "The choice rewards are central to define choices in general. First of all, each choice can have two categories of reward parameters which are named `wage_{choice}` and `nonpec_{choice}` in the `category` index level. `wage` and `nonpec` refer to the two components of utility functions for Eckstein-Keane-Wolpin models. In a nutshell, the utility of a working alternative is defined by the sum of a wage and a nonpecuniary component. The nonpecuniary reward $N$ is a vector product of parameters $\\beta^N$ and covariates $x^N$. The wage $W$ is defined as the exponential function of a vector product of parameters $\\beta^W$ and covariates $x^W$ plus a normally distributed shock $\\epsilon$.\n",
    "\n",
    "$$\n",
    "    U = W + N = \\exp\\{x^W\\beta^W + \\epsilon\\} + x^N\\beta^N\n",
    "$$\n",
    "\n",
    "For non-working alternatives, $W = 0$ and the normally distributed shock is added to the nonpecuniary reward.\n",
    "\n",
    "$$\n",
    "    U = N = x^N\\beta^N + \\epsilon\n",
    "$$\n",
    "\n",
    "Going back to the reward groups, `wage_{choice}` and `nonpec_{choice}` contain the parameters $\\beta$ for the vector product of the respective utility component.\n",
    "\n",
    "Let us take a look at the reward parameter for `fishing` and focus on `wage_fishing` first. The group contains a single parameter whose value is 0.1. Now, how is the parameter $\\beta$ multiplied with the correct covariate $x$? This is achieved by the `name` index level of the parameter. In this case, `exp_fishing` is the name of a column in an internal DataFrame which contains the experience in fishing for an individual. After the vector product is computed, a shock which is drawn internally is added to the sum and the value is exponentiated to receive the wage component for the choice `fishing`."
   ]
  },
  {
   "cell_type": "code",
   "execution_count": 5,
   "metadata": {},
   "outputs": [
    {
     "data": {
      "text/html": [
       "<div>\n",
       "<style scoped>\n",
       "    .dataframe tbody tr th:only-of-type {\n",
       "        vertical-align: middle;\n",
       "    }\n",
       "\n",
       "    .dataframe tbody tr th {\n",
       "        vertical-align: top;\n",
       "    }\n",
       "\n",
       "    .dataframe thead th {\n",
       "        text-align: right;\n",
       "    }\n",
       "</style>\n",
       "<table border=\"1\" class=\"dataframe\">\n",
       "  <thead>\n",
       "    <tr style=\"text-align: right;\">\n",
       "      <th></th>\n",
       "      <th></th>\n",
       "      <th>value</th>\n",
       "    </tr>\n",
       "    <tr>\n",
       "      <th>category</th>\n",
       "      <th>name</th>\n",
       "      <th></th>\n",
       "    </tr>\n",
       "  </thead>\n",
       "  <tbody>\n",
       "    <tr>\n",
       "      <th>wage_fishing</th>\n",
       "      <th>exp_fishing</th>\n",
       "      <td>0.1</td>\n",
       "    </tr>\n",
       "  </tbody>\n",
       "</table>\n",
       "</div>"
      ],
      "text/plain": [
       "                          value\n",
       "category     name              \n",
       "wage_fishing exp_fishing    0.1"
      ]
     },
     "execution_count": 5,
     "metadata": {},
     "output_type": "execute_result"
    }
   ],
   "source": [
    "params.loc[(\"wage_fishing\", slice(None)),]"
   ]
  },
  {
   "cell_type": "markdown",
   "metadata": {},
   "source": [
    "`exp_{choice}` is a special variable in the sense that its name is predefined within respy. If experience can be accumulated by choosing a certain action, you can always refer to it with `exp_{choice}`. At the same time, whether a choice allows experience accumulation or not is inferred from whether a covariate with the name `exp_{choice}` is used. Also, if a choice has a wage, it automatically allows for experience accumulation.\n",
    "\n",
    "Let's move to the nonpecuniary reward of `fishing`. It has one parameter as well which is named `constant` and has the value -1. It might be obvious by the name that the covariate named `constant` has the value one. Is `constant` also an automatically generated internal variable? No, it is not. Instead, this covariate has to be defined by the user. This will be later explained in [formulas of covariates](#The-formulas-of-covariates)."
   ]
  },
  {
   "cell_type": "code",
   "execution_count": 6,
   "metadata": {},
   "outputs": [
    {
     "data": {
      "text/html": [
       "<div>\n",
       "<style scoped>\n",
       "    .dataframe tbody tr th:only-of-type {\n",
       "        vertical-align: middle;\n",
       "    }\n",
       "\n",
       "    .dataframe tbody tr th {\n",
       "        vertical-align: top;\n",
       "    }\n",
       "\n",
       "    .dataframe thead th {\n",
       "        text-align: right;\n",
       "    }\n",
       "</style>\n",
       "<table border=\"1\" class=\"dataframe\">\n",
       "  <thead>\n",
       "    <tr style=\"text-align: right;\">\n",
       "      <th></th>\n",
       "      <th></th>\n",
       "      <th>value</th>\n",
       "    </tr>\n",
       "    <tr>\n",
       "      <th>category</th>\n",
       "      <th>name</th>\n",
       "      <th></th>\n",
       "    </tr>\n",
       "  </thead>\n",
       "  <tbody>\n",
       "    <tr>\n",
       "      <th>nonpec_fishing</th>\n",
       "      <th>constant</th>\n",
       "      <td>-1.0</td>\n",
       "    </tr>\n",
       "  </tbody>\n",
       "</table>\n",
       "</div>"
      ],
      "text/plain": [
       "                         value\n",
       "category       name           \n",
       "nonpec_fishing constant   -1.0"
      ]
     },
     "execution_count": 6,
     "metadata": {},
     "output_type": "execute_result"
    }
   ],
   "source": [
    "params.loc[(\"nonpec_fishing\", slice(None)),]"
   ]
  },
  {
   "cell_type": "markdown",
   "metadata": {},
   "source": [
    "Let us go over the choice rewards for the second choice `hammock`. Since the choice has no `wage_hammock` entry it is a non-working alternative which has only a nonpecuniary utility component. Since no other choice parameter uses `exp_hammock`, the choice does not allow for experience accumulation. There exist two parameters. The first parameter also uses the covariate `constant` and has the value 2.5. The second parameter `not_fishing_last_period` is later explained in detail, but for now, it is sufficient to know that Robinson receives a penalty of -1 if he has not been fishing the last period."
   ]
  },
  {
   "cell_type": "code",
   "execution_count": 7,
   "metadata": {},
   "outputs": [
    {
     "data": {
      "text/html": [
       "<div>\n",
       "<style scoped>\n",
       "    .dataframe tbody tr th:only-of-type {\n",
       "        vertical-align: middle;\n",
       "    }\n",
       "\n",
       "    .dataframe tbody tr th {\n",
       "        vertical-align: top;\n",
       "    }\n",
       "\n",
       "    .dataframe thead th {\n",
       "        text-align: right;\n",
       "    }\n",
       "</style>\n",
       "<table border=\"1\" class=\"dataframe\">\n",
       "  <thead>\n",
       "    <tr style=\"text-align: right;\">\n",
       "      <th></th>\n",
       "      <th></th>\n",
       "      <th>value</th>\n",
       "    </tr>\n",
       "    <tr>\n",
       "      <th>category</th>\n",
       "      <th>name</th>\n",
       "      <th></th>\n",
       "    </tr>\n",
       "  </thead>\n",
       "  <tbody>\n",
       "    <tr>\n",
       "      <th rowspan=\"2\" valign=\"top\">nonpec_hammock</th>\n",
       "      <th>constant</th>\n",
       "      <td>2.5</td>\n",
       "    </tr>\n",
       "    <tr>\n",
       "      <th>not_fishing_last_period</th>\n",
       "      <td>-1.0</td>\n",
       "    </tr>\n",
       "  </tbody>\n",
       "</table>\n",
       "</div>"
      ],
      "text/plain": [
       "                                        value\n",
       "category       name                          \n",
       "nonpec_hammock constant                   2.5\n",
       "               not_fishing_last_period   -1.0"
      ]
     },
     "execution_count": 7,
     "metadata": {},
     "output_type": "execute_result"
    }
   ],
   "source": [
    "params.loc[(\"nonpec_hammock\", slice(None)),]"
   ]
  },
  {
   "cell_type": "markdown",
   "metadata": {},
   "source": [
    "## The shock distribution\n",
    "\n",
    "So far, we have said that $\\epsilon$ in the utility function is drawn internally. The shocks to the utility functions are jointly normally distributed with $\\mathcal{N}(0, \\Sigma)$ and independent over time. To specify $\\Sigma$, there exist three options.\n",
    "\n",
    "For all options, imagine a matrix with as many rows and columns as there are choices. The choices have the following order.\n",
    "\n",
    "1. All working alternatives alphabetically sorted.\n",
    "2. All non-working alternatives with experience accumulation alphabetically sorted.\n",
    "3. All remaining alternatives alphabetically sorted.\n",
    "\n",
    "Because covariance matrices are symmetric, it is sufficient to specify the lower triangular of the matrix.\n",
    "\n",
    "The first option is to specify the lower triangular of the standard deviation/correlation matrix of $\\Sigma$ under the index category `shocks_sdcorr`. The first parameters in this category are the standard deviations with parameter names `sd_{choice}`. The following parameters are the correlations ordered by rows with the name `corr_{choice_2}_{choice_1}` and so on."
   ]
  },
  {
   "cell_type": "code",
   "execution_count": 8,
   "metadata": {},
   "outputs": [
    {
     "data": {
      "text/html": [
       "<div>\n",
       "<style scoped>\n",
       "    .dataframe tbody tr th:only-of-type {\n",
       "        vertical-align: middle;\n",
       "    }\n",
       "\n",
       "    .dataframe tbody tr th {\n",
       "        vertical-align: top;\n",
       "    }\n",
       "\n",
       "    .dataframe thead th {\n",
       "        text-align: right;\n",
       "    }\n",
       "</style>\n",
       "<table border=\"1\" class=\"dataframe\">\n",
       "  <thead>\n",
       "    <tr style=\"text-align: right;\">\n",
       "      <th></th>\n",
       "      <th></th>\n",
       "      <th>value</th>\n",
       "    </tr>\n",
       "    <tr>\n",
       "      <th>category</th>\n",
       "      <th>name</th>\n",
       "      <th></th>\n",
       "    </tr>\n",
       "  </thead>\n",
       "  <tbody>\n",
       "    <tr>\n",
       "      <th rowspan=\"3\" valign=\"top\">shocks_sdcorr</th>\n",
       "      <th>sd_fishing</th>\n",
       "      <td>1.0</td>\n",
       "    </tr>\n",
       "    <tr>\n",
       "      <th>sd_hammock</th>\n",
       "      <td>1.0</td>\n",
       "    </tr>\n",
       "    <tr>\n",
       "      <th>corr_hammock_fishing</th>\n",
       "      <td>-0.2</td>\n",
       "    </tr>\n",
       "  </tbody>\n",
       "</table>\n",
       "</div>"
      ],
      "text/plain": [
       "                                    value\n",
       "category      name                       \n",
       "shocks_sdcorr sd_fishing              1.0\n",
       "              sd_hammock              1.0\n",
       "              corr_hammock_fishing   -0.2"
      ]
     },
     "execution_count": 8,
     "metadata": {},
     "output_type": "execute_result"
    }
   ],
   "source": [
    "params.loc[(\"shocks_sdcorr\", slice(None)),]"
   ]
  },
  {
   "cell_type": "markdown",
   "metadata": {},
   "source": [
    "The second option is to specify the variance-covariance matrix. The parameters are ordered by appearance in the lower triangular. Variances have the name `var_{choice}` and covariances `cov_{choice_2}_{choice_1}` and so forth.\n",
    "\n",
    "The third option is the Cholesky factor of the variance-covariance matrix ordered by appearance in the lower triangular. The labels are either `chol_{choice}` or `chol_{choice_2}_{choice_1}` and so forth."
   ]
  },
  {
   "cell_type": "markdown",
   "metadata": {},
   "source": [
    "## Previous choices\n",
    "\n",
    "See the how-to guide on [initial conditions](how_to_specify_the_initial_conditions.ipynb) explains this feature in more detail."
   ]
  },
  {
   "cell_type": "code",
   "execution_count": 10,
   "metadata": {},
   "outputs": [
    {
     "data": {
      "text/html": [
       "<div>\n",
       "<style scoped>\n",
       "    .dataframe tbody tr th:only-of-type {\n",
       "        vertical-align: middle;\n",
       "    }\n",
       "\n",
       "    .dataframe tbody tr th {\n",
       "        vertical-align: top;\n",
       "    }\n",
       "\n",
       "    .dataframe thead th {\n",
       "        text-align: right;\n",
       "    }\n",
       "</style>\n",
       "<table border=\"1\" class=\"dataframe\">\n",
       "  <thead>\n",
       "    <tr style=\"text-align: right;\">\n",
       "      <th></th>\n",
       "      <th></th>\n",
       "      <th>value</th>\n",
       "    </tr>\n",
       "    <tr>\n",
       "      <th>category</th>\n",
       "      <th>name</th>\n",
       "      <th></th>\n",
       "    </tr>\n",
       "  </thead>\n",
       "  <tbody>\n",
       "    <tr>\n",
       "      <th>lagged_choice_1_hammock</th>\n",
       "      <th>constant</th>\n",
       "      <td>1.0</td>\n",
       "    </tr>\n",
       "  </tbody>\n",
       "</table>\n",
       "</div>"
      ],
      "text/plain": [
       "                                  value\n",
       "category                name           \n",
       "lagged_choice_1_hammock constant    1.0"
      ]
     },
     "execution_count": 10,
     "metadata": {},
     "output_type": "execute_result"
    }
   ],
   "source": [
    "params.loc[(\"lagged_choice_1_hammock\", slice(None)),]"
   ]
  },
  {
   "cell_type": "markdown",
   "metadata": {},
   "source": [
    "# `options`"
   ]
  },
  {
   "cell_type": "markdown",
   "metadata": {},
   "source": [
    "## The formulas of covariates\n",
    "\n",
    "In the subsection on the [parameterization of the choice rewards](#The-choice-rewards), two covariates were discussed, `constant` and `not_fishing_last_period`, which are not internally defined. Instead, the user has to provide information to compute the covariates. In respy, this is done by using :func:`pandas.eval` which takes a formula and a DataFrame and computes the results.\n",
    "\n",
    "For the variable named `constant`, :func:`pandas.eval` returns 1 for every individual.\n",
    "\n",
    "The covariate `not_fishing_last_period` is an boolean variable and should be active if Robinson was not fishing the previous period. The formula takes the internal name `lagged_choice_1` and compares it to a choice name. `lagged_choice_1` was previously explained in the subsection on [previous choices](#Previous-choices)."
   ]
  },
  {
   "cell_type": "code",
   "execution_count": 11,
   "metadata": {},
   "outputs": [
    {
     "data": {
      "text/plain": [
       "{'constant': '1', 'not_fishing_last_period': \"lagged_choice_1 != 'fishing'\"}"
      ]
     },
     "execution_count": 11,
     "metadata": {},
     "output_type": "execute_result"
    }
   ],
   "source": [
    "options[\"covariates\"]"
   ]
  },
  {
   "cell_type": "markdown",
   "metadata": {},
   "source": [
    "The order in which you specify the covariates is not important."
   ]
  }
 ],
 "metadata": {
  "kernelspec": {
   "display_name": "Python 3",
   "language": "python",
   "name": "python3"
  },
  "language_info": {
   "codemirror_mode": {
    "name": "ipython",
    "version": 3
   },
   "file_extension": ".py",
   "mimetype": "text/x-python",
   "name": "python",
   "nbconvert_exporter": "python",
   "pygments_lexer": "ipython3",
   "version": "3.7.6"
  }
 },
 "nbformat": 4,
 "nbformat_minor": 4
}
