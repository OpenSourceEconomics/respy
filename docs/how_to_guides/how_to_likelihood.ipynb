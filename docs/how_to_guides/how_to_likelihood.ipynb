{
 "cells": [
  {
   "cell_type": "markdown",
   "metadata": {},
   "source": [
    "# Maximum Likelihood Criterion"
   ]
  },
  {
   "cell_type": "markdown",
   "metadata": {},
   "source": [
    "The **respy** interface supports two different types of estimation for parameter calbiration:\n",
    "\n",
    "1. (Simulated) maximum likelihood estimation\n",
    "2. Method of simulated moments estimation\n",
    "\n",
    "To calibrate a model, you can derive a criterion functions using `params`, `options`, and empirical data. That criterion function can then be passed on to an optimizer like those provided by [estimagic](https://estimagic.readthedocs.io). This guide outlines the construction of a criterion function for simulated maximum likelihood estimation. See the guide below for the guide on the method of simulated moments."
   ]
  },
  {
   "cell_type": "raw",
   "metadata": {},
   "source": [
    "<div to class=\"d-flex flex-row gs-torefguide\">\n",
    "    <span class=\"badge badge-info\">How-to Guide</span>\n",
    "\n",
    "    Contstruct a criterion function using the <a\n",
    "    href=\"how_to_msm.html\">method of simulated moments</a>.\n",
    "</div>"
   ]
  },
  {
   "cell_type": "markdown",
   "metadata": {},
   "source": [
    "To start off, we load an example model as usual."
   ]
  },
  {
   "cell_type": "code",
   "execution_count": 6,
   "metadata": {},
   "outputs": [],
   "source": [
    "import respy as rp\n",
    "import pandas as pd"
   ]
  },
  {
   "cell_type": "code",
   "execution_count": 7,
   "metadata": {},
   "outputs": [],
   "source": [
    "params, options, data = rp.get_example_model(\"robinson_crusoe_basic\")"
   ]
  },
  {
   "cell_type": "markdown",
   "metadata": {},
   "source": [
    "## The log likelihood function\n",
    "\n",
    "The criterion for maximum likelihood estimation is constructed in two steps. The **respy** function `get_log_like_func` takes the inputs `params`, `options`, and `df` to construct a function that only depends on the parameter vector. This function can then be passed to an optimizer to calibrate the model parameters."
   ]
  },
  {
   "cell_type": "code",
   "execution_count": 8,
   "metadata": {},
   "outputs": [
    {
     "data": {
      "text/plain": [
       "-5.494678164823001"
      ]
     },
     "execution_count": 8,
     "metadata": {},
     "output_type": "execute_result"
    }
   ],
   "source": [
    "log_like = rp.get_log_like_func(params=params, options=options, df=data)\n",
    "scalar = log_like(params)\n",
    "scalar"
   ]
  },
  {
   "cell_type": "markdown",
   "metadata": {},
   "source": [
    "By default, the function returns a scalar value given by the mean log likelihood. To return the log likelihood contributions, set the argument `return_scalar` to `False`. The function will the return an array."
   ]
  },
  {
   "cell_type": "code",
   "execution_count": 11,
   "metadata": {},
   "outputs": [
    {
     "data": {
      "text/plain": [
       "(1000,)"
      ]
     },
     "execution_count": 11,
     "metadata": {},
     "output_type": "execute_result"
    }
   ],
   "source": [
    "log_like_contribs = rp.get_log_like_func(params=params, options=options, df=data, return_scalar=False)\n",
    "array = log_like_contribs(params)\n",
    "array.shape"
   ]
  },
  {
   "cell_type": "markdown",
   "metadata": {},
   "source": [
    "## Comparison plot data\n",
    "\n",
    "The log likelihood function can also return a pandas.DataFrame containing more detailed information. In the DataFrame lists the individual contributions of each observation split up by choices and wages and is suited for [estimagic](https://estimagic.readthedocs.io/en/latest/)'s visualization capabilities. When the argument `return_comparison_plot_data` is set to **True**, the criterion returns a tuple containing the mean log likelihood/likelihood contributions and the comparison plot data."
   ]
  },
  {
   "cell_type": "code",
   "execution_count": 12,
   "metadata": {},
   "outputs": [],
   "source": [
    "log_like = rp.get_log_like_func(params=params, options=options, df=data, return_comparison_plot_data=True)\n",
    "out = log_like(params)"
   ]
  },
  {
   "cell_type": "code",
   "execution_count": 13,
   "metadata": {},
   "outputs": [
    {
     "data": {
      "text/plain": [
       "-5.494678164823001"
      ]
     },
     "execution_count": 13,
     "metadata": {},
     "output_type": "execute_result"
    }
   ],
   "source": [
    "out[0]"
   ]
  },
  {
   "cell_type": "code",
   "execution_count": 14,
   "metadata": {},
   "outputs": [
    {
     "data": {
      "text/html": [
       "<div>\n",
       "<style scoped>\n",
       "    .dataframe tbody tr th:only-of-type {\n",
       "        vertical-align: middle;\n",
       "    }\n",
       "\n",
       "    .dataframe tbody tr th {\n",
       "        vertical-align: top;\n",
       "    }\n",
       "\n",
       "    .dataframe thead th {\n",
       "        text-align: right;\n",
       "    }\n",
       "</style>\n",
       "<table border=\"1\" class=\"dataframe\">\n",
       "  <thead>\n",
       "    <tr style=\"text-align: right;\">\n",
       "      <th></th>\n",
       "      <th>identifier</th>\n",
       "      <th>period</th>\n",
       "      <th>choice</th>\n",
       "      <th>value</th>\n",
       "      <th>kind</th>\n",
       "    </tr>\n",
       "  </thead>\n",
       "  <tbody>\n",
       "    <tr>\n",
       "      <th>0</th>\n",
       "      <td>0</td>\n",
       "      <td>0</td>\n",
       "      <td>hammock</td>\n",
       "      <td>-0.597872</td>\n",
       "      <td>choice</td>\n",
       "    </tr>\n",
       "    <tr>\n",
       "      <th>1</th>\n",
       "      <td>0</td>\n",
       "      <td>1</td>\n",
       "      <td>hammock</td>\n",
       "      <td>-0.248358</td>\n",
       "      <td>choice</td>\n",
       "    </tr>\n",
       "    <tr>\n",
       "      <th>2</th>\n",
       "      <td>0</td>\n",
       "      <td>2</td>\n",
       "      <td>hammock</td>\n",
       "      <td>-0.127806</td>\n",
       "      <td>choice</td>\n",
       "    </tr>\n",
       "    <tr>\n",
       "      <th>3</th>\n",
       "      <td>0</td>\n",
       "      <td>3</td>\n",
       "      <td>hammock</td>\n",
       "      <td>-0.083382</td>\n",
       "      <td>choice</td>\n",
       "    </tr>\n",
       "    <tr>\n",
       "      <th>4</th>\n",
       "      <td>0</td>\n",
       "      <td>4</td>\n",
       "      <td>hammock</td>\n",
       "      <td>-0.072571</td>\n",
       "      <td>choice</td>\n",
       "    </tr>\n",
       "    <tr>\n",
       "      <th>...</th>\n",
       "      <td>...</td>\n",
       "      <td>...</td>\n",
       "      <td>...</td>\n",
       "      <td>...</td>\n",
       "      <td>...</td>\n",
       "    </tr>\n",
       "    <tr>\n",
       "      <th>9995</th>\n",
       "      <td>999</td>\n",
       "      <td>0</td>\n",
       "      <td>hammock</td>\n",
       "      <td>0.000000</td>\n",
       "      <td>wage</td>\n",
       "    </tr>\n",
       "    <tr>\n",
       "      <th>9996</th>\n",
       "      <td>999</td>\n",
       "      <td>1</td>\n",
       "      <td>hammock</td>\n",
       "      <td>0.000000</td>\n",
       "      <td>wage</td>\n",
       "    </tr>\n",
       "    <tr>\n",
       "      <th>9997</th>\n",
       "      <td>999</td>\n",
       "      <td>2</td>\n",
       "      <td>hammock</td>\n",
       "      <td>0.000000</td>\n",
       "      <td>wage</td>\n",
       "    </tr>\n",
       "    <tr>\n",
       "      <th>9998</th>\n",
       "      <td>999</td>\n",
       "      <td>3</td>\n",
       "      <td>hammock</td>\n",
       "      <td>0.000000</td>\n",
       "      <td>wage</td>\n",
       "    </tr>\n",
       "    <tr>\n",
       "      <th>9999</th>\n",
       "      <td>999</td>\n",
       "      <td>4</td>\n",
       "      <td>hammock</td>\n",
       "      <td>0.000000</td>\n",
       "      <td>wage</td>\n",
       "    </tr>\n",
       "  </tbody>\n",
       "</table>\n",
       "<p>10000 rows × 5 columns</p>\n",
       "</div>"
      ],
      "text/plain": [
       "      identifier  period   choice     value    kind\n",
       "0              0       0  hammock -0.597872  choice\n",
       "1              0       1  hammock -0.248358  choice\n",
       "2              0       2  hammock -0.127806  choice\n",
       "3              0       3  hammock -0.083382  choice\n",
       "4              0       4  hammock -0.072571  choice\n",
       "...          ...     ...      ...       ...     ...\n",
       "9995         999       0  hammock  0.000000    wage\n",
       "9996         999       1  hammock  0.000000    wage\n",
       "9997         999       2  hammock  0.000000    wage\n",
       "9998         999       3  hammock  0.000000    wage\n",
       "9999         999       4  hammock  0.000000    wage\n",
       "\n",
       "[10000 rows x 5 columns]"
      ]
     },
     "execution_count": 14,
     "metadata": {},
     "output_type": "execute_result"
    }
   ],
   "source": [
    "out[1]"
   ]
  },
  {
   "cell_type": "markdown",
   "metadata": {},
   "source": [
    "## options: The smoothing parameter $\\tau$\n",
    "\n",
    "The choice probabilities in the likelihood function are simulated, as there exists no closed-form solution for them. Application of a basic accept-reject (AR) simulator poses two challenges. \n",
    "\n",
    "1. There is the ocurrance of zero probability simulation for low probability events which causes problems for the evaluation of the log-likelihood.\n",
    "\n",
    "2. The choice probabilities are not smooth in the parameters and instead are a step function. \n",
    "\n",
    "McFadden (1989) introduces a class of smoothed AR simulators. The logit-smoothed AR simulator is the most popular one and also implemented in **respy**. The implementation uses the see [softmax function](https://en.wikipedia.org/wiki/Softmax_function) to compute choice probabilities and requires to specify the smoothing (also called temperature) parameter $\\tau$. \n",
    "\n",
    "For $\\tau \\to \\infty$ all choices become equiprobable whereas for $\\tau \\to 0$ some choices receive a zero probability which is not desirable while using gradient-based numerical optimization methods.\n",
    "\n",
    "The parameter has a huge impact on the log likelihood of a sample and seems to be model-dependent. In Keane and Wolpin (1994) and related literature, the parameter is set to 500. We recommend to test different values ranging from >0 to 500. Lower values are only possible because **respy** computes the log likelihood solely in the log-space and uses robust methods to avoid under- and overflows.\n",
    "\n",
    "The parameter $\\tau$ can be specified in the **respy** options."
   ]
  },
  {
   "cell_type": "code",
   "execution_count": 4,
   "metadata": {},
   "outputs": [
    {
     "data": {
      "text/plain": [
       "0.001"
      ]
     },
     "execution_count": 4,
     "metadata": {},
     "output_type": "execute_result"
    }
   ],
   "source": [
    "options[\"estimation_tau\"]"
   ]
  },
  {
   "cell_type": "markdown",
   "metadata": {},
   "source": [
    "Note that this is not the only tuning parameter which affects the likelihood function. You also need to be mindful of options like the `solution_draws`, `estimation_draws`, and number of simulated agents (`simulation_agents`) when specifying the likelihood function."
   ]
  },
  {
   "cell_type": "raw",
   "metadata": {},
   "source": [
    "<div to class=\"d-flex flex-row gs-torefguide\">\n",
    "    <span class=\"badge badge-info\">How-to Guide</span>\n",
    "\n",
    "    To learn more about the model options see the guide <a\n",
    "    href=\"how_to_specify_model.html\">Specfiying a Model</a>.\n",
    "</div>"
   ]
  },
  {
   "cell_type": "markdown",
   "metadata": {},
   "source": [
    "## References\n",
    "\n",
    "\n",
    "- Keane, M. P., & Wolpin, K. I. (1994). The Solution and Estimation of Discrete Choice Dynamic Programming Models by Simulation and Interpolation: Monte Carlo Evidence. *The Review of Economics and Statistics*, 648-672.\n",
    "\n",
    "- McFadden, D. (1989). A method of simulated moments for estimation of discrete response models without numerical integration. *Econometrica*, 57(5), 995-1026."
   ]
  }
 ],
 "metadata": {
  "kernelspec": {
   "display_name": "Python 3",
   "language": "python",
   "name": "python3"
  },
  "language_info": {
   "codemirror_mode": {
    "name": "ipython",
    "version": 3
   },
   "file_extension": ".py",
   "mimetype": "text/x-python",
   "name": "python",
   "nbconvert_exporter": "python",
   "pygments_lexer": "ipython3",
   "version": "3.8.3"
  }
 },
 "nbformat": 4,
 "nbformat_minor": 4
}
